{
  "nbformat": 4,
  "nbformat_minor": 0,
  "metadata": {
    "kernelspec": {
      "display_name": "Python 3",
      "language": "python",
      "name": "python3"
    },
    "language_info": {
      "codemirror_mode": {
        "name": "ipython",
        "version": 3
      },
      "file_extension": ".py",
      "mimetype": "text/x-python",
      "name": "python",
      "nbconvert_exporter": "python",
      "pygments_lexer": "ipython3",
      "version": "3.7.6"
    },
    "colab": {
      "name": "CVII - Clase 2.1.ipynb",
      "provenance": [],
      "collapsed_sections": [],
      "toc_visible": true,
      "include_colab_link": true
    }
  },
  "cells": [
    {
      "cell_type": "markdown",
      "metadata": {
        "id": "view-in-github",
        "colab_type": "text"
      },
      "source": [
        "<a href=\"https://colab.research.google.com/github/AlfonsoRafel/Posgrado-IA---UBA/blob/master/06.%20Computer%20Vision%20II/CVII_Clase_2_1.ipynb\" target=\"_parent\"><img src=\"https://colab.research.google.com/assets/colab-badge.svg\" alt=\"Open In Colab\"/></a>"
      ]
    },
    {
      "cell_type": "markdown",
      "metadata": {
        "id": "gnz3-c4GTXm9"
      },
      "source": [
        "# Vamos a utilizar un dataset de perros y gatos para explorar técnicas de Data Augmentation"
      ]
    },
    {
      "cell_type": "code",
      "metadata": {
        "id": "AvXs-cneTXm-"
      },
      "source": [
        "import numpy as np\n",
        "import pandas as pd\n",
        "%matplotlib inline\n",
        "import matplotlib as mpl\n",
        "import matplotlib.pyplot as plt\n",
        "import os"
      ],
      "execution_count": null,
      "outputs": []
    },
    {
      "cell_type": "code",
      "metadata": {
        "id": "PHVTt9_UTXnC"
      },
      "source": [
        "import tensorflow as tf\n",
        "from tensorflow import keras"
      ],
      "execution_count": null,
      "outputs": []
    },
    {
      "cell_type": "markdown",
      "metadata": {
        "id": "Zk78JBqATXnG"
      },
      "source": [
        "### DATASET:"
      ]
    },
    {
      "cell_type": "markdown",
      "metadata": {
        "id": "PQ0QRvPATXnH"
      },
      "source": [
        "El Dataset contiene 4000 imágenes de gatos y perros (2000 gatos y 2000 perros). Vamos a usar 2000 imágenes para entrenar, 1000 para validación, 1000 para test."
      ]
    },
    {
      "cell_type": "code",
      "metadata": {
        "id": "E-DnI3CtwyaC",
        "colab": {
          "base_uri": "https://localhost:8080/"
        },
        "outputId": "78567478-d1d1-4dd4-b8f8-c3d78680eedb"
      },
      "source": [
        "#subir el archivo perros_y_gatos.zip\n",
        "# está acá: https://drive.google.com/file/d/1WgbH_Xt421hNhD4gcfwsvtVsFheJKefm/view?usp=sharing\\\n",
        "!gdown --id 1WgbH_Xt421hNhD4gcfwsvtVsFheJKefm"
      ],
      "execution_count": null,
      "outputs": [
        {
          "output_type": "stream",
          "text": [
            "Downloading...\n",
            "From: https://drive.google.com/uc?id=1WgbH_Xt421hNhD4gcfwsvtVsFheJKefm\n",
            "To: /content/perros_y_gatos.zip\n",
            "90.8MB [00:00, 176MB/s]\n"
          ],
          "name": "stdout"
        }
      ]
    },
    {
      "cell_type": "code",
      "metadata": {
        "id": "VBhyd6J6wcjs",
        "colab": {
          "base_uri": "https://localhost:8080/"
        },
        "outputId": "12168636-0dfb-4574-8696-3554dbbe9f64"
      },
      "source": [
        "!unzip /content/perros_y_gatos.zip > /dev/null"
      ],
      "execution_count": null,
      "outputs": [
        {
          "output_type": "stream",
          "text": [
            "replace test/cats/cat.1501.jpg? [y]es, [n]o, [A]ll, [N]one, [r]ename: A\n"
          ],
          "name": "stdout"
        }
      ]
    },
    {
      "cell_type": "code",
      "metadata": {
        "id": "u9zISTEdxYyZ",
        "colab": {
          "base_uri": "https://localhost:8080/"
        },
        "outputId": "0df0210a-df4d-43dd-8fdf-0088ea7da480"
      },
      "source": [
        "!ls"
      ],
      "execution_count": null,
      "outputs": [
        {
          "output_type": "stream",
          "text": [
            "perros_y_gatos.zip  sample_data  test  train  validation\n"
          ],
          "name": "stdout"
        }
      ]
    },
    {
      "cell_type": "code",
      "metadata": {
        "id": "BIYh_FdY0l8U",
        "colab": {
          "base_uri": "https://localhost:8080/"
        },
        "outputId": "7e0af44f-1fdf-4b2e-849f-5a3f022dca64"
      },
      "source": [
        "cd /content"
      ],
      "execution_count": null,
      "outputs": [
        {
          "output_type": "stream",
          "text": [
            "/content\n"
          ],
          "name": "stdout"
        }
      ]
    },
    {
      "cell_type": "code",
      "metadata": {
        "id": "tomzRUadTXnJ"
      },
      "source": [
        "train_dir = './train'\n",
        "validation_dir = './validation'\n",
        "test_dir = './test'"
      ],
      "execution_count": null,
      "outputs": []
    },
    {
      "cell_type": "markdown",
      "metadata": {
        "id": "KDrroygKTXnM"
      },
      "source": [
        "### Preprocesamiento de los datos"
      ]
    },
    {
      "cell_type": "markdown",
      "metadata": {
        "id": "assnLl85TXnN"
      },
      "source": [
        "* Leer las imágenes\n",
        "* Decodificar los JPEG en imágenes de píxeles RGB\n",
        "* Convertir estas imágenes en tensores de valores en punto flotante\n",
        "* Reescalar los valores de los píxeles al intervalo [0,1]\n"
      ]
    },
    {
      "cell_type": "code",
      "metadata": {
        "id": "HuOLXZOJTXnN"
      },
      "source": [
        "from tensorflow.keras.preprocessing.image import ImageDataGenerator"
      ],
      "execution_count": null,
      "outputs": []
    },
    {
      "cell_type": "markdown",
      "metadata": {
        "id": "_0bUApO-TXnR"
      },
      "source": [
        "Link : https://keras.io/preprocessing/image/"
      ]
    },
    {
      "cell_type": "code",
      "metadata": {
        "id": "-yyUlq53TXnS",
        "colab": {
          "base_uri": "https://localhost:8080/"
        },
        "outputId": "dd3c85c7-44e7-4615-f4e0-fe88a6231859"
      },
      "source": [
        "# Así generamos batches desde los directorios de imágenes\n",
        "train_datagen = ImageDataGenerator(rescale=1./255)\n",
        "test_datagen = ImageDataGenerator(rescale=1./255)\n",
        "\n",
        "train_generator = train_datagen.flow_from_directory(\n",
        "        train_dir,\n",
        "        target_size=(150, 150),\n",
        "        batch_size=20,\n",
        "        class_mode='binary')\n",
        "\n",
        "validation_generator = test_datagen.flow_from_directory(\n",
        "        validation_dir,\n",
        "        target_size=(150, 150),\n",
        "        batch_size=20,\n",
        "        class_mode='binary')"
      ],
      "execution_count": null,
      "outputs": [
        {
          "output_type": "stream",
          "text": [
            "Found 2000 images belonging to 2 classes.\n",
            "Found 1000 images belonging to 2 classes.\n"
          ],
          "name": "stdout"
        }
      ]
    },
    {
      "cell_type": "code",
      "metadata": {
        "id": "a3wT7I-yTXnX"
      },
      "source": [
        "# i = 1\n",
        "# for batch in train_datagen.flow(train_generator, batch_size=1,\n",
        "#                           save_to_dir='.', save_prefix='img', save_format='jpeg'):\n",
        "#     i += 1\n",
        "#     if i > 6:\n",
        "#         break\n",
        "\n",
        "# import matplotlib.image as mpimg\n",
        "# import glob\n",
        "# import os\n",
        "\n",
        "# files =glob.glob(\"./*.jpeg\")\n",
        "# plt.figure(figsize=(10,5))\n",
        "# i = 1\n",
        "# for f in files:\n",
        "#     if i > 6:\n",
        "#         break \n",
        "#     plt.subplot(2,3,i)\n",
        "#     image = mpimg.imread(f)\n",
        "#     plt.imshow(image)\n",
        "#     i+=1\n",
        "#     os.remove(f)\n",
        "    \n",
        "# plt.show()"
      ],
      "execution_count": null,
      "outputs": []
    },
    {
      "cell_type": "code",
      "metadata": {
        "id": "jM2FYJIEyEEA",
        "colab": {
          "base_uri": "https://localhost:8080/"
        },
        "outputId": "dbf1e3b7-a80e-47ac-cacd-b23d37f8eed6"
      },
      "source": [
        "!ls"
      ],
      "execution_count": null,
      "outputs": [
        {
          "output_type": "stream",
          "text": [
            "perros_y_gatos.zip  sample_data  test  train  validation\n"
          ],
          "name": "stdout"
        }
      ]
    },
    {
      "cell_type": "code",
      "metadata": {
        "id": "27lf0gY6TXnb"
      },
      "source": [
        "from tensorflow.keras import layers\n",
        "from tensorflow.keras import models"
      ],
      "execution_count": null,
      "outputs": []
    },
    {
      "cell_type": "code",
      "metadata": {
        "id": "4dfXCWT9TXne"
      },
      "source": [
        "model = models.Sequential()\n",
        "model.add(layers.Conv2D(32, (3,3), activation='relu', input_shape=(150,150,3)))\n",
        "model.add(layers.MaxPooling2D((2,2)))\n",
        "model.add(layers.Conv2D(64, (3,3), activation='relu'))\n",
        "model.add(layers.MaxPooling2D((2,2)))\n",
        "model.add(layers.Conv2D(128, (3,3), activation='relu'))\n",
        "model.add(layers.MaxPooling2D((2,2)))\n",
        "model.add(layers.Conv2D(128, (3,3), activation='relu'))\n",
        "model.add(layers.MaxPooling2D((2,2)))\n",
        "model.add(layers.Flatten())\n",
        "model.add(layers.Dense(512, activation='relu'))\n",
        "model.add(layers.Dense(1, activation='relu'))\n",
        "\n"
      ],
      "execution_count": null,
      "outputs": []
    },
    {
      "cell_type": "code",
      "metadata": {
        "id": "0cp9q94YTXng",
        "colab": {
          "base_uri": "https://localhost:8080/"
        },
        "outputId": "4c985485-cedc-4c8d-c8ac-ff5e555a5606"
      },
      "source": [
        "model.summary()"
      ],
      "execution_count": null,
      "outputs": [
        {
          "output_type": "stream",
          "text": [
            "Model: \"sequential_3\"\n",
            "_________________________________________________________________\n",
            "Layer (type)                 Output Shape              Param #   \n",
            "=================================================================\n",
            "conv2d_12 (Conv2D)           (None, 148, 148, 32)      896       \n",
            "_________________________________________________________________\n",
            "max_pooling2d_12 (MaxPooling (None, 74, 74, 32)        0         \n",
            "_________________________________________________________________\n",
            "conv2d_13 (Conv2D)           (None, 72, 72, 64)        18496     \n",
            "_________________________________________________________________\n",
            "max_pooling2d_13 (MaxPooling (None, 36, 36, 64)        0         \n",
            "_________________________________________________________________\n",
            "conv2d_14 (Conv2D)           (None, 34, 34, 128)       73856     \n",
            "_________________________________________________________________\n",
            "max_pooling2d_14 (MaxPooling (None, 17, 17, 128)       0         \n",
            "_________________________________________________________________\n",
            "conv2d_15 (Conv2D)           (None, 15, 15, 128)       147584    \n",
            "_________________________________________________________________\n",
            "max_pooling2d_15 (MaxPooling (None, 7, 7, 128)         0         \n",
            "_________________________________________________________________\n",
            "flatten_3 (Flatten)          (None, 6272)              0         \n",
            "_________________________________________________________________\n",
            "dense_6 (Dense)              (None, 512)               3211776   \n",
            "_________________________________________________________________\n",
            "dense_7 (Dense)              (None, 1)                 513       \n",
            "=================================================================\n",
            "Total params: 3,453,121\n",
            "Trainable params: 3,453,121\n",
            "Non-trainable params: 0\n",
            "_________________________________________________________________\n"
          ],
          "name": "stdout"
        }
      ]
    },
    {
      "cell_type": "code",
      "metadata": {
        "id": "__ppSmEsTXnj"
      },
      "source": [
        "from tensorflow.keras import optimizers\n",
        "\n",
        "# compilar el modelo con binary_crossentropy y optimizador RMSprop con\n",
        "# learning rate 1e-4, la métrica a usar es la accuracy (acc)\n",
        "\n",
        "model.compile(loss='binary_crossentropy',\n",
        "              optimizer=optimizers.RMSprop(lr=1e-4),\n",
        "              metrics=['acc'])"
      ],
      "execution_count": null,
      "outputs": []
    },
    {
      "cell_type": "code",
      "metadata": {
        "id": "VCXq57TfTXnn",
        "colab": {
          "base_uri": "https://localhost:8080/"
        },
        "outputId": "8710a491-10e0-4d87-8b23-3ec1fac7ca5c"
      },
      "source": [
        "# utilizar model.fit_generator para entrenar\n",
        "history = model.fit_generator(\n",
        "      train_generator,\n",
        "      steps_per_epoch=100,\n",
        "      epochs=5,\n",
        "      validation_data=validation_generator,\n",
        "      validation_steps=50)"
      ],
      "execution_count": null,
      "outputs": [
        {
          "output_type": "stream",
          "text": [
            "/usr/local/lib/python3.6/dist-packages/tensorflow/python/keras/engine/training.py:1844: UserWarning: `Model.fit_generator` is deprecated and will be removed in a future version. Please use `Model.fit`, which supports generators.\n",
            "  warnings.warn('`Model.fit_generator` is deprecated and '\n"
          ],
          "name": "stderr"
        },
        {
          "output_type": "stream",
          "text": [
            "Epoch 1/5\n",
            "100/100 [==============================] - 106s 1s/step - loss: 1.0954 - acc: 0.5721 - val_loss: 0.6416 - val_acc: 0.6460\n",
            "Epoch 2/5\n",
            "100/100 [==============================] - 105s 1s/step - loss: 0.7069 - acc: 0.6059 - val_loss: 0.6302 - val_acc: 0.6560\n",
            "Epoch 3/5\n",
            "100/100 [==============================] - 105s 1s/step - loss: 0.6506 - acc: 0.6365 - val_loss: 0.7074 - val_acc: 0.6020\n",
            "Epoch 4/5\n",
            "100/100 [==============================] - 105s 1s/step - loss: 0.5959 - acc: 0.6727 - val_loss: 0.5878 - val_acc: 0.7010\n",
            "Epoch 5/5\n",
            "100/100 [==============================] - 105s 1s/step - loss: 0.6236 - acc: 0.7169 - val_loss: 0.6500 - val_acc: 0.6800\n"
          ],
          "name": "stdout"
        }
      ]
    },
    {
      "cell_type": "code",
      "metadata": {
        "id": "Cl1_o5PlTXnq",
        "colab": {
          "base_uri": "https://localhost:8080/",
          "height": 324
        },
        "outputId": "8aff83d2-5fc0-4c9e-a66c-8ce944c95fca"
      },
      "source": [
        "pd.DataFrame(history.history).plot(figsize=(8, 5))\n",
        "plt.grid(True)\n",
        "plt.gca().set_ylim(0, 1)\n",
        "plt.show()"
      ],
      "execution_count": null,
      "outputs": [
        {
          "output_type": "display_data",
          "data": {
            "image/png": "[encoded data removed]",
            "text/plain": [
              "<Figure size 576x360 with 1 Axes>"
            ]
          },
          "metadata": {
            "tags": [],
            "needs_background": "light"
          }
        }
      ]
    },
    {
      "cell_type": "code",
      "metadata": {
        "id": "SVc3TYF810OC"
      },
      "source": [
        "prediction = model.predict(validation_generator)\n",
        "prediction = np.array([1 if x > 0.5 else 0 for x in prediction])"
      ],
      "execution_count": null,
      "outputs": []
    },
    {
      "cell_type": "code",
      "metadata": {
        "colab": {
          "base_uri": "https://localhost:8080/",
          "height": 388
        },
        "id": "VvNPJHszJszF",
        "outputId": "d083fa26-a6c9-4dba-e4ed-ddaac562566c"
      },
      "source": [
        "from sklearn.metrics import roc_auc_score, roc_curve\n",
        "%matplotlib inline\n",
        "\n",
        "def roc_curve_and_score(y_test, pred_proba):\n",
        "    fpr, tpr, _ = roc_curve(y_test.ravel(), pred_proba.ravel())\n",
        "    roc_auc = roc_auc_score(y_test.ravel(), pred_proba.ravel())\n",
        "    return fpr, tpr, roc_auc\n",
        "\n",
        "\n",
        "plt.figure(figsize=(8, 6))\n",
        "plt.grid()\n",
        "fpr, tpr, roc_auc = roc_curve_and_score(validation_generator.classes, prediction)\n",
        "plt.plot(fpr, tpr, color='darkorange',\n",
        "         label='Sin Data Augmentation ={0:.3f}'.format(roc_auc))\n",
        "plt.plot([0, 1], [0, 1], color='navy', lw=1, linestyle='--')\n",
        "plt.legend(loc=\"lower right\")\n",
        "plt.xlim([0.0, 1.0])\n",
        "plt.ylim([0.0, 1.05])\n",
        "plt.xlabel('False Positive Rate/ 1 - Specificity')\n",
        "plt.ylabel('True Positive Rate/ Sensitivity')\n",
        "plt.show()"
      ],
      "execution_count": null,
      "outputs": [
        {
          "output_type": "display_data",
          "data": {
            "image/png": "[encoded data removed]",
            "text/plain": [
              "<Figure size 576x432 with 1 Axes>"
            ]
          },
          "metadata": {
            "tags": [],
            "needs_background": "light"
          }
        }
      ]
    },
    {
      "cell_type": "code",
      "metadata": {
        "id": "wBcVvX-HTXns"
      },
      "source": [
        "from tensorflow.keras import backend as K \n",
        "\n",
        "K.clear_session()\n",
        "del model"
      ],
      "execution_count": null,
      "outputs": []
    },
    {
      "cell_type": "markdown",
      "metadata": {
        "id": "0lNZqKvXTXnv"
      },
      "source": [
        "### DATA AUGMENTATION"
      ]
    },
    {
      "cell_type": "markdown",
      "metadata": {
        "id": "O4YwS2n2TXnw"
      },
      "source": [
        "Distorsión, Rotación, Crop, Flip horizontal: \n",
        "![image.png](attachment:image.png)"
      ]
    },
    {
      "cell_type": "markdown",
      "metadata": {
        "id": "idlLIwPuTXnw"
      },
      "source": [
        "Vamos a distorsionar (estirando y escalando), rotar las imágenes, invertirlas horizontalmente, hacer zoom en una región, esto va a ser aleatorio dentro de un cierto rango, utilizar ImageDataGenerator con parámetros para que esto ocurra.\n",
        "\n",
        "https://keras.io/api/preprocessing/image/\n",
        "\n",
        "https://github.com/keras-team/keras-preprocessing/blob/master/keras_preprocessing/image/image_data_generator.py\n",
        "\n",
        "https://github.com/keras-team/keras-preprocessing/blob/master/keras_preprocessing/image/affine_transformations.py\n",
        "\n",
        "usar:\n",
        "\n",
        "- rotation_range -> rango aleatorio de angulo de rotacions\n",
        "- width_shift_range -> rango aleatorio de desplazamiento en x expresado como proporcion de la imagen [0,1]\n",
        "- height_shift_range -> rango aleatorio de desplazamiento en y expresado como proporcion de la imagen [0,1]\n",
        "- shear_range -> rango aleatorio de 'shear' o cillamiento https://en.wikipedia.org/wiki/Shear_mapping [0,1]\n",
        "- zoom_range -> rango aleatorio de zoom de la imagen [0,1]\n",
        "- horizontal_flip -> boolean (si se flipea aleatoriamente la imagen en la dirección horizontal)"
      ]
    },
    {
      "cell_type": "code",
      "metadata": {
        "id": "_4AfTtUYTXnx",
        "colab": {
          "base_uri": "https://localhost:8080/"
        },
        "outputId": "9e89128d-9340-46a5-cbc9-6fd03f8a6ce0"
      },
      "source": [
        "train_datagen = ImageDataGenerator(\n",
        "    rescale=1./255,rotation_range=50,\n",
        "    )\n",
        "\n",
        "test_datagen = ImageDataGenerator(rescale=1./255)\n",
        "\n",
        "train_generator = train_datagen.flow_from_directory(\n",
        "        train_dir,\n",
        "        target_size=(150, 150),\n",
        "        batch_size=32,\n",
        "        class_mode='binary')\n",
        "\n",
        "validation_generator = test_datagen.flow_from_directory(\n",
        "        validation_dir,\n",
        "        target_size=(150, 150),\n",
        "        batch_size=32,\n",
        "        class_mode='binary')\n"
      ],
      "execution_count": null,
      "outputs": [
        {
          "output_type": "stream",
          "text": [
            "Found 2000 images belonging to 2 classes.\n",
            "Found 1000 images belonging to 2 classes.\n"
          ],
          "name": "stdout"
        }
      ]
    },
    {
      "cell_type": "markdown",
      "metadata": {
        "id": "tyBxlQH-TXnz"
      },
      "source": [
        "### Veamos algunas imágenes"
      ]
    },
    {
      "cell_type": "code",
      "metadata": {
        "id": "Gy6UlyMqTXnz"
      },
      "source": [
        "# i = 1\n",
        "# for batch in train_datagen.flow(train_generator, batch_size=1,\n",
        "#                           save_to_dir='.', save_prefix='img', save_format='jpeg'):\n",
        "#     i += 1\n",
        "#     if i > 6:\n",
        "#         break\n",
        "\n",
        "# import matplotlib.image as mpimg\n",
        "# import glob\n",
        "# import os\n",
        "\n",
        "# files =glob.glob(\".\\*.jpeg\")\n",
        "# plt.figure(figsize=(10,5))\n",
        "# i = 1\n",
        "# for f in files:\n",
        "#     if i > 6:\n",
        "#         break \n",
        "#     plt.subplot(2,3,i)\n",
        "#     image = mpimg.imread(f)\n",
        "#     plt.imshow(image)\n",
        "#     i+=1\n",
        "#     os.remove(f)\n",
        "    \n",
        "# plt.show()"
      ],
      "execution_count": null,
      "outputs": []
    },
    {
      "cell_type": "code",
      "metadata": {
        "id": "7EIKRxpHTXn2"
      },
      "source": [
        "model = models.Sequential()\n",
        "model.add(layers.Conv2D(32, (3,3), activation='relu', input_shape=(150,150,3)))\n",
        "model.add(layers.MaxPooling2D((2,2)))\n",
        "model.add(layers.Conv2D(64, (3,3), activation='relu'))\n",
        "model.add(layers.MaxPooling2D((2,2)))\n",
        "model.add(layers.Conv2D(128, (3,3), activation='relu'))\n",
        "model.add(layers.MaxPooling2D((2,2)))\n",
        "model.add(layers.Conv2D(128, (3,3), activation='relu'))\n",
        "model.add(layers.MaxPooling2D((2,2)))\n",
        "model.add(layers.Flatten())\n",
        "model.add(layers.Dense(512, activation='relu'))\n",
        "model.add(layers.Dense(1, activation='relu'))\n",
        "\n",
        "model.compile(loss='binary_crossentropy',\n",
        "              optimizer=optimizers.RMSprop(lr=1e-4),\n",
        "              metrics=['acc'])"
      ],
      "execution_count": null,
      "outputs": []
    },
    {
      "cell_type": "code",
      "metadata": {
        "id": "zw0xmIUuTXn4",
        "colab": {
          "base_uri": "https://localhost:8080/"
        },
        "outputId": "6500cc31-f8e9-40da-a707-54e6b669d018"
      },
      "source": [
        "history = model.fit_generator(\n",
        "      train_generator,\n",
        "      steps_per_epoch=50,\n",
        "      epochs=5,\n",
        "      validation_data=validation_generator,\n",
        "      validation_steps=50)"
      ],
      "execution_count": null,
      "outputs": [
        {
          "output_type": "stream",
          "text": [
            "/usr/local/lib/python3.6/dist-packages/tensorflow/python/keras/engine/training.py:1844: UserWarning: `Model.fit_generator` is deprecated and will be removed in a future version. Please use `Model.fit`, which supports generators.\n",
            "  warnings.warn('`Model.fit_generator` is deprecated and '\n"
          ],
          "name": "stderr"
        },
        {
          "output_type": "stream",
          "text": [
            "Epoch 1/5\n",
            "50/50 [==============================] - ETA: 0s - loss: 1.1416 - acc: 0.5256WARNING:tensorflow:Your input ran out of data; interrupting training. Make sure that your dataset or generator can generate at least `steps_per_epoch * epochs` batches (in this case, 50 batches). You may need to use the repeat() function when building your dataset.\n",
            "50/50 [==============================] - 92s 2s/step - loss: 1.1354 - acc: 0.5259 - val_loss: 0.6595 - val_acc: 0.6240\n",
            "Epoch 2/5\n",
            "50/50 [==============================] - 77s 2s/step - loss: 0.7239 - acc: 0.5502\n",
            "Epoch 3/5\n",
            "50/50 [==============================] - 77s 2s/step - loss: 0.6727 - acc: 0.5806\n",
            "Epoch 4/5\n",
            "50/50 [==============================] - 77s 2s/step - loss: 0.6583 - acc: 0.6073\n",
            "Epoch 5/5\n",
            "50/50 [==============================] - 77s 2s/step - loss: 0.6526 - acc: 0.6086\n"
          ],
          "name": "stdout"
        }
      ]
    },
    {
      "cell_type": "code",
      "metadata": {
        "id": "TOd-saFJ6B1K"
      },
      "source": [
        "prediction = model.predict(validation_generator)\n",
        "prediction = np.array([1 if x > 0.5 else 0 for x in prediction])"
      ],
      "execution_count": null,
      "outputs": []
    },
    {
      "cell_type": "code",
      "metadata": {
        "id": "jn93iMM7TXn8",
        "colab": {
          "base_uri": "https://localhost:8080/",
          "height": 324
        },
        "outputId": "57b0149e-5329-40b0-ff83-33cd37d0ccbe"
      },
      "source": [
        "pd.DataFrame(history.history).plot(figsize=(8, 5))\n",
        "plt.grid(True)\n",
        "plt.gca().set_ylim(0, 1)\n",
        "plt.show()"
      ],
      "execution_count": null,
      "outputs": [
        {
          "output_type": "display_data",
          "data": {
            "image/png": "[encoded data removed]",
            "text/plain": [
              "<Figure size 576x360 with 1 Axes>"
            ]
          },
          "metadata": {
            "tags": [],
            "needs_background": "light"
          }
        }
      ]
    },
    {
      "cell_type": "code",
      "metadata": {
        "colab": {
          "base_uri": "https://localhost:8080/",
          "height": 388
        },
        "id": "eWZdNnmYQV_i",
        "outputId": "4b8ea993-f11c-427c-9780-d624caa3bf44"
      },
      "source": [
        "from sklearn.metrics import roc_auc_score, roc_curve\n",
        "%matplotlib inline\n",
        "\n",
        "def roc_curve_and_score(y_test, pred_proba):\n",
        "    fpr, tpr, _ = roc_curve(y_test.ravel(), pred_proba.ravel())\n",
        "    roc_auc = roc_auc_score(y_test.ravel(), pred_proba.ravel())\n",
        "    return fpr, tpr, roc_auc\n",
        "\n",
        "\n",
        "plt.figure(figsize=(8, 6))\n",
        "plt.grid()\n",
        "fpr, tpr, roc_auc = roc_curve_and_score(validation_generator.classes, model.predict(validation_generator))\n",
        "plt.plot(fpr, tpr, color='darkorange',\n",
        "         label='Sin Data Augmentation ={0:.3f}'.format(roc_auc))\n",
        "plt.plot([0, 1], [0, 1], color='navy', lw=1, linestyle='--')\n",
        "plt.legend(loc=\"lower right\")\n",
        "plt.xlim([0.0, 1.0])\n",
        "plt.ylim([0.0, 1.05])\n",
        "plt.xlabel('False Positive Rate/ 1 - Specificity')\n",
        "plt.ylabel('True Positive Rate/ Sensitivity')\n",
        "plt.show()"
      ],
      "execution_count": null,
      "outputs": [
        {
          "output_type": "display_data",
          "data": {
            "image/png": "[encoded data removed]",
            "text/plain": [
              "<Figure size 576x432 with 1 Axes>"
            ]
          },
          "metadata": {
            "tags": [],
            "needs_background": "light"
          }
        }
      ]
    },
    {
      "cell_type": "code",
      "metadata": {
        "id": "7fD_0v5BTXn_"
      },
      "source": [
        "keras.backend.clear_session\n",
        "del model"
      ],
      "execution_count": null,
      "outputs": []
    },
    {
      "cell_type": "markdown",
      "metadata": {
        "id": "yubGj_lBYopf"
      },
      "source": [
        "# Implementación de LeNet-5 y utilizarla en MNIST"
      ]
    },
    {
      "cell_type": "code",
      "metadata": {
        "id": "MVGI6Xp5YzHj"
      },
      "source": [
        "%%capture\n",
        "import tensorflow as tf\n",
        "from tensorflow import keras\n",
        "from keras.datasets import mnist\n",
        "from keras import layers\n",
        "from keras import models\n",
        "from keras import activations\n",
        "from keras.preprocessing.image import ImageDataGenerator\n",
        "from keras.optimizers import Adam\n",
        "!pip install funpymodeling\n",
        "from keras.utils.np_utils import to_categorical"
      ],
      "execution_count": null,
      "outputs": []
    },
    {
      "cell_type": "code",
      "metadata": {
        "id": "NbJGO8RI9ihF"
      },
      "source": [
        "# Model configuration\n",
        "img_width, img_height = 28, 28\n",
        "initial_dimension = img_width * img_height #784\n",
        "validation_split = 0.2\n",
        "verbosity = 1\n",
        "encoded_dim = 50\n",
        "\n",
        "# Load MNIST dataset\n",
        "(input_train, target_train), (input_test, target_test) = mnist.load_data()"
      ],
      "execution_count": null,
      "outputs": []
    },
    {
      "cell_type": "code",
      "metadata": {
        "id": "xUhyRXn9-XvZ"
      },
      "source": [
        "# Reshape data\n",
        "input_train = input_train.reshape(input_train.shape[0], 28, 28, 1)\n",
        "input_test = input_test.reshape(input_test.shape[0], 28, 28, 1)\n",
        "\n",
        "# Add padding\n",
        "\n",
        "# Parse numbers as floats\n",
        "input_train = input_train.astype('float32')\n",
        "input_test = input_test.astype('float32')\n",
        "\n",
        "# Normalize data\n",
        "input_train = input_train / 255\n",
        "input_test = input_test / 255\n",
        "\n",
        "# Output/Labels\n",
        "target_train_cat = to_categorical(target_train)\n",
        "target_test_cat = to_categorical(target_test)"
      ],
      "execution_count": null,
      "outputs": []
    },
    {
      "cell_type": "code",
      "metadata": {
        "id": "yG0RBcrB0LAE"
      },
      "source": [
        "from keras.layers import Layer\n",
        "from keras import backend as K\n",
        "\n",
        "class RBFLayer(Layer):\n",
        "    def __init__(self, units, gamma, **kwargs):\n",
        "        super(RBFLayer, self).__init__(**kwargs)\n",
        "        self.units = units\n",
        "        self.gamma = K.cast_to_floatx(gamma)\n",
        "\n",
        "    def build(self, input_shape):\n",
        "#         print(input_shape)\n",
        "#         print(self.units)\n",
        "        self.mu = self.add_weight(name='mu',\n",
        "                                  shape=(int(input_shape[1]), self.units),\n",
        "                                  initializer='uniform',\n",
        "                                  trainable=True)\n",
        "        super(RBFLayer, self).build(input_shape)\n",
        "\n",
        "    def call(self, inputs):\n",
        "        diff = K.expand_dims(inputs) - self.mu\n",
        "        l2 = K.sum(K.pow(diff, 2), axis=1)\n",
        "        res = K.exp(-1 * self.gamma * l2)\n",
        "        return res\n",
        "\n",
        "    def compute_output_shape(self, input_shape):\n",
        "        return (input_shape[0], self.units)"
      ],
      "execution_count": null,
      "outputs": []
    },
    {
      "cell_type": "code",
      "metadata": {
        "id": "Xbn5wfvSifv6"
      },
      "source": [
        "def LeNet5_1():\n",
        "    model = models.Sequential()\n",
        "    model.add(layers.Conv2D(6, (5,5), strides=1,  activation='tanh', input_shape=(32,32)))\n",
        "    model.add(layers.AveragePooling2D((2,2), strides=2))\n",
        "    #model.add(activations.tanh)\n",
        "    model.add(layers.Conv2D(16, (5,5), strides=1,  activation='tanh'))\n",
        "    model.add(layers.AveragePooling2D((2,2), strides=2))\n",
        "    #model.add(activations.tanh)\n",
        "    model.add(layers.Conv2D(120, (5,5), strides=1,  activation='tanh'))\n",
        "    #model.add(activations.tanh)\n",
        "    model.add(layers.Flatten())\n",
        "    model.add(layers.Dense(84, activation='tanh'))\n",
        "    model.add(RBFLayer(10, gamma=1))\n",
        "    return model"
      ],
      "execution_count": null,
      "outputs": []
    },
    {
      "cell_type": "code",
      "metadata": {
        "id": "2_9GCltP4qFT"
      },
      "source": [
        "def LeNet5_2():\n",
        "  model = keras.Sequential()\n",
        "  model.add(layers.InputLayer(input_shape=(28, 28, 1)))\n",
        "  model.add(layers.ZeroPadding2D(((2, 2), (2, 2))))\n",
        "  model.add(layers.Conv2D(filters=6, kernel_size=(5, 5), activation='tanh'))\n",
        "  model.add(layers.AveragePooling2D(pool_size=(2,2), strides=2))\n",
        "  model.add(layers.Activation('tanh'))\n",
        "  model.add(layers.Conv2D(filters=16, kernel_size=(5, 5), activation='tanh'))\n",
        "  model.add(layers.AveragePooling2D(pool_size=(2,2), strides=2))\n",
        "  model.add(layers.Activation('tanh'))\n",
        "  model.add(layers.Conv2D(filters=120, kernel_size=(5, 5), activation='tanh'))\n",
        "  model.add(layers.Flatten())\n",
        "  model.add(layers.Dense(units=84, activation='tanh'))\n",
        "  model.add(layers.Dense(units=10, activation = 'softmax'))\n",
        "  return model"
      ],
      "execution_count": null,
      "outputs": []
    },
    {
      "cell_type": "code",
      "metadata": {
        "id": "_r912RuPzm9l"
      },
      "source": [
        "model = LeNet5_2()\n",
        "model.compile(loss='binary_crossentropy',\n",
        "              optimizer=Adam(lr=1e-4),\n",
        "              metrics=['acc'])"
      ],
      "execution_count": null,
      "outputs": []
    },
    {
      "cell_type": "code",
      "metadata": {
        "colab": {
          "base_uri": "https://localhost:8080/"
        },
        "id": "DwDke94e8CGg",
        "outputId": "357adf8a-4185-416d-f4d9-0f0c791b7ff1"
      },
      "source": [
        "model.summary()"
      ],
      "execution_count": null,
      "outputs": [
        {
          "output_type": "stream",
          "text": [
            "Model: \"sequential_10\"\n",
            "_________________________________________________________________\n",
            "Layer (type)                 Output Shape              Param #   \n",
            "=================================================================\n",
            "zero_padding2d_6 (ZeroPaddin (None, 32, 32, 1)         0         \n",
            "_________________________________________________________________\n",
            "conv2d_22 (Conv2D)           (None, 28, 28, 6)         156       \n",
            "_________________________________________________________________\n",
            "average_pooling2d_17 (Averag (None, 14, 14, 6)         0         \n",
            "_________________________________________________________________\n",
            "activation_7 (Activation)    (None, 14, 14, 6)         0         \n",
            "_________________________________________________________________\n",
            "conv2d_23 (Conv2D)           (None, 10, 10, 16)        2416      \n",
            "_________________________________________________________________\n",
            "average_pooling2d_18 (Averag (None, 5, 5, 16)          0         \n",
            "_________________________________________________________________\n",
            "activation_8 (Activation)    (None, 5, 5, 16)          0         \n",
            "_________________________________________________________________\n",
            "conv2d_24 (Conv2D)           (None, 1, 1, 120)         48120     \n",
            "_________________________________________________________________\n",
            "flatten_8 (Flatten)          (None, 120)               0         \n",
            "_________________________________________________________________\n",
            "dense_17 (Dense)             (None, 84)                10164     \n",
            "_________________________________________________________________\n",
            "dense_18 (Dense)             (None, 10)                850       \n",
            "=================================================================\n",
            "Total params: 61,706\n",
            "Trainable params: 61,706\n",
            "Non-trainable params: 0\n",
            "_________________________________________________________________\n"
          ],
          "name": "stdout"
        }
      ]
    },
    {
      "cell_type": "code",
      "metadata": {
        "id": "XqJvWWvjmTka"
      },
      "source": [
        "train_generator = ImageDataGenerator().flow(input_train, target_train_cat, batch_size=128)\n",
        "test_generator = ImageDataGenerator().flow(input_test, target_test_cat, batch_size=128)"
      ],
      "execution_count": null,
      "outputs": []
    },
    {
      "cell_type": "code",
      "metadata": {
        "colab": {
          "base_uri": "https://localhost:8080/"
        },
        "id": "9-UlOSj5oPSq",
        "outputId": "f33b0ba8-7f5e-418f-e497-41aee87462ae"
      },
      "source": [
        "model.fit_generator(train_generator, epochs=10, \n",
        "                    validation_data=test_generator)"
      ],
      "execution_count": null,
      "outputs": [
        {
          "output_type": "stream",
          "text": [
            "/usr/local/lib/python3.6/dist-packages/tensorflow/python/keras/engine/training.py:1844: UserWarning: `Model.fit_generator` is deprecated and will be removed in a future version. Please use `Model.fit`, which supports generators.\n",
            "  warnings.warn('`Model.fit_generator` is deprecated and '\n"
          ],
          "name": "stderr"
        },
        {
          "output_type": "stream",
          "text": [
            "Epoch 1/10\n",
            "469/469 [==============================] - 31s 66ms/step - loss: 0.3903 - acc: 0.4048 - val_loss: 0.1616 - val_acc: 0.8228\n",
            "Epoch 2/10\n",
            "469/469 [==============================] - 30s 65ms/step - loss: 0.1429 - acc: 0.8348 - val_loss: 0.0998 - val_acc: 0.8887\n",
            "Epoch 3/10\n",
            "469/469 [==============================] - 31s 65ms/step - loss: 0.0946 - acc: 0.8854 - val_loss: 0.0736 - val_acc: 0.9101\n",
            "Epoch 4/10\n",
            "469/469 [==============================] - 30s 65ms/step - loss: 0.0720 - acc: 0.9066 - val_loss: 0.0590 - val_acc: 0.9223\n",
            "Epoch 5/10\n",
            "469/469 [==============================] - 30s 65ms/step - loss: 0.0582 - acc: 0.9196 - val_loss: 0.0494 - val_acc: 0.9314\n",
            "Epoch 6/10\n",
            "469/469 [==============================] - 30s 65ms/step - loss: 0.0498 - acc: 0.9280 - val_loss: 0.0428 - val_acc: 0.9419\n",
            "Epoch 7/10\n",
            "469/469 [==============================] - 30s 64ms/step - loss: 0.0426 - acc: 0.9376 - val_loss: 0.0376 - val_acc: 0.9474\n",
            "Epoch 8/10\n",
            "469/469 [==============================] - 30s 65ms/step - loss: 0.0381 - acc: 0.9431 - val_loss: 0.0336 - val_acc: 0.9521\n",
            "Epoch 9/10\n",
            "469/469 [==============================] - 30s 65ms/step - loss: 0.0336 - acc: 0.9495 - val_loss: 0.0302 - val_acc: 0.9565\n",
            "Epoch 10/10\n",
            "469/469 [==============================] - 30s 65ms/step - loss: 0.0306 - acc: 0.9540 - val_loss: 0.0272 - val_acc: 0.9601\n"
          ],
          "name": "stdout"
        },
        {
          "output_type": "execute_result",
          "data": {
            "text/plain": [
              "<tensorflow.python.keras.callbacks.History at 0x7f9efe694048>"
            ]
          },
          "metadata": {
            "tags": []
          },
          "execution_count": 69
        }
      ]
    },
    {
      "cell_type": "code",
      "metadata": {
        "id": "bNpuR2Y0-4mS"
      },
      "source": [
        ""
      ],
      "execution_count": null,
      "outputs": []
    }
  ]
}