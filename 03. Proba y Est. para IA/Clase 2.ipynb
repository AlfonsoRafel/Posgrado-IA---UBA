{
 "cells": [
  {
   "cell_type": "markdown",
   "metadata": {},
   "source": [
    "# Probabilidad y Estadística para Inteligencia Artificial\n",
    "# Ejercicios Clase 2"
   ]
  },
  {
   "cell_type": "markdown",
   "metadata": {},
   "source": [
    "## Ejercicio 3\n"
   ]
  },
  {
   "cell_type": "code",
   "execution_count": 45,
   "metadata": {},
   "outputs": [
    {
     "data": {
      "image/png": "[encoded data removed]",
      "text/plain": [
       "<Figure size 432x288 with 1 Axes>"
      ]
     },
     "metadata": {
      "needs_background": "light"
     },
     "output_type": "display_data"
    }
   ],
   "source": [
    "import numpy as np \n",
    "import matplotlib.pyplot as plt\n",
    "lambda_param = 0.5\n",
    "size = 2000\n",
    "\n",
    "def exponential_random_variable(lambda_param, size):\n",
    "    uniform_random_variable = np.random.uniform(low=0.0, high=1.0, size=size)\n",
    "    return (-1 / lambda_param) * np.log(uniform_random_variable)\n",
    "x = exponential_random_variable(lambda_param, size)\n",
    "pdf = lambda_param * np.exp(-lambda_param * x)\n",
    "cdf = 1- np.exp(-lambda_param * x)\n",
    "\n",
    "\n",
    "plt.scatter(x, pdf)\n",
    "plt.title('pdf vs cdf')\n",
    "plt.legend('pdf')\n",
    "plt.scatter(x, cdf)\n",
    "plt.legend('cdf')\n",
    "plt.show()"
   ]
  },
  {
   "cell_type": "code",
   "execution_count": null,
   "metadata": {},
   "outputs": [],
   "source": []
  },
  {
   "cell_type": "code",
   "execution_count": null,
   "metadata": {},
   "outputs": [],
   "source": []
  }
 ],
 "metadata": {
  "kernelspec": {
   "display_name": "Python 3",
   "language": "python",
   "name": "python3"
  },
  "language_info": {
   "codemirror_mode": {
    "name": "ipython",
    "version": 3
   },
   "file_extension": ".py",
   "mimetype": "text/x-python",
   "name": "python",
   "nbconvert_exporter": "python",
   "pygments_lexer": "ipython3",
   "version": "3.8.3"
  }
 },
 "nbformat": 4,
 "nbformat_minor": 4
}
