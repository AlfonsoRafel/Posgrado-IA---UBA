{
 "cells": [
  {
   "cell_type": "markdown",
   "metadata": {},
   "source": [
    "# Probabilidad y Estadística para Inteligencia Artificial\n",
    "# Ejercicios Clase 3"
   ]
  },
  {
   "cell_type": "markdown",
   "metadata": {},
   "source": [
    "## Ejercicio 1"
   ]
  },
  {
   "cell_type": "code",
   "execution_count": 20,
   "metadata": {},
   "outputs": [
    {
     "name": "stdout",
     "output_type": "stream",
     "text": [
      "Casos de Exito= 1975\n",
      "Casos Posibles= 8484\n",
      "Probabilidad simulada = 0.2327911362564828\n",
      "Probabilidad teórica = 0.26666666666666666\n"
     ]
    }
   ],
   "source": [
    "import numpy as np \n",
    "import matplotlib.pyplot as plt\n",
    "size = 20000\n",
    "casos_posibles = 0\n",
    "casos_exito = 0\n",
    "for i in range(size):\n",
    "    Juan = np.random.randint(7, size=1)\n",
    "    Pedro = np.random.randint(7, size=1)\n",
    "    if Juan > Pedro:\n",
    "        casos_posibles = casos_posibles + 1\n",
    "    if (Juan == 5) and (Juan > Pedro):\n",
    "        casos_exito = casos_exito + 1\n",
    "\n",
    "P = (casos_exito/casos_posibles)\n",
    "print('Casos de Exito=', casos_exito)\n",
    "print('Casos Posibles=', casos_posibles)\n",
    "print('Probabilidad simulada =', P)\n",
    "print('Probabilidad teórica =', 4/15)\n",
    "      \n",
    "        \n"
   ]
  },
  {
   "cell_type": "markdown",
   "metadata": {},
   "source": [
    "## Ejercicio 2"
   ]
  },
  {
   "cell_type": "code",
   "execution_count": 12,
   "metadata": {},
   "outputs": [
    {
     "name": "stdout",
     "output_type": "stream",
     "text": [
      "Esperanza teórica: 1.75\n",
      "Esperanza simulada: 1.8024250243723763\n",
      "Varianza teórica: 2.0416666666666665\n",
      "Varianza simulada: 2.4788991948480583\n"
     ]
    }
   ],
   "source": [
    "import numpy as np\n",
    "\n",
    "L = 7\n",
    "n = 1000\n",
    "\n",
    "Y = L * np.random.uniform(size=n)\n",
    "X = Y * np.random.uniform(size=n)\n",
    "\n",
    "E_simulada = np.mean(X)\n",
    "Var_simulada = np.var(X) \n",
    "\n",
    "print('Esperanza teórica:', L/4)\n",
    "print('Esperanza simulada:', E_simulada)\n",
    "\n",
    "print('Varianza teórica:', L**2/24)\n",
    "print('Varianza simulada:', Var_simulada)\n"
   ]
  },
  {
   "cell_type": "markdown",
   "metadata": {},
   "source": [
    "## Ejercicio 3"
   ]
  },
  {
   "cell_type": "code",
   "execution_count": 34,
   "metadata": {},
   "outputs": [
    {
     "name": "stdout",
     "output_type": "stream",
     "text": [
      "E[Z|X] teórica: 1.0028222633119677\n",
      "E[Z|X] simulada: 0.5122906005591269\n",
      "E[X|Z] teórica: 0.4976733726221925\n",
      "E[X|Z] simulada: 0.018405144934087504\n",
      "E[XZ|X] teórica: 0.5776984983743729\n",
      "E[XZ|X] simulada: 0.012634473541086481\n",
      "E[XZ|Z] teórica: 0.5042413601381532\n",
      "E[XZ|Z] simulada: 0.000709316630419639\n"
     ]
    }
   ],
   "source": [
    "import numpy as np\n",
    "\n",
    "n = 10000\n",
    "\n",
    "Y = np.random.uniform(size=n)\n",
    "X = np.random.uniform(size=n)\n",
    "Z = X + Y\n",
    "\n",
    "delta = 0.05\n",
    "\n",
    "X_index = X < delta\n",
    "Z_index = Z < delta\n",
    "\n",
    "\n",
    "E_Z_dado_X = np.mean(Z[X_index])\n",
    "print('E[Z|X] teórica:', np.mean(X + 0.5))\n",
    "print('E[Z|X] simulada:', E_Z_dado_X)\n",
    "\n",
    "E_X_dado_Z = np.mean(X[Z_index])\n",
    "print('E[X|Z] teórica:', np.mean(Z/2))\n",
    "print('E[X|Z] simulada:', E_X_dado_Z)\n",
    " \n",
    "E_XZ_dado_X = np.mean(X[X_index] * Z[X_index])\n",
    "print('E[XZ|X] teórica:', np.mean(Z**2)/2)\n",
    "print('E[XZ|X] simulada:', E_XZ_dado_X)\n",
    " \n",
    "E_XZ_dado_Z = np.mean(X[Z_index]*Z[Z_index])\n",
    "print('E[XZ|Z] teórica:', np.mean(X)*(np.mean(X) + 0.5))\n",
    "print('E[XZ|Z] simulada:', E_XZ_dado_Z)\n",
    "\n",
    "\n"
   ]
  },
  {
   "cell_type": "markdown",
   "metadata": {},
   "source": [
    "## Ejercicio 4"
   ]
  },
  {
   "cell_type": "code",
   "execution_count": 59,
   "metadata": {},
   "outputs": [
    {
     "name": "stdout",
     "output_type": "stream",
     "text": [
      "Media teórica: 2\n",
      "Media N=10: 1.43263035251288\n",
      "Media N=10000: 2.003807992862355\n",
      "Varianza teórica: 1\n",
      "Varianza N=10 - Sn: 0.9563279722550938\n",
      "Varianza N=10 - Sn-1: 1.062586635838993\n",
      "Varianza N=10000 - Sn: 0.9944774041966987\n",
      "Varianza N=10000 - Sn-1: 0.994576861882887\n"
     ]
    }
   ],
   "source": [
    "import numpy as np\n",
    "N1 = 10\n",
    "N2 = 10000\n",
    "\n",
    "y_1 = 2 + np.random.randn(N1)\n",
    "y_2 = 2 + np.random.randn(N2)\n",
    "\n",
    "print('Media teórica:', 2)\n",
    "print('Media N=10:', np.mean(y_1))\n",
    "print('Media N=10000:', np.mean(y_2))\n",
    "\n",
    "print('Varianza teórica:', 1)\n",
    "print('Varianza N=10 - Sn:',1/N1 * np.sum((y_1 - 2)**2))\n",
    "print('Varianza N=10 - Sn-1:',1/(N1-1)* np.sum((y_1 - 2)**2))\n",
    "print('Varianza N=10000 - Sn:',  1/N2 * np.sum((y_2 - 2)**2))\n",
    "print('Varianza N=10000 - Sn-1:',  1/(N2-1) * np.sum((y_2 - 2)**2))\n",
    "\n",
    "\n"
   ]
  },
  {
   "cell_type": "code",
   "execution_count": null,
   "metadata": {},
   "outputs": [],
   "source": []
  },
  {
   "cell_type": "code",
   "execution_count": null,
   "metadata": {},
   "outputs": [],
   "source": []
  }
 ],
 "metadata": {
  "kernelspec": {
   "display_name": "Python 3",
   "language": "python",
   "name": "python3"
  },
  "language_info": {
   "codemirror_mode": {
    "name": "ipython",
    "version": 3
   },
   "file_extension": ".py",
   "mimetype": "text/x-python",
   "name": "python",
   "nbconvert_exporter": "python",
   "pygments_lexer": "ipython3",
   "version": "3.8.3"
  }
 },
 "nbformat": 4,
 "nbformat_minor": 4
}
