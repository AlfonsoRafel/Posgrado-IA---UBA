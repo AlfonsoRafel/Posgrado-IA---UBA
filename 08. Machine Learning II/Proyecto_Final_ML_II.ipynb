{
  "nbformat": 4,
  "nbformat_minor": 0,
  "metadata": {
    "colab": {
      "name": "Proyecto Final ML II.ipynb",
      "provenance": [],
      "collapsed_sections": [
        "7ONj-G3NyFjR",
        "X9pS8Cb-lAo5"
      ],
      "toc_visible": true,
      "mount_file_id": "1mR_d5aE-pYsFFdM8DOdi9rCOQshrH1Sk",
      "authorship_tag": "ABX9TyNZUg6gJCrmt8FPzxsAdDbN",
      "include_colab_link": true
    },
    "kernelspec": {
      "name": "python3",
      "display_name": "Python 3"
    },
    "accelerator": "GPU"
  },
  "cells": [
    {
      "cell_type": "markdown",
      "metadata": {
        "id": "view-in-github",
        "colab_type": "text"
      },
      "source": [
        "<a href=\"https://colab.research.google.com/github/AlfonsoRafel/Posgrado-IA---UBA/blob/master/08.%20Machine%20Learning%20II/Proyecto_Final_ML_II.ipynb\" target=\"_parent\"><img src=\"https://colab.research.google.com/assets/colab-badge.svg\" alt=\"Open In Colab\"/></a>"
      ]
    },
    {
      "cell_type": "markdown",
      "metadata": {
        "id": "2g6soel4gDZZ"
      },
      "source": [
        "# Machine Learning I \n"
      ]
    },
    {
      "cell_type": "markdown",
      "metadata": {
        "id": "N-bU3pRJIepK"
      },
      "source": [
        "## Drive y librerías"
      ]
    },
    {
      "cell_type": "code",
      "metadata": {
        "id": "eF0m94RQX8c1",
        "colab": {
          "base_uri": "https://localhost:8080/"
        },
        "outputId": "b3b00977-e595-4131-de39-4f257316e9cc"
      },
      "source": [
        "from google.colab import drive\n",
        "drive.mount('/content/drive')"
      ],
      "execution_count": null,
      "outputs": [
        {
          "output_type": "stream",
          "text": [
            "Mounted at /content/drive\n"
          ],
          "name": "stdout"
        }
      ]
    },
    {
      "cell_type": "code",
      "metadata": {
        "id": "6h160zcdwYpn"
      },
      "source": [
        "%%capture\n",
        "!pip install funpymodeling"
      ],
      "execution_count": null,
      "outputs": []
    },
    {
      "cell_type": "code",
      "metadata": {
        "id": "9hi1dazUY9W4",
        "colab": {
          "base_uri": "https://localhost:8080/"
        },
        "outputId": "779871ba-c76d-46d5-cc3c-d18dd10bfd57"
      },
      "source": [
        "import pandas as pd\n",
        "from funpymodeling.exploratory import status\n",
        "import numpy as np\n",
        "from scipy import stats\n",
        "import matplotlib.pyplot as plt\n",
        "from collections import Counter\n",
        "import pickle\n",
        "from keras.models import model_from_json\n",
        "\n",
        "import seaborn as sns\n",
        "sns.set(style=\"ticks\", color_codes=True, font_scale=1.5)\n",
        "\n",
        "from sklearn import preprocessing\n",
        "from sklearn.linear_model import LogisticRegression, LinearRegression\n",
        "from sklearn.model_selection import train_test_split, StratifiedShuffleSplit, cross_val_score, cross_validate, KFold\n",
        "from sklearn.model_selection import learning_curve\n",
        "from sklearn import metrics\n",
        "from sklearn.ensemble import RandomForestClassifier, RandomForestRegressor\n",
        "from sklearn.svm import SVR, SVC\n",
        "\n",
        "import tensorflow as tf\n",
        "from tensorflow import keras\n",
        "\n",
        "from keras.models import Sequential\n",
        "from keras.layers import Dense\n",
        "from keras.layers import Dropout\n",
        "from keras.utils.vis_utils import plot_model\n",
        "from keras.wrappers.scikit_learn import KerasRegressor\n",
        "%matplotlib inline"
      ],
      "execution_count": null,
      "outputs": [
        {
          "output_type": "stream",
          "text": [
            "/usr/local/lib/python3.6/dist-packages/statsmodels/tools/_testing.py:19: FutureWarning: pandas.util.testing is deprecated. Use the functions in the public API at pandas.testing instead.\n",
            "  import pandas.util.testing as tm\n"
          ],
          "name": "stderr"
        }
      ]
    },
    {
      "cell_type": "code",
      "metadata": {
        "id": "ZGumsN17EsT8"
      },
      "source": [
        "# Función para plotear las curvas de aprendizaje del test de entranamiento y validación.\n",
        "# Inputs:\n",
        "# - model: modelo \n",
        "# - X: dataset de entrada\n",
        "# - y: salida\n",
        "# - scoring: métrica para ela evolución\n",
        "# - n_instances: cantidad de valores de tamaño del dataset sobre los que se hará el entrenamiento\n",
        "# - cv: cantidad de folds para el cross-validation\n",
        "def plot_learning_curve(model, X, y, n_instances = 5, cv=5):\n",
        "  train_sizes=[*range(int(X.shape[0]/n_instances), int(X.shape[0]*0.8), int(X.shape[0]/n_instances))]\n",
        "  \n",
        "  # r2 learning_curves\n",
        "  train_sizes, train_scores_r2, valid_scores_r2 = learning_curve(model, X, y, train_sizes=train_sizes, cv = cv, scoring = 'r2')\n",
        "  train_scores_r2_mean = train_scores_r2.mean(axis = 1)\n",
        "  valid_scores_r2_mean = valid_scores_r2.mean(axis = 1)\n",
        "\n",
        "  # neg_mean_squared _error learning_curves\n",
        "  train_sizes, train_scores_mse, valid_scores_mse = learning_curve(model, X, y, train_sizes=train_sizes, cv = cv, scoring = 'neg_mean_squared_error')\n",
        "  train_scores_mse_mean = -train_scores_mse.mean(axis = 1)\n",
        "  valid_scores_mse_mean = -valid_scores_mse.mean(axis = 1)\n",
        "  \n",
        "  fig, ax = plt.subplots(nrows=1, ncols=2, figsize=(18, 6))\n",
        "  \n",
        "  plt.style.use('seaborn')\n",
        "  ax[0].plot(train_sizes, train_scores_r2_mean, label = 'Training error')\n",
        "  ax[0].plot(train_sizes, valid_scores_r2_mean, label = 'Validation error')\n",
        "  ax[0].set_ylabel('Metric: r2', fontsize = 14)\n",
        "  ax[0].set_xlabel('Training set size', fontsize = 14)\n",
        "  ax[0].set_title('Learning curves for model' , fontsize = 18, y = 1.03)\n",
        "  ax[0].legend()\n",
        "\n",
        "  ax[1].plot(train_sizes, train_scores_mse_mean, label = 'Training error')\n",
        "  ax[1].plot(train_sizes, valid_scores_mse_mean, label = 'Validation error')\n",
        "  ax[1].set_ylabel('Metric: mse', fontsize = 14)\n",
        "  ax[1].set_xlabel('Training set size', fontsize = 14)\n",
        "  ax[1].set_title('Learning curves for model' , fontsize = 18, y = 1.03)\n",
        "  ax[1].legend()\n",
        "\n",
        "  return train_scores_r2, train_scores_mse, valid_scores_r2, valid_scores_mse, train_sizes\n",
        "\n",
        "def plot_learning_curve_emb(model, X, y, n_instances = 5, cv=5):\n",
        "  train_sizes=[*range(int(X[0].shape[0]/n_instances), int(X[0].shape[0]*0.8), int(X[0].shape[0]/n_instances))]\n",
        "  \n",
        "  # r2 learning_curves\n",
        "  train_sizes, train_scores_r2, valid_scores_r2 = learning_curve(model, X, y, train_sizes=train_sizes, cv = cv, scoring = 'r2')\n",
        "  train_scores_r2_mean = train_scores_r2.mean(axis = 1)\n",
        "  valid_scores_r2_mean = valid_scores_r2.mean(axis = 1)\n",
        "\n",
        "  # neg_mean_squared _error learning_curves\n",
        "  train_sizes, train_scores_mse, valid_scores_mse = learning_curve(model, X, y, train_sizes=train_sizes, cv = cv, scoring = 'neg_mean_squared_error')\n",
        "  train_scores_mse_mean = -train_scores_mse.mean(axis = 1)\n",
        "  valid_scores_mse_mean = -valid_scores_mse.mean(axis = 1)\n",
        "  \n",
        "  fig, ax = plt.subplots(nrows=1, ncols=2, figsize=(18, 6))\n",
        "  \n",
        "  plt.style.use('seaborn')\n",
        "  ax[0].plot(train_sizes, train_scores_r2_mean, label = 'Training error')\n",
        "  ax[0].plot(train_sizes, valid_scores_r2_mean, label = 'Validation error')\n",
        "  ax[0].set_ylabel('Metric: r2', fontsize = 14)\n",
        "  ax[0].set_xlabel('Training set size', fontsize = 14)\n",
        "  ax[0].set_title('Learning curves for model' , fontsize = 18, y = 1.03)\n",
        "  ax[0].legend()\n",
        "\n",
        "  ax[1].plot(train_sizes, train_scores_mse_mean, label = 'Training error')\n",
        "  ax[1].plot(train_sizes, valid_scores_mse_mean, label = 'Validation error')\n",
        "  ax[1].set_ylabel('Metric: mse', fontsize = 14)\n",
        "  ax[1].set_xlabel('Training set size', fontsize = 14)\n",
        "  ax[1].set_title('Learning curves for model' , fontsize = 18, y = 1.03)\n",
        "  ax[1].legend()"
      ],
      "execution_count": null,
      "outputs": []
    },
    {
      "cell_type": "code",
      "metadata": {
        "id": "iJs_qR5E8efL",
        "colab": {
          "base_uri": "https://localhost:8080/"
        },
        "outputId": "51bf3215-2247-4138-bd71-2e8bc5d371a2"
      },
      "source": [
        "tf.test.gpu_device_name()\n",
        "tf.config.list_physical_devices('GPU')"
      ],
      "execution_count": null,
      "outputs": [
        {
          "output_type": "execute_result",
          "data": {
            "text/plain": [
              "[PhysicalDevice(name='/physical_device:GPU:0', device_type='GPU')]"
            ]
          },
          "metadata": {
            "tags": []
          },
          "execution_count": 5
        }
      ]
    },
    {
      "cell_type": "markdown",
      "metadata": {
        "id": "r_HQVo3hiA8b"
      },
      "source": [
        "## Descripción del dataset"
      ]
    },
    {
      "cell_type": "markdown",
      "metadata": {
        "id": "okyjoaHyHkUw"
      },
      "source": [
        "### Contexto\n",
        "* El estudio de los mejores productos requiere más que sólo listados de productos. También necesitas saber qué se vende bien y qué no.\n",
        "\n",
        "### Contenido\n",
        "* Este conjunto de datos contiene listados de productos, así como clasificaciones de productos y rendimiento de ventas, que no se encuentran en otros conjuntos de datos. Con esto, se puede buscar correlaciones y patrones con respecto al éxito de un producto y los diversos componentes.\n",
        "\n",
        "### Metodología de recolección\n",
        "* Los datos provienen de la plataforma de Wish. Básicamente, los productos listados en el conjunto de datos son los que aparecerían si se escribe \"summer\" en el campo de búsqueda de la plataforma.\n",
        "\n",
        "### Columnas y Features\n",
        "* Los datos fueron raspados en la localización francesa (de ahí algunos caracteres latinos no asiáticos como \"é\" y \"à\") en la columna del título. El title_orig, por otra parte, contiene el título original (el título base) que se muestra por defecto. Cuando el vendedor proporciona una traducción, ésta aparece en la columna del título. Cuando las columnas title y title_orig son iguales, generalmente significa que el vendedor no especificó una traducción que se mostraría a los usuarios con la configuración francesa.\n",
        "Una imagen vale más que mil palabras. En la siguiente captura de pantalla se ven algunas características y cómo interpretarlas.\n",
        "\n",
        "![picture](https://drive.google.com/uc?export=view&id=1_9oIQNz_HzY1UtkD0BYiVve45ueVPkeV)\n",
        "\n",
        "### Definición del problema\n",
        "Es posible definir diferentes tipos de problemas al presentarse un dataset tan interesante como el descripto arriba. En este caso particular, se plantea como objetivo predecir el probable ingreso concebido como el producto entre las unidades vendidas (units_sold) y el precio de venta (price). Se tomarán dos enfoques:\n",
        "* Enfoque 1: se considerará a la variable de salida, nombrada como 'income', con una variable continua, quedando definido un problema de regresión.\n",
        "* Enfoque 2: se agrupará a los distintos valores de la variable de salida en grupos, quedando definido un problema de clasificación.\n",
        "\n",
        "Para ambos enfoques se realizará la ingeniería de features pertinente (muy similar en ambos casos salvo por detalles finales) y se probarán una serie de modelos para luego compararlos y elegir el más adecuado en función de las métricas de validación. Por cuestiones de tiempo es probable que sólo se realice uno sólo de los enfoques, en pos de mayor detalle en el análisis.\n",
        "\n"
      ]
    },
    {
      "cell_type": "markdown",
      "metadata": {
        "id": "yuul6Z8kRtEn"
      },
      "source": [
        "### Características del dataset"
      ]
    },
    {
      "cell_type": "code",
      "metadata": {
        "id": "L79yTvcTYNXq",
        "colab": {
          "base_uri": "https://localhost:8080/"
        },
        "outputId": "ad2f9387-9f73-408b-beea-b32467575d67"
      },
      "source": [
        "# Carga de datos desde el .csv\n",
        "data = pd.read_csv('/content/drive/MyDrive/Alfonso/CEIA/Bimestre III/Machine Learning II/summer-products-with-rating-and-performance_2020-08.csv')"
      ],
      "execution_count": null,
      "outputs": [
        {
          "output_type": "stream",
          "text": [
            "time: 497 ms (started: 2021-01-04 20:22:00 +00:00)\n"
          ],
          "name": "stdout"
        }
      ]
    },
    {
      "cell_type": "code",
      "metadata": {
        "id": "yMn_wY0pPr64",
        "colab": {
          "base_uri": "https://localhost:8080/",
          "height": 702
        },
        "outputId": "ee533b79-8d17-4b11-f01d-a93d98c919d1"
      },
      "source": [
        "# Se imprimen las primeras 5 filas del dataset para ganar insights del contenido de los datos\n",
        "data.head()"
      ],
      "execution_count": null,
      "outputs": [
        {
          "output_type": "execute_result",
          "data": {
            "text/html": [
              "<div>\n",
              "<style scoped>\n",
              "    .dataframe tbody tr th:only-of-type {\n",
              "        vertical-align: middle;\n",
              "    }\n",
              "\n",
              "    .dataframe tbody tr th {\n",
              "        vertical-align: top;\n",
              "    }\n",
              "\n",
              "    .dataframe thead th {\n",
              "        text-align: right;\n",
              "    }\n",
              "</style>\n",
              "<table border=\"1\" class=\"dataframe\">\n",
              "  <thead>\n",
              "    <tr style=\"text-align: right;\">\n",
              "      <th></th>\n",
              "      <th>title</th>\n",
              "      <th>title_orig</th>\n",
              "      <th>price</th>\n",
              "      <th>retail_price</th>\n",
              "      <th>currency_buyer</th>\n",
              "      <th>units_sold</th>\n",
              "      <th>uses_ad_boosts</th>\n",
              "      <th>rating</th>\n",
              "      <th>rating_count</th>\n",
              "      <th>rating_five_count</th>\n",
              "      <th>rating_four_count</th>\n",
              "      <th>rating_three_count</th>\n",
              "      <th>rating_two_count</th>\n",
              "      <th>rating_one_count</th>\n",
              "      <th>badges_count</th>\n",
              "      <th>badge_local_product</th>\n",
              "      <th>badge_product_quality</th>\n",
              "      <th>badge_fast_shipping</th>\n",
              "      <th>tags</th>\n",
              "      <th>product_color</th>\n",
              "      <th>product_variation_size_id</th>\n",
              "      <th>product_variation_inventory</th>\n",
              "      <th>shipping_option_name</th>\n",
              "      <th>shipping_option_price</th>\n",
              "      <th>shipping_is_express</th>\n",
              "      <th>countries_shipped_to</th>\n",
              "      <th>inventory_total</th>\n",
              "      <th>has_urgency_banner</th>\n",
              "      <th>urgency_text</th>\n",
              "      <th>origin_country</th>\n",
              "      <th>merchant_title</th>\n",
              "      <th>merchant_name</th>\n",
              "      <th>merchant_info_subtitle</th>\n",
              "      <th>merchant_rating_count</th>\n",
              "      <th>merchant_rating</th>\n",
              "      <th>merchant_id</th>\n",
              "      <th>merchant_has_profile_picture</th>\n",
              "      <th>merchant_profile_picture</th>\n",
              "      <th>product_url</th>\n",
              "      <th>product_picture</th>\n",
              "      <th>product_id</th>\n",
              "      <th>theme</th>\n",
              "      <th>crawl_month</th>\n",
              "    </tr>\n",
              "  </thead>\n",
              "  <tbody>\n",
              "    <tr>\n",
              "      <th>0</th>\n",
              "      <td>2020 Summer Vintage Flamingo Print  Pajamas Se...</td>\n",
              "      <td>2020 Summer Vintage Flamingo Print  Pajamas Se...</td>\n",
              "      <td>16.00</td>\n",
              "      <td>14</td>\n",
              "      <td>EUR</td>\n",
              "      <td>100</td>\n",
              "      <td>0</td>\n",
              "      <td>3.76</td>\n",
              "      <td>54</td>\n",
              "      <td>26.0</td>\n",
              "      <td>8.0</td>\n",
              "      <td>10.0</td>\n",
              "      <td>1.0</td>\n",
              "      <td>9.0</td>\n",
              "      <td>0</td>\n",
              "      <td>0</td>\n",
              "      <td>0</td>\n",
              "      <td>0</td>\n",
              "      <td>Summer,Fashion,womenunderwearsuit,printedpajam...</td>\n",
              "      <td>white</td>\n",
              "      <td>M</td>\n",
              "      <td>50</td>\n",
              "      <td>Livraison standard</td>\n",
              "      <td>4</td>\n",
              "      <td>0</td>\n",
              "      <td>34</td>\n",
              "      <td>50</td>\n",
              "      <td>1.0</td>\n",
              "      <td>Quantité limitée !</td>\n",
              "      <td>CN</td>\n",
              "      <td>zgrdejia</td>\n",
              "      <td>zgrdejia</td>\n",
              "      <td>(568 notes)</td>\n",
              "      <td>568</td>\n",
              "      <td>4.128521</td>\n",
              "      <td>595097d6a26f6e070cb878d1</td>\n",
              "      <td>0</td>\n",
              "      <td>NaN</td>\n",
              "      <td>https://www.wish.com/c/5e9ae51d43d6a96e303acdb0</td>\n",
              "      <td>https://contestimg.wish.com/api/webimage/5e9ae...</td>\n",
              "      <td>5e9ae51d43d6a96e303acdb0</td>\n",
              "      <td>summer</td>\n",
              "      <td>2020-08</td>\n",
              "    </tr>\n",
              "    <tr>\n",
              "      <th>1</th>\n",
              "      <td>SSHOUSE Summer Casual Sleeveless Soirée Party ...</td>\n",
              "      <td>Women's Casual Summer Sleeveless Sexy Mini Dress</td>\n",
              "      <td>8.00</td>\n",
              "      <td>22</td>\n",
              "      <td>EUR</td>\n",
              "      <td>20000</td>\n",
              "      <td>1</td>\n",
              "      <td>3.45</td>\n",
              "      <td>6135</td>\n",
              "      <td>2269.0</td>\n",
              "      <td>1027.0</td>\n",
              "      <td>1118.0</td>\n",
              "      <td>644.0</td>\n",
              "      <td>1077.0</td>\n",
              "      <td>0</td>\n",
              "      <td>0</td>\n",
              "      <td>0</td>\n",
              "      <td>0</td>\n",
              "      <td>Mini,womens dresses,Summer,Patchwork,fashion d...</td>\n",
              "      <td>green</td>\n",
              "      <td>XS</td>\n",
              "      <td>50</td>\n",
              "      <td>Livraison standard</td>\n",
              "      <td>2</td>\n",
              "      <td>0</td>\n",
              "      <td>41</td>\n",
              "      <td>50</td>\n",
              "      <td>1.0</td>\n",
              "      <td>Quantité limitée !</td>\n",
              "      <td>CN</td>\n",
              "      <td>SaraHouse</td>\n",
              "      <td>sarahouse</td>\n",
              "      <td>83 % avis positifs (17,752 notes)</td>\n",
              "      <td>17752</td>\n",
              "      <td>3.899673</td>\n",
              "      <td>56458aa03a698c35c9050988</td>\n",
              "      <td>0</td>\n",
              "      <td>NaN</td>\n",
              "      <td>https://www.wish.com/c/58940d436a0d3d5da4e95a38</td>\n",
              "      <td>https://contestimg.wish.com/api/webimage/58940...</td>\n",
              "      <td>58940d436a0d3d5da4e95a38</td>\n",
              "      <td>summer</td>\n",
              "      <td>2020-08</td>\n",
              "    </tr>\n",
              "    <tr>\n",
              "      <th>2</th>\n",
              "      <td>2020 Nouvelle Arrivée Femmes Printemps et Été ...</td>\n",
              "      <td>2020 New Arrival Women Spring and Summer Beach...</td>\n",
              "      <td>8.00</td>\n",
              "      <td>43</td>\n",
              "      <td>EUR</td>\n",
              "      <td>100</td>\n",
              "      <td>0</td>\n",
              "      <td>3.57</td>\n",
              "      <td>14</td>\n",
              "      <td>5.0</td>\n",
              "      <td>4.0</td>\n",
              "      <td>2.0</td>\n",
              "      <td>0.0</td>\n",
              "      <td>3.0</td>\n",
              "      <td>0</td>\n",
              "      <td>0</td>\n",
              "      <td>0</td>\n",
              "      <td>0</td>\n",
              "      <td>Summer,cardigan,women beachwear,chiffon,Sexy w...</td>\n",
              "      <td>leopardprint</td>\n",
              "      <td>XS</td>\n",
              "      <td>1</td>\n",
              "      <td>Livraison standard</td>\n",
              "      <td>3</td>\n",
              "      <td>0</td>\n",
              "      <td>36</td>\n",
              "      <td>50</td>\n",
              "      <td>1.0</td>\n",
              "      <td>Quantité limitée !</td>\n",
              "      <td>CN</td>\n",
              "      <td>hxt520</td>\n",
              "      <td>hxt520</td>\n",
              "      <td>86 % avis positifs (295 notes)</td>\n",
              "      <td>295</td>\n",
              "      <td>3.989831</td>\n",
              "      <td>5d464a1ffdf7bc44ee933c65</td>\n",
              "      <td>0</td>\n",
              "      <td>NaN</td>\n",
              "      <td>https://www.wish.com/c/5ea10e2c617580260d55310a</td>\n",
              "      <td>https://contestimg.wish.com/api/webimage/5ea10...</td>\n",
              "      <td>5ea10e2c617580260d55310a</td>\n",
              "      <td>summer</td>\n",
              "      <td>2020-08</td>\n",
              "    </tr>\n",
              "    <tr>\n",
              "      <th>3</th>\n",
              "      <td>Hot Summer Cool T-shirt pour les femmes Mode T...</td>\n",
              "      <td>Hot Summer Cool T Shirt for Women Fashion Tops...</td>\n",
              "      <td>8.00</td>\n",
              "      <td>8</td>\n",
              "      <td>EUR</td>\n",
              "      <td>5000</td>\n",
              "      <td>1</td>\n",
              "      <td>4.03</td>\n",
              "      <td>579</td>\n",
              "      <td>295.0</td>\n",
              "      <td>119.0</td>\n",
              "      <td>87.0</td>\n",
              "      <td>42.0</td>\n",
              "      <td>36.0</td>\n",
              "      <td>0</td>\n",
              "      <td>0</td>\n",
              "      <td>0</td>\n",
              "      <td>0</td>\n",
              "      <td>Summer,Shorts,Cotton,Cotton T Shirt,Sleeve,pri...</td>\n",
              "      <td>black</td>\n",
              "      <td>M</td>\n",
              "      <td>50</td>\n",
              "      <td>Livraison standard</td>\n",
              "      <td>2</td>\n",
              "      <td>0</td>\n",
              "      <td>41</td>\n",
              "      <td>50</td>\n",
              "      <td>NaN</td>\n",
              "      <td>NaN</td>\n",
              "      <td>CN</td>\n",
              "      <td>allenfan</td>\n",
              "      <td>allenfan</td>\n",
              "      <td>(23,832 notes)</td>\n",
              "      <td>23832</td>\n",
              "      <td>4.020435</td>\n",
              "      <td>58cfdefdacb37b556efdff7c</td>\n",
              "      <td>0</td>\n",
              "      <td>NaN</td>\n",
              "      <td>https://www.wish.com/c/5cedf17ad1d44c52c59e4aca</td>\n",
              "      <td>https://contestimg.wish.com/api/webimage/5cedf...</td>\n",
              "      <td>5cedf17ad1d44c52c59e4aca</td>\n",
              "      <td>summer</td>\n",
              "      <td>2020-08</td>\n",
              "    </tr>\n",
              "    <tr>\n",
              "      <th>4</th>\n",
              "      <td>Femmes Shorts d'été à lacets taille élastique ...</td>\n",
              "      <td>Women Summer Shorts Lace Up Elastic Waistband ...</td>\n",
              "      <td>2.72</td>\n",
              "      <td>3</td>\n",
              "      <td>EUR</td>\n",
              "      <td>100</td>\n",
              "      <td>1</td>\n",
              "      <td>3.10</td>\n",
              "      <td>20</td>\n",
              "      <td>6.0</td>\n",
              "      <td>4.0</td>\n",
              "      <td>2.0</td>\n",
              "      <td>2.0</td>\n",
              "      <td>6.0</td>\n",
              "      <td>0</td>\n",
              "      <td>0</td>\n",
              "      <td>0</td>\n",
              "      <td>0</td>\n",
              "      <td>Summer,Plus Size,Lace,Casual pants,Bottom,pant...</td>\n",
              "      <td>yellow</td>\n",
              "      <td>S</td>\n",
              "      <td>1</td>\n",
              "      <td>Livraison standard</td>\n",
              "      <td>1</td>\n",
              "      <td>0</td>\n",
              "      <td>35</td>\n",
              "      <td>50</td>\n",
              "      <td>1.0</td>\n",
              "      <td>Quantité limitée !</td>\n",
              "      <td>CN</td>\n",
              "      <td>youngpeopleshop</td>\n",
              "      <td>happyhorses</td>\n",
              "      <td>85 % avis positifs (14,482 notes)</td>\n",
              "      <td>14482</td>\n",
              "      <td>4.001588</td>\n",
              "      <td>5ab3b592c3911a095ad5dadb</td>\n",
              "      <td>0</td>\n",
              "      <td>NaN</td>\n",
              "      <td>https://www.wish.com/c/5ebf5819ebac372b070b0e70</td>\n",
              "      <td>https://contestimg.wish.com/api/webimage/5ebf5...</td>\n",
              "      <td>5ebf5819ebac372b070b0e70</td>\n",
              "      <td>summer</td>\n",
              "      <td>2020-08</td>\n",
              "    </tr>\n",
              "  </tbody>\n",
              "</table>\n",
              "</div>"
            ],
            "text/plain": [
              "                                               title  ... crawl_month\n",
              "0  2020 Summer Vintage Flamingo Print  Pajamas Se...  ...     2020-08\n",
              "1  SSHOUSE Summer Casual Sleeveless Soirée Party ...  ...     2020-08\n",
              "2  2020 Nouvelle Arrivée Femmes Printemps et Été ...  ...     2020-08\n",
              "3  Hot Summer Cool T-shirt pour les femmes Mode T...  ...     2020-08\n",
              "4  Femmes Shorts d'été à lacets taille élastique ...  ...     2020-08\n",
              "\n",
              "[5 rows x 43 columns]"
            ]
          },
          "metadata": {
            "tags": []
          },
          "execution_count": 8
        },
        {
          "output_type": "stream",
          "text": [
            "time: 85.3 ms (started: 2021-01-04 20:22:01 +00:00)\n"
          ],
          "name": "stdout"
        }
      ]
    },
    {
      "cell_type": "code",
      "metadata": {
        "id": "VYNdurGGPvQg",
        "colab": {
          "base_uri": "https://localhost:8080/",
          "height": 1000
        },
        "outputId": "5c9b71d5-85bc-438f-8b07-ee726d6fef3b"
      },
      "source": [
        "# Análisis de los tipos de datos: se utiliza el método status() de la libreria funpymodeling el cual brinda rápidamente información \n",
        "# general del dataset:\n",
        "# - q_nan: cantidad de nan values\n",
        "# - p_nan: porcentaje de nan values\n",
        "# - q_zeros: cantidad de zero values\n",
        "# - p_zeros: porcentaje de zero values\n",
        "# - unique: cantidad de elementos únicos por columna\n",
        "# - type: tipo de datos de la columna\n",
        "# Gracias a este método se logra un análisis integral bastante rápido, entendiendo cuales features son categóricas o numéricas,\n",
        "# features con únicos valores, features con ids, cantidad de nan y zero values y su distribución. \n",
        "status(data)"
      ],
      "execution_count": null,
      "outputs": [
        {
          "output_type": "execute_result",
          "data": {
            "text/html": [
              "<div>\n",
              "<style scoped>\n",
              "    .dataframe tbody tr th:only-of-type {\n",
              "        vertical-align: middle;\n",
              "    }\n",
              "\n",
              "    .dataframe tbody tr th {\n",
              "        vertical-align: top;\n",
              "    }\n",
              "\n",
              "    .dataframe thead th {\n",
              "        text-align: right;\n",
              "    }\n",
              "</style>\n",
              "<table border=\"1\" class=\"dataframe\">\n",
              "  <thead>\n",
              "    <tr style=\"text-align: right;\">\n",
              "      <th></th>\n",
              "      <th>variable</th>\n",
              "      <th>q_nan</th>\n",
              "      <th>p_nan</th>\n",
              "      <th>q_zeros</th>\n",
              "      <th>p_zeros</th>\n",
              "      <th>unique</th>\n",
              "      <th>type</th>\n",
              "    </tr>\n",
              "  </thead>\n",
              "  <tbody>\n",
              "    <tr>\n",
              "      <th>0</th>\n",
              "      <td>title</td>\n",
              "      <td>0</td>\n",
              "      <td>0.000000</td>\n",
              "      <td>0</td>\n",
              "      <td>0.000000</td>\n",
              "      <td>1201</td>\n",
              "      <td>object</td>\n",
              "    </tr>\n",
              "    <tr>\n",
              "      <th>1</th>\n",
              "      <td>title_orig</td>\n",
              "      <td>0</td>\n",
              "      <td>0.000000</td>\n",
              "      <td>0</td>\n",
              "      <td>0.000000</td>\n",
              "      <td>1203</td>\n",
              "      <td>object</td>\n",
              "    </tr>\n",
              "    <tr>\n",
              "      <th>2</th>\n",
              "      <td>price</td>\n",
              "      <td>0</td>\n",
              "      <td>0.000000</td>\n",
              "      <td>0</td>\n",
              "      <td>0.000000</td>\n",
              "      <td>127</td>\n",
              "      <td>float64</td>\n",
              "    </tr>\n",
              "    <tr>\n",
              "      <th>3</th>\n",
              "      <td>retail_price</td>\n",
              "      <td>0</td>\n",
              "      <td>0.000000</td>\n",
              "      <td>0</td>\n",
              "      <td>0.000000</td>\n",
              "      <td>104</td>\n",
              "      <td>int64</td>\n",
              "    </tr>\n",
              "    <tr>\n",
              "      <th>4</th>\n",
              "      <td>currency_buyer</td>\n",
              "      <td>0</td>\n",
              "      <td>0.000000</td>\n",
              "      <td>0</td>\n",
              "      <td>0.000000</td>\n",
              "      <td>1</td>\n",
              "      <td>object</td>\n",
              "    </tr>\n",
              "    <tr>\n",
              "      <th>5</th>\n",
              "      <td>units_sold</td>\n",
              "      <td>0</td>\n",
              "      <td>0.000000</td>\n",
              "      <td>0</td>\n",
              "      <td>0.000000</td>\n",
              "      <td>15</td>\n",
              "      <td>int64</td>\n",
              "    </tr>\n",
              "    <tr>\n",
              "      <th>6</th>\n",
              "      <td>uses_ad_boosts</td>\n",
              "      <td>0</td>\n",
              "      <td>0.000000</td>\n",
              "      <td>892</td>\n",
              "      <td>0.567069</td>\n",
              "      <td>2</td>\n",
              "      <td>int64</td>\n",
              "    </tr>\n",
              "    <tr>\n",
              "      <th>7</th>\n",
              "      <td>rating</td>\n",
              "      <td>0</td>\n",
              "      <td>0.000000</td>\n",
              "      <td>0</td>\n",
              "      <td>0.000000</td>\n",
              "      <td>192</td>\n",
              "      <td>float64</td>\n",
              "    </tr>\n",
              "    <tr>\n",
              "      <th>8</th>\n",
              "      <td>rating_count</td>\n",
              "      <td>0</td>\n",
              "      <td>0.000000</td>\n",
              "      <td>45</td>\n",
              "      <td>0.028608</td>\n",
              "      <td>761</td>\n",
              "      <td>int64</td>\n",
              "    </tr>\n",
              "    <tr>\n",
              "      <th>9</th>\n",
              "      <td>rating_five_count</td>\n",
              "      <td>45</td>\n",
              "      <td>0.028608</td>\n",
              "      <td>31</td>\n",
              "      <td>0.019708</td>\n",
              "      <td>605</td>\n",
              "      <td>float64</td>\n",
              "    </tr>\n",
              "    <tr>\n",
              "      <th>10</th>\n",
              "      <td>rating_four_count</td>\n",
              "      <td>45</td>\n",
              "      <td>0.028608</td>\n",
              "      <td>96</td>\n",
              "      <td>0.061030</td>\n",
              "      <td>440</td>\n",
              "      <td>float64</td>\n",
              "    </tr>\n",
              "    <tr>\n",
              "      <th>11</th>\n",
              "      <td>rating_three_count</td>\n",
              "      <td>45</td>\n",
              "      <td>0.028608</td>\n",
              "      <td>138</td>\n",
              "      <td>0.087730</td>\n",
              "      <td>384</td>\n",
              "      <td>float64</td>\n",
              "    </tr>\n",
              "    <tr>\n",
              "      <th>12</th>\n",
              "      <td>rating_two_count</td>\n",
              "      <td>45</td>\n",
              "      <td>0.028608</td>\n",
              "      <td>196</td>\n",
              "      <td>0.124603</td>\n",
              "      <td>262</td>\n",
              "      <td>float64</td>\n",
              "    </tr>\n",
              "    <tr>\n",
              "      <th>13</th>\n",
              "      <td>rating_one_count</td>\n",
              "      <td>45</td>\n",
              "      <td>0.028608</td>\n",
              "      <td>116</td>\n",
              "      <td>0.073744</td>\n",
              "      <td>330</td>\n",
              "      <td>float64</td>\n",
              "    </tr>\n",
              "    <tr>\n",
              "      <th>14</th>\n",
              "      <td>badges_count</td>\n",
              "      <td>0</td>\n",
              "      <td>0.000000</td>\n",
              "      <td>1422</td>\n",
              "      <td>0.904005</td>\n",
              "      <td>4</td>\n",
              "      <td>int64</td>\n",
              "    </tr>\n",
              "    <tr>\n",
              "      <th>15</th>\n",
              "      <td>badge_local_product</td>\n",
              "      <td>0</td>\n",
              "      <td>0.000000</td>\n",
              "      <td>1544</td>\n",
              "      <td>0.981564</td>\n",
              "      <td>2</td>\n",
              "      <td>int64</td>\n",
              "    </tr>\n",
              "    <tr>\n",
              "      <th>16</th>\n",
              "      <td>badge_product_quality</td>\n",
              "      <td>0</td>\n",
              "      <td>0.000000</td>\n",
              "      <td>1456</td>\n",
              "      <td>0.925620</td>\n",
              "      <td>2</td>\n",
              "      <td>int64</td>\n",
              "    </tr>\n",
              "    <tr>\n",
              "      <th>17</th>\n",
              "      <td>badge_fast_shipping</td>\n",
              "      <td>0</td>\n",
              "      <td>0.000000</td>\n",
              "      <td>1553</td>\n",
              "      <td>0.987285</td>\n",
              "      <td>2</td>\n",
              "      <td>int64</td>\n",
              "    </tr>\n",
              "    <tr>\n",
              "      <th>18</th>\n",
              "      <td>tags</td>\n",
              "      <td>0</td>\n",
              "      <td>0.000000</td>\n",
              "      <td>0</td>\n",
              "      <td>0.000000</td>\n",
              "      <td>1230</td>\n",
              "      <td>object</td>\n",
              "    </tr>\n",
              "    <tr>\n",
              "      <th>19</th>\n",
              "      <td>product_color</td>\n",
              "      <td>41</td>\n",
              "      <td>0.026065</td>\n",
              "      <td>0</td>\n",
              "      <td>0.000000</td>\n",
              "      <td>101</td>\n",
              "      <td>object</td>\n",
              "    </tr>\n",
              "    <tr>\n",
              "      <th>20</th>\n",
              "      <td>product_variation_size_id</td>\n",
              "      <td>14</td>\n",
              "      <td>0.008900</td>\n",
              "      <td>0</td>\n",
              "      <td>0.000000</td>\n",
              "      <td>106</td>\n",
              "      <td>object</td>\n",
              "    </tr>\n",
              "    <tr>\n",
              "      <th>21</th>\n",
              "      <td>product_variation_inventory</td>\n",
              "      <td>0</td>\n",
              "      <td>0.000000</td>\n",
              "      <td>0</td>\n",
              "      <td>0.000000</td>\n",
              "      <td>48</td>\n",
              "      <td>int64</td>\n",
              "    </tr>\n",
              "    <tr>\n",
              "      <th>22</th>\n",
              "      <td>shipping_option_name</td>\n",
              "      <td>0</td>\n",
              "      <td>0.000000</td>\n",
              "      <td>0</td>\n",
              "      <td>0.000000</td>\n",
              "      <td>15</td>\n",
              "      <td>object</td>\n",
              "    </tr>\n",
              "    <tr>\n",
              "      <th>23</th>\n",
              "      <td>shipping_option_price</td>\n",
              "      <td>0</td>\n",
              "      <td>0.000000</td>\n",
              "      <td>0</td>\n",
              "      <td>0.000000</td>\n",
              "      <td>8</td>\n",
              "      <td>int64</td>\n",
              "    </tr>\n",
              "    <tr>\n",
              "      <th>24</th>\n",
              "      <td>shipping_is_express</td>\n",
              "      <td>0</td>\n",
              "      <td>0.000000</td>\n",
              "      <td>1569</td>\n",
              "      <td>0.997457</td>\n",
              "      <td>2</td>\n",
              "      <td>int64</td>\n",
              "    </tr>\n",
              "    <tr>\n",
              "      <th>25</th>\n",
              "      <td>countries_shipped_to</td>\n",
              "      <td>0</td>\n",
              "      <td>0.000000</td>\n",
              "      <td>0</td>\n",
              "      <td>0.000000</td>\n",
              "      <td>94</td>\n",
              "      <td>int64</td>\n",
              "    </tr>\n",
              "    <tr>\n",
              "      <th>26</th>\n",
              "      <td>inventory_total</td>\n",
              "      <td>0</td>\n",
              "      <td>0.000000</td>\n",
              "      <td>0</td>\n",
              "      <td>0.000000</td>\n",
              "      <td>10</td>\n",
              "      <td>int64</td>\n",
              "    </tr>\n",
              "    <tr>\n",
              "      <th>27</th>\n",
              "      <td>has_urgency_banner</td>\n",
              "      <td>1100</td>\n",
              "      <td>0.699301</td>\n",
              "      <td>0</td>\n",
              "      <td>0.000000</td>\n",
              "      <td>1</td>\n",
              "      <td>float64</td>\n",
              "    </tr>\n",
              "    <tr>\n",
              "      <th>28</th>\n",
              "      <td>urgency_text</td>\n",
              "      <td>1100</td>\n",
              "      <td>0.699301</td>\n",
              "      <td>0</td>\n",
              "      <td>0.000000</td>\n",
              "      <td>2</td>\n",
              "      <td>object</td>\n",
              "    </tr>\n",
              "    <tr>\n",
              "      <th>29</th>\n",
              "      <td>origin_country</td>\n",
              "      <td>17</td>\n",
              "      <td>0.010807</td>\n",
              "      <td>0</td>\n",
              "      <td>0.000000</td>\n",
              "      <td>6</td>\n",
              "      <td>object</td>\n",
              "    </tr>\n",
              "    <tr>\n",
              "      <th>30</th>\n",
              "      <td>merchant_title</td>\n",
              "      <td>0</td>\n",
              "      <td>0.000000</td>\n",
              "      <td>0</td>\n",
              "      <td>0.000000</td>\n",
              "      <td>958</td>\n",
              "      <td>object</td>\n",
              "    </tr>\n",
              "    <tr>\n",
              "      <th>31</th>\n",
              "      <td>merchant_name</td>\n",
              "      <td>4</td>\n",
              "      <td>0.002543</td>\n",
              "      <td>0</td>\n",
              "      <td>0.000000</td>\n",
              "      <td>957</td>\n",
              "      <td>object</td>\n",
              "    </tr>\n",
              "    <tr>\n",
              "      <th>32</th>\n",
              "      <td>merchant_info_subtitle</td>\n",
              "      <td>1</td>\n",
              "      <td>0.000636</td>\n",
              "      <td>0</td>\n",
              "      <td>0.000000</td>\n",
              "      <td>1058</td>\n",
              "      <td>object</td>\n",
              "    </tr>\n",
              "    <tr>\n",
              "      <th>33</th>\n",
              "      <td>merchant_rating_count</td>\n",
              "      <td>0</td>\n",
              "      <td>0.000000</td>\n",
              "      <td>1</td>\n",
              "      <td>0.000636</td>\n",
              "      <td>917</td>\n",
              "      <td>int64</td>\n",
              "    </tr>\n",
              "    <tr>\n",
              "      <th>34</th>\n",
              "      <td>merchant_rating</td>\n",
              "      <td>0</td>\n",
              "      <td>0.000000</td>\n",
              "      <td>0</td>\n",
              "      <td>0.000000</td>\n",
              "      <td>952</td>\n",
              "      <td>float64</td>\n",
              "    </tr>\n",
              "    <tr>\n",
              "      <th>35</th>\n",
              "      <td>merchant_id</td>\n",
              "      <td>0</td>\n",
              "      <td>0.000000</td>\n",
              "      <td>0</td>\n",
              "      <td>0.000000</td>\n",
              "      <td>958</td>\n",
              "      <td>object</td>\n",
              "    </tr>\n",
              "    <tr>\n",
              "      <th>36</th>\n",
              "      <td>merchant_has_profile_picture</td>\n",
              "      <td>0</td>\n",
              "      <td>0.000000</td>\n",
              "      <td>1347</td>\n",
              "      <td>0.856325</td>\n",
              "      <td>2</td>\n",
              "      <td>int64</td>\n",
              "    </tr>\n",
              "    <tr>\n",
              "      <th>37</th>\n",
              "      <td>merchant_profile_picture</td>\n",
              "      <td>1347</td>\n",
              "      <td>0.856325</td>\n",
              "      <td>0</td>\n",
              "      <td>0.000000</td>\n",
              "      <td>125</td>\n",
              "      <td>object</td>\n",
              "    </tr>\n",
              "    <tr>\n",
              "      <th>38</th>\n",
              "      <td>product_url</td>\n",
              "      <td>0</td>\n",
              "      <td>0.000000</td>\n",
              "      <td>0</td>\n",
              "      <td>0.000000</td>\n",
              "      <td>1341</td>\n",
              "      <td>object</td>\n",
              "    </tr>\n",
              "    <tr>\n",
              "      <th>39</th>\n",
              "      <td>product_picture</td>\n",
              "      <td>0</td>\n",
              "      <td>0.000000</td>\n",
              "      <td>0</td>\n",
              "      <td>0.000000</td>\n",
              "      <td>1341</td>\n",
              "      <td>object</td>\n",
              "    </tr>\n",
              "    <tr>\n",
              "      <th>40</th>\n",
              "      <td>product_id</td>\n",
              "      <td>0</td>\n",
              "      <td>0.000000</td>\n",
              "      <td>0</td>\n",
              "      <td>0.000000</td>\n",
              "      <td>1341</td>\n",
              "      <td>object</td>\n",
              "    </tr>\n",
              "    <tr>\n",
              "      <th>41</th>\n",
              "      <td>theme</td>\n",
              "      <td>0</td>\n",
              "      <td>0.000000</td>\n",
              "      <td>0</td>\n",
              "      <td>0.000000</td>\n",
              "      <td>1</td>\n",
              "      <td>object</td>\n",
              "    </tr>\n",
              "    <tr>\n",
              "      <th>42</th>\n",
              "      <td>crawl_month</td>\n",
              "      <td>0</td>\n",
              "      <td>0.000000</td>\n",
              "      <td>0</td>\n",
              "      <td>0.000000</td>\n",
              "      <td>1</td>\n",
              "      <td>object</td>\n",
              "    </tr>\n",
              "  </tbody>\n",
              "</table>\n",
              "</div>"
            ],
            "text/plain": [
              "                        variable  q_nan     p_nan  ...   p_zeros  unique     type\n",
              "0                          title      0  0.000000  ...  0.000000    1201   object\n",
              "1                     title_orig      0  0.000000  ...  0.000000    1203   object\n",
              "2                          price      0  0.000000  ...  0.000000     127  float64\n",
              "3                   retail_price      0  0.000000  ...  0.000000     104    int64\n",
              "4                 currency_buyer      0  0.000000  ...  0.000000       1   object\n",
              "5                     units_sold      0  0.000000  ...  0.000000      15    int64\n",
              "6                 uses_ad_boosts      0  0.000000  ...  0.567069       2    int64\n",
              "7                         rating      0  0.000000  ...  0.000000     192  float64\n",
              "8                   rating_count      0  0.000000  ...  0.028608     761    int64\n",
              "9              rating_five_count     45  0.028608  ...  0.019708     605  float64\n",
              "10             rating_four_count     45  0.028608  ...  0.061030     440  float64\n",
              "11            rating_three_count     45  0.028608  ...  0.087730     384  float64\n",
              "12              rating_two_count     45  0.028608  ...  0.124603     262  float64\n",
              "13              rating_one_count     45  0.028608  ...  0.073744     330  float64\n",
              "14                  badges_count      0  0.000000  ...  0.904005       4    int64\n",
              "15           badge_local_product      0  0.000000  ...  0.981564       2    int64\n",
              "16         badge_product_quality      0  0.000000  ...  0.925620       2    int64\n",
              "17           badge_fast_shipping      0  0.000000  ...  0.987285       2    int64\n",
              "18                          tags      0  0.000000  ...  0.000000    1230   object\n",
              "19                 product_color     41  0.026065  ...  0.000000     101   object\n",
              "20     product_variation_size_id     14  0.008900  ...  0.000000     106   object\n",
              "21   product_variation_inventory      0  0.000000  ...  0.000000      48    int64\n",
              "22          shipping_option_name      0  0.000000  ...  0.000000      15   object\n",
              "23         shipping_option_price      0  0.000000  ...  0.000000       8    int64\n",
              "24           shipping_is_express      0  0.000000  ...  0.997457       2    int64\n",
              "25          countries_shipped_to      0  0.000000  ...  0.000000      94    int64\n",
              "26               inventory_total      0  0.000000  ...  0.000000      10    int64\n",
              "27            has_urgency_banner   1100  0.699301  ...  0.000000       1  float64\n",
              "28                  urgency_text   1100  0.699301  ...  0.000000       2   object\n",
              "29                origin_country     17  0.010807  ...  0.000000       6   object\n",
              "30                merchant_title      0  0.000000  ...  0.000000     958   object\n",
              "31                 merchant_name      4  0.002543  ...  0.000000     957   object\n",
              "32        merchant_info_subtitle      1  0.000636  ...  0.000000    1058   object\n",
              "33         merchant_rating_count      0  0.000000  ...  0.000636     917    int64\n",
              "34               merchant_rating      0  0.000000  ...  0.000000     952  float64\n",
              "35                   merchant_id      0  0.000000  ...  0.000000     958   object\n",
              "36  merchant_has_profile_picture      0  0.000000  ...  0.856325       2    int64\n",
              "37      merchant_profile_picture   1347  0.856325  ...  0.000000     125   object\n",
              "38                   product_url      0  0.000000  ...  0.000000    1341   object\n",
              "39               product_picture      0  0.000000  ...  0.000000    1341   object\n",
              "40                    product_id      0  0.000000  ...  0.000000    1341   object\n",
              "41                         theme      0  0.000000  ...  0.000000       1   object\n",
              "42                   crawl_month      0  0.000000  ...  0.000000       1   object\n",
              "\n",
              "[43 rows x 7 columns]"
            ]
          },
          "metadata": {
            "tags": []
          },
          "execution_count": 9
        },
        {
          "output_type": "stream",
          "text": [
            "time: 65.4 ms (started: 2021-01-04 20:22:01 +00:00)\n"
          ],
          "name": "stdout"
        }
      ]
    },
    {
      "cell_type": "code",
      "metadata": {
        "id": "kIMsyNbgI0z6",
        "colab": {
          "base_uri": "https://localhost:8080/"
        },
        "outputId": "2c3d70d8-7fcb-4dbe-ac60-9b3241a88c5e"
      },
      "source": [
        "# Generación de la variable de salida: se define a la variable de salida como el producto entre las unidades vendidas \n",
        "# y el precio de las mismas\n",
        "data_reg = data.copy()\n",
        "data_reg['income'] = data_reg['units_sold'] * data_reg['price']"
      ],
      "execution_count": null,
      "outputs": [
        {
          "output_type": "stream",
          "text": [
            "time: 3.76 ms (started: 2021-01-04 20:22:03 +00:00)\n"
          ],
          "name": "stdout"
        }
      ]
    },
    {
      "cell_type": "code",
      "metadata": {
        "id": "oIKy8MHPLmMF",
        "colab": {
          "base_uri": "https://localhost:8080/",
          "height": 313
        },
        "outputId": "6296f873-aa67-4dd2-8937-42e908eb7414"
      },
      "source": [
        "# Histograma de la variable de salida:\n",
        "# Mediante el histograma de las variables que conforman a la variable de salida y de ella en si misma, notamos que estamos frente \n",
        "# a un dataset muy sesgado, donde los valores más extremos podrían ser considerados como outliers. Podemos observar también que la \n",
        "# variable 'units_sold' no presenta uan distribución continua.\n",
        "fig, ax_var = plt.subplots(nrows=1, ncols=3, figsize=(18, 4))\n",
        "var_list = ['income', 'price', 'units_sold']\n",
        "i=0\n",
        "for ax in ax_var:\n",
        "    n, bins, patches = ax.hist(data_reg[var_list[i]], bins=50)\n",
        "    ax.set_title(var_list[i])\n",
        "    cm = plt.cm.RdYlBu_r\n",
        "    for j, p in enumerate(patches):\n",
        "        plt.setp(p, 'facecolor', cm(j/20))\n",
        "    i = i+1"
      ],
      "execution_count": null,
      "outputs": [
        {
          "output_type": "display_data",
          "data": {
            "image/png": "[encoded data removed]",
            "text/plain": [
              "<Figure size 1296x288 with 3 Axes>"
            ]
          },
          "metadata": {
            "tags": [],
            "needs_background": "light"
          }
        },
        {
          "output_type": "stream",
          "text": [
            "time: 851 ms (started: 2021-01-04 20:22:04 +00:00)\n"
          ],
          "name": "stdout"
        }
      ]
    },
    {
      "cell_type": "code",
      "metadata": {
        "id": "JNpS_VdiQ0ot",
        "colab": {
          "base_uri": "https://localhost:8080/"
        },
        "outputId": "e8e27b04-e7fd-43a7-8b1b-40e7fcad5e11"
      },
      "source": [
        "# Correlación de la salida con las distintas variables:\n",
        "# De la correlación obtenemos una idea de cuales features presentan una correlación de tipo lineal con salida. \n",
        "# En este caso particular observamos que tanto las unidades vendidas como los distintos ratings muestran una correlación lineal.\n",
        "# Podría considerarse eliminar las features que presentan un valor cercano a cero de correlación. Para este caso particular preferimos\n",
        "# conservarlas con el supuesto de que la relación que presentan es mas bien no lineal y que su eliminación podría conllevar a una pérdida \n",
        "# de información.\n",
        "corr_matrix = data_reg.corr()\n",
        "corr_matrix['income'].sort_values(ascending=False)"
      ],
      "execution_count": null,
      "outputs": [
        {
          "output_type": "execute_result",
          "data": {
            "text/plain": [
              "income                          1.000000\n",
              "units_sold                      0.913674\n",
              "rating_count                    0.834427\n",
              "rating_four_count               0.830484\n",
              "rating_three_count              0.819853\n",
              "rating_five_count               0.811791\n",
              "rating_two_count                0.797720\n",
              "rating_one_count                0.784595\n",
              "merchant_rating_count           0.243517\n",
              "product_variation_inventory     0.161312\n",
              "merchant_has_profile_picture    0.160269\n",
              "merchant_rating                 0.139952\n",
              "price                           0.137973\n",
              "shipping_option_price           0.115283\n",
              "badge_product_quality           0.081479\n",
              "retail_price                    0.072850\n",
              "badges_count                    0.067883\n",
              "rating                          0.042980\n",
              "badge_local_product             0.009814\n",
              "badge_fast_shipping             0.003764\n",
              "inventory_total                -0.004891\n",
              "shipping_is_express            -0.010280\n",
              "uses_ad_boosts                 -0.011291\n",
              "countries_shipped_to           -0.026730\n",
              "has_urgency_banner                   NaN\n",
              "Name: income, dtype: float64"
            ]
          },
          "metadata": {
            "tags": []
          },
          "execution_count": 12
        },
        {
          "output_type": "stream",
          "text": [
            "time: 15.7 ms (started: 2021-01-04 20:22:06 +00:00)\n"
          ],
          "name": "stdout"
        }
      ]
    },
    {
      "cell_type": "markdown",
      "metadata": {
        "id": "q3nx7X9D7QAw"
      },
      "source": [
        "## Análisis como un problema de regresión"
      ]
    },
    {
      "cell_type": "markdown",
      "metadata": {
        "id": "7ONj-G3NyFjR"
      },
      "source": [
        "#### Ingeniería de Features\n",
        "\n"
      ]
    },
    {
      "cell_type": "code",
      "metadata": {
        "id": "QJmtape85FsK",
        "colab": {
          "base_uri": "https://localhost:8080/"
        },
        "outputId": "7fff5a20-4bd4-4640-f709-c4b548955244"
      },
      "source": [
        "# Precio: \n",
        "# Al observarse la baja proporción de casos con precio mayor a 20 (<1%) se procede a eliminar las intancias correspondientes del dataset\n",
        "print('Precio mayor o igual a 20{}'.format(data_reg[data_reg['price'] >= 20].shape))\n",
        "print('Precio menor a 20{}'.format(data_reg[data_reg['price'] < 20].shape))\n",
        "\n",
        "data_reg_lim = data_reg[data_reg['price'] < 20]"
      ],
      "execution_count": null,
      "outputs": [
        {
          "output_type": "stream",
          "text": [
            "Precio mayor o igual a 20(13, 44)\n",
            "Precio menor a 20(1560, 44)\n",
            "time: 8.03 ms (started: 2021-01-04 20:22:09 +00:00)\n"
          ],
          "name": "stdout"
        }
      ]
    },
    {
      "cell_type": "code",
      "metadata": {
        "id": "USbL87406L8F",
        "colab": {
          "base_uri": "https://localhost:8080/",
          "height": 313
        },
        "outputId": "efbe583c-8ef8-41a7-82b8-b71e7bbc2138"
      },
      "source": [
        "# Histograma de la variable de salida con precios menores a 20\n",
        "fig, ax_var = plt.subplots(nrows=1, ncols=3, figsize=(18, 4))\n",
        "var_list = ['income', 'price', 'units_sold']\n",
        "i=0\n",
        "for ax in ax_var:\n",
        "    n, bins, patches = ax.hist(data_reg_lim[var_list[i]], bins=50)\n",
        "    ax.set_title(var_list[i])\n",
        "    cm = plt.cm.RdYlBu_r\n",
        "    for j, p in enumerate(patches):\n",
        "        plt.setp(p, 'facecolor', cm(j/20))\n",
        "    i = i+1\n"
      ],
      "execution_count": null,
      "outputs": [
        {
          "output_type": "display_data",
          "data": {
            "image/png": "[encoded data removed]",
            "text/plain": [
              "<Figure size 1296x288 with 3 Axes>"
            ]
          },
          "metadata": {
            "tags": [],
            "needs_background": "light"
          }
        },
        {
          "output_type": "stream",
          "text": [
            "time: 733 ms (started: 2021-01-04 20:22:11 +00:00)\n"
          ],
          "name": "stdout"
        }
      ]
    },
    {
      "cell_type": "code",
      "metadata": {
        "id": "Hddtg9lfs-Zm",
        "colab": {
          "base_uri": "https://localhost:8080/"
        },
        "outputId": "9de903b7-a486-4f23-b30d-a123023080cb"
      },
      "source": [
        "# Unidades vendidas: \n",
        "# Al observarse la baja proporición de casos con unidades vendidas mayor a 50000 (<2%) se procede a eliminar las intancias correspondientes del dataset\n",
        "print('Unidades vendidas mayor o igual a 50000{}'.format(data_reg[data_reg['units_sold'] >= 50000].shape))\n",
        "print('Unidades vendidas menor a 50000{}'.format(data_reg[data_reg['units_sold'] < 50000].shape))\n",
        "\n",
        "data_reg_lim = data_reg_lim[data_reg_lim['units_sold'] < 50000]"
      ],
      "execution_count": null,
      "outputs": [
        {
          "output_type": "stream",
          "text": [
            "Unidades vendidas mayor o igual a 50000(23, 44)\n",
            "Unidades vendidas menor a 50000(1550, 44)\n",
            "time: 13.2 ms (started: 2021-01-04 20:22:14 +00:00)\n"
          ],
          "name": "stdout"
        }
      ]
    },
    {
      "cell_type": "code",
      "metadata": {
        "id": "EeYs2iAybFHM",
        "colab": {
          "base_uri": "https://localhost:8080/",
          "height": 313
        },
        "outputId": "07a5b94f-17dd-47e0-c5e7-fe1d1b51779d"
      },
      "source": [
        "# Histograma de la variable de salida con precios unidades vendidas menores a 50000\n",
        "fig, ax_var = plt.subplots(nrows=1, ncols=3, figsize=(18, 4))\n",
        "var_list = ['income', 'price', 'units_sold']\n",
        "i=0\n",
        "for ax in ax_var:\n",
        "    n, bins, patches = ax.hist(data_reg_lim[var_list[i]], bins=50)\n",
        "    ax.set_title(var_list[i])\n",
        "    cm = plt.cm.RdYlBu_r\n",
        "    for j, p in enumerate(patches):\n",
        "        plt.setp(p, 'facecolor', cm(j/20))\n",
        "    i = i+1"
      ],
      "execution_count": null,
      "outputs": [
        {
          "output_type": "display_data",
          "data": {
            "image/png": "[encoded data removed]",
            "text/plain": [
              "<Figure size 1296x288 with 3 Axes>"
            ]
          },
          "metadata": {
            "tags": [],
            "needs_background": "light"
          }
        },
        {
          "output_type": "stream",
          "text": [
            "time: 719 ms (started: 2021-01-04 20:22:14 +00:00)\n"
          ],
          "name": "stdout"
        }
      ]
    },
    {
      "cell_type": "code",
      "metadata": {
        "id": "ioH-sd01P2Vt",
        "colab": {
          "base_uri": "https://localhost:8080/",
          "height": 1000
        },
        "outputId": "dd5c3c2b-a068-4d70-e7ac-fd5f9db0bb8a"
      },
      "source": [
        "# Eliminamos todas la features con unique = 1, ya que no agregarán información extra\n",
        "# para la predicción de la salida\n",
        "data_reg_lim = data_reg_lim.loc[:, data_reg_lim.nunique() > 1]\n",
        "status(data_reg_lim)"
      ],
      "execution_count": null,
      "outputs": [
        {
          "output_type": "execute_result",
          "data": {
            "text/html": [
              "<div>\n",
              "<style scoped>\n",
              "    .dataframe tbody tr th:only-of-type {\n",
              "        vertical-align: middle;\n",
              "    }\n",
              "\n",
              "    .dataframe tbody tr th {\n",
              "        vertical-align: top;\n",
              "    }\n",
              "\n",
              "    .dataframe thead th {\n",
              "        text-align: right;\n",
              "    }\n",
              "</style>\n",
              "<table border=\"1\" class=\"dataframe\">\n",
              "  <thead>\n",
              "    <tr style=\"text-align: right;\">\n",
              "      <th></th>\n",
              "      <th>variable</th>\n",
              "      <th>q_nan</th>\n",
              "      <th>p_nan</th>\n",
              "      <th>q_zeros</th>\n",
              "      <th>p_zeros</th>\n",
              "      <th>unique</th>\n",
              "      <th>type</th>\n",
              "    </tr>\n",
              "  </thead>\n",
              "  <tbody>\n",
              "    <tr>\n",
              "      <th>0</th>\n",
              "      <td>title</td>\n",
              "      <td>0</td>\n",
              "      <td>0.000000</td>\n",
              "      <td>0</td>\n",
              "      <td>0.000000</td>\n",
              "      <td>1167</td>\n",
              "      <td>object</td>\n",
              "    </tr>\n",
              "    <tr>\n",
              "      <th>1</th>\n",
              "      <td>title_orig</td>\n",
              "      <td>0</td>\n",
              "      <td>0.000000</td>\n",
              "      <td>0</td>\n",
              "      <td>0.000000</td>\n",
              "      <td>1168</td>\n",
              "      <td>object</td>\n",
              "    </tr>\n",
              "    <tr>\n",
              "      <th>2</th>\n",
              "      <td>price</td>\n",
              "      <td>0</td>\n",
              "      <td>0.000000</td>\n",
              "      <td>0</td>\n",
              "      <td>0.000000</td>\n",
              "      <td>118</td>\n",
              "      <td>float64</td>\n",
              "    </tr>\n",
              "    <tr>\n",
              "      <th>3</th>\n",
              "      <td>retail_price</td>\n",
              "      <td>0</td>\n",
              "      <td>0.000000</td>\n",
              "      <td>0</td>\n",
              "      <td>0.000000</td>\n",
              "      <td>103</td>\n",
              "      <td>int64</td>\n",
              "    </tr>\n",
              "    <tr>\n",
              "      <th>4</th>\n",
              "      <td>units_sold</td>\n",
              "      <td>0</td>\n",
              "      <td>0.000000</td>\n",
              "      <td>0</td>\n",
              "      <td>0.000000</td>\n",
              "      <td>13</td>\n",
              "      <td>int64</td>\n",
              "    </tr>\n",
              "    <tr>\n",
              "      <th>5</th>\n",
              "      <td>uses_ad_boosts</td>\n",
              "      <td>0</td>\n",
              "      <td>0.000000</td>\n",
              "      <td>871</td>\n",
              "      <td>0.566688</td>\n",
              "      <td>2</td>\n",
              "      <td>int64</td>\n",
              "    </tr>\n",
              "    <tr>\n",
              "      <th>6</th>\n",
              "      <td>rating</td>\n",
              "      <td>0</td>\n",
              "      <td>0.000000</td>\n",
              "      <td>0</td>\n",
              "      <td>0.000000</td>\n",
              "      <td>191</td>\n",
              "      <td>float64</td>\n",
              "    </tr>\n",
              "    <tr>\n",
              "      <th>7</th>\n",
              "      <td>rating_count</td>\n",
              "      <td>0</td>\n",
              "      <td>0.000000</td>\n",
              "      <td>45</td>\n",
              "      <td>0.029278</td>\n",
              "      <td>736</td>\n",
              "      <td>int64</td>\n",
              "    </tr>\n",
              "    <tr>\n",
              "      <th>8</th>\n",
              "      <td>rating_five_count</td>\n",
              "      <td>45</td>\n",
              "      <td>0.029278</td>\n",
              "      <td>31</td>\n",
              "      <td>0.020169</td>\n",
              "      <td>580</td>\n",
              "      <td>float64</td>\n",
              "    </tr>\n",
              "    <tr>\n",
              "      <th>9</th>\n",
              "      <td>rating_four_count</td>\n",
              "      <td>45</td>\n",
              "      <td>0.029278</td>\n",
              "      <td>96</td>\n",
              "      <td>0.062459</td>\n",
              "      <td>417</td>\n",
              "      <td>float64</td>\n",
              "    </tr>\n",
              "    <tr>\n",
              "      <th>10</th>\n",
              "      <td>rating_three_count</td>\n",
              "      <td>45</td>\n",
              "      <td>0.029278</td>\n",
              "      <td>137</td>\n",
              "      <td>0.089135</td>\n",
              "      <td>361</td>\n",
              "      <td>float64</td>\n",
              "    </tr>\n",
              "    <tr>\n",
              "      <th>11</th>\n",
              "      <td>rating_two_count</td>\n",
              "      <td>45</td>\n",
              "      <td>0.029278</td>\n",
              "      <td>191</td>\n",
              "      <td>0.124268</td>\n",
              "      <td>241</td>\n",
              "      <td>float64</td>\n",
              "    </tr>\n",
              "    <tr>\n",
              "      <th>12</th>\n",
              "      <td>rating_one_count</td>\n",
              "      <td>45</td>\n",
              "      <td>0.029278</td>\n",
              "      <td>114</td>\n",
              "      <td>0.074170</td>\n",
              "      <td>309</td>\n",
              "      <td>float64</td>\n",
              "    </tr>\n",
              "    <tr>\n",
              "      <th>13</th>\n",
              "      <td>badges_count</td>\n",
              "      <td>0</td>\n",
              "      <td>0.000000</td>\n",
              "      <td>1391</td>\n",
              "      <td>0.905010</td>\n",
              "      <td>4</td>\n",
              "      <td>int64</td>\n",
              "    </tr>\n",
              "    <tr>\n",
              "      <th>14</th>\n",
              "      <td>badge_local_product</td>\n",
              "      <td>0</td>\n",
              "      <td>0.000000</td>\n",
              "      <td>1508</td>\n",
              "      <td>0.981132</td>\n",
              "      <td>2</td>\n",
              "      <td>int64</td>\n",
              "    </tr>\n",
              "    <tr>\n",
              "      <th>15</th>\n",
              "      <td>badge_product_quality</td>\n",
              "      <td>0</td>\n",
              "      <td>0.000000</td>\n",
              "      <td>1423</td>\n",
              "      <td>0.925830</td>\n",
              "      <td>2</td>\n",
              "      <td>int64</td>\n",
              "    </tr>\n",
              "    <tr>\n",
              "      <th>16</th>\n",
              "      <td>badge_fast_shipping</td>\n",
              "      <td>0</td>\n",
              "      <td>0.000000</td>\n",
              "      <td>1519</td>\n",
              "      <td>0.988289</td>\n",
              "      <td>2</td>\n",
              "      <td>int64</td>\n",
              "    </tr>\n",
              "    <tr>\n",
              "      <th>17</th>\n",
              "      <td>tags</td>\n",
              "      <td>0</td>\n",
              "      <td>0.000000</td>\n",
              "      <td>0</td>\n",
              "      <td>0.000000</td>\n",
              "      <td>1196</td>\n",
              "      <td>object</td>\n",
              "    </tr>\n",
              "    <tr>\n",
              "      <th>18</th>\n",
              "      <td>product_color</td>\n",
              "      <td>38</td>\n",
              "      <td>0.024723</td>\n",
              "      <td>0</td>\n",
              "      <td>0.000000</td>\n",
              "      <td>96</td>\n",
              "      <td>object</td>\n",
              "    </tr>\n",
              "    <tr>\n",
              "      <th>19</th>\n",
              "      <td>product_variation_size_id</td>\n",
              "      <td>13</td>\n",
              "      <td>0.008458</td>\n",
              "      <td>0</td>\n",
              "      <td>0.000000</td>\n",
              "      <td>104</td>\n",
              "      <td>object</td>\n",
              "    </tr>\n",
              "    <tr>\n",
              "      <th>20</th>\n",
              "      <td>product_variation_inventory</td>\n",
              "      <td>0</td>\n",
              "      <td>0.000000</td>\n",
              "      <td>0</td>\n",
              "      <td>0.000000</td>\n",
              "      <td>48</td>\n",
              "      <td>int64</td>\n",
              "    </tr>\n",
              "    <tr>\n",
              "      <th>21</th>\n",
              "      <td>shipping_option_name</td>\n",
              "      <td>0</td>\n",
              "      <td>0.000000</td>\n",
              "      <td>0</td>\n",
              "      <td>0.000000</td>\n",
              "      <td>15</td>\n",
              "      <td>object</td>\n",
              "    </tr>\n",
              "    <tr>\n",
              "      <th>22</th>\n",
              "      <td>shipping_option_price</td>\n",
              "      <td>0</td>\n",
              "      <td>0.000000</td>\n",
              "      <td>0</td>\n",
              "      <td>0.000000</td>\n",
              "      <td>7</td>\n",
              "      <td>int64</td>\n",
              "    </tr>\n",
              "    <tr>\n",
              "      <th>23</th>\n",
              "      <td>shipping_is_express</td>\n",
              "      <td>0</td>\n",
              "      <td>0.000000</td>\n",
              "      <td>1534</td>\n",
              "      <td>0.998048</td>\n",
              "      <td>2</td>\n",
              "      <td>int64</td>\n",
              "    </tr>\n",
              "    <tr>\n",
              "      <th>24</th>\n",
              "      <td>countries_shipped_to</td>\n",
              "      <td>0</td>\n",
              "      <td>0.000000</td>\n",
              "      <td>0</td>\n",
              "      <td>0.000000</td>\n",
              "      <td>93</td>\n",
              "      <td>int64</td>\n",
              "    </tr>\n",
              "    <tr>\n",
              "      <th>25</th>\n",
              "      <td>inventory_total</td>\n",
              "      <td>0</td>\n",
              "      <td>0.000000</td>\n",
              "      <td>0</td>\n",
              "      <td>0.000000</td>\n",
              "      <td>9</td>\n",
              "      <td>int64</td>\n",
              "    </tr>\n",
              "    <tr>\n",
              "      <th>26</th>\n",
              "      <td>urgency_text</td>\n",
              "      <td>1071</td>\n",
              "      <td>0.696812</td>\n",
              "      <td>0</td>\n",
              "      <td>0.000000</td>\n",
              "      <td>2</td>\n",
              "      <td>object</td>\n",
              "    </tr>\n",
              "    <tr>\n",
              "      <th>27</th>\n",
              "      <td>origin_country</td>\n",
              "      <td>16</td>\n",
              "      <td>0.010410</td>\n",
              "      <td>0</td>\n",
              "      <td>0.000000</td>\n",
              "      <td>6</td>\n",
              "      <td>object</td>\n",
              "    </tr>\n",
              "    <tr>\n",
              "      <th>28</th>\n",
              "      <td>merchant_title</td>\n",
              "      <td>0</td>\n",
              "      <td>0.000000</td>\n",
              "      <td>0</td>\n",
              "      <td>0.000000</td>\n",
              "      <td>935</td>\n",
              "      <td>object</td>\n",
              "    </tr>\n",
              "    <tr>\n",
              "      <th>29</th>\n",
              "      <td>merchant_name</td>\n",
              "      <td>4</td>\n",
              "      <td>0.002602</td>\n",
              "      <td>0</td>\n",
              "      <td>0.000000</td>\n",
              "      <td>934</td>\n",
              "      <td>object</td>\n",
              "    </tr>\n",
              "    <tr>\n",
              "      <th>30</th>\n",
              "      <td>merchant_info_subtitle</td>\n",
              "      <td>1</td>\n",
              "      <td>0.000651</td>\n",
              "      <td>0</td>\n",
              "      <td>0.000000</td>\n",
              "      <td>1032</td>\n",
              "      <td>object</td>\n",
              "    </tr>\n",
              "    <tr>\n",
              "      <th>31</th>\n",
              "      <td>merchant_rating_count</td>\n",
              "      <td>0</td>\n",
              "      <td>0.000000</td>\n",
              "      <td>1</td>\n",
              "      <td>0.000651</td>\n",
              "      <td>895</td>\n",
              "      <td>int64</td>\n",
              "    </tr>\n",
              "    <tr>\n",
              "      <th>32</th>\n",
              "      <td>merchant_rating</td>\n",
              "      <td>0</td>\n",
              "      <td>0.000000</td>\n",
              "      <td>0</td>\n",
              "      <td>0.000000</td>\n",
              "      <td>929</td>\n",
              "      <td>float64</td>\n",
              "    </tr>\n",
              "    <tr>\n",
              "      <th>33</th>\n",
              "      <td>merchant_id</td>\n",
              "      <td>0</td>\n",
              "      <td>0.000000</td>\n",
              "      <td>0</td>\n",
              "      <td>0.000000</td>\n",
              "      <td>935</td>\n",
              "      <td>object</td>\n",
              "    </tr>\n",
              "    <tr>\n",
              "      <th>34</th>\n",
              "      <td>merchant_has_profile_picture</td>\n",
              "      <td>0</td>\n",
              "      <td>0.000000</td>\n",
              "      <td>1321</td>\n",
              "      <td>0.859466</td>\n",
              "      <td>2</td>\n",
              "      <td>int64</td>\n",
              "    </tr>\n",
              "    <tr>\n",
              "      <th>35</th>\n",
              "      <td>merchant_profile_picture</td>\n",
              "      <td>1321</td>\n",
              "      <td>0.859466</td>\n",
              "      <td>0</td>\n",
              "      <td>0.000000</td>\n",
              "      <td>120</td>\n",
              "      <td>object</td>\n",
              "    </tr>\n",
              "    <tr>\n",
              "      <th>36</th>\n",
              "      <td>product_url</td>\n",
              "      <td>0</td>\n",
              "      <td>0.000000</td>\n",
              "      <td>0</td>\n",
              "      <td>0.000000</td>\n",
              "      <td>1306</td>\n",
              "      <td>object</td>\n",
              "    </tr>\n",
              "    <tr>\n",
              "      <th>37</th>\n",
              "      <td>product_picture</td>\n",
              "      <td>0</td>\n",
              "      <td>0.000000</td>\n",
              "      <td>0</td>\n",
              "      <td>0.000000</td>\n",
              "      <td>1306</td>\n",
              "      <td>object</td>\n",
              "    </tr>\n",
              "    <tr>\n",
              "      <th>38</th>\n",
              "      <td>product_id</td>\n",
              "      <td>0</td>\n",
              "      <td>0.000000</td>\n",
              "      <td>0</td>\n",
              "      <td>0.000000</td>\n",
              "      <td>1306</td>\n",
              "      <td>object</td>\n",
              "    </tr>\n",
              "    <tr>\n",
              "      <th>39</th>\n",
              "      <td>income</td>\n",
              "      <td>0</td>\n",
              "      <td>0.000000</td>\n",
              "      <td>0</td>\n",
              "      <td>0.000000</td>\n",
              "      <td>271</td>\n",
              "      <td>float64</td>\n",
              "    </tr>\n",
              "  </tbody>\n",
              "</table>\n",
              "</div>"
            ],
            "text/plain": [
              "                        variable  q_nan     p_nan  ...   p_zeros  unique     type\n",
              "0                          title      0  0.000000  ...  0.000000    1167   object\n",
              "1                     title_orig      0  0.000000  ...  0.000000    1168   object\n",
              "2                          price      0  0.000000  ...  0.000000     118  float64\n",
              "3                   retail_price      0  0.000000  ...  0.000000     103    int64\n",
              "4                     units_sold      0  0.000000  ...  0.000000      13    int64\n",
              "5                 uses_ad_boosts      0  0.000000  ...  0.566688       2    int64\n",
              "6                         rating      0  0.000000  ...  0.000000     191  float64\n",
              "7                   rating_count      0  0.000000  ...  0.029278     736    int64\n",
              "8              rating_five_count     45  0.029278  ...  0.020169     580  float64\n",
              "9              rating_four_count     45  0.029278  ...  0.062459     417  float64\n",
              "10            rating_three_count     45  0.029278  ...  0.089135     361  float64\n",
              "11              rating_two_count     45  0.029278  ...  0.124268     241  float64\n",
              "12              rating_one_count     45  0.029278  ...  0.074170     309  float64\n",
              "13                  badges_count      0  0.000000  ...  0.905010       4    int64\n",
              "14           badge_local_product      0  0.000000  ...  0.981132       2    int64\n",
              "15         badge_product_quality      0  0.000000  ...  0.925830       2    int64\n",
              "16           badge_fast_shipping      0  0.000000  ...  0.988289       2    int64\n",
              "17                          tags      0  0.000000  ...  0.000000    1196   object\n",
              "18                 product_color     38  0.024723  ...  0.000000      96   object\n",
              "19     product_variation_size_id     13  0.008458  ...  0.000000     104   object\n",
              "20   product_variation_inventory      0  0.000000  ...  0.000000      48    int64\n",
              "21          shipping_option_name      0  0.000000  ...  0.000000      15   object\n",
              "22         shipping_option_price      0  0.000000  ...  0.000000       7    int64\n",
              "23           shipping_is_express      0  0.000000  ...  0.998048       2    int64\n",
              "24          countries_shipped_to      0  0.000000  ...  0.000000      93    int64\n",
              "25               inventory_total      0  0.000000  ...  0.000000       9    int64\n",
              "26                  urgency_text   1071  0.696812  ...  0.000000       2   object\n",
              "27                origin_country     16  0.010410  ...  0.000000       6   object\n",
              "28                merchant_title      0  0.000000  ...  0.000000     935   object\n",
              "29                 merchant_name      4  0.002602  ...  0.000000     934   object\n",
              "30        merchant_info_subtitle      1  0.000651  ...  0.000000    1032   object\n",
              "31         merchant_rating_count      0  0.000000  ...  0.000651     895    int64\n",
              "32               merchant_rating      0  0.000000  ...  0.000000     929  float64\n",
              "33                   merchant_id      0  0.000000  ...  0.000000     935   object\n",
              "34  merchant_has_profile_picture      0  0.000000  ...  0.859466       2    int64\n",
              "35      merchant_profile_picture   1321  0.859466  ...  0.000000     120   object\n",
              "36                   product_url      0  0.000000  ...  0.000000    1306   object\n",
              "37               product_picture      0  0.000000  ...  0.000000    1306   object\n",
              "38                    product_id      0  0.000000  ...  0.000000    1306   object\n",
              "39                        income      0  0.000000  ...  0.000000     271  float64\n",
              "\n",
              "[40 rows x 7 columns]"
            ]
          },
          "metadata": {
            "tags": []
          },
          "execution_count": 17
        },
        {
          "output_type": "stream",
          "text": [
            "time: 64.6 ms (started: 2021-01-04 20:22:16 +00:00)\n"
          ],
          "name": "stdout"
        }
      ]
    },
    {
      "cell_type": "code",
      "metadata": {
        "id": "1rM3JBSKZ69P",
        "colab": {
          "base_uri": "https://localhost:8080/"
        },
        "outputId": "9129fca1-d98a-4325-a3fa-f65d479a6fd4"
      },
      "source": [
        "# Se binariza el feature 'urgency_text', reemplazando por 0 los nan values y por 1 cualquier otro valor. Se procedió\n",
        "# de esta manera ya que existe una sola instancia con 'Réduction sur les achats en gros'\n",
        "data_reg_lim['urgency_text'].fillna(0, inplace=True)\n",
        "data_reg_lim['urgency_text'].replace('Quantité limitée !', 1, inplace=True)\n",
        "data_reg_lim['urgency_text'].replace('Réduction sur les achats en gros', 1, inplace=True)"
      ],
      "execution_count": null,
      "outputs": [
        {
          "output_type": "stream",
          "text": [
            "time: 4.92 ms (started: 2021-01-04 20:22:18 +00:00)\n"
          ],
          "name": "stdout"
        }
      ]
    },
    {
      "cell_type": "code",
      "metadata": {
        "id": "9gvK00kh01QC",
        "colab": {
          "base_uri": "https://localhost:8080/"
        },
        "outputId": "74ebc36f-960b-4f93-b244-bbc1c5362f65"
      },
      "source": [
        "# Se eliminan ciertas columnas por varios motivos:\n",
        "# - Dificultad para el procesamiento: tanto 'title', 'tags', entre otras, precisan de un tratamiento más delicado\n",
        "#   el cual considero no está dentro del scope de este trabajo. Se evaluarán los resultados de los algoritmos y se incluirán en caso \n",
        "#   de que los mismos no sean exitosos.\n",
        "# - Información no relavante: 'product_picture', 'product_url', no tendrían información relevante para el análisis tabular llevado a cabo \n",
        "#   en este trabajo. Posiblemente podría agregarse una instancia de Computer Vision para el tratamiento de imágenes, lo cual también está\n",
        "#   fuera del scope.\n",
        "data_reg_lim.drop(['title','title_orig','merchant_name', 'product_picture','product_url', 'merchant_profile_picture', 'merchant_title', 'merchant_info_subtitle','tags'], axis=1, inplace=True)"
      ],
      "execution_count": null,
      "outputs": [
        {
          "output_type": "stream",
          "text": [
            "time: 8.59 ms (started: 2021-01-04 20:22:19 +00:00)\n"
          ],
          "name": "stdout"
        }
      ]
    },
    {
      "cell_type": "code",
      "metadata": {
        "id": "t_52NEeMa89z",
        "colab": {
          "base_uri": "https://localhost:8080/"
        },
        "outputId": "4f76b1ec-574e-4a85-c57c-423c6be96489"
      },
      "source": [
        "# Nan values:\n",
        "# Se calcula la cantidad de nan values y se la compara contra la cantidad total de datos. Con un valor menor a un 8% se decide eliminar\n",
        "# todas las instancias que presenten nan, lo cual podría no ser una decisión acertada. Por simplicidad se tomará esta decisión y se \n",
        "# confirmará si fue correcta o no al evaluar los resultados de los distintos modelos.\n",
        "data_nans = data_reg_lim.loc[data_reg_lim.isna().sum(axis=1) >= 1, :]\n",
        "print('Cantidad de filas con nans {}'.format(data_nans.shape))\n",
        "\n",
        "data_not_nans = data_reg_lim.loc[data_reg_lim.isna().sum(axis=1) == 0, :]\n",
        "print('Cantidad de filas sin nans {}'.format(data_not_nans.shape))"
      ],
      "execution_count": null,
      "outputs": [
        {
          "output_type": "stream",
          "text": [
            "Cantidad de filas con nans (107, 31)\n",
            "Cantidad de filas sin nans (1430, 31)\n",
            "time: 13.1 ms (started: 2021-01-04 20:22:20 +00:00)\n"
          ],
          "name": "stdout"
        }
      ]
    },
    {
      "cell_type": "code",
      "metadata": {
        "id": "E6UHkNvR-7bF",
        "colab": {
          "base_uri": "https://localhost:8080/",
          "height": 470
        },
        "outputId": "a13c66f3-7e79-47f3-fa69-c67baeed1f2d"
      },
      "source": [
        "# Histograma de 'product color':\n",
        "# A modo complementario se realizo un histograma de la feature 'product_color'. El gráfico no está del todo\n",
        "# prolijo, pero del mismo se puede observar la distribución poco ecualizada de sus valores. \n",
        "letter_counts = Counter(data_not_nans['product_color'])\n",
        "df = pd.DataFrame.from_dict(letter_counts, orient='index')\n",
        "df.plot(kind='bar')"
      ],
      "execution_count": null,
      "outputs": [
        {
          "output_type": "execute_result",
          "data": {
            "text/plain": [
              "<matplotlib.axes._subplots.AxesSubplot at 0x7f084d30f0b8>"
            ]
          },
          "metadata": {
            "tags": []
          },
          "execution_count": 21
        },
        {
          "output_type": "display_data",
          "data": {
            "image/png": "[encoded data removed]",
            "text/plain": [
              "<Figure size 432x288 with 1 Axes>"
            ]
          },
          "metadata": {
            "tags": [],
            "needs_background": "light"
          }
        },
        {
          "output_type": "stream",
          "text": [
            "time: 1.2 s (started: 2021-01-04 20:22:22 +00:00)\n"
          ],
          "name": "stdout"
        }
      ]
    },
    {
      "cell_type": "code",
      "metadata": {
        "id": "c7YVC-n0iDKj",
        "colab": {
          "base_uri": "https://localhost:8080/"
        },
        "outputId": "47d98716-78e1-4040-8ba7-2653ad034f00"
      },
      "source": [
        "# Ids:\n",
        "# Se selecciona las features correspondientes a Ids para su futura utilización como embeddings. Tanto 'product_color' \n",
        "# como 'product_variation_size_id'se considerarán como Ids debido a la gran cantidad de valores unicos que presentan,\n",
        "# lo cual hace inviable su procesamiento mediante el método hot encoding.\n",
        "data_reg_no_id = data_not_nans.drop(['product_color', 'product_variation_size_id','merchant_id', 'product_id'], axis=1, inplace=False)\n",
        "\n",
        "# Se crean los index de los ids para su uso como embeddings\n",
        "id = []\n",
        "id_names = ['product_color', 'product_variation_size_id','merchant_id', 'product_id']\n",
        "idx = []\n",
        "id2idx = []\n",
        "i=0\n",
        "\n",
        "for name in id_names:\n",
        "  id.append(data_not_nans[name].to_numpy())\n",
        "  _, _idx = np.unique(id[i], return_inverse=True)\n",
        "  idx.append(_idx)\n",
        "  id2idx.append({id:idx for id,idx in zip(id[i], idx[i])})\n",
        "  i=+1\n"
      ],
      "execution_count": null,
      "outputs": [
        {
          "output_type": "stream",
          "text": [
            "time: 16.2 ms (started: 2021-01-04 20:22:25 +00:00)\n"
          ],
          "name": "stdout"
        }
      ]
    },
    {
      "cell_type": "code",
      "metadata": {
        "id": "VcAqATwVz84-",
        "colab": {
          "base_uri": "https://localhost:8080/"
        },
        "outputId": "4782d0d4-e7ce-4348-c369-2856f7db44dc"
      },
      "source": [
        "# One hot encoding:\n",
        "# Una vez generados los idx para los id, se procede a preprocesar las variables categóricas restantes.\n",
        "# Se utiliza el método one hot encoding ya que poseen relativamente pocos valores únicos (a diferencia de los ids). \n",
        "data_categorical = data_reg_no_id[['shipping_option_name', 'origin_country']]\n",
        "dummies = pd.get_dummies(data=data_categorical, columns=data_categorical.columns)\n",
        "data_not_categorical = data_reg_no_id.drop(['shipping_option_name', 'origin_country'], axis=1, inplace=False)\n",
        "data_reg_full = pd.concat([data_not_categorical, dummies], axis=1)\n",
        "print('Tamaño del dataset de numérico: {}'.format(data_not_categorical.shape))\n",
        "print('Tamaño del dataset de dummies: {}'.format(dummies.shape))\n",
        "print('Tamaño del dataset con one hot encoding: {}'.format(data_reg_full.shape))"
      ],
      "execution_count": null,
      "outputs": [
        {
          "output_type": "stream",
          "text": [
            "Tamaño del dataset de numérico: (1430, 25)\n",
            "Tamaño del dataset de dummies: (1430, 19)\n",
            "Tamaño del dataset con one hot encoding: (1430, 44)\n",
            "time: 139 ms (started: 2021-01-04 20:22:27 +00:00)\n"
          ],
          "name": "stdout"
        }
      ]
    },
    {
      "cell_type": "code",
      "metadata": {
        "id": "SDG--ST7klao",
        "colab": {
          "base_uri": "https://localhost:8080/"
        },
        "outputId": "c02b5784-c4a2-478b-d977-fd3ea5c7580d"
      },
      "source": [
        "# Correlación de la salida con las distintas features:\n",
        "# Se vuelve a calcular la correlación una vez aplicado el one hot encoding.\n",
        "# Se observan bajas correlaciones lineales para las nuevas features, lo que podría ser una oportunidad para realizar\n",
        "# más ingeniería. \n",
        "corr_matrix = data_reg_full.corr()\n",
        "corr_matrix['income'].sort_values(ascending=False)"
      ],
      "execution_count": null,
      "outputs": [
        {
          "output_type": "execute_result",
          "data": {
            "text/plain": [
              "income                                          1.000000\n",
              "units_sold                                      0.910294\n",
              "rating_count                                    0.796692\n",
              "rating_five_count                               0.788518\n",
              "rating_four_count                               0.779679\n",
              "rating_three_count                              0.765727\n",
              "rating_two_count                                0.750881\n",
              "rating_one_count                                0.741402\n",
              "price                                           0.242286\n",
              "shipping_option_price                           0.213624\n",
              "product_variation_inventory                     0.208787\n",
              "merchant_rating                                 0.178914\n",
              "merchant_rating_count                           0.160493\n",
              "merchant_has_profile_picture                    0.125116\n",
              "rating                                          0.118913\n",
              "badge_product_quality                           0.110790\n",
              "badges_count                                    0.088308\n",
              "retail_price                                    0.079520\n",
              "origin_country_CN                               0.055656\n",
              "shipping_option_name_ការដឹកជញ្ជូនតាមស្តង់ដារ    0.046404\n",
              "shipping_option_name_Standardowa wysyłka        0.025340\n",
              "badge_local_product                             0.022321\n",
              "shipping_option_name_Standard Shipping          0.018729\n",
              "shipping_option_name_Standart Gönderi           0.014834\n",
              "shipping_option_name_Livraison standard         0.010387\n",
              "shipping_option_name_Стандартная доставка       0.000079\n",
              "origin_country_SG                              -0.001254\n",
              "uses_ad_boosts                                 -0.003554\n",
              "shipping_option_name_Envío normal              -0.004689\n",
              "shipping_option_name_การส่งสินค้ามาตรฐาน       -0.008088\n",
              "shipping_option_name_Envio Padrão              -0.009684\n",
              "origin_country_GB                              -0.010962\n",
              "shipping_is_express                            -0.015200\n",
              "shipping_option_name_Livraison Express         -0.015200\n",
              "shipping_option_name_Spedizione standard       -0.018982\n",
              "urgency_text                                   -0.019344\n",
              "shipping_option_name_Standardversand           -0.026355\n",
              "badge_fast_shipping                            -0.027521\n",
              "shipping_option_name_الشحن القياسي             -0.028570\n",
              "shipping_option_name_Expediere Standard        -0.031817\n",
              "origin_country_VE                              -0.034170\n",
              "inventory_total                                -0.042357\n",
              "origin_country_US                              -0.046037\n",
              "countries_shipped_to                           -0.046844\n",
              "Name: income, dtype: float64"
            ]
          },
          "metadata": {
            "tags": []
          },
          "execution_count": 24
        },
        {
          "output_type": "stream",
          "text": [
            "time: 17 ms (started: 2021-01-04 20:22:30 +00:00)\n"
          ],
          "name": "stdout"
        }
      ]
    },
    {
      "cell_type": "code",
      "metadata": {
        "id": "_YFzZzA7lHpx",
        "colab": {
          "base_uri": "https://localhost:8080/"
        },
        "outputId": "7c34563f-0bfd-4c53-a30a-5a26241dc087"
      },
      "source": [
        "# Divivir el dataset en train, test:\n",
        "# Mediante el random_state, se permutan aleatoriamente los intancias del dataset. De todas maneras esto no garantiza distribuciones \n",
        "# similares en train y test set y que la información en ambos sea representativa. Esto se puede solucionar mediante el uso de\n",
        "# stratified sampling, el cual consiste en dividir el dataset en stratas o grupos basados en un feature y garantizar una distribución homogénea\n",
        "# en el train y el test set. Como nuestra variable de salida es 'continua', generamos rangos implementando la variable 'price_cat' y aplicamos\n",
        "# el 'stratify' sobre ella. Otra opción es usar cross_validation para el entrenamiento, el cual se llevará a cabo generando una mejor \n",
        "# distribución de los datos entre train y test.\n",
        "# Otro paso importante es eliminar las features 'price' y 'units_sold' del dataset una vez que se generó la salida, evitando así \n",
        "# que existe información correlacionada directamente con la salida. Este proceso fue realizado posterior a un primer entrenamiento, \n",
        "# notando claramente como las métricas de validación empeoraban al quitar estas features. \n",
        "criteria = [data_reg_full['price'].between(0, 5), data_reg_full['price'].between(5, 10), \n",
        "            data_reg_full['price'].between(10, 15), data_reg_full['price'].between(15, 20)]\n",
        "values = [0, 1, 2, 3]\n",
        "data_reg_full['price_cat'] = np.select(criteria, values, 0)\n",
        "\n",
        "dataset_no_id_final = data_reg_full.drop(['income'], axis=1, inplace=False)\n",
        "X = dataset_no_id_final\n",
        "y = data_reg_full.income\n",
        "x_train, x_test, y_train, y_test = train_test_split(X, y, test_size=0.1, random_state=42, stratify= X.price_cat)\n",
        "x_train.drop(['price_cat', 'units_sold', 'price'], axis=1, inplace=True)\n",
        "x_test.drop(['price_cat', 'units_sold', 'price'], axis=1, inplace=True)\n"
      ],
      "execution_count": null,
      "outputs": [
        {
          "output_type": "stream",
          "text": [
            "time: 27.7 ms (started: 2021-01-04 20:22:31 +00:00)\n"
          ],
          "name": "stdout"
        },
        {
          "output_type": "stream",
          "text": [
            "/usr/local/lib/python3.6/dist-packages/pandas/core/frame.py:4174: SettingWithCopyWarning: \n",
            "A value is trying to be set on a copy of a slice from a DataFrame\n",
            "\n",
            "See the caveats in the documentation: https://pandas.pydata.org/pandas-docs/stable/user_guide/indexing.html#returning-a-view-versus-a-copy\n",
            "  errors=errors,\n"
          ],
          "name": "stderr"
        }
      ]
    },
    {
      "cell_type": "code",
      "metadata": {
        "id": "mwx8b07-S00e",
        "colab": {
          "base_uri": "https://localhost:8080/"
        },
        "outputId": "7a646f8a-a219-459a-8bc7-0f20f14bd6e0"
      },
      "source": [
        "# Divivir el dataset en train, test para embeddings\n",
        "dataset_no_id_final = data_reg_full.drop(['income'], axis=1, inplace=False)\n",
        "X_emb = dataset_no_id_final\n",
        "i = 0\n",
        "for name in id_names:\n",
        "  X_emb[name] = idx[i].reshape(-1,1)\n",
        "  i=+1\n",
        "y_emb = data_reg_full.income\n",
        "\n",
        "x_train_emb, x_test_emb, y_train_emb, y_test_emb = train_test_split(X_emb, y_emb, test_size=0.1, random_state=42, stratify= X_emb.price_cat)\n",
        "\n",
        "idx_train = x_train_emb[['product_color', 'product_variation_size_id','merchant_id', 'product_id']]\n",
        "x_train_emb.drop(['product_color', 'product_variation_size_id','merchant_id', 'product_id','price_cat', 'units_sold', 'price'], axis=1, inplace=True)\n",
        "\n",
        "idx_test = x_test_emb[['product_color', 'product_variation_size_id','merchant_id', 'product_id']]\n",
        "x_test_emb.drop(['product_color', 'product_variation_size_id','merchant_id', 'product_id','price_cat', 'units_sold', 'price'], axis=1, inplace=True)"
      ],
      "execution_count": null,
      "outputs": [
        {
          "output_type": "stream",
          "text": [
            "time: 22.8 ms (started: 2021-01-04 20:22:33 +00:00)\n"
          ],
          "name": "stdout"
        },
        {
          "output_type": "stream",
          "text": [
            "/usr/local/lib/python3.6/dist-packages/pandas/core/frame.py:4174: SettingWithCopyWarning: \n",
            "A value is trying to be set on a copy of a slice from a DataFrame\n",
            "\n",
            "See the caveats in the documentation: https://pandas.pydata.org/pandas-docs/stable/user_guide/indexing.html#returning-a-view-versus-a-copy\n",
            "  errors=errors,\n"
          ],
          "name": "stderr"
        }
      ]
    },
    {
      "cell_type": "code",
      "metadata": {
        "id": "3WTxNbHiYTYK",
        "colab": {
          "base_uri": "https://localhost:8080/"
        },
        "outputId": "de6b342c-a2dd-4194-965e-3813617b4e9a"
      },
      "source": [
        "# Normalización de datos:\n",
        "# Se normalizan los datos para que las diferentes escalas de las features no afecten a la convergibilidad de los optimizadores\n",
        "sscaler = preprocessing.StandardScaler()\n",
        "x_train_norm = sscaler.fit_transform(x_train)\n",
        "x_test_norm = sscaler.fit_transform(x_test)\n",
        "y_train_norm = sscaler.fit_transform(y_train.to_numpy().reshape(-1,1))\n",
        "y_test_norm = sscaler.fit_transform(y_test.to_numpy().reshape(-1,1))"
      ],
      "execution_count": null,
      "outputs": [
        {
          "output_type": "stream",
          "text": [
            "time: 13.6 ms (started: 2021-01-04 20:22:36 +00:00)\n"
          ],
          "name": "stdout"
        }
      ]
    },
    {
      "cell_type": "code",
      "metadata": {
        "id": "xa3mh7lKol96",
        "colab": {
          "base_uri": "https://localhost:8080/"
        },
        "outputId": "61b81eb5-f6d7-4b37-f81b-e63900642f63"
      },
      "source": [
        "# Normalización de datos con embeddings:\n",
        "# Se normalizan los datos para que las diferentes escalas de las features no afecten a la convergibilidad de los optimizadores\n",
        "sscaler = preprocessing.StandardScaler()\n",
        "x_train_emb_norm = sscaler.fit_transform(x_train_emb)\n",
        "x_test_emb_norm = sscaler.fit_transform(x_test_emb)\n",
        "y_train_emb_norm = sscaler.fit_transform(y_train_emb.to_numpy().reshape(-1,1))\n",
        "y_test_emb_norm = sscaler.fit_transform(y_test_emb.to_numpy().reshape(-1,1))"
      ],
      "execution_count": null,
      "outputs": [
        {
          "output_type": "stream",
          "text": [
            "time: 16.8 ms (started: 2021-01-04 20:22:39 +00:00)\n"
          ],
          "name": "stdout"
        }
      ]
    },
    {
      "cell_type": "markdown",
      "metadata": {
        "id": "X9pS8Cb-lAo5"
      },
      "source": [
        "#### Modelos"
      ]
    },
    {
      "cell_type": "markdown",
      "metadata": {
        "id": "d9hHWYmsHU3E"
      },
      "source": [
        "#### Linear Regression"
      ]
    },
    {
      "cell_type": "code",
      "metadata": {
        "id": "c5rq29KjWvP2",
        "colab": {
          "base_uri": "https://localhost:8080/"
        },
        "outputId": "15fd2bc6-7409-4e23-b66c-6c907bcc5e10"
      },
      "source": [
        "0# Linear Regression:\n",
        "# Como primer modelo se elije una regresión lineal. Se observa que el score varia dependiendo del fold con el cual se realice el \n",
        "# entrenamiento, de donde podemos concluir que las features tienen relaciones más bien no lineales con la salida.\n",
        "lr_model = LinearRegression()\n",
        "lr_scores = cross_val_score(lr_model, x_train_norm, y_train, cv=5)\n",
        "print('Scores Linear Regression:  {}'.format(lr_scores))\n",
        "print('Mean Score Linear Regression:  {}'.format(lr_scores.mean()))"
      ],
      "execution_count": null,
      "outputs": [
        {
          "output_type": "stream",
          "text": [
            "Scores Linear Regression:  [-1.32458101e+26  6.78644932e-01 -1.16889491e+26 -1.80177195e+26\n",
            " -1.77653992e+23]\n",
            "Mean Score Linear Regression:  -8.594048818391763e+25\n",
            "time: 62.4 ms (started: 2021-01-04 20:22:50 +00:00)\n"
          ],
          "name": "stdout"
        }
      ]
    },
    {
      "cell_type": "markdown",
      "metadata": {
        "id": "bY-BbGXAHYqq"
      },
      "source": [
        "#### Polynomial Regression"
      ]
    },
    {
      "cell_type": "code",
      "metadata": {
        "id": "mN7Tq2Ar3PLa",
        "colab": {
          "base_uri": "https://localhost:8080/"
        },
        "outputId": "be1a6d00-c4f5-43a8-a447-76855b487e7e"
      },
      "source": [
        "# Polynomial Regression:\n",
        "# Se calculan modelo de orden 2 y 3 observando una clara mejoría al incluir no linealidades en los modelos.\n",
        "# Tanto para orden 2 como 3 se observan valores muy grandes de MSE, lo cual indica que no se están fiteando los datos\n",
        "# correctamente. De todas maneras al aumentar el orden, existe una significativa disminución del error. Se podría\n",
        "# seguir aumentando el orden de los polinomios, pero sería muy costoso computacionalmente, por lo cual se opta\n",
        "# por probar modelos más complejos. \n",
        "for i in range(2, 4, 1):\n",
        "  poly = preprocessing.PolynomialFeatures(degree=i)\n",
        "  x_train_poly = poly.fit_transform(x_train_norm)\n",
        "  clf = LinearRegression()\n",
        "  clf_scores = cross_val_score(clf, x_train_poly, y_train, cv=5)\n",
        "  print('Scores Polynomio orden '+ str(i) +': {}'.format(clf_scores))\n",
        "  print('Mean Score Polynomio orden '+ str(i) +': {}'.format(clf_scores.mean()))"
      ],
      "execution_count": null,
      "outputs": [
        {
          "output_type": "stream",
          "text": [
            "Scores Polynomio orden 2: [-6.63128341e+22 -4.01960912e+21 -1.38383350e+24 -5.78993228e+20\n",
            " -3.84041146e+22]\n",
            "Mean Score Polynomio orden 2: -2.9862981008151782e+23\n",
            "Scores Polynomio orden 3: [-3.98524876e+16 -4.94539463e+15 -6.38646456e+15 -2.21338459e+19\n",
            " -1.84346012e+15]\n",
            "Mean Score Polynomio orden 3: -4.4373747357953464e+18\n",
            "time: 15.6 s (started: 2021-01-04 20:22:53 +00:00)\n"
          ],
          "name": "stdout"
        }
      ]
    },
    {
      "cell_type": "markdown",
      "metadata": {
        "id": "-KEQBF11aHOU"
      },
      "source": [
        "#### Random Forest"
      ]
    },
    {
      "cell_type": "code",
      "metadata": {
        "id": "5uDuKg7Ll3jH",
        "colab": {
          "base_uri": "https://localhost:8080/"
        },
        "outputId": "437f86b7-c963-4687-fd25-84275332a79e"
      },
      "source": [
        "# Random Forest Regressor\n",
        "rf_model = RandomForestRegressor(n_estimators=100, max_depth=100, random_state=5)\n",
        "rf_scores = cross_val_score(rf_model, x_train_norm, y_train_norm.ravel(), cv=5)\n",
        "print('Scores Random Forest:  {}'.format(rf_scores))\n",
        "print('Mean Score Random Forest:  {}'.format(rf_scores.mean()))"
      ],
      "execution_count": null,
      "outputs": [
        {
          "output_type": "stream",
          "text": [
            "Scores Random Forest:  [0.83415012 0.75733366 0.8349301  0.80692821 0.7867375 ]\n",
            "Mean Score Random Forest:  0.8040159178380272\n",
            "time: 3.54 s (started: 2021-01-05 15:39:37 +00:00)\n"
          ],
          "name": "stdout"
        }
      ]
    },
    {
      "cell_type": "code",
      "metadata": {
        "id": "m8W39BEAFi1O",
        "colab": {
          "base_uri": "https://localhost:8080/",
          "height": 445
        },
        "outputId": "ae47795b-8368-4c05-fa47-6c979d058737"
      },
      "source": [
        "rf_train_r2, rf_train_mse, rf_valid_r2, rf_valid_mse, train_sizes = plot_learning_curve(rf_model, x_train_norm, y_train_norm.ravel(), n_instances = 8, cv=5)"
      ],
      "execution_count": null,
      "outputs": [
        {
          "output_type": "display_data",
          "data": {
            "image/png": "[encoded data removed]",
            "text/plain": [
              "<Figure size 1296x432 with 2 Axes>"
            ]
          },
          "metadata": {
            "tags": [],
            "needs_background": "light"
          }
        },
        {
          "output_type": "stream",
          "text": [
            "time: 27.3 s (started: 2021-01-04 20:23:33 +00:00)\n"
          ],
          "name": "stdout"
        }
      ]
    },
    {
      "cell_type": "markdown",
      "metadata": {
        "id": "bTX3BKBWHfWt"
      },
      "source": [
        "#### Support Vector Machines"
      ]
    },
    {
      "cell_type": "code",
      "metadata": {
        "id": "Y9mDErLt7B7b",
        "colab": {
          "base_uri": "https://localhost:8080/"
        },
        "outputId": "62cb43ba-5264-4682-f183-606651c47c72"
      },
      "source": [
        "# Support Vector Machines\n",
        "svm_model = SVR(kernel='rbf', C = 2)\n",
        "svm_scores = cross_val_score(svm_model, x_train_norm, y_train_norm.ravel(), cv=5)\n",
        "print('Scores SVR:  {}'.format(svm_scores))\n",
        "print('Mean Score SVR:  {}'.format(svm_scores.mean()))\n"
      ],
      "execution_count": null,
      "outputs": [
        {
          "output_type": "stream",
          "text": [
            "Scores SVR:  [0.77378105 0.67045914 0.72526458 0.75532157 0.69135712]\n",
            "Mean Score SVR:  0.7232366913834511\n",
            "time: 539 ms (started: 2021-01-04 20:25:12 +00:00)\n"
          ],
          "name": "stdout"
        }
      ]
    },
    {
      "cell_type": "code",
      "metadata": {
        "id": "54bMsFaoG3mJ",
        "colab": {
          "base_uri": "https://localhost:8080/",
          "height": 438
        },
        "outputId": "4c3d3e03-6c8a-473f-fe02-a4b54c4a7062"
      },
      "source": [
        "svm_train_r2, svm_train_mse, svm_valid_r2, svm_valid_mse, train_sizes = plot_learning_curve(svm_model, x_train_norm, y_train_norm.ravel(), n_instances = 8, cv=5)"
      ],
      "execution_count": null,
      "outputs": [
        {
          "output_type": "display_data",
          "data": {
            "image/png": "[encoded data removed]",
            "text/plain": [
              "<Figure size 1296x432 with 2 Axes>"
            ]
          },
          "metadata": {
            "tags": []
          }
        },
        {
          "output_type": "stream",
          "text": [
            "time: 3.97 s (started: 2021-01-04 20:25:14 +00:00)\n"
          ],
          "name": "stdout"
        }
      ]
    },
    {
      "cell_type": "markdown",
      "metadata": {
        "id": "JIqhl03bHkX5"
      },
      "source": [
        "#### Deep Learning Model"
      ]
    },
    {
      "cell_type": "code",
      "metadata": {
        "id": "ItBkE5rAFJS2",
        "colab": {
          "base_uri": "https://localhost:8080/"
        },
        "outputId": "89439648-d4a8-4586-d9a9-73380121b797"
      },
      "source": [
        "# Deep Learning Model\n",
        "def create_model():\n",
        "  model = tf.keras.models.Sequential()\n",
        "  model.add(tf.keras.layers.Dense(100))\n",
        "  model.add(tf.keras.layers.Activation('relu'))\n",
        "  model.add(tf.keras.layers.Dense(100))\n",
        "  model.add(tf.keras.layers.Activation('relu'))\n",
        "  model.add(tf.keras.layers.Dense(1))\n",
        "  model.add(tf.keras.layers.Activation('linear'))\n",
        "  model.compile(\n",
        "    optimizer=tf.keras.optimizers.Adam(learning_rate=0.01),\n",
        "    loss='MeanSquaredError', metrics='MeanAbsolutePercentageError')\n",
        "\n",
        "  return model\n"
      ],
      "execution_count": null,
      "outputs": [
        {
          "output_type": "stream",
          "text": [
            "time: 7.28 ms (started: 2021-01-04 20:25:18 +00:00)\n"
          ],
          "name": "stdout"
        }
      ]
    },
    {
      "cell_type": "code",
      "metadata": {
        "id": "k29a9mZcKvH2",
        "colab": {
          "base_uri": "https://localhost:8080/"
        },
        "outputId": "80ffb5df-9552-4d5e-fd75-7d2d55c7d3a8"
      },
      "source": [
        "model = create_model()\n",
        "nn_model = create_model()\n",
        "nn_model.fit(\n",
        "    x_train_norm.astype(np.float32), \n",
        "    y_train_norm.astype(np.float32),\n",
        "   epochs=100,\n",
        "    batch_size=64,\n",
        "    validation_data=(x_test_norm, y_test_norm),\n",
        ")\n",
        "plot_model(model, to_file='model_plot.png', show_shapes=True, show_layer_names=True)\n",
        "nn_model_sk = KerasRegressor(build_fn = create_model, \n",
        "                                 epochs=100, \n",
        "                                 batch_size=64, \n",
        "                                 verbose=False)\n",
        "nn_scores = cross_val_score(nn_model_sk, x_train_norm, y_train_norm.ravel(), cv=5)\n",
        "print('Scores NN:  {}'.format(nn_scores))\n",
        "print('Mean Score NN:  {}'.format(nn_scores.mean()))"
      ],
      "execution_count": null,
      "outputs": [
        {
          "output_type": "stream",
          "text": [
            "Epoch 1/100\n",
            "21/21 [==============================] - 1s 15ms/step - loss: 1.0781 - mean_absolute_percentage_error: 139.1670 - val_loss: 0.4835 - val_mean_absolute_percentage_error: 87.1900\n",
            "Epoch 2/100\n",
            "21/21 [==============================] - 0s 3ms/step - loss: 0.4115 - mean_absolute_percentage_error: 81.2894 - val_loss: 0.3298 - val_mean_absolute_percentage_error: 66.1937\n",
            "Epoch 3/100\n",
            "21/21 [==============================] - 0s 3ms/step - loss: 0.2495 - mean_absolute_percentage_error: 69.8160 - val_loss: 0.3052 - val_mean_absolute_percentage_error: 64.0519\n",
            "Epoch 4/100\n",
            "21/21 [==============================] - 0s 4ms/step - loss: 0.1944 - mean_absolute_percentage_error: 66.8551 - val_loss: 0.3184 - val_mean_absolute_percentage_error: 57.8711\n",
            "Epoch 5/100\n",
            "21/21 [==============================] - 0s 4ms/step - loss: 0.2033 - mean_absolute_percentage_error: 64.9978 - val_loss: 0.3396 - val_mean_absolute_percentage_error: 59.5750\n",
            "Epoch 6/100\n",
            "21/21 [==============================] - 0s 3ms/step - loss: 0.1904 - mean_absolute_percentage_error: 63.6018 - val_loss: 0.3226 - val_mean_absolute_percentage_error: 53.7563\n",
            "Epoch 7/100\n",
            "21/21 [==============================] - 0s 3ms/step - loss: 0.1661 - mean_absolute_percentage_error: 57.8667 - val_loss: 0.3180 - val_mean_absolute_percentage_error: 68.5006\n",
            "Epoch 8/100\n",
            "21/21 [==============================] - 0s 3ms/step - loss: 0.1524 - mean_absolute_percentage_error: 58.4486 - val_loss: 0.3270 - val_mean_absolute_percentage_error: 72.8591\n",
            "Epoch 9/100\n",
            "21/21 [==============================] - 0s 4ms/step - loss: 0.1726 - mean_absolute_percentage_error: 57.9059 - val_loss: 0.3129 - val_mean_absolute_percentage_error: 57.3167\n",
            "Epoch 10/100\n",
            "21/21 [==============================] - 0s 4ms/step - loss: 0.1501 - mean_absolute_percentage_error: 62.5323 - val_loss: 0.3118 - val_mean_absolute_percentage_error: 75.0728\n",
            "Epoch 11/100\n",
            "21/21 [==============================] - 0s 5ms/step - loss: 0.1368 - mean_absolute_percentage_error: 55.1043 - val_loss: 0.3466 - val_mean_absolute_percentage_error: 64.9220\n",
            "Epoch 12/100\n",
            "21/21 [==============================] - 0s 3ms/step - loss: 0.1447 - mean_absolute_percentage_error: 53.0939 - val_loss: 0.3065 - val_mean_absolute_percentage_error: 74.8416\n",
            "Epoch 13/100\n",
            "21/21 [==============================] - 0s 3ms/step - loss: 0.1958 - mean_absolute_percentage_error: 54.2091 - val_loss: 0.3059 - val_mean_absolute_percentage_error: 71.7779\n",
            "Epoch 14/100\n",
            "21/21 [==============================] - 0s 3ms/step - loss: 0.1502 - mean_absolute_percentage_error: 56.1641 - val_loss: 0.3468 - val_mean_absolute_percentage_error: 55.6992\n",
            "Epoch 15/100\n",
            "21/21 [==============================] - 0s 4ms/step - loss: 0.1366 - mean_absolute_percentage_error: 56.6097 - val_loss: 0.3266 - val_mean_absolute_percentage_error: 67.8394\n",
            "Epoch 16/100\n",
            "21/21 [==============================] - 0s 4ms/step - loss: 0.1197 - mean_absolute_percentage_error: 46.7760 - val_loss: 0.3527 - val_mean_absolute_percentage_error: 60.3795\n",
            "Epoch 17/100\n",
            "21/21 [==============================] - 0s 4ms/step - loss: 0.1180 - mean_absolute_percentage_error: 49.3143 - val_loss: 0.3492 - val_mean_absolute_percentage_error: 58.6465\n",
            "Epoch 18/100\n",
            "21/21 [==============================] - 0s 4ms/step - loss: 0.1093 - mean_absolute_percentage_error: 45.8563 - val_loss: 0.3391 - val_mean_absolute_percentage_error: 71.0143\n",
            "Epoch 19/100\n",
            "21/21 [==============================] - 0s 4ms/step - loss: 0.1123 - mean_absolute_percentage_error: 48.4254 - val_loss: 0.3332 - val_mean_absolute_percentage_error: 76.0372\n",
            "Epoch 20/100\n",
            "21/21 [==============================] - 0s 4ms/step - loss: 0.1389 - mean_absolute_percentage_error: 46.6810 - val_loss: 0.3871 - val_mean_absolute_percentage_error: 67.5507\n",
            "Epoch 21/100\n",
            "21/21 [==============================] - 0s 4ms/step - loss: 0.1331 - mean_absolute_percentage_error: 55.8878 - val_loss: 0.3224 - val_mean_absolute_percentage_error: 74.6307\n",
            "Epoch 22/100\n",
            "21/21 [==============================] - 0s 4ms/step - loss: 0.1226 - mean_absolute_percentage_error: 50.0114 - val_loss: 0.3420 - val_mean_absolute_percentage_error: 55.9242\n",
            "Epoch 23/100\n",
            "21/21 [==============================] - 0s 4ms/step - loss: 0.0896 - mean_absolute_percentage_error: 42.4350 - val_loss: 0.3622 - val_mean_absolute_percentage_error: 54.2141\n",
            "Epoch 24/100\n",
            "21/21 [==============================] - 0s 3ms/step - loss: 0.0967 - mean_absolute_percentage_error: 49.7638 - val_loss: 0.3624 - val_mean_absolute_percentage_error: 68.5864\n",
            "Epoch 25/100\n",
            "21/21 [==============================] - 0s 4ms/step - loss: 0.1159 - mean_absolute_percentage_error: 59.2817 - val_loss: 0.3524 - val_mean_absolute_percentage_error: 60.9694\n",
            "Epoch 26/100\n",
            "21/21 [==============================] - 0s 4ms/step - loss: 0.0933 - mean_absolute_percentage_error: 47.1989 - val_loss: 0.3622 - val_mean_absolute_percentage_error: 77.8730\n",
            "Epoch 27/100\n",
            "21/21 [==============================] - 0s 3ms/step - loss: 0.0784 - mean_absolute_percentage_error: 48.6418 - val_loss: 0.3720 - val_mean_absolute_percentage_error: 63.3594\n",
            "Epoch 28/100\n",
            "21/21 [==============================] - 0s 3ms/step - loss: 0.0771 - mean_absolute_percentage_error: 45.4723 - val_loss: 0.3896 - val_mean_absolute_percentage_error: 66.4880\n",
            "Epoch 29/100\n",
            "21/21 [==============================] - 0s 4ms/step - loss: 0.0891 - mean_absolute_percentage_error: 49.8055 - val_loss: 0.3673 - val_mean_absolute_percentage_error: 75.8224\n",
            "Epoch 30/100\n",
            "21/21 [==============================] - 0s 3ms/step - loss: 0.0775 - mean_absolute_percentage_error: 41.2859 - val_loss: 0.4160 - val_mean_absolute_percentage_error: 69.1630\n",
            "Epoch 31/100\n",
            "21/21 [==============================] - 0s 3ms/step - loss: 0.0723 - mean_absolute_percentage_error: 42.5803 - val_loss: 0.3650 - val_mean_absolute_percentage_error: 71.7415\n",
            "Epoch 32/100\n",
            "21/21 [==============================] - 0s 3ms/step - loss: 0.0701 - mean_absolute_percentage_error: 41.3484 - val_loss: 0.3961 - val_mean_absolute_percentage_error: 59.2122\n",
            "Epoch 33/100\n",
            "21/21 [==============================] - 0s 3ms/step - loss: 0.0615 - mean_absolute_percentage_error: 43.3480 - val_loss: 0.3940 - val_mean_absolute_percentage_error: 69.6566\n",
            "Epoch 34/100\n",
            "21/21 [==============================] - 0s 9ms/step - loss: 0.0649 - mean_absolute_percentage_error: 48.1059 - val_loss: 0.4053 - val_mean_absolute_percentage_error: 63.3914\n",
            "Epoch 35/100\n",
            "21/21 [==============================] - 0s 3ms/step - loss: 0.0858 - mean_absolute_percentage_error: 46.5952 - val_loss: 0.3913 - val_mean_absolute_percentage_error: 61.7759\n",
            "Epoch 36/100\n",
            "21/21 [==============================] - 0s 3ms/step - loss: 0.0626 - mean_absolute_percentage_error: 43.3454 - val_loss: 0.3800 - val_mean_absolute_percentage_error: 64.4839\n",
            "Epoch 37/100\n",
            "21/21 [==============================] - 0s 3ms/step - loss: 0.0671 - mean_absolute_percentage_error: 37.9834 - val_loss: 0.4205 - val_mean_absolute_percentage_error: 70.6425\n",
            "Epoch 38/100\n",
            "21/21 [==============================] - 0s 3ms/step - loss: 0.0599 - mean_absolute_percentage_error: 43.3399 - val_loss: 0.4019 - val_mean_absolute_percentage_error: 70.9593\n",
            "Epoch 39/100\n",
            "21/21 [==============================] - 0s 4ms/step - loss: 0.0591 - mean_absolute_percentage_error: 43.2008 - val_loss: 0.4095 - val_mean_absolute_percentage_error: 69.4546\n",
            "Epoch 40/100\n",
            "21/21 [==============================] - 0s 4ms/step - loss: 0.0888 - mean_absolute_percentage_error: 44.4189 - val_loss: 0.3953 - val_mean_absolute_percentage_error: 56.3090\n",
            "Epoch 41/100\n",
            "21/21 [==============================] - 0s 3ms/step - loss: 0.0563 - mean_absolute_percentage_error: 38.4858 - val_loss: 0.4020 - val_mean_absolute_percentage_error: 72.9207\n",
            "Epoch 42/100\n",
            "21/21 [==============================] - 0s 4ms/step - loss: 0.0610 - mean_absolute_percentage_error: 44.0293 - val_loss: 0.4121 - val_mean_absolute_percentage_error: 67.4361\n",
            "Epoch 43/100\n",
            "21/21 [==============================] - 0s 4ms/step - loss: 0.0577 - mean_absolute_percentage_error: 40.8029 - val_loss: 0.3710 - val_mean_absolute_percentage_error: 63.4064\n",
            "Epoch 44/100\n",
            "21/21 [==============================] - 0s 3ms/step - loss: 0.0607 - mean_absolute_percentage_error: 40.4036 - val_loss: 0.3835 - val_mean_absolute_percentage_error: 52.8281\n",
            "Epoch 45/100\n",
            "21/21 [==============================] - 0s 4ms/step - loss: 0.0586 - mean_absolute_percentage_error: 42.2018 - val_loss: 0.3984 - val_mean_absolute_percentage_error: 70.0128\n",
            "Epoch 46/100\n",
            "21/21 [==============================] - 0s 4ms/step - loss: 0.0558 - mean_absolute_percentage_error: 41.2632 - val_loss: 0.3895 - val_mean_absolute_percentage_error: 59.5400\n",
            "Epoch 47/100\n",
            "21/21 [==============================] - 0s 4ms/step - loss: 0.0491 - mean_absolute_percentage_error: 43.3965 - val_loss: 0.4129 - val_mean_absolute_percentage_error: 60.5554\n",
            "Epoch 48/100\n",
            "21/21 [==============================] - 0s 4ms/step - loss: 0.0489 - mean_absolute_percentage_error: 44.2810 - val_loss: 0.4038 - val_mean_absolute_percentage_error: 68.2051\n",
            "Epoch 49/100\n",
            "21/21 [==============================] - 0s 4ms/step - loss: 0.0500 - mean_absolute_percentage_error: 47.3355 - val_loss: 0.4080 - val_mean_absolute_percentage_error: 63.8429\n",
            "Epoch 50/100\n",
            "21/21 [==============================] - 0s 4ms/step - loss: 0.0477 - mean_absolute_percentage_error: 38.6291 - val_loss: 0.4020 - val_mean_absolute_percentage_error: 57.4480\n",
            "Epoch 51/100\n",
            "21/21 [==============================] - 0s 4ms/step - loss: 0.0541 - mean_absolute_percentage_error: 39.6172 - val_loss: 0.3970 - val_mean_absolute_percentage_error: 60.0648\n",
            "Epoch 52/100\n",
            "21/21 [==============================] - 0s 4ms/step - loss: 0.0471 - mean_absolute_percentage_error: 36.8521 - val_loss: 0.4091 - val_mean_absolute_percentage_error: 60.9773\n",
            "Epoch 53/100\n",
            "21/21 [==============================] - 0s 4ms/step - loss: 0.0389 - mean_absolute_percentage_error: 31.9695 - val_loss: 0.3919 - val_mean_absolute_percentage_error: 63.3261\n",
            "Epoch 54/100\n",
            "21/21 [==============================] - 0s 4ms/step - loss: 0.0570 - mean_absolute_percentage_error: 40.0639 - val_loss: 0.4130 - val_mean_absolute_percentage_error: 60.2151\n",
            "Epoch 55/100\n",
            "21/21 [==============================] - 0s 4ms/step - loss: 0.0489 - mean_absolute_percentage_error: 37.7025 - val_loss: 0.3993 - val_mean_absolute_percentage_error: 74.4939\n",
            "Epoch 56/100\n",
            "21/21 [==============================] - 0s 5ms/step - loss: 0.0574 - mean_absolute_percentage_error: 34.0490 - val_loss: 0.4086 - val_mean_absolute_percentage_error: 79.8134\n",
            "Epoch 57/100\n",
            "21/21 [==============================] - 0s 4ms/step - loss: 0.0702 - mean_absolute_percentage_error: 38.4295 - val_loss: 0.3992 - val_mean_absolute_percentage_error: 73.4241\n",
            "Epoch 58/100\n",
            "21/21 [==============================] - 0s 4ms/step - loss: 0.1189 - mean_absolute_percentage_error: 36.1820 - val_loss: 0.3626 - val_mean_absolute_percentage_error: 81.2012\n",
            "Epoch 59/100\n",
            "21/21 [==============================] - 0s 3ms/step - loss: 0.1027 - mean_absolute_percentage_error: 42.7470 - val_loss: 0.3461 - val_mean_absolute_percentage_error: 64.7866\n",
            "Epoch 60/100\n",
            "21/21 [==============================] - 0s 3ms/step - loss: 0.0697 - mean_absolute_percentage_error: 39.5344 - val_loss: 0.3727 - val_mean_absolute_percentage_error: 61.9642\n",
            "Epoch 61/100\n",
            "21/21 [==============================] - 0s 3ms/step - loss: 0.0641 - mean_absolute_percentage_error: 43.2025 - val_loss: 0.3923 - val_mean_absolute_percentage_error: 57.6427\n",
            "Epoch 62/100\n",
            "21/21 [==============================] - 0s 4ms/step - loss: 0.0565 - mean_absolute_percentage_error: 35.2467 - val_loss: 0.3736 - val_mean_absolute_percentage_error: 65.4510\n",
            "Epoch 63/100\n",
            "21/21 [==============================] - 0s 4ms/step - loss: 0.0478 - mean_absolute_percentage_error: 35.9383 - val_loss: 0.4102 - val_mean_absolute_percentage_error: 74.6820\n",
            "Epoch 64/100\n",
            "21/21 [==============================] - 0s 9ms/step - loss: 0.0500 - mean_absolute_percentage_error: 42.9732 - val_loss: 0.3837 - val_mean_absolute_percentage_error: 65.3191\n",
            "Epoch 65/100\n",
            "21/21 [==============================] - 0s 5ms/step - loss: 0.0350 - mean_absolute_percentage_error: 34.5363 - val_loss: 0.3998 - val_mean_absolute_percentage_error: 60.2423\n",
            "Epoch 66/100\n",
            "21/21 [==============================] - 0s 4ms/step - loss: 0.0371 - mean_absolute_percentage_error: 35.5668 - val_loss: 0.3872 - val_mean_absolute_percentage_error: 73.2254\n",
            "Epoch 67/100\n",
            "21/21 [==============================] - 0s 4ms/step - loss: 0.0401 - mean_absolute_percentage_error: 33.6724 - val_loss: 0.4024 - val_mean_absolute_percentage_error: 65.7882\n",
            "Epoch 68/100\n",
            "21/21 [==============================] - 0s 3ms/step - loss: 0.0807 - mean_absolute_percentage_error: 35.8646 - val_loss: 0.3772 - val_mean_absolute_percentage_error: 55.8482\n",
            "Epoch 69/100\n",
            "21/21 [==============================] - 0s 4ms/step - loss: 0.0683 - mean_absolute_percentage_error: 35.9220 - val_loss: 0.3857 - val_mean_absolute_percentage_error: 65.7699\n",
            "Epoch 70/100\n",
            "21/21 [==============================] - 0s 4ms/step - loss: 0.0651 - mean_absolute_percentage_error: 40.0802 - val_loss: 0.3653 - val_mean_absolute_percentage_error: 68.3009\n",
            "Epoch 71/100\n",
            "21/21 [==============================] - 0s 3ms/step - loss: 0.0695 - mean_absolute_percentage_error: 41.9128 - val_loss: 0.3873 - val_mean_absolute_percentage_error: 64.6797\n",
            "Epoch 72/100\n",
            "21/21 [==============================] - 0s 3ms/step - loss: 0.0440 - mean_absolute_percentage_error: 41.1329 - val_loss: 0.3799 - val_mean_absolute_percentage_error: 69.4685\n",
            "Epoch 73/100\n",
            "21/21 [==============================] - 0s 4ms/step - loss: 0.0529 - mean_absolute_percentage_error: 40.9369 - val_loss: 0.3835 - val_mean_absolute_percentage_error: 65.0361\n",
            "Epoch 74/100\n",
            "21/21 [==============================] - 0s 4ms/step - loss: 0.0394 - mean_absolute_percentage_error: 32.0081 - val_loss: 0.4261 - val_mean_absolute_percentage_error: 65.2435\n",
            "Epoch 75/100\n",
            "21/21 [==============================] - 0s 3ms/step - loss: 0.0427 - mean_absolute_percentage_error: 37.2438 - val_loss: 0.3866 - val_mean_absolute_percentage_error: 73.9184\n",
            "Epoch 76/100\n",
            "21/21 [==============================] - 0s 3ms/step - loss: 0.0366 - mean_absolute_percentage_error: 37.0731 - val_loss: 0.3778 - val_mean_absolute_percentage_error: 72.5227\n",
            "Epoch 77/100\n",
            "21/21 [==============================] - 0s 3ms/step - loss: 0.0318 - mean_absolute_percentage_error: 35.9764 - val_loss: 0.3991 - val_mean_absolute_percentage_error: 73.9552\n",
            "Epoch 78/100\n",
            "21/21 [==============================] - 0s 4ms/step - loss: 0.0312 - mean_absolute_percentage_error: 34.9585 - val_loss: 0.3772 - val_mean_absolute_percentage_error: 67.0215\n",
            "Epoch 79/100\n",
            "21/21 [==============================] - 0s 3ms/step - loss: 0.0296 - mean_absolute_percentage_error: 32.2614 - val_loss: 0.4027 - val_mean_absolute_percentage_error: 76.3316\n",
            "Epoch 80/100\n",
            "21/21 [==============================] - 0s 4ms/step - loss: 0.0307 - mean_absolute_percentage_error: 34.9515 - val_loss: 0.4131 - val_mean_absolute_percentage_error: 70.4639\n",
            "Epoch 81/100\n",
            "21/21 [==============================] - 0s 3ms/step - loss: 0.0413 - mean_absolute_percentage_error: 31.8345 - val_loss: 0.3919 - val_mean_absolute_percentage_error: 75.6206\n",
            "Epoch 82/100\n",
            "21/21 [==============================] - 0s 4ms/step - loss: 0.0303 - mean_absolute_percentage_error: 32.8019 - val_loss: 0.3770 - val_mean_absolute_percentage_error: 78.2606\n",
            "Epoch 83/100\n",
            "21/21 [==============================] - 0s 4ms/step - loss: 0.0358 - mean_absolute_percentage_error: 34.5879 - val_loss: 0.3852 - val_mean_absolute_percentage_error: 74.4510\n",
            "Epoch 84/100\n",
            "21/21 [==============================] - 0s 4ms/step - loss: 0.0258 - mean_absolute_percentage_error: 28.4470 - val_loss: 0.3798 - val_mean_absolute_percentage_error: 74.9894\n",
            "Epoch 85/100\n",
            "21/21 [==============================] - 0s 4ms/step - loss: 0.0251 - mean_absolute_percentage_error: 35.0483 - val_loss: 0.3729 - val_mean_absolute_percentage_error: 73.9359\n",
            "Epoch 86/100\n",
            "21/21 [==============================] - 0s 4ms/step - loss: 0.0295 - mean_absolute_percentage_error: 31.2013 - val_loss: 0.4032 - val_mean_absolute_percentage_error: 76.4700\n",
            "Epoch 87/100\n",
            "21/21 [==============================] - 0s 4ms/step - loss: 0.0301 - mean_absolute_percentage_error: 28.4280 - val_loss: 0.3843 - val_mean_absolute_percentage_error: 73.8499\n",
            "Epoch 88/100\n",
            "21/21 [==============================] - 0s 4ms/step - loss: 0.0268 - mean_absolute_percentage_error: 30.1400 - val_loss: 0.3888 - val_mean_absolute_percentage_error: 75.9802\n",
            "Epoch 89/100\n",
            "21/21 [==============================] - 0s 4ms/step - loss: 0.0360 - mean_absolute_percentage_error: 31.3716 - val_loss: 0.3661 - val_mean_absolute_percentage_error: 75.9697\n",
            "Epoch 90/100\n",
            "21/21 [==============================] - 0s 5ms/step - loss: 0.0308 - mean_absolute_percentage_error: 33.6473 - val_loss: 0.3782 - val_mean_absolute_percentage_error: 75.0629\n",
            "Epoch 91/100\n",
            "21/21 [==============================] - 0s 4ms/step - loss: 0.0308 - mean_absolute_percentage_error: 33.4769 - val_loss: 0.3719 - val_mean_absolute_percentage_error: 71.2187\n",
            "Epoch 92/100\n",
            "21/21 [==============================] - 0s 3ms/step - loss: 0.0367 - mean_absolute_percentage_error: 33.1670 - val_loss: 0.3827 - val_mean_absolute_percentage_error: 74.8241\n",
            "Epoch 93/100\n",
            "21/21 [==============================] - 0s 4ms/step - loss: 0.0436 - mean_absolute_percentage_error: 34.9165 - val_loss: 0.3598 - val_mean_absolute_percentage_error: 69.6137\n",
            "Epoch 94/100\n",
            "21/21 [==============================] - 0s 4ms/step - loss: 0.0350 - mean_absolute_percentage_error: 30.2011 - val_loss: 0.3698 - val_mean_absolute_percentage_error: 87.2360\n",
            "Epoch 95/100\n",
            "21/21 [==============================] - 0s 3ms/step - loss: 0.0312 - mean_absolute_percentage_error: 31.1569 - val_loss: 0.3760 - val_mean_absolute_percentage_error: 70.1283\n",
            "Epoch 96/100\n",
            "21/21 [==============================] - 0s 3ms/step - loss: 0.0335 - mean_absolute_percentage_error: 32.4038 - val_loss: 0.3857 - val_mean_absolute_percentage_error: 72.5193\n",
            "Epoch 97/100\n",
            "21/21 [==============================] - 0s 3ms/step - loss: 0.0195 - mean_absolute_percentage_error: 23.9831 - val_loss: 0.3654 - val_mean_absolute_percentage_error: 69.9241\n",
            "Epoch 98/100\n",
            "21/21 [==============================] - 0s 4ms/step - loss: 0.0330 - mean_absolute_percentage_error: 28.5830 - val_loss: 0.3432 - val_mean_absolute_percentage_error: 78.8047\n",
            "Epoch 99/100\n",
            "21/21 [==============================] - 0s 4ms/step - loss: 0.0459 - mean_absolute_percentage_error: 29.9799 - val_loss: 0.3822 - val_mean_absolute_percentage_error: 75.0534\n",
            "Epoch 100/100\n",
            "21/21 [==============================] - 0s 4ms/step - loss: 0.0342 - mean_absolute_percentage_error: 38.7490 - val_loss: 0.3465 - val_mean_absolute_percentage_error: 72.2096\n",
            "Scores NN:  [-0.18394837 -0.28697544 -0.32762057 -0.27514163 -0.26581112]\n",
            "Mean Score NN:  -0.26789942383766174\n",
            "time: 26.9 s (started: 2021-01-04 20:32:42 +00:00)\n"
          ],
          "name": "stdout"
        }
      ]
    },
    {
      "cell_type": "code",
      "metadata": {
        "id": "HC1NIBbUIK4E",
        "colab": {
          "base_uri": "https://localhost:8080/",
          "height": 438
        },
        "outputId": "3d408051-5a2b-431e-b6ec-29d0684692db"
      },
      "source": [
        "nn_train_r2, nn_train_mse, nn_valid_r2, nn_valid_mse, train_sizes =plot_learning_curve(nn_model_sk, x_train_norm, y_train_norm.ravel(), n_instances = 8, cv = 5)"
      ],
      "execution_count": null,
      "outputs": [
        {
          "output_type": "display_data",
          "data": {
            "image/png": "[encoded data removed]",
            "text/plain": [
              "<Figure size 1296x432 with 2 Axes>"
            ]
          },
          "metadata": {
            "tags": []
          }
        },
        {
          "output_type": "stream",
          "text": [
            "time: 1min 56s (started: 2021-01-04 20:25:55 +00:00)\n"
          ],
          "name": "stdout"
        }
      ]
    },
    {
      "cell_type": "markdown",
      "metadata": {
        "id": "j_SP-ekaHoTK"
      },
      "source": [
        "#### Deep Learning Model with Embeddings"
      ]
    },
    {
      "cell_type": "code",
      "metadata": {
        "id": "hDBtj60fJHU4",
        "colab": {
          "base_uri": "https://localhost:8080/"
        },
        "outputId": "98c6f1c8-ffc2-40bf-96b9-1dbb70e85a43"
      },
      "source": [
        "# Deep Learning con embeddings\n",
        "def create_model_embedding():\n",
        "    # Create model\n",
        "    features_input = tf.keras.Input(shape=(x_train_emb.shape[1],), name='features')\n",
        "    \n",
        "    # Embeeding\n",
        "    product_color_idx_input = tf.keras.Input(shape=(1,), name='product_color_idx')   \n",
        "    product_color_embedding = tf.keras.layers.Embedding(idx[0].max()+1, 8, input_length=1, name='product_color_embedding')(product_color_idx_input)\n",
        "    product_color_embedding = tf.keras.layers.Flatten()(product_color_embedding)\n",
        "\n",
        "    product_size_idx_input = tf.keras.Input(shape=(1,), name='product_size_idx')   \n",
        "    product_size_embedding = tf.keras.layers.Embedding(idx[1].max()+1, 8, input_length=1, name='product_size_embedding')(product_size_idx_input)\n",
        "    product_size_embedding = tf.keras.layers.Flatten()(product_size_embedding)\n",
        "\n",
        "    merchant_idx_input = tf.keras.Input(shape=(1,), name='merchant_idx')   \n",
        "    merchant_embedding = tf.keras.layers.Embedding(idx[2].max()+1, 8, input_length=1, name='merchant_embedding')(merchant_idx_input)\n",
        "    merchant_embedding = tf.keras.layers.Flatten()(merchant_embedding)\n",
        "\n",
        "    product_idx_input = tf.keras.Input(shape=(1,), name='product_idx')   \n",
        "    product_embedding = tf.keras.layers.Embedding(idx[3].max()+1, 8, input_length=1, name='product_embedding')(product_idx_input)\n",
        "    product_embedding = tf.keras.layers.Flatten()(product_embedding)\n",
        "\n",
        "  \n",
        "\n",
        "    concatenated = tf.keras.layers.Concatenate()([features_input, product_color_embedding,  product_size_embedding,  \n",
        "                                                  merchant_embedding, product_embedding])\n",
        "\n",
        "    out = tf.keras.layers.Dense(100)(concatenated)\n",
        "    out = tf.keras.layers.Activation('relu')(out)\n",
        "    out = tf.keras.layers.Dense(100)(out)\n",
        "    out = tf.keras.layers.Activation('relu')(out)\n",
        "    out = tf.keras.layers.Dense(1)(out)\n",
        "    out = tf.keras.layers.Activation('linear')(out)\n",
        "\n",
        "    model = tf.keras.Model(\n",
        "        inputs = [features_input, product_color_idx_input,  product_size_idx_input, merchant_idx_input, product_idx_input],\n",
        "        outputs = out,\n",
        "    )\n",
        "    model.compile(\n",
        "    optimizer=tf.keras.optimizers.Adam(learning_rate=0.001),\n",
        "    loss='MeanSquaredError', metrics='MeanAbsolutePercentageError')\n",
        "\n",
        "    return model"
      ],
      "execution_count": null,
      "outputs": [
        {
          "output_type": "stream",
          "text": [
            "time: 35.1 ms (started: 2021-01-04 20:28:12 +00:00)\n"
          ],
          "name": "stdout"
        }
      ]
    },
    {
      "cell_type": "code",
      "metadata": {
        "id": "RHmTuJWIJOSl",
        "colab": {
          "base_uri": "https://localhost:8080/",
          "height": 594
        },
        "outputId": "c1192019-ca87-4e57-d192-0ded90e1cc05"
      },
      "source": [
        "model_embedding = create_model_embedding()\n",
        "plot_model(model_embedding, to_file='model_plot.png', show_shapes=True, show_layer_names=True)"
      ],
      "execution_count": null,
      "outputs": [
        {
          "output_type": "execute_result",
          "data": {
            "image/png": "[encoded data removed]",
            "text/plain": [
              "<IPython.core.display.Image object>"
            ]
          },
          "metadata": {
            "tags": []
          },
          "execution_count": 44
        },
        {
          "output_type": "stream",
          "text": [
            "time: 449 ms (started: 2021-01-04 20:28:14 +00:00)\n"
          ],
          "name": "stdout"
        }
      ]
    },
    {
      "cell_type": "code",
      "metadata": {
        "id": "DJdkDYR4HuGV"
      },
      "source": [
        "nn_model_sk = KerasRegressor(build_fn = create_model_embedding, \n",
        "                                 epochs=100, \n",
        "                                 batch_size=64, \n",
        "                                 verbose=False)\n",
        "X = np.concatenate([x_train_emb_norm.astype(np.float32), idx_train['product_color'].astype(np.float32).to_numpy().reshape(-1,1),\n",
        "      idx_train['product_variation_size_id'].astype(np.float32).to_numpy().reshape(-1,1), idx_train['merchant_id'].astype(np.float32).to_numpy().reshape(-1,1),\n",
        "     idx_train['product_id'].astype(np.float32).to_numpy().reshape(-1,1)], axis=1)\n",
        "\n",
        "nn_scores = cross_val_score(nn_model_sk, X , y_train_emb_norm.ravel().reshape(-1, 1), cv=5)\n",
        "print('Scores NN:  {}'.format(nn_scores))\n",
        "print('Mean Score NN:  {}'.format(nn_scores.mean()))"
      ],
      "execution_count": null,
      "outputs": []
    },
    {
      "cell_type": "code",
      "metadata": {
        "id": "iFXemJUEJROT",
        "colab": {
          "base_uri": "https://localhost:8080/"
        },
        "outputId": "c18c5037-1bc5-447e-bd42-128adbee936c"
      },
      "source": [
        "model_embedding.fit(\n",
        "    [x_train_emb_norm.astype(np.float32), idx_train['product_color'].astype(np.float32),\n",
        "      idx_train['product_variation_size_id'].astype(np.float32), idx_train['merchant_id'].astype(np.float32),\n",
        "     idx_train['product_id'].astype(np.float32)], \n",
        "    y_train_emb_norm.astype(np.float32),\n",
        "    epochs=100,\n",
        "    batch_size=16,\n",
        "    validation_data=([x_test_emb_norm.astype(np.float32), idx_test['product_color'].astype(np.float32),\n",
        "     idx_test['product_variation_size_id'].astype(np.float32), idx_test['merchant_id'].astype(np.float32),\n",
        "     idx_test['product_id'].astype(np.float32)], y_test_emb_norm),\n",
        "    )"
      ],
      "execution_count": null,
      "outputs": [
        {
          "output_type": "stream",
          "text": [
            "Epoch 1/100\n",
            "81/81 [==============================] - 2s 10ms/step - loss: 0.5999 - mean_absolute_percentage_error: 87.4670 - val_loss: 0.3548 - val_mean_absolute_percentage_error: 74.6140\n",
            "Epoch 2/100\n",
            "81/81 [==============================] - 0s 4ms/step - loss: 0.2879 - mean_absolute_percentage_error: 56.2759 - val_loss: 0.3380 - val_mean_absolute_percentage_error: 68.4777\n",
            "Epoch 3/100\n",
            "81/81 [==============================] - 0s 4ms/step - loss: 0.2637 - mean_absolute_percentage_error: 65.6968 - val_loss: 0.2939 - val_mean_absolute_percentage_error: 90.1669\n",
            "Epoch 4/100\n",
            "81/81 [==============================] - 0s 4ms/step - loss: 0.1757 - mean_absolute_percentage_error: 73.7641 - val_loss: 0.2920 - val_mean_absolute_percentage_error: 72.7408\n",
            "Epoch 5/100\n",
            "81/81 [==============================] - 0s 4ms/step - loss: 0.1818 - mean_absolute_percentage_error: 61.0954 - val_loss: 0.2799 - val_mean_absolute_percentage_error: 86.1677\n",
            "Epoch 6/100\n",
            "81/81 [==============================] - 0s 5ms/step - loss: 0.1630 - mean_absolute_percentage_error: 56.3579 - val_loss: 0.3074 - val_mean_absolute_percentage_error: 74.0222\n",
            "Epoch 7/100\n",
            "81/81 [==============================] - 0s 4ms/step - loss: 0.1476 - mean_absolute_percentage_error: 61.9752 - val_loss: 0.2764 - val_mean_absolute_percentage_error: 91.5561\n",
            "Epoch 8/100\n",
            "81/81 [==============================] - 0s 4ms/step - loss: 0.1437 - mean_absolute_percentage_error: 50.2613 - val_loss: 0.2986 - val_mean_absolute_percentage_error: 59.8602\n",
            "Epoch 9/100\n",
            "81/81 [==============================] - 0s 4ms/step - loss: 0.1362 - mean_absolute_percentage_error: 50.0391 - val_loss: 0.2678 - val_mean_absolute_percentage_error: 52.0538\n",
            "Epoch 10/100\n",
            "81/81 [==============================] - 0s 5ms/step - loss: 0.1203 - mean_absolute_percentage_error: 49.9142 - val_loss: 0.3088 - val_mean_absolute_percentage_error: 56.5685\n",
            "Epoch 11/100\n",
            "81/81 [==============================] - 0s 5ms/step - loss: 0.1594 - mean_absolute_percentage_error: 53.6918 - val_loss: 0.2924 - val_mean_absolute_percentage_error: 80.3578\n",
            "Epoch 12/100\n",
            "81/81 [==============================] - 0s 5ms/step - loss: 0.1843 - mean_absolute_percentage_error: 52.3117 - val_loss: 0.3001 - val_mean_absolute_percentage_error: 86.1200\n",
            "Epoch 13/100\n",
            "81/81 [==============================] - 0s 5ms/step - loss: 0.1050 - mean_absolute_percentage_error: 47.7253 - val_loss: 0.2777 - val_mean_absolute_percentage_error: 60.4020\n",
            "Epoch 14/100\n",
            "81/81 [==============================] - 0s 5ms/step - loss: 0.0807 - mean_absolute_percentage_error: 45.8600 - val_loss: 0.2991 - val_mean_absolute_percentage_error: 64.4597\n",
            "Epoch 15/100\n",
            "81/81 [==============================] - 0s 5ms/step - loss: 0.0929 - mean_absolute_percentage_error: 44.5871 - val_loss: 0.3123 - val_mean_absolute_percentage_error: 51.3987\n",
            "Epoch 16/100\n",
            "81/81 [==============================] - 0s 5ms/step - loss: 0.1015 - mean_absolute_percentage_error: 44.5014 - val_loss: 0.3151 - val_mean_absolute_percentage_error: 60.9562\n",
            "Epoch 17/100\n",
            "81/81 [==============================] - 0s 4ms/step - loss: 0.0729 - mean_absolute_percentage_error: 43.9899 - val_loss: 0.3215 - val_mean_absolute_percentage_error: 55.5887\n",
            "Epoch 18/100\n",
            "81/81 [==============================] - 0s 4ms/step - loss: 0.0841 - mean_absolute_percentage_error: 46.7722 - val_loss: 0.3125 - val_mean_absolute_percentage_error: 79.1170\n",
            "Epoch 19/100\n",
            "81/81 [==============================] - 0s 4ms/step - loss: 0.0888 - mean_absolute_percentage_error: 46.0830 - val_loss: 0.3078 - val_mean_absolute_percentage_error: 64.2198\n",
            "Epoch 20/100\n",
            "81/81 [==============================] - 0s 5ms/step - loss: 0.0712 - mean_absolute_percentage_error: 48.8630 - val_loss: 0.3279 - val_mean_absolute_percentage_error: 71.3733\n",
            "Epoch 21/100\n",
            "81/81 [==============================] - 0s 5ms/step - loss: 0.0558 - mean_absolute_percentage_error: 37.2584 - val_loss: 0.3281 - val_mean_absolute_percentage_error: 64.7451\n",
            "Epoch 22/100\n",
            "81/81 [==============================] - 0s 5ms/step - loss: 0.0526 - mean_absolute_percentage_error: 39.6734 - val_loss: 0.3278 - val_mean_absolute_percentage_error: 65.1851\n",
            "Epoch 23/100\n",
            "81/81 [==============================] - 0s 4ms/step - loss: 0.0587 - mean_absolute_percentage_error: 39.1768 - val_loss: 0.3224 - val_mean_absolute_percentage_error: 78.1637\n",
            "Epoch 24/100\n",
            "81/81 [==============================] - 0s 4ms/step - loss: 0.0737 - mean_absolute_percentage_error: 45.5954 - val_loss: 0.3703 - val_mean_absolute_percentage_error: 60.7268\n",
            "Epoch 25/100\n",
            "81/81 [==============================] - 0s 4ms/step - loss: 0.0544 - mean_absolute_percentage_error: 39.0362 - val_loss: 0.3412 - val_mean_absolute_percentage_error: 74.5120\n",
            "Epoch 26/100\n",
            "81/81 [==============================] - 0s 4ms/step - loss: 0.0557 - mean_absolute_percentage_error: 49.2770 - val_loss: 0.3329 - val_mean_absolute_percentage_error: 64.4337\n",
            "Epoch 27/100\n",
            "81/81 [==============================] - 0s 4ms/step - loss: 0.0532 - mean_absolute_percentage_error: 36.9694 - val_loss: 0.3674 - val_mean_absolute_percentage_error: 70.1767\n",
            "Epoch 28/100\n",
            "81/81 [==============================] - 0s 4ms/step - loss: 0.0583 - mean_absolute_percentage_error: 45.6514 - val_loss: 0.3255 - val_mean_absolute_percentage_error: 55.4142\n",
            "Epoch 29/100\n",
            "81/81 [==============================] - 0s 4ms/step - loss: 0.0640 - mean_absolute_percentage_error: 45.3437 - val_loss: 0.3655 - val_mean_absolute_percentage_error: 55.7810\n",
            "Epoch 30/100\n",
            "81/81 [==============================] - 0s 4ms/step - loss: 0.0478 - mean_absolute_percentage_error: 39.9678 - val_loss: 0.3541 - val_mean_absolute_percentage_error: 57.4323\n",
            "Epoch 31/100\n",
            "81/81 [==============================] - 0s 4ms/step - loss: 0.0405 - mean_absolute_percentage_error: 30.2526 - val_loss: 0.3621 - val_mean_absolute_percentage_error: 56.7831\n",
            "Epoch 32/100\n",
            "81/81 [==============================] - 0s 4ms/step - loss: 0.0384 - mean_absolute_percentage_error: 33.5051 - val_loss: 0.3502 - val_mean_absolute_percentage_error: 59.3007\n",
            "Epoch 33/100\n",
            "81/81 [==============================] - 0s 4ms/step - loss: 0.0290 - mean_absolute_percentage_error: 28.4195 - val_loss: 0.3715 - val_mean_absolute_percentage_error: 55.6444\n",
            "Epoch 34/100\n",
            "81/81 [==============================] - 0s 4ms/step - loss: 0.0392 - mean_absolute_percentage_error: 34.6024 - val_loss: 0.3683 - val_mean_absolute_percentage_error: 71.5329\n",
            "Epoch 35/100\n",
            "81/81 [==============================] - 0s 4ms/step - loss: 0.0388 - mean_absolute_percentage_error: 36.6208 - val_loss: 0.3589 - val_mean_absolute_percentage_error: 61.1043\n",
            "Epoch 36/100\n",
            "81/81 [==============================] - 0s 5ms/step - loss: 0.0399 - mean_absolute_percentage_error: 34.5203 - val_loss: 0.3542 - val_mean_absolute_percentage_error: 54.7144\n",
            "Epoch 37/100\n",
            "81/81 [==============================] - 0s 5ms/step - loss: 0.0412 - mean_absolute_percentage_error: 36.5303 - val_loss: 0.3745 - val_mean_absolute_percentage_error: 58.3694\n",
            "Epoch 38/100\n",
            "81/81 [==============================] - 0s 5ms/step - loss: 0.0464 - mean_absolute_percentage_error: 35.5396 - val_loss: 0.3581 - val_mean_absolute_percentage_error: 53.1227\n",
            "Epoch 39/100\n",
            "81/81 [==============================] - 0s 4ms/step - loss: 0.0495 - mean_absolute_percentage_error: 29.8672 - val_loss: 0.3548 - val_mean_absolute_percentage_error: 58.3946\n",
            "Epoch 40/100\n",
            "81/81 [==============================] - 0s 5ms/step - loss: 0.0423 - mean_absolute_percentage_error: 37.0313 - val_loss: 0.3731 - val_mean_absolute_percentage_error: 62.4216\n",
            "Epoch 41/100\n",
            "81/81 [==============================] - 0s 5ms/step - loss: 0.0274 - mean_absolute_percentage_error: 32.5009 - val_loss: 0.3693 - val_mean_absolute_percentage_error: 67.0604\n",
            "Epoch 42/100\n",
            "81/81 [==============================] - 0s 6ms/step - loss: 0.0270 - mean_absolute_percentage_error: 27.8360 - val_loss: 0.3688 - val_mean_absolute_percentage_error: 62.2993\n",
            "Epoch 43/100\n",
            "81/81 [==============================] - 0s 4ms/step - loss: 0.0204 - mean_absolute_percentage_error: 23.2283 - val_loss: 0.3872 - val_mean_absolute_percentage_error: 61.3171\n",
            "Epoch 44/100\n",
            "81/81 [==============================] - 0s 4ms/step - loss: 0.0203 - mean_absolute_percentage_error: 28.1589 - val_loss: 0.3640 - val_mean_absolute_percentage_error: 59.2056\n",
            "Epoch 45/100\n",
            "81/81 [==============================] - 0s 5ms/step - loss: 0.0197 - mean_absolute_percentage_error: 24.4193 - val_loss: 0.3761 - val_mean_absolute_percentage_error: 56.0296\n",
            "Epoch 46/100\n",
            "81/81 [==============================] - 0s 5ms/step - loss: 0.0178 - mean_absolute_percentage_error: 28.4018 - val_loss: 0.3720 - val_mean_absolute_percentage_error: 56.6130\n",
            "Epoch 47/100\n",
            "81/81 [==============================] - 0s 4ms/step - loss: 0.0150 - mean_absolute_percentage_error: 21.0236 - val_loss: 0.3700 - val_mean_absolute_percentage_error: 55.5647\n",
            "Epoch 48/100\n",
            "81/81 [==============================] - 0s 5ms/step - loss: 0.0196 - mean_absolute_percentage_error: 23.2783 - val_loss: 0.3704 - val_mean_absolute_percentage_error: 55.8915\n",
            "Epoch 49/100\n",
            "81/81 [==============================] - 0s 4ms/step - loss: 0.0193 - mean_absolute_percentage_error: 23.9254 - val_loss: 0.3776 - val_mean_absolute_percentage_error: 55.0638\n",
            "Epoch 50/100\n",
            "81/81 [==============================] - 0s 5ms/step - loss: 0.0170 - mean_absolute_percentage_error: 23.2120 - val_loss: 0.3652 - val_mean_absolute_percentage_error: 53.7274\n",
            "Epoch 51/100\n",
            "81/81 [==============================] - 0s 5ms/step - loss: 0.0231 - mean_absolute_percentage_error: 30.4491 - val_loss: 0.4028 - val_mean_absolute_percentage_error: 55.7245\n",
            "Epoch 52/100\n",
            "81/81 [==============================] - 0s 5ms/step - loss: 0.0281 - mean_absolute_percentage_error: 27.3031 - val_loss: 0.3612 - val_mean_absolute_percentage_error: 52.6949\n",
            "Epoch 53/100\n",
            "81/81 [==============================] - 0s 5ms/step - loss: 0.0232 - mean_absolute_percentage_error: 28.7592 - val_loss: 0.3724 - val_mean_absolute_percentage_error: 56.3381\n",
            "Epoch 54/100\n",
            "81/81 [==============================] - 0s 5ms/step - loss: 0.0366 - mean_absolute_percentage_error: 27.9523 - val_loss: 0.3738 - val_mean_absolute_percentage_error: 55.4483\n",
            "Epoch 55/100\n",
            "81/81 [==============================] - 0s 4ms/step - loss: 0.0164 - mean_absolute_percentage_error: 28.8509 - val_loss: 0.3697 - val_mean_absolute_percentage_error: 55.5696\n",
            "Epoch 56/100\n",
            "81/81 [==============================] - 0s 4ms/step - loss: 0.0151 - mean_absolute_percentage_error: 25.6753 - val_loss: 0.3809 - val_mean_absolute_percentage_error: 55.7445\n",
            "Epoch 57/100\n",
            "81/81 [==============================] - 0s 4ms/step - loss: 0.0130 - mean_absolute_percentage_error: 20.0089 - val_loss: 0.3674 - val_mean_absolute_percentage_error: 52.5776\n",
            "Epoch 58/100\n",
            "81/81 [==============================] - 0s 4ms/step - loss: 0.0138 - mean_absolute_percentage_error: 22.0346 - val_loss: 0.3768 - val_mean_absolute_percentage_error: 60.6929\n",
            "Epoch 59/100\n",
            "81/81 [==============================] - 0s 5ms/step - loss: 0.0092 - mean_absolute_percentage_error: 20.1303 - val_loss: 0.3812 - val_mean_absolute_percentage_error: 54.7372\n",
            "Epoch 60/100\n",
            "81/81 [==============================] - 0s 5ms/step - loss: 0.0096 - mean_absolute_percentage_error: 18.9833 - val_loss: 0.3670 - val_mean_absolute_percentage_error: 54.6039\n",
            "Epoch 61/100\n",
            "81/81 [==============================] - 0s 4ms/step - loss: 0.0095 - mean_absolute_percentage_error: 21.7156 - val_loss: 0.3741 - val_mean_absolute_percentage_error: 56.2213\n",
            "Epoch 62/100\n",
            "81/81 [==============================] - 0s 4ms/step - loss: 0.0089 - mean_absolute_percentage_error: 20.7922 - val_loss: 0.3853 - val_mean_absolute_percentage_error: 58.4433\n",
            "Epoch 63/100\n",
            "81/81 [==============================] - 0s 4ms/step - loss: 0.0098 - mean_absolute_percentage_error: 18.8992 - val_loss: 0.3737 - val_mean_absolute_percentage_error: 52.9471\n",
            "Epoch 64/100\n",
            "81/81 [==============================] - 0s 5ms/step - loss: 0.0086 - mean_absolute_percentage_error: 19.6839 - val_loss: 0.3748 - val_mean_absolute_percentage_error: 54.8555\n",
            "Epoch 65/100\n",
            "81/81 [==============================] - 0s 5ms/step - loss: 0.0105 - mean_absolute_percentage_error: 20.0342 - val_loss: 0.3744 - val_mean_absolute_percentage_error: 55.0326\n",
            "Epoch 66/100\n",
            "81/81 [==============================] - 0s 4ms/step - loss: 0.0085 - mean_absolute_percentage_error: 15.9798 - val_loss: 0.3852 - val_mean_absolute_percentage_error: 64.5373\n",
            "Epoch 67/100\n",
            "81/81 [==============================] - 0s 4ms/step - loss: 0.0153 - mean_absolute_percentage_error: 23.5577 - val_loss: 0.3824 - val_mean_absolute_percentage_error: 60.7942\n",
            "Epoch 68/100\n",
            "81/81 [==============================] - 0s 4ms/step - loss: 0.0183 - mean_absolute_percentage_error: 29.1355 - val_loss: 0.3659 - val_mean_absolute_percentage_error: 69.1575\n",
            "Epoch 69/100\n",
            "81/81 [==============================] - 0s 4ms/step - loss: 0.0111 - mean_absolute_percentage_error: 16.8068 - val_loss: 0.3855 - val_mean_absolute_percentage_error: 65.4827\n",
            "Epoch 70/100\n",
            "81/81 [==============================] - 0s 4ms/step - loss: 0.0084 - mean_absolute_percentage_error: 19.0464 - val_loss: 0.3779 - val_mean_absolute_percentage_error: 59.3912\n",
            "Epoch 71/100\n",
            "81/81 [==============================] - 0s 5ms/step - loss: 0.0083 - mean_absolute_percentage_error: 16.8460 - val_loss: 0.3844 - val_mean_absolute_percentage_error: 55.5726\n",
            "Epoch 72/100\n",
            "81/81 [==============================] - 0s 4ms/step - loss: 0.0098 - mean_absolute_percentage_error: 20.3941 - val_loss: 0.3655 - val_mean_absolute_percentage_error: 54.8267\n",
            "Epoch 73/100\n",
            "81/81 [==============================] - 0s 5ms/step - loss: 0.0150 - mean_absolute_percentage_error: 20.2929 - val_loss: 0.3847 - val_mean_absolute_percentage_error: 56.2787\n",
            "Epoch 74/100\n",
            "81/81 [==============================] - 0s 5ms/step - loss: 0.0121 - mean_absolute_percentage_error: 19.0882 - val_loss: 0.3621 - val_mean_absolute_percentage_error: 60.4054\n",
            "Epoch 75/100\n",
            "81/81 [==============================] - 0s 5ms/step - loss: 0.0102 - mean_absolute_percentage_error: 19.5270 - val_loss: 0.3722 - val_mean_absolute_percentage_error: 59.0844\n",
            "Epoch 76/100\n",
            "81/81 [==============================] - 0s 6ms/step - loss: 0.0093 - mean_absolute_percentage_error: 16.0712 - val_loss: 0.3805 - val_mean_absolute_percentage_error: 60.9368\n",
            "Epoch 77/100\n",
            "81/81 [==============================] - 0s 4ms/step - loss: 0.0093 - mean_absolute_percentage_error: 17.2859 - val_loss: 0.3790 - val_mean_absolute_percentage_error: 54.2827\n",
            "Epoch 78/100\n",
            "81/81 [==============================] - 0s 4ms/step - loss: 0.0066 - mean_absolute_percentage_error: 15.2216 - val_loss: 0.3839 - val_mean_absolute_percentage_error: 56.3158\n",
            "Epoch 79/100\n",
            "81/81 [==============================] - 0s 4ms/step - loss: 0.0077 - mean_absolute_percentage_error: 15.6601 - val_loss: 0.3787 - val_mean_absolute_percentage_error: 61.3527\n",
            "Epoch 80/100\n",
            "81/81 [==============================] - 0s 4ms/step - loss: 0.0069 - mean_absolute_percentage_error: 16.1555 - val_loss: 0.3898 - val_mean_absolute_percentage_error: 56.0047\n",
            "Epoch 81/100\n",
            "81/81 [==============================] - 0s 4ms/step - loss: 0.0063 - mean_absolute_percentage_error: 13.0319 - val_loss: 0.3769 - val_mean_absolute_percentage_error: 57.2841\n",
            "Epoch 82/100\n",
            "81/81 [==============================] - 0s 4ms/step - loss: 0.0052 - mean_absolute_percentage_error: 14.5875 - val_loss: 0.4030 - val_mean_absolute_percentage_error: 55.6875\n",
            "Epoch 83/100\n",
            "81/81 [==============================] - 0s 5ms/step - loss: 0.0059 - mean_absolute_percentage_error: 13.2672 - val_loss: 0.3731 - val_mean_absolute_percentage_error: 57.1237\n",
            "Epoch 84/100\n",
            "81/81 [==============================] - 0s 5ms/step - loss: 0.0092 - mean_absolute_percentage_error: 18.3937 - val_loss: 0.3875 - val_mean_absolute_percentage_error: 55.4399\n",
            "Epoch 85/100\n",
            "81/81 [==============================] - 0s 5ms/step - loss: 0.0095 - mean_absolute_percentage_error: 17.1824 - val_loss: 0.3869 - val_mean_absolute_percentage_error: 58.2424\n",
            "Epoch 86/100\n",
            "81/81 [==============================] - 0s 5ms/step - loss: 0.0113 - mean_absolute_percentage_error: 15.8546 - val_loss: 0.3726 - val_mean_absolute_percentage_error: 59.5801\n",
            "Epoch 87/100\n",
            "81/81 [==============================] - 0s 4ms/step - loss: 0.0166 - mean_absolute_percentage_error: 23.2439 - val_loss: 0.3762 - val_mean_absolute_percentage_error: 53.5046\n",
            "Epoch 88/100\n",
            "81/81 [==============================] - 0s 5ms/step - loss: 0.0072 - mean_absolute_percentage_error: 18.9017 - val_loss: 0.3896 - val_mean_absolute_percentage_error: 58.1780\n",
            "Epoch 89/100\n",
            "81/81 [==============================] - 0s 4ms/step - loss: 0.0091 - mean_absolute_percentage_error: 17.7720 - val_loss: 0.3818 - val_mean_absolute_percentage_error: 54.9857\n",
            "Epoch 90/100\n",
            "81/81 [==============================] - 0s 5ms/step - loss: 0.0094 - mean_absolute_percentage_error: 15.8229 - val_loss: 0.3823 - val_mean_absolute_percentage_error: 61.4603\n",
            "Epoch 91/100\n",
            "81/81 [==============================] - 0s 5ms/step - loss: 0.0081 - mean_absolute_percentage_error: 15.7758 - val_loss: 0.3897 - val_mean_absolute_percentage_error: 56.5896\n",
            "Epoch 92/100\n",
            "81/81 [==============================] - 0s 5ms/step - loss: 0.0057 - mean_absolute_percentage_error: 15.5817 - val_loss: 0.3631 - val_mean_absolute_percentage_error: 54.0011\n",
            "Epoch 93/100\n",
            "81/81 [==============================] - 0s 5ms/step - loss: 0.0073 - mean_absolute_percentage_error: 15.4524 - val_loss: 0.3952 - val_mean_absolute_percentage_error: 64.4489\n",
            "Epoch 94/100\n",
            "81/81 [==============================] - 0s 5ms/step - loss: 0.0085 - mean_absolute_percentage_error: 19.1093 - val_loss: 0.3853 - val_mean_absolute_percentage_error: 66.2620\n",
            "Epoch 95/100\n",
            "81/81 [==============================] - 0s 5ms/step - loss: 0.0078 - mean_absolute_percentage_error: 15.1806 - val_loss: 0.3767 - val_mean_absolute_percentage_error: 58.2681\n",
            "Epoch 96/100\n",
            "81/81 [==============================] - 0s 5ms/step - loss: 0.0090 - mean_absolute_percentage_error: 14.1076 - val_loss: 0.3709 - val_mean_absolute_percentage_error: 51.6587\n",
            "Epoch 97/100\n",
            "81/81 [==============================] - 0s 5ms/step - loss: 0.0084 - mean_absolute_percentage_error: 14.4565 - val_loss: 0.3893 - val_mean_absolute_percentage_error: 59.5123\n",
            "Epoch 98/100\n",
            "81/81 [==============================] - 0s 5ms/step - loss: 0.0070 - mean_absolute_percentage_error: 12.3687 - val_loss: 0.3736 - val_mean_absolute_percentage_error: 53.9482\n",
            "Epoch 99/100\n",
            "81/81 [==============================] - 0s 4ms/step - loss: 0.0068 - mean_absolute_percentage_error: 13.2550 - val_loss: 0.3806 - val_mean_absolute_percentage_error: 55.6013\n",
            "Epoch 100/100\n",
            "81/81 [==============================] - 0s 4ms/step - loss: 0.0196 - mean_absolute_percentage_error: 19.1337 - val_loss: 0.3723 - val_mean_absolute_percentage_error: 56.6152\n"
          ],
          "name": "stdout"
        },
        {
          "output_type": "execute_result",
          "data": {
            "text/plain": [
              "<tensorflow.python.keras.callbacks.History at 0x7f07da21ae80>"
            ]
          },
          "metadata": {
            "tags": []
          },
          "execution_count": 46
        },
        {
          "output_type": "stream",
          "text": [
            "time: 38.9 s (started: 2021-01-04 20:28:24 +00:00)\n"
          ],
          "name": "stdout"
        }
      ]
    },
    {
      "cell_type": "markdown",
      "metadata": {
        "id": "kf94ztYGSRW0"
      },
      "source": [
        "#### Guardar modelos y datos preprocesados"
      ]
    },
    {
      "cell_type": "code",
      "metadata": {
        "id": "gajGT_wY-jZV"
      },
      "source": [
        "def save_model(model, name='model'):\n",
        "  model_path = \"/content/drive/MyDrive/Alfonso/CEIA/Bimestre III/Machine Learning II/\" + str(name)\n",
        "  # serialize model to JSON\n",
        "  model_json = model.to_json()\n",
        "  with open(model_path + \".json\", \"w\") as json_file:\n",
        "      json_file.write(model_json)\n",
        "  # serialize weights to HDF5\n",
        "  model.save_weights(model_path + \".h5\")\n",
        "  print(\"Saved model to disk\")\n",
        "  return \"Saved\"\n",
        " \n",
        "def load_model(name='model'):\n",
        "  model_path = \"/content/drive/MyDrive/Alfonso/CEIA/Bimestre III/Machine Learning II/\" + str(name)\n",
        "  # load json and create model\n",
        "  json_file = open(model_path + \".json\", 'r')\n",
        "  loaded_model_json = json_file.read()\n",
        "  json_file.close()\n",
        "  loaded_model = model_from_json(loaded_model_json)\n",
        "  # load weights into new model\n",
        "  loaded_model.load_weights(model_path + \".h5\")\n",
        "  return loaded_model"
      ],
      "execution_count": null,
      "outputs": []
    },
    {
      "cell_type": "code",
      "metadata": {
        "colab": {
          "base_uri": "https://localhost:8080/"
        },
        "id": "ZSivLdXy_4Kh",
        "outputId": "e52ba12c-caca-4256-f131-ae8e00ee4918"
      },
      "source": [
        "import pickle\n",
        "PICKLE_PATH = '/content/drive/MyDrive/Alfonso/CEIA/Bimestre III/Machine Learning II/'\n",
        "data = [x_train, x_train_norm, x_test, x_test_norm, y_train, y_train_norm, y_test, y_test_norm]\n",
        "with open(PICKLE_PATH+'/preprocessed_data', 'wb') as f:\n",
        "    pickle.dump(data, f)\n",
        "with open(PICKLE_PATH+'/linear_regression', 'wb') as f:\n",
        "    pickle.dump(lr_model, f)\n",
        "with open(PICKLE_PATH+'/poly_regression', 'wb') as f:\n",
        "    pickle.dump(clf, f)\n",
        "with open(PICKLE_PATH+'/random_forest', 'wb') as f:\n",
        "    pickle.dump(rf_model, f)\n",
        "with open(PICKLE_PATH+'/svm', 'wb') as f:\n",
        "    pickle.dump(svm_model, f)"
      ],
      "execution_count": null,
      "outputs": [
        {
          "output_type": "stream",
          "text": [
            "time: 52.2 ms (started: 2021-01-04 20:29:19 +00:00)\n"
          ],
          "name": "stdout"
        }
      ]
    },
    {
      "cell_type": "code",
      "metadata": {
        "colab": {
          "base_uri": "https://localhost:8080/",
          "height": 69
        },
        "id": "ebIOhC-n245n",
        "outputId": "062b2230-bbc0-418b-8b12-2301da70c66d"
      },
      "source": [
        "save_model(nn_model, name='model_nn')\n",
        "save_model(model_embedding, name='model_embedding')"
      ],
      "execution_count": null,
      "outputs": [
        {
          "output_type": "stream",
          "text": [
            "Saved model to disk\n",
            "Saved model to disk\n"
          ],
          "name": "stdout"
        },
        {
          "output_type": "execute_result",
          "data": {
            "application/vnd.google.colaboratory.intrinsic+json": {
              "type": "string"
            },
            "text/plain": [
              "'Saved'"
            ]
          },
          "metadata": {
            "tags": []
          },
          "execution_count": 55
        },
        {
          "output_type": "stream",
          "text": [
            "time: 61.1 ms (started: 2021-01-04 20:33:18 +00:00)\n"
          ],
          "name": "stdout"
        }
      ]
    },
    {
      "cell_type": "code",
      "metadata": {
        "colab": {
          "base_uri": "https://localhost:8080/",
          "height": 330
        },
        "id": "h_oal_d1WD3L",
        "outputId": "2730c07b-b106-4740-8265-3a4a3ddc75c3"
      },
      "source": [
        "save_model(lr_model, name='Linear Regression')\n",
        "save_model(clf, name='Polynomial Regression')\n",
        "save_model(rf_model, name='Random Forest')\n",
        "save_model(svm_model, name='Support Vector Machine')\n",
        "save_model(nn_model_sk, name='Neural Network')\n",
        "save_model(model_embedding, name='Neural Network with Embeddings')"
      ],
      "execution_count": null,
      "outputs": [
        {
          "output_type": "error",
          "ename": "AttributeError",
          "evalue": "ignored",
          "traceback": [
            "\u001b[0;31m---------------------------------------------------------------------------\u001b[0m",
            "\u001b[0;31mAttributeError\u001b[0m                            Traceback (most recent call last)",
            "\u001b[0;32m<ipython-input-50-14c2df9034b8>\u001b[0m in \u001b[0;36m<module>\u001b[0;34m()\u001b[0m\n\u001b[1;32m      3\u001b[0m \u001b[0;31m#save_model(rf_model, name='Random Forest')\u001b[0m\u001b[0;34m\u001b[0m\u001b[0;34m\u001b[0m\u001b[0;34m\u001b[0m\u001b[0m\n\u001b[1;32m      4\u001b[0m \u001b[0;31m#save_model(svm_model, name='Support Vector Machine')\u001b[0m\u001b[0;34m\u001b[0m\u001b[0;34m\u001b[0m\u001b[0;34m\u001b[0m\u001b[0m\n\u001b[0;32m----> 5\u001b[0;31m \u001b[0msave_model\u001b[0m\u001b[0;34m(\u001b[0m\u001b[0mnn_model_sk\u001b[0m\u001b[0;34m,\u001b[0m \u001b[0mname\u001b[0m\u001b[0;34m=\u001b[0m\u001b[0;34m'Neural Network'\u001b[0m\u001b[0;34m)\u001b[0m\u001b[0;34m\u001b[0m\u001b[0;34m\u001b[0m\u001b[0m\n\u001b[0m\u001b[1;32m      6\u001b[0m \u001b[0msave_model\u001b[0m\u001b[0;34m(\u001b[0m\u001b[0mmodel_embedding\u001b[0m\u001b[0;34m,\u001b[0m \u001b[0mname\u001b[0m\u001b[0;34m=\u001b[0m\u001b[0;34m'Neural Network with Embeddings'\u001b[0m\u001b[0;34m)\u001b[0m\u001b[0;34m\u001b[0m\u001b[0;34m\u001b[0m\u001b[0m\n",
            "\u001b[0;32m<ipython-input-42-4e862ea78d96>\u001b[0m in \u001b[0;36msave_model\u001b[0;34m(model, name)\u001b[0m\n\u001b[1;32m      2\u001b[0m   \u001b[0mmodel_path\u001b[0m \u001b[0;34m=\u001b[0m \u001b[0;34m\"/content/drive/MyDrive/Alfonso/CEIA/Bimestre III/NLP/\"\u001b[0m \u001b[0;34m+\u001b[0m \u001b[0mstr\u001b[0m\u001b[0;34m(\u001b[0m\u001b[0mname\u001b[0m\u001b[0;34m)\u001b[0m\u001b[0;34m\u001b[0m\u001b[0;34m\u001b[0m\u001b[0m\n\u001b[1;32m      3\u001b[0m   \u001b[0;31m# serialize model to JSON\u001b[0m\u001b[0;34m\u001b[0m\u001b[0;34m\u001b[0m\u001b[0;34m\u001b[0m\u001b[0m\n\u001b[0;32m----> 4\u001b[0;31m   \u001b[0mmodel_json\u001b[0m \u001b[0;34m=\u001b[0m \u001b[0mmodel\u001b[0m\u001b[0;34m.\u001b[0m\u001b[0mto_json\u001b[0m\u001b[0;34m(\u001b[0m\u001b[0;34m)\u001b[0m\u001b[0;34m\u001b[0m\u001b[0;34m\u001b[0m\u001b[0m\n\u001b[0m\u001b[1;32m      5\u001b[0m   \u001b[0;32mwith\u001b[0m \u001b[0mopen\u001b[0m\u001b[0;34m(\u001b[0m\u001b[0mmodel_path\u001b[0m \u001b[0;34m+\u001b[0m \u001b[0;34m\".json\"\u001b[0m\u001b[0;34m,\u001b[0m \u001b[0;34m\"w\"\u001b[0m\u001b[0;34m)\u001b[0m \u001b[0;32mas\u001b[0m \u001b[0mjson_file\u001b[0m\u001b[0;34m:\u001b[0m\u001b[0;34m\u001b[0m\u001b[0;34m\u001b[0m\u001b[0m\n\u001b[1;32m      6\u001b[0m       \u001b[0mjson_file\u001b[0m\u001b[0;34m.\u001b[0m\u001b[0mwrite\u001b[0m\u001b[0;34m(\u001b[0m\u001b[0mmodel_json\u001b[0m\u001b[0;34m)\u001b[0m\u001b[0;34m\u001b[0m\u001b[0;34m\u001b[0m\u001b[0m\n",
            "\u001b[0;31mAttributeError\u001b[0m: 'KerasRegressor' object has no attribute 'to_json'"
          ]
        }
      ]
    },
    {
      "cell_type": "markdown",
      "metadata": {
        "id": "UwOAdTASZjGH"
      },
      "source": [
        "## Comparacion"
      ]
    },
    {
      "cell_type": "code",
      "metadata": {
        "id": "wDdVG-9PHGW6",
        "colab": {
          "base_uri": "https://localhost:8080/",
          "height": 438
        },
        "outputId": "f06f22ef-2877-4730-d403-a99d0161da00"
      },
      "source": [
        "# Para comparar los modelos, se grafican las evoluciones de las métrica r2 y la función de costo MSE en función\n",
        "# del tamaño del dataset de entrenamiento. Las curvas obtenidas provienen de realizar un cross-validation de 5 folds \n",
        "# y computar el valor medio de las métricas calculadas.\n",
        "# Se observa como la red neuronal performa mejor que el modelo de Random Forest y bastante mejor que el SVM (podrían ajustarse un poco\n",
        "# más los parámetros) al obtener un mejor r2 y una menor función de costo. No se incluyo al modelo con embedding ya que no se logro realizar\n",
        "# la cross validation para una entrada tipo lista (train + embeddings). En caso de lograrse en el transcurso de los días siguientes,\n",
        "# se verá reflejado el cambio y la posterior comparación. De todas maneras, mediante el entrenamiento realizado más arriba podemos \n",
        "# asegurar que mejora el valor de MSE, aunque no sustancialmente.\n",
        "fig, ax = plt.subplots(nrows=1, ncols=2, figsize=(18, 6))\n",
        "plt.style.use('seaborn')\n",
        "\n",
        "ax[0].plot(train_sizes, -rf_train_mse.mean(axis=1), label = 'Random Forest')\n",
        "ax[0].plot(train_sizes, -svm_train_mse.mean(axis=1), label = 'Support Vector Machine')\n",
        "ax[0].plot(train_sizes, -nn_train_mse.mean(axis=1), label = 'Neural Network')\n",
        "#plt.plot(train_sizes, valid_scores_mean, label = 'Validation error')\n",
        "ax[0].set_ylabel('Metric: RSME ', fontsize = 14)\n",
        "ax[0].set_xlabel('Training set size', fontsize = 14)\n",
        "ax[0].set_title('Learning curves for model' , fontsize = 18, y = 1.03)\n",
        "ax[0].legend()\n",
        "\n",
        "plt.style.use('seaborn')\n",
        "ax[1].plot(train_sizes, rf_train_r2.mean(axis=1), label = 'Random Forest')\n",
        "ax[1].plot(train_sizes, svm_train_r2.mean(axis=1), label = 'Support Vector Machine')\n",
        "ax[1].plot(train_sizes, nn_train_r2.mean(axis=1), label = 'Neural Network')\n",
        "#plt.plot(train_sizes, valid_scores_mean, label = 'Validation error')\n",
        "ax[1].set_ylabel('Metric: r2 ', fontsize = 14)\n",
        "ax[1].set_xlabel('Training set size', fontsize = 14)\n",
        "ax[1].set_title('Learning curves for model' , fontsize = 18, y = 1.03)\n",
        "ax[1].legend()"
      ],
      "execution_count": null,
      "outputs": [
        {
          "output_type": "execute_result",
          "data": {
            "text/plain": [
              "<matplotlib.legend.Legend at 0x7f9ac6322860>"
            ]
          },
          "metadata": {
            "tags": []
          },
          "execution_count": 152
        },
        {
          "output_type": "display_data",
          "data": {
            "image/png": "[encoded data removed]",
            "text/plain": [
              "<Figure size 1296x432 with 2 Axes>"
            ]
          },
          "metadata": {
            "tags": []
          }
        }
      ]
    },
    {
      "cell_type": "code",
      "metadata": {
        "id": "w7EpxGlPsc7Z",
        "colab": {
          "base_uri": "https://localhost:8080/",
          "height": 438
        },
        "outputId": "61131f1b-0ff6-48cf-b8ca-906c4eca486f"
      },
      "source": [
        "# Para comparar los modelos, se grafican las evoluciones de las métrica r2 y la función de costo MSE en función\n",
        "# del tamaño del dataset de validación. Las curvas obtenidas provienen de realizar un cross-validation de 5 folds \n",
        "# y computar el valor medio de las métricas calculadas.\n",
        "# Se observa como el modelo de Random Forest es que mejor genereliza para el set de validación. Podemos suponer \n",
        "# entonces que el modelo de redes neuronal esta sufriendo de overfitting (para solucionar esto se podría agregar regularización \n",
        "# o simplemente simplificar el modelo).\n",
        "fig, ax1 = plt.subplots(nrows=1, ncols=2, figsize=(18, 6))\n",
        "plt.style.use('seaborn')\n",
        "\n",
        "ax1[0].plot(train_sizes, -rf_valid_mse.mean(axis=1), label = 'Random Forest')\n",
        "ax1[0].plot(train_sizes, -svm_valid_mse.mean(axis=1), label = 'Support Vector Machine')\n",
        "ax1[0].plot(train_sizes, -nn_valid_mse.mean(axis=1), label = 'Neural Network')\n",
        "#plt.plot(train_sizes, valid_scores_mean, label = 'Validation error')\n",
        "ax1[0].set_ylabel('Metric: RSME ', fontsize = 14)\n",
        "ax1[0].set_xlabel('Validation set size', fontsize = 14)\n",
        "ax1[0].set_title('Learning curves for model' , fontsize = 18, y = 1.03)\n",
        "ax1[0].legend()\n",
        "\n",
        "plt.style.use('seaborn')\n",
        "ax1[1].plot(train_sizes, rf_valid_r2.mean(axis=1), label = 'Random Forest')\n",
        "ax1[1].plot(train_sizes, svm_valid_r2.mean(axis=1), label = 'Support Vector Machine')\n",
        "ax1[1].plot(train_sizes, nn_valid_r2.mean(axis=1), label = 'Neural Network')\n",
        "#plt.plot(train_sizes, valid_scores_mean, label = 'Validation error')\n",
        "ax1[1].set_ylabel('Metric: r2 ', fontsize = 14)\n",
        "ax1[1].set_xlabel('Validation set size', fontsize = 14)\n",
        "ax1[1].set_title('Learning curves for model' , fontsize = 18, y = 1.03)\n",
        "ax1[1].legend()"
      ],
      "execution_count": null,
      "outputs": [
        {
          "output_type": "execute_result",
          "data": {
            "text/plain": [
              "<matplotlib.legend.Legend at 0x7fc47b66f320>"
            ]
          },
          "metadata": {
            "tags": []
          },
          "execution_count": 89
        },
        {
          "output_type": "display_data",
          "data": {
            "image/png": "[encoded data removed]",
            "text/plain": [
              "<Figure size 1296x432 with 2 Axes>"
            ]
          },
          "metadata": {
            "tags": []
          }
        }
      ]
    },
    {
      "cell_type": "markdown",
      "metadata": {
        "id": "asX4UZWBMPqr"
      },
      "source": [
        "# Machine Learning II"
      ]
    },
    {
      "cell_type": "markdown",
      "metadata": {
        "id": "HV5NYQFQNjoN"
      },
      "source": [
        "## Carga de datos y modelos anteriores"
      ]
    },
    {
      "cell_type": "code",
      "metadata": {
        "colab": {
          "base_uri": "https://localhost:8080/"
        },
        "id": "GLMrgmmnI1jY",
        "outputId": "e8edc52b-dc71-4341-fa5a-f18eff416bb4"
      },
      "source": [
        "%%capture\n",
        "!pip install ipython-autotime\n",
        "%load_ext autotime"
      ],
      "execution_count": null,
      "outputs": [
        {
          "output_type": "stream",
          "text": [
            "time: 250 µs (started: 2021-01-07 13:18:11 +00:00)\n"
          ],
          "name": "stdout"
        }
      ]
    },
    {
      "cell_type": "code",
      "metadata": {
        "colab": {
          "base_uri": "https://localhost:8080/"
        },
        "id": "GbanWNmEVp_x",
        "outputId": "42a11478-82af-4c86-c34e-c8decb560e5c"
      },
      "source": [
        "PICKLE_PATH = '/content/drive/MyDrive/Alfonso/CEIA/Bimestre III/Machine Learning II/'\n",
        "\n",
        "with open(PICKLE_PATH+'/preprocessed_data', 'rb') as f:\n",
        "    data = pickle.load(f)\n",
        "(x_train, x_train_norm, x_test, x_test_norm, y_train, y_train_norm, y_test, y_test_norm) = data"
      ],
      "execution_count": null,
      "outputs": [
        {
          "output_type": "stream",
          "text": [
            "time: 2.55 s (started: 2021-01-07 13:18:11 +00:00)\n"
          ],
          "name": "stdout"
        }
      ]
    },
    {
      "cell_type": "code",
      "metadata": {
        "colab": {
          "base_uri": "https://localhost:8080/"
        },
        "id": "Q0I67TJk2c5h",
        "outputId": "1727d56c-5612-4939-c56a-c659bba3f766"
      },
      "source": [
        "with open(PICKLE_PATH+'/linear_regression', 'rb') as f:\n",
        "    lr_model = pickle.load(f)\n",
        "with open(PICKLE_PATH+'/poly_regression', 'rb') as f:\n",
        "    clf = pickle.load(f)\n",
        "with open(PICKLE_PATH+'/random_forest', 'rb') as f:\n",
        "    rf_model = pickle.load(f)\n",
        "with open(PICKLE_PATH+'/svm', 'rb') as f:\n",
        "    svm_model = pickle.load(f)\n",
        "#with open(PICKLE_PATH+'/neural_network', 'rb') as f:\n",
        "#    nn_model_sk = pickle.load(f)"
      ],
      "execution_count": null,
      "outputs": [
        {
          "output_type": "stream",
          "text": [
            "time: 2.67 s (started: 2021-01-07 13:18:13 +00:00)\n"
          ],
          "name": "stdout"
        }
      ]
    },
    {
      "cell_type": "code",
      "metadata": {
        "colab": {
          "base_uri": "https://localhost:8080/"
        },
        "id": "yggFaW1E4Dn_",
        "outputId": "7854247b-85da-42a6-df24-8e92693c7a62"
      },
      "source": [
        "model_nn = load_model(name='model_nn')\n",
        "model_embedding = load_model(name='model_embedding')"
      ],
      "execution_count": null,
      "outputs": [
        {
          "output_type": "stream",
          "text": [
            "time: 8.3 s (started: 2021-01-07 13:18:16 +00:00)\n"
          ],
          "name": "stdout"
        }
      ]
    },
    {
      "cell_type": "markdown",
      "metadata": {
        "id": "TGH3a8TYMUgt"
      },
      "source": [
        "## Hyperparameter Tuning"
      ]
    },
    {
      "cell_type": "markdown",
      "metadata": {
        "id": "R-etJ45GDWUf"
      },
      "source": [
        "La optimización o ajuste de hiperparámetros es el problema de elegir un conjunto de hiperparámetros óptimos para un algoritmo de aprendizaje. Un hiperparámetro es un parámetro cuyo valor se utiliza para controlar el proceso de aprendizaje. \n",
        "\n",
        "Para los próximos análisis se utilizará el modelo Random Forest Regressor obtenido en el trabajo final de la asignatura Machine Learning I. "
      ]
    },
    {
      "cell_type": "code",
      "metadata": {
        "colab": {
          "base_uri": "https://localhost:8080/"
        },
        "id": "d2mA8hlOPcah",
        "outputId": "d68d5235-c3ba-4fa5-84fc-3a0fa2c0212e"
      },
      "source": [
        "rf_model = RandomForestRegressor(n_estimators=100, max_depth=100, random_state=5)\n",
        "rf_model.fit(x_train, y_train)\n",
        "y_test_pred_mod = rf_model.predict(x_test)"
      ],
      "execution_count": null,
      "outputs": [
        {
          "output_type": "stream",
          "text": [
            "time: 1.03 s (started: 2021-01-07 13:19:35 +00:00)\n"
          ],
          "name": "stdout"
        }
      ]
    },
    {
      "cell_type": "markdown",
      "metadata": {
        "id": "P0KFzFSy_xQs"
      },
      "source": [
        "### Grid Search"
      ]
    },
    {
      "cell_type": "markdown",
      "metadata": {
        "id": "NeDN5K5YKjgZ"
      },
      "source": [
        "Grid Search optimiza el modelo para todas las combinaciones posibles de los valores de los hiperparámtros dados. En este caso en particular se tienen 48 casos (144 considerando que el set de entrenamiento se dividió en 3 folds para permitir la validazación cruzada). "
      ]
    },
    {
      "cell_type": "code",
      "metadata": {
        "id": "hHo9s4LrMXDg",
        "colab": {
          "base_uri": "https://localhost:8080/"
        },
        "outputId": "7a975165-ae03-40a2-9165-e074b30a0e91"
      },
      "source": [
        "from sklearn.model_selection import GridSearchCV\n",
        "\n",
        "scoring = 'neg_mean_squared_error'\n",
        "parameters = {'criterion':('mse','mae'), 'n_estimators':[50, 100, 200], 'max_depth':[50, 100], 'min_samples_split':[2, 4], 'min_samples_leaf':[1, 2]}\n",
        "rf_grid = GridSearchCV(RandomForestRegressor(random_state=5),\n",
        "                  param_grid=parameters,\n",
        "                  scoring=scoring,verbose=1, cv=3, refit='r2', return_train_score=True)\n",
        "rf_grid.fit(x_train, y_train.ravel())"
      ],
      "execution_count": null,
      "outputs": [
        {
          "output_type": "stream",
          "text": [
            "Fitting 3 folds for each of 48 candidates, totalling 144 fits\n"
          ],
          "name": "stdout"
        },
        {
          "output_type": "stream",
          "text": [
            "[Parallel(n_jobs=1)]: Using backend SequentialBackend with 1 concurrent workers.\n",
            "[Parallel(n_jobs=1)]: Done 144 out of 144 | elapsed:  7.6min finished\n"
          ],
          "name": "stderr"
        },
        {
          "output_type": "execute_result",
          "data": {
            "text/plain": [
              "GridSearchCV(cv=3, error_score=nan,\n",
              "             estimator=RandomForestRegressor(bootstrap=True, ccp_alpha=0.0,\n",
              "                                             criterion='mse', max_depth=None,\n",
              "                                             max_features='auto',\n",
              "                                             max_leaf_nodes=None,\n",
              "                                             max_samples=None,\n",
              "                                             min_impurity_decrease=0.0,\n",
              "                                             min_impurity_split=None,\n",
              "                                             min_samples_leaf=1,\n",
              "                                             min_samples_split=2,\n",
              "                                             min_weight_fraction_leaf=0.0,\n",
              "                                             n_estimators=100, n_jobs=None,\n",
              "                                             oob_score=False, random_state=5,\n",
              "                                             verbose=0, warm_start=False),\n",
              "             iid='deprecated', n_jobs=None,\n",
              "             param_grid={'criterion': ('mse', 'mae'), 'max_depth': [50, 100],\n",
              "                         'min_samples_leaf': [1, 2],\n",
              "                         'min_samples_split': [2, 4],\n",
              "                         'n_estimators': [50, 100, 200]},\n",
              "             pre_dispatch='2*n_jobs', refit='r2', return_train_score=True,\n",
              "             scoring='neg_mean_squared_error', verbose=1)"
            ]
          },
          "metadata": {
            "tags": []
          },
          "execution_count": 58
        },
        {
          "output_type": "stream",
          "text": [
            "time: 7min 35s (started: 2021-01-05 22:22:10 +00:00)\n"
          ],
          "name": "stdout"
        }
      ]
    },
    {
      "cell_type": "markdown",
      "metadata": {
        "id": "4W5ldiUTH8q9"
      },
      "source": [
        "Posterior al entrenamiento nos quedamos con el modelo que tenga el mejor fit respecto a la métrica R2 Score y comparamos su desempeño contra el modelo original sin tuneo. Podemos observar una leve mejora (~2%) en la métrica sobre el set de testeo.\n",
        "El método es muy costoso computacionalmente y altamente dependiente de los valores elegidos para cada uno de los hiperpárametros, por lo que lo podemos considerar como una opción útil para retoques finos sobre el modelo ya elegido."
      ]
    },
    {
      "cell_type": "code",
      "metadata": {
        "id": "tlycbjPRNknC",
        "colab": {
          "base_uri": "https://localhost:8080/"
        },
        "outputId": "dc6f0498-b6bc-491b-82da-7ec2a0c93085"
      },
      "source": [
        "from sklearn.metrics import r2_score\n",
        "# Predecimos sobre nuestro set de entrenamieto\n",
        "y_train_pred = rf_grid.best_estimator_.predict(x_train)\n",
        "\n",
        "# Predecimos sobre nuestro set de test\n",
        "y_test_pred = rf_grid.best_estimator_.predict(x_test)\n",
        "\n",
        "\n",
        "# Comaparamos con las etiquetas reales\n",
        "print('R2 Score Train Set - Grid Search:', round(r2_score(y_train_pred, y_train), 3))\n",
        "print('R2 Score Test Set - Modelo Original:', round(r2_score(y_test_pred_mod, y_test), 3))\n",
        "print('R2 Score Test Set - Grid Search:', round(r2_score(y_test_pred, y_test), 3))"
      ],
      "execution_count": null,
      "outputs": [
        {
          "output_type": "stream",
          "text": [
            "R2 Score Train Set - Grid Search: 0.972\n",
            "R2 Score Test Set - Modelo Original: 0.62\n",
            "R2 Score Test Set - Grid Search: 0.633\n",
            "time: 79.7 ms (started: 2021-01-05 22:31:49 +00:00)\n"
          ],
          "name": "stdout"
        }
      ]
    },
    {
      "cell_type": "markdown",
      "metadata": {
        "id": "5iHSN0NFJ4l6"
      },
      "source": [
        "### Randomized Search"
      ]
    },
    {
      "cell_type": "markdown",
      "metadata": {
        "id": "H_8z04X9IsqO"
      },
      "source": [
        "Randomized Search optimiza el modelo tomando aleatoriamente combinaciones de parámetros dentros los espacios definidos para los mismos. En este caso particular, se limitó la optimización a 5 iteraciones (25 casos considerando 5 folds para la validación cruzada)."
      ]
    },
    {
      "cell_type": "code",
      "metadata": {
        "colab": {
          "base_uri": "https://localhost:8080/"
        },
        "id": "xxdhB1YjJ_-T",
        "outputId": "e01d7e57-40c8-428e-810f-ca6e94cb5e49"
      },
      "source": [
        "from sklearn.model_selection import RandomizedSearchCV\n",
        "\n",
        "parameters = {'criterion':['mse','mae'], 'n_estimators':list(np.linspace(10, 200, 10, dtype=int)), 'max_depth':list(np.linspace(10, 100, 10, dtype=int)), \n",
        "              'min_samples_split':list(np.linspace(2, 10, 1, dtype=int)), 'min_samples_leaf':list(np.linspace(1, 6, 1, dtype=int))}\n",
        "rf_randsr = RandomizedSearchCV(RandomForestRegressor(random_state=5),\n",
        "                  param_distributions=parameters, n_iter= 5,\n",
        "                  scoring=scoring,verbose=1, cv=5, refit='r2', return_train_score=True)\n",
        "rf_randsr.fit(x_train, y_train)"
      ],
      "execution_count": null,
      "outputs": [
        {
          "output_type": "stream",
          "text": [
            "Fitting 5 folds for each of 5 candidates, totalling 25 fits\n"
          ],
          "name": "stdout"
        },
        {
          "output_type": "stream",
          "text": [
            "[Parallel(n_jobs=1)]: Using backend SequentialBackend with 1 concurrent workers.\n",
            "[Parallel(n_jobs=1)]: Done  25 out of  25 | elapsed:  1.7min finished\n"
          ],
          "name": "stderr"
        },
        {
          "output_type": "execute_result",
          "data": {
            "text/plain": [
              "RandomizedSearchCV(cv=5, error_score=nan,\n",
              "                   estimator=RandomForestRegressor(bootstrap=True,\n",
              "                                                   ccp_alpha=0.0,\n",
              "                                                   criterion='mse',\n",
              "                                                   max_depth=None,\n",
              "                                                   max_features='auto',\n",
              "                                                   max_leaf_nodes=None,\n",
              "                                                   max_samples=None,\n",
              "                                                   min_impurity_decrease=0.0,\n",
              "                                                   min_impurity_split=None,\n",
              "                                                   min_samples_leaf=1,\n",
              "                                                   min_samples_split=2,\n",
              "                                                   min_weight_fraction_leaf=0.0,\n",
              "                                                   n_estimators=100,\n",
              "                                                   n_jobs=None, oob_score=Fals...\n",
              "                   iid='deprecated', n_iter=5, n_jobs=None,\n",
              "                   param_distributions={'criterion': ['mse', 'mae'],\n",
              "                                        'max_depth': [10, 20, 30, 40, 50, 60,\n",
              "                                                      70, 80, 90, 100],\n",
              "                                        'min_samples_leaf': [1],\n",
              "                                        'min_samples_split': [2],\n",
              "                                        'n_estimators': [10, 31, 52, 73, 94,\n",
              "                                                         115, 136, 157, 178,\n",
              "                                                         200]},\n",
              "                   pre_dispatch='2*n_jobs', random_state=None, refit='r2',\n",
              "                   return_train_score=True, scoring='neg_mean_squared_error',\n",
              "                   verbose=1)"
            ]
          },
          "metadata": {
            "tags": []
          },
          "execution_count": 60
        },
        {
          "output_type": "stream",
          "text": [
            "time: 1min 55s (started: 2021-01-05 22:32:06 +00:00)\n"
          ],
          "name": "stdout"
        }
      ]
    },
    {
      "cell_type": "markdown",
      "metadata": {
        "id": "xww_cbyIJDkw"
      },
      "source": [
        "Se elegió al modelo con mejor desempeño respecto a la métrica R2 Score y se lo evaluó sobre el set de testeo. Se observa una mejora en el resultado respecto a Grid Search (64,8% vs 63,3%), con un número aproximadamente 6 veces menor de optimizaciones y un tiempo 4 veces menor. Es un método más rápido y efeciente, pero muy dependiente del rango de valores elegido para los hiperparámentros y sin considerar ninguna otra condición respecto de los mismos."
      ]
    },
    {
      "cell_type": "code",
      "metadata": {
        "colab": {
          "base_uri": "https://localhost:8080/"
        },
        "id": "VbOOuIgmKDQU",
        "outputId": "8ccd7df8-c6e5-48f0-d938-cd2635f79aff"
      },
      "source": [
        "from sklearn.metrics import r2_score\n",
        "# Predecimos sobre nuestro set de entrenamieto\n",
        "y_train_pred = rf_randsr.best_estimator_.predict(x_train)\n",
        "\n",
        "# Predecimos sobre nuestro set de test\n",
        "y_test_pred = rf_randsr.best_estimator_.predict(x_test)\n",
        "\n",
        "# Comaparamos con las etiquetas reales\n",
        "print('R2 Score Train Set - Random Search:', round(r2_score(y_train_pred, y_train), 3))\n",
        "print('R2 Score Test Set - Modelo Original:', round(r2_score(y_test_pred_mod, y_test), 3))\n",
        "print('R2 Score Test Set - Random Search:', round(r2_score(y_test_pred, y_test), 3))"
      ],
      "execution_count": null,
      "outputs": [
        {
          "output_type": "stream",
          "text": [
            "R2 Score Train Set - Random Search: 0.97\n",
            "R2 Score Test Set - Modelo Original: 0.62\n",
            "R2 Score Test Set - Random Search: 0.648\n",
            "time: 50 ms (started: 2021-01-05 22:34:05 +00:00)\n"
          ],
          "name": "stdout"
        }
      ]
    },
    {
      "cell_type": "markdown",
      "metadata": {
        "id": "Dfg7REwgXoSh"
      },
      "source": [
        "### Automated Hyperparameter tuning"
      ]
    },
    {
      "cell_type": "markdown",
      "metadata": {
        "id": "W6Jwdp0sLFag"
      },
      "source": [
        "Los resultados recientes sugieren que la optimización hiperparamétrica bayesiana de los modelos de aprendizaje es más eficiente que los demás métodos, generando un mejor rendimiento general en el conjunto de pruebas y menor tiempo para la optimización. "
      ]
    },
    {
      "cell_type": "code",
      "metadata": {
        "colab": {
          "base_uri": "https://localhost:8080/"
        },
        "id": "cM7Rc5YVXybZ",
        "outputId": "d36d06ff-b7d3-482c-f9a9-413175ccdc15"
      },
      "source": [
        "from hyperopt import hp, fmin, tpe, STATUS_OK, Trials"
      ],
      "execution_count": null,
      "outputs": [
        {
          "output_type": "stream",
          "text": [
            "time: 674 ms (started: 2021-01-07 13:21:21 +00:00)\n"
          ],
          "name": "stdout"
        }
      ]
    },
    {
      "cell_type": "code",
      "metadata": {
        "colab": {
          "base_uri": "https://localhost:8080/"
        },
        "id": "wBpuuZ0jX-wo",
        "outputId": "583a5b9f-1592-4bc1-91df-2a9b07e56b9d"
      },
      "source": [
        "space = {'criterion': hp.choice('criterion', ['mse', 'mae'] ),\n",
        "         'max_depth': hp.quniform('max_depth', 10, 100, 10),\n",
        "         'min_samples_leaf': hp.uniform('min_samples_leaf', 0, 0.5),\n",
        "         'min_samples_split': hp.uniform('min_samples_split', 0, 1)}"
      ],
      "execution_count": null,
      "outputs": [
        {
          "output_type": "stream",
          "text": [
            "time: 3.66 ms (started: 2021-01-07 13:21:22 +00:00)\n"
          ],
          "name": "stdout"
        }
      ]
    },
    {
      "cell_type": "code",
      "metadata": {
        "colab": {
          "base_uri": "https://localhost:8080/"
        },
        "id": "TBg02cIFaCfi",
        "outputId": "823f9e92-7045-4cbb-b976-17099da9cf20"
      },
      "source": [
        "from sklearn.model_selection import cross_val_score\n",
        "def objective(space):\n",
        "  model = RandomForestRegressor(criterion= space['criterion'],\n",
        "                                max_depth = space['max_depth'],\n",
        "                                min_samples_leaf = space['min_samples_leaf'],\n",
        "                                min_samples_split = space['min_samples_split'])\n",
        "  nmse = cross_val_score(model, x_train, y_train, scoring='neg_mean_squared_error', cv=5).mean()\n",
        "  return {'loss': nmse, 'status': STATUS_OK}\n",
        "  "
      ],
      "execution_count": null,
      "outputs": [
        {
          "output_type": "stream",
          "text": [
            "time: 2.81 ms (started: 2021-01-07 13:21:24 +00:00)\n"
          ],
          "name": "stdout"
        }
      ]
    },
    {
      "cell_type": "code",
      "metadata": {
        "colab": {
          "base_uri": "https://localhost:8080/"
        },
        "id": "cdh8UOvobPBY",
        "outputId": "c95eb5c2-aadb-409a-9bd6-fba33f2c74af"
      },
      "source": [
        "trials = Trials()\n",
        "best = fmin(fn=objective,\n",
        "            space=space,\n",
        "            algo=tpe.suggest,\n",
        "            max_evals= 50,\n",
        "            trials=trials)"
      ],
      "execution_count": null,
      "outputs": [
        {
          "output_type": "stream",
          "text": [
            "100%|██████████| 50/50 [01:29<00:00,  1.79s/it, best loss: -3325375830.3315997]\n",
            "time: 1min 29s (started: 2021-01-07 13:28:15 +00:00)\n"
          ],
          "name": "stdout"
        }
      ]
    },
    {
      "cell_type": "code",
      "metadata": {
        "colab": {
          "base_uri": "https://localhost:8080/"
        },
        "id": "iEiphM7xB7PP",
        "outputId": "f2d6dc69-baaf-4538-93cd-bf02d389f459"
      },
      "source": [
        "best"
      ],
      "execution_count": null,
      "outputs": [
        {
          "output_type": "execute_result",
          "data": {
            "text/plain": [
              "{'criterion': 1,\n",
              " 'max_depth': 90.0,\n",
              " 'min_samples_leaf': 0.29014348346456165,\n",
              " 'min_samples_split': 0.8749836691871121}"
            ]
          },
          "metadata": {
            "tags": []
          },
          "execution_count": 17
        },
        {
          "output_type": "stream",
          "text": [
            "time: 6.46 ms (started: 2021-01-07 13:29:46 +00:00)\n"
          ],
          "name": "stdout"
        }
      ]
    },
    {
      "cell_type": "code",
      "metadata": {
        "colab": {
          "base_uri": "https://localhost:8080/"
        },
        "id": "TpQEP4yxbpKN",
        "outputId": "b20f0152-0878-4328-f3c3-8d90c7a72234"
      },
      "source": [
        "rf_automated = RandomForestRegressor(criterion='mae',\n",
        "                                     max_depth = best['max_depth'],\n",
        "                                     min_samples_leaf = best['min_samples_leaf'],\n",
        "                                     min_samples_split = best['min_samples_split']\n",
        "                                     ).fit(x_train, y_train)"
      ],
      "execution_count": null,
      "outputs": [
        {
          "output_type": "stream",
          "text": [
            "time: 200 ms (started: 2021-01-07 13:31:49 +00:00)\n"
          ],
          "name": "stdout"
        }
      ]
    },
    {
      "cell_type": "code",
      "metadata": {
        "colab": {
          "base_uri": "https://localhost:8080/"
        },
        "id": "CzRnrb5Bf37r",
        "outputId": "f1ebcb5e-e3e9-4080-eebd-9b93884572c8"
      },
      "source": [
        "from sklearn.metrics import r2_score\n",
        "# Predecimos sobre nuestro set de entrenamieto\n",
        "y_train_pred = rf_automated.predict(x_train)\n",
        "\n",
        "# Predecimos sobre nuestro set de test\n",
        "y_test_pred = rf_automated.predict(x_test)\n",
        "\n",
        "# Comaparamos con las etiquetas reales\n",
        "print('R2 Score Train Set - Automated:', round(r2_score(y_train_pred, y_train), 3))\n",
        "print('R2 Score Test Set - Modelo Original:', round(r2_score(y_test_pred_mod, y_test), 3))\n",
        "print('R2 Score Test Set - Automated:', round(r2_score(y_test_pred, y_test), 3))"
      ],
      "execution_count": null,
      "outputs": [
        {
          "output_type": "stream",
          "text": [
            "R2 Score Train Set - Automated: 0.0\n",
            "R2 Score Test Set - Modelo Original: 0.62\n",
            "R2 Score Test Set - Automated: 0.0\n",
            "time: 46.4 ms (started: 2021-01-07 13:31:51 +00:00)\n"
          ],
          "name": "stdout"
        }
      ]
    },
    {
      "cell_type": "markdown",
      "metadata": {
        "id": "q07fp2c4MZUu"
      },
      "source": [
        "## Reducción de dimensionalidad"
      ]
    },
    {
      "cell_type": "markdown",
      "metadata": {
        "id": "eCJNhkJGOcuG"
      },
      "source": [
        "Los métodos de reducción de dimensionalidad apuntan a reducir la cantidad de variables de un dataset, con el objetivo de poder visualizar la información o para limitarnos al uso de la variables que expliquen el mayor porcentaje de la varianza de los datos.\n",
        "\n",
        "En este caso particular compararemos distintos métodos, mostrando su visualización y su desempeño respecto al dataset en cuestión."
      ]
    },
    {
      "cell_type": "code",
      "metadata": {
        "colab": {
          "base_uri": "https://localhost:8080/"
        },
        "id": "w3URzIRme8Yp",
        "outputId": "8f159201-f428-4f06-8cf3-1d62232b7d31"
      },
      "source": [
        "import plotly.graph_objects as go\n",
        "def plot_2d(component1, component2):\n",
        "    \n",
        "    fig = go.Figure(data=go.Scatter(\n",
        "        x = component1,\n",
        "        y = component2,\n",
        "        mode='markers',\n",
        "        marker=dict(\n",
        "            size=20,\n",
        "            color=component2, #set color equal to a variable\n",
        "            colorscale='Rainbow', # one of plotly colorscales\n",
        "            showscale=True,\n",
        "            line_width=1\n",
        "        )\n",
        "    ))\n",
        "    fig.update_layout(margin=dict( l=100,r=100,b=100,t=100),width=2000,height=1200)                 \n",
        "    fig.layout.template = 'plotly_dark'\n",
        "    \n",
        "    fig.show()\n",
        "\n",
        "def plot_3d(component1,component2,component3):\n",
        "    fig = go.Figure(data=[go.Scatter3d(\n",
        "        x=component1,\n",
        "        y=component2,\n",
        "        z=component3,\n",
        "        mode='markers',\n",
        "        marker=dict(\n",
        "            size=10,\n",
        "            color=component2,                # set color to an array/list of desired values\n",
        "            colorscale='Rainbow',   # choose a colorscale\n",
        "            opacity=1,\n",
        "            line_width=1\n",
        "        )\n",
        "    )])\n",
        "# tight layout\n",
        "    fig.update_layout(margin=dict(l=50,r=50,b=50,t=50),width=1800,height=1000)\n",
        "    fig.layout.template = 'plotly_dark'\n",
        "    \n",
        "    fig.show()"
      ],
      "execution_count": null,
      "outputs": [
        {
          "output_type": "stream",
          "text": [
            "time: 16.9 ms (started: 2021-01-05 21:42:09 +00:00)\n"
          ],
          "name": "stdout"
        }
      ]
    },
    {
      "cell_type": "markdown",
      "metadata": {
        "id": "OaBtYgg-BY30"
      },
      "source": [
        "#### PCA"
      ]
    },
    {
      "cell_type": "markdown",
      "metadata": {
        "id": "pwhE_MZwPFad"
      },
      "source": [
        "Aplicamos PCA (Principal Component Analysis) para reducir el dataset a 3 dimensiones."
      ]
    },
    {
      "cell_type": "code",
      "metadata": {
        "id": "ABWYuraCMeil"
      },
      "source": [
        "from sklearn.decomposition import PCA\n",
        "x_pca = PCA(3)\n",
        "\n",
        "x_train_pca = x_pca.fit_transform(x_train)\n",
        "x_test_pca = x_pca.transform(x_test)"
      ],
      "execution_count": null,
      "outputs": []
    },
    {
      "cell_type": "code",
      "metadata": {
        "colab": {
          "base_uri": "https://localhost:8080/"
        },
        "id": "OA9p5K07IAoe",
        "outputId": "20873eaa-c0b6-48c3-a748-0707cf8f1ce0"
      },
      "source": [
        "rf_pca = RandomForestRegressor(n_estimators=100, max_depth=100, random_state=5)\n",
        "rf_pca.fit(x_train_pca, y_train)"
      ],
      "execution_count": null,
      "outputs": [
        {
          "output_type": "execute_result",
          "data": {
            "text/plain": [
              "RandomForestRegressor(bootstrap=True, ccp_alpha=0.0, criterion='mse',\n",
              "                      max_depth=100, max_features='auto', max_leaf_nodes=None,\n",
              "                      max_samples=None, min_impurity_decrease=0.0,\n",
              "                      min_impurity_split=None, min_samples_leaf=1,\n",
              "                      min_samples_split=2, min_weight_fraction_leaf=0.0,\n",
              "                      n_estimators=100, n_jobs=None, oob_score=False,\n",
              "                      random_state=5, verbose=0, warm_start=False)"
            ]
          },
          "metadata": {
            "tags": []
          },
          "execution_count": 42
        },
        {
          "output_type": "stream",
          "text": [
            "time: 441 ms (started: 2021-01-05 21:41:04 +00:00)\n"
          ],
          "name": "stdout"
        }
      ]
    },
    {
      "cell_type": "markdown",
      "metadata": {
        "id": "nOED6bPtPbzI"
      },
      "source": [
        "Entrenamos el modelo original con los datos reducidos y observamos una pequeña reducción en el desempeño de la métrica. Esto quiere decir que el modelo logra explicar un gran porcentaje de la varianza de los datos con sólo 3 componentes."
      ]
    },
    {
      "cell_type": "code",
      "metadata": {
        "colab": {
          "base_uri": "https://localhost:8080/"
        },
        "id": "iPBNFKFtIFoA",
        "outputId": "809f2f36-b678-4e70-df06-dd9b48220fa7"
      },
      "source": [
        "from sklearn.metrics import r2_score\n",
        "# Predecimos sobre nuestro set de entrenamieto\n",
        "y_train_pred = rf_pca.predict(x_train_pca)\n",
        "\n",
        "# Predecimos sobre nuestro set de test\n",
        "y_test_pred = rf_pca.predict(x_test_pca)\n",
        "\n",
        "# Comaparamos con las etiquetas reales\n",
        "print('R2 Score Train Set - PCA:', round(r2_score(y_train_pred, y_train), 3))\n",
        "print('R2 Score Test Set - Modelo Original:', round(r2_score(y_test_pred_mod, y_test), 3))\n",
        "print('R2 Score Test Set - PCA:', round(r2_score(y_test_pred, y_test), 3))"
      ],
      "execution_count": null,
      "outputs": [
        {
          "output_type": "stream",
          "text": [
            "R2 Score Train Set - PCA: 0.96\n",
            "R2 Score Test Set - Modelo Original: 0.62\n",
            "R2 Score Test Set - PCA: 0.609\n",
            "time: 49.6 ms (started: 2021-01-05 21:41:07 +00:00)\n"
          ],
          "name": "stdout"
        }
      ]
    },
    {
      "cell_type": "code",
      "metadata": {
        "colab": {
          "base_uri": "https://localhost:8080/",
          "height": 1000
        },
        "id": "-T4iR92TfGnx",
        "outputId": "936e7d0b-8b06-47c3-cff7-1d67aff941f1"
      },
      "source": [
        "plot_3d(x_test_pca[:,0], x_test_pca[:,1], x_test_pca[:,2])"
      ],
      "execution_count": null,
      "outputs": [
        {
          "output_type": "display_data",
          "data": {
            "text/html": [
              "<html>\n",
              "<head><meta charset=\"utf-8\" /></head>\n",
              "<body>\n",
              "    <div>\n",
              "            <script src=\"https://cdnjs.cloudflare.com/ajax/libs/mathjax/2.7.5/MathJax.js?config=TeX-AMS-MML_SVG\"></script><script type=\"text/javascript\">if (window.MathJax) {MathJax.Hub.Config({SVG: {font: \"STIX-Web\"}});}</script>\n",
              "                <script type=\"text/javascript\">window.PlotlyConfig = {MathJaxConfig: 'local'};</script>\n",
              "        <script src=\"https://cdn.plot.ly/plotly-latest.min.js\"></script>    \n",
              "            <div id=\"81b1f30b-9642-4732-b93c-f750bf8bf906\" class=\"plotly-graph-div\" style=\"height:1000px; width:1800px;\"></div>\n",
              "            <script type=\"text/javascript\">\n",
              "                \n",
              "                    window.PLOTLYENV=window.PLOTLYENV || {};\n",
              "                    \n",
              "                if (document.getElementById(\"81b1f30b-9642-4732-b93c-f750bf8bf906\")) {\n",
              "                    Plotly.newPlot(\n",
              "                        '81b1f30b-9642-4732-b93c-f750bf8bf906',\n",
              "                        [{\"marker\": {\"color\": [-660.0903933578988, -560.5037820330635, 720.6664576849171, -331.04539726252636, 262.4487288908227, -775.9656535434443, -940.4730496771856, -765.398559458781, -885.5757362450878, -754.4259317433934, -575.3473624340702, -664.4988597584975, -793.8040897635649, -771.4790273092832, -769.3704336855293, -724.2898056695262, -57.807823556273114, -732.2155511844887, -817.6920986961168, -725.3451868796756, -760.9617139721132, -1183.753185169544, -783.0772289148139, -774.3126976309991, -667.5993851485798, -429.4296713151363, 1093.467180418979, -841.7924911326935, -795.6954095509558, -714.7383962821456, 2453.8687615299896, -780.3704607054032, -772.0241762430177, -709.7871885841895, -829.0684993092074, -443.2599165226747, 1550.9962178517646, -734.0005346608024, -765.1945392776728, -697.0553540173263, 280.03166881637196, 2020.4618659554558, -697.0285266413066, -780.6544993818561, -698.8898671632738, -700.9339389885953, -697.7171935001768, 525.2529074794155, 334.5297996095291, -677.3165948081397, -804.5942612638637, -640.1743287839876, -524.5138418584818, -735.7594905483012, -872.347080720741, -608.4281457988445, -202.77665384268565, -789.1767892500053, -684.036868489739, -808.875554962551, -1302.1682700046454, -742.3475650725818, -571.341823568034, -934.2247113619821, -409.75273088027, -563.1887742897881, -783.0918163249717, -1269.294343901016, 514.5238426717357, -753.834173036144, -789.0776525160228, -720.0263717857143, 49.365902897789724, -798.3458791066097, -844.9487526937777, 144.15007404131154, 147.43027040993132, 2871.7155974325983, -6.339231589550366, -785.9399853366529, -767.9874623685798, 181.91302846837633, 6458.353992280521, -179.2799560273435, -638.8406332898944, -787.288911597928, -325.2341383624715, 564.7273300485565, -774.1918867802694, -278.9486680036358, -465.7747149852758, -243.29191829547224, -724.8360104147908, 2733.4687322870295, -725.3451912464964, -590.7685751097553, 3958.912138944252, -240.5626167928295, -719.7758003315373, -284.22126784081587, -762.2592498846361, -777.415283794096, -783.0918119581509, -899.8458053826049, -777.9131287323424, -84.07253008020703, -792.9465614405165, -785.1289483204107, -616.8943494053524, -729.3009135460908, -162.8966089913034, 856.479372055495, 450.96028614926416, -753.325974172451, -775.1750958388525, -788.3946749868426, -800.7799457247119, -806.5046625016613, -607.9078628941137, -186.73441092929738, -587.5566175107483, 1232.5678332921557, 922.2535610551781, -775.9656535434443, -761.6861425441634, 3148.823992561317, -747.0471130137744, 498.7365780307801, 151.31265786416978, -124.56432405617684, -310.38569307843085, -564.8466104186447, 455.3457918169076, -643.0887318697149, -1020.9910056620266, 39.05357326792042, 27.986232003909567, -616.4847984644537, -713.7075951692474, -776.3441605063789, -819.253636836527, -799.7016134656128, -705.221227308119], \"colorscale\": [[0.0, \"rgb(150,0,90)\"], [0.125, \"rgb(0,0,200)\"], [0.25, \"rgb(0,25,255)\"], [0.375, \"rgb(0,152,255)\"], [0.5, \"rgb(44,255,150)\"], [0.625, \"rgb(151,255,0)\"], [0.75, \"rgb(255,234,0)\"], [0.875, \"rgb(255,111,0)\"], [1.0, \"rgb(255,0,0)\"]], \"line\": {\"width\": 1}, \"opacity\": 1, \"size\": 10}, \"mode\": \"markers\", \"type\": \"scatter3d\", \"x\": [-23073.322980918125, -14437.877627956455, 1448.1956133158683, 2695.141238379372, -13849.689527592298, -17933.72979543208, 19138.90982877174, -22619.72468572315, 1441.9906806436431, -17840.648057543254, -17591.95540818872, -23532.342911866497, -16177.785811085138, -16531.704263912583, 18734.568477872403, -22194.563600794747, -18946.97806174326, -21735.59170724122, -11470.844809425535, -22729.57179558387, -14790.650076578913, 78787.41538487411, -23568.801727229133, -23725.766206207627, -23512.354128644736, -23395.43693027603, -13298.514198763622, -7680.908466153315, -20049.82148914405, -23491.53864667029, 12593.979706676762, -23668.79061879963, -23344.756141364225, -22498.512105929203, -10860.883710000071, -6040.356930753468, 31318.62013753446, -23629.61224591624, -22650.724596542295, -17479.424030726503, 12585.574504413658, -8662.854663887265, -23265.465871832355, -22732.785651601323, -23547.478631404356, -19975.459436200897, -18709.434678530954, -13793.67877872045, -13175.429128501139, -10866.296686127918, 13595.392086239393, -15003.185809350087, -20617.78413672649, -21724.60404661258, 3053.0544506276615, -16703.074945335924, -22994.555320088562, -23749.82605562632, -17064.37228935963, -16531.848234260513, 115442.23038472081, 52.533810457602534, -22999.97705403007, 14477.900490307951, -21530.346439538156, -19353.919111223157, -20017.775374968965, 102589.2610806194, -7761.670084960148, -22314.675750174236, -23775.82542095013, -13459.485496080408, -14955.523369890698, -13839.785931907008, -9103.931550035111, -20373.19080849192, -12422.126951078904, -12501.577882415944, -3095.647927909837, -23732.813388920247, -23755.74458058982, -19861.05490779601, -12011.806052221875, -14099.397234785645, -2767.0880630783804, -23732.816202781923, 3055.1688408830523, -13174.525544801361, -18125.72675637377, 11484.408513276852, 56315.019167961844, 21746.619645723218, -23569.57752369026, 44256.23213247822, -22729.571795586984, -18731.026448367462, -19115.46488314732, -16708.665534129505, -20017.530569844028, 9525.3738782869, -16103.66497320527, -23741.78016595382, -20017.775374965855, 15205.038663693074, -15843.723655648251, -22114.090835183553, -16416.78507030221, -23667.810135441272, -18968.126010208547, -21531.580119308488, -17996.36146843691, 23702.88430486159, 43396.46940698678, -23159.68209446474, -23419.769654699943, -23748.82287903589, -18011.827723139755, -18515.85415020347, -18855.090265812232, -22873.489896951633, -12181.958918123459, -13833.950614952733, 11489.042140549265, -17933.72979543208, -22890.713985825696, -7700.533932719204, -6027.531698618554, -5958.726006826942, -18693.16334969123, -18243.219005009552, -22748.97198074249, -20186.93494180451, -165.8497877893415, -20726.239407292294, 64412.93446466314, -17781.59225126466, -5747.531993396173, -23313.156000704697, -23628.532820509543, -18468.735535943324, 49339.601801756464, -16703.811518738657, -15843.445606063458], \"y\": [-660.0903933578988, -560.5037820330635, 720.6664576849171, -331.04539726252636, 262.4487288908227, -775.9656535434443, -940.4730496771856, -765.398559458781, -885.5757362450878, -754.4259317433934, -575.3473624340702, -664.4988597584975, -793.8040897635649, -771.4790273092832, -769.3704336855293, -724.2898056695262, -57.807823556273114, -732.2155511844887, -817.6920986961168, -725.3451868796756, -760.9617139721132, -1183.753185169544, -783.0772289148139, -774.3126976309991, -667.5993851485798, -429.4296713151363, 1093.467180418979, -841.7924911326935, -795.6954095509558, -714.7383962821456, 2453.8687615299896, -780.3704607054032, -772.0241762430177, -709.7871885841895, -829.0684993092074, -443.2599165226747, 1550.9962178517646, -734.0005346608024, -765.1945392776728, -697.0553540173263, 280.03166881637196, 2020.4618659554558, -697.0285266413066, -780.6544993818561, -698.8898671632738, -700.9339389885953, -697.7171935001768, 525.2529074794155, 334.5297996095291, -677.3165948081397, -804.5942612638637, -640.1743287839876, -524.5138418584818, -735.7594905483012, -872.347080720741, -608.4281457988445, -202.77665384268565, -789.1767892500053, -684.036868489739, -808.875554962551, -1302.1682700046454, -742.3475650725818, -571.341823568034, -934.2247113619821, -409.75273088027, -563.1887742897881, -783.0918163249717, -1269.294343901016, 514.5238426717357, -753.834173036144, -789.0776525160228, -720.0263717857143, 49.365902897789724, -798.3458791066097, -844.9487526937777, 144.15007404131154, 147.43027040993132, 2871.7155974325983, -6.339231589550366, -785.9399853366529, -767.9874623685798, 181.91302846837633, 6458.353992280521, -179.2799560273435, -638.8406332898944, -787.288911597928, -325.2341383624715, 564.7273300485565, -774.1918867802694, -278.9486680036358, -465.7747149852758, -243.29191829547224, -724.8360104147908, 2733.4687322870295, -725.3451912464964, -590.7685751097553, 3958.912138944252, -240.5626167928295, -719.7758003315373, -284.22126784081587, -762.2592498846361, -777.415283794096, -783.0918119581509, -899.8458053826049, -777.9131287323424, -84.07253008020703, -792.9465614405165, -785.1289483204107, -616.8943494053524, -729.3009135460908, -162.8966089913034, 856.479372055495, 450.96028614926416, -753.325974172451, -775.1750958388525, -788.3946749868426, -800.7799457247119, -806.5046625016613, -607.9078628941137, -186.73441092929738, -587.5566175107483, 1232.5678332921557, 922.2535610551781, -775.9656535434443, -761.6861425441634, 3148.823992561317, -747.0471130137744, 498.7365780307801, 151.31265786416978, -124.56432405617684, -310.38569307843085, -564.8466104186447, 455.3457918169076, -643.0887318697149, -1020.9910056620266, 39.05357326792042, 27.986232003909567, -616.4847984644537, -713.7075951692474, -776.3441605063789, -819.253636836527, -799.7016134656128, -705.221227308119], \"z\": [1.2584295480431504, -47.48854088814597, 99.39033637606525, 33.53478109022123, 53.55038672098405, 10.470419869374624, 1.6471857383359079, 5.938367187214866, 4.331115678685917, 5.923168499451351, 4.167366949121934, 18.971338339906286, 4.297154538475506, 2.245086312384186, 16.099265353262336, 13.147070827490834, -139.20124508951392, -12.139538686559224, 3.8066207453341128, 15.15436180601566, 12.763824673281702, -0.45919585185566053, 6.898586979106246, 10.626737007593144, 1.7052313521344604, -30.130146220814584, -407.9586302075298, 2.7184986469174603, 6.336705189501789, -12.609418007806617, 284.12657681529936, 6.428484652018985, 3.964209574830109, -8.211556175435629, 5.095284957183912, 43.85010834763302, 59.95090113693867, 12.668026346769835, 1.3887436961648552, 15.491992401342172, 38.297444350329684, 235.21526545178048, 9.99798677958866, 6.329549324428723, -19.08671580747325, -10.230893210114065, 5.7693822777097985, -3.2961734816298445, -240.0010211517329, 20.93678941764997, -4.513608810462583, 9.079059847243633, -41.91721370505906, 12.05848152998464, 3.0533810954889846, 3.0592862603548747, 26.756438951354774, 7.240090449298506, -28.69386228770125, 6.972295535267848, -5.689199177879473, 23.287856570835977, -21.529426427807614, 4.669108179771268, -1.5136663950824134, 28.64650312556317, 2.3759293200886207, -3.8232487136850875, 105.31389935965424, 17.209079903774114, 7.269286640624623, -17.95489690721366, 29.09397613069466, 2.811095833380687, 4.534980262729022, 127.3643234750362, 11.600503939940786, 580.0093700118388, 43.92398095149565, 6.726695845038022, 5.04215197639316, -59.39555226156446, -557.4956820160724, 44.48179468552176, -28.22770669360231, 5.921047457316011, 55.570292813491356, -49.66971241120703, 2.1822490376511343, 36.451554222910644, 12.339187228935446, -7.18879909105885, 1.811195699196442, -555.1714434277002, 15.154391311452551, -49.397323491647015, 87.2085033600571, -101.80423264114316, 4.2977021231909545, 35.498348069879796, 6.432922716746931, 8.056080486672261, 2.375899814651729, -5.092991007878074, -3.876752294503468, 2.7364965777643713, 7.571285560498138, 5.949638527969635, -8.117221967780411, -10.637595884131315, 67.0627654619106, 95.856274291777, 139.3923224984805, 7.822258096267048, 8.255495178114243, 5.803421729859019, 3.291213110936399, 4.599452055470778, -14.69121736332027, 74.12697001857444, 22.661580558966083, 12.19898669136249, 9.396161800345677, 10.470419869374624, 6.471030478153511, -320.81275622353166, -0.30791857941711215, -28.23942610204962, -64.58186205244117, 16.54292804591217, -21.991157892754806, -14.762730611818341, -60.88729449917156, -7.126973617352255, -13.087768735763683, -73.28953899472042, 82.91182702161436, 10.736156790924104, -8.53996844528009, 3.1791559898032937, -0.04520290813369787, 4.881351249976813, -24.212958684160824]}],\n",
              "                        {\"height\": 1000, \"margin\": {\"b\": 50, \"l\": 50, \"r\": 50, \"t\": 50}, \"template\": {\"data\": {\"bar\": [{\"error_x\": {\"color\": \"#f2f5fa\"}, \"error_y\": {\"color\": \"#f2f5fa\"}, \"marker\": {\"line\": {\"color\": \"rgb(17,17,17)\", \"width\": 0.5}}, \"type\": \"bar\"}], \"barpolar\": [{\"marker\": {\"line\": {\"color\": \"rgb(17,17,17)\", \"width\": 0.5}}, \"type\": \"barpolar\"}], \"carpet\": [{\"aaxis\": {\"endlinecolor\": \"#A2B1C6\", \"gridcolor\": \"#506784\", \"linecolor\": \"#506784\", \"minorgridcolor\": \"#506784\", \"startlinecolor\": \"#A2B1C6\"}, \"baxis\": {\"endlinecolor\": \"#A2B1C6\", \"gridcolor\": \"#506784\", \"linecolor\": \"#506784\", \"minorgridcolor\": \"#506784\", \"startlinecolor\": \"#A2B1C6\"}, \"type\": \"carpet\"}], \"choropleth\": [{\"colorbar\": {\"outlinewidth\": 0, \"ticks\": \"\"}, \"type\": \"choropleth\"}], \"contour\": [{\"colorbar\": {\"outlinewidth\": 0, \"ticks\": \"\"}, \"colorscale\": [[0.0, \"#0d0887\"], [0.1111111111111111, \"#46039f\"], [0.2222222222222222, \"#7201a8\"], [0.3333333333333333, \"#9c179e\"], [0.4444444444444444, \"#bd3786\"], [0.5555555555555556, \"#d8576b\"], [0.6666666666666666, \"#ed7953\"], [0.7777777777777778, \"#fb9f3a\"], [0.8888888888888888, \"#fdca26\"], [1.0, \"#f0f921\"]], \"type\": \"contour\"}], \"contourcarpet\": [{\"colorbar\": {\"outlinewidth\": 0, \"ticks\": \"\"}, \"type\": \"contourcarpet\"}], \"heatmap\": [{\"colorbar\": {\"outlinewidth\": 0, \"ticks\": \"\"}, \"colorscale\": [[0.0, \"#0d0887\"], [0.1111111111111111, \"#46039f\"], [0.2222222222222222, \"#7201a8\"], [0.3333333333333333, \"#9c179e\"], [0.4444444444444444, \"#bd3786\"], [0.5555555555555556, \"#d8576b\"], [0.6666666666666666, \"#ed7953\"], [0.7777777777777778, \"#fb9f3a\"], [0.8888888888888888, \"#fdca26\"], [1.0, \"#f0f921\"]], \"type\": \"heatmap\"}], \"heatmapgl\": [{\"colorbar\": {\"outlinewidth\": 0, \"ticks\": \"\"}, \"colorscale\": [[0.0, \"#0d0887\"], [0.1111111111111111, \"#46039f\"], [0.2222222222222222, \"#7201a8\"], [0.3333333333333333, \"#9c179e\"], [0.4444444444444444, \"#bd3786\"], [0.5555555555555556, \"#d8576b\"], [0.6666666666666666, \"#ed7953\"], [0.7777777777777778, \"#fb9f3a\"], [0.8888888888888888, \"#fdca26\"], [1.0, \"#f0f921\"]], \"type\": \"heatmapgl\"}], \"histogram\": [{\"marker\": {\"colorbar\": {\"outlinewidth\": 0, \"ticks\": \"\"}}, \"type\": \"histogram\"}], \"histogram2d\": [{\"colorbar\": {\"outlinewidth\": 0, \"ticks\": \"\"}, \"colorscale\": [[0.0, \"#0d0887\"], [0.1111111111111111, \"#46039f\"], [0.2222222222222222, \"#7201a8\"], [0.3333333333333333, \"#9c179e\"], [0.4444444444444444, \"#bd3786\"], [0.5555555555555556, \"#d8576b\"], [0.6666666666666666, \"#ed7953\"], [0.7777777777777778, \"#fb9f3a\"], [0.8888888888888888, \"#fdca26\"], [1.0, \"#f0f921\"]], \"type\": \"histogram2d\"}], \"histogram2dcontour\": [{\"colorbar\": {\"outlinewidth\": 0, \"ticks\": \"\"}, \"colorscale\": [[0.0, \"#0d0887\"], [0.1111111111111111, \"#46039f\"], [0.2222222222222222, \"#7201a8\"], [0.3333333333333333, \"#9c179e\"], [0.4444444444444444, \"#bd3786\"], [0.5555555555555556, \"#d8576b\"], [0.6666666666666666, \"#ed7953\"], [0.7777777777777778, \"#fb9f3a\"], [0.8888888888888888, \"#fdca26\"], [1.0, \"#f0f921\"]], \"type\": \"histogram2dcontour\"}], \"mesh3d\": [{\"colorbar\": {\"outlinewidth\": 0, \"ticks\": \"\"}, \"type\": \"mesh3d\"}], \"parcoords\": [{\"line\": {\"colorbar\": {\"outlinewidth\": 0, \"ticks\": \"\"}}, \"type\": \"parcoords\"}], \"pie\": [{\"automargin\": true, \"type\": \"pie\"}], \"scatter\": [{\"marker\": {\"line\": {\"color\": \"#283442\"}}, \"type\": \"scatter\"}], \"scatter3d\": [{\"line\": {\"colorbar\": {\"outlinewidth\": 0, \"ticks\": \"\"}}, \"marker\": {\"colorbar\": {\"outlinewidth\": 0, \"ticks\": \"\"}}, \"type\": \"scatter3d\"}], \"scattercarpet\": [{\"marker\": {\"colorbar\": {\"outlinewidth\": 0, \"ticks\": \"\"}}, \"type\": \"scattercarpet\"}], \"scattergeo\": [{\"marker\": {\"colorbar\": {\"outlinewidth\": 0, \"ticks\": \"\"}}, \"type\": \"scattergeo\"}], \"scattergl\": [{\"marker\": {\"line\": {\"color\": \"#283442\"}}, \"type\": \"scattergl\"}], \"scattermapbox\": [{\"marker\": {\"colorbar\": {\"outlinewidth\": 0, \"ticks\": \"\"}}, \"type\": \"scattermapbox\"}], \"scatterpolar\": [{\"marker\": {\"colorbar\": {\"outlinewidth\": 0, \"ticks\": \"\"}}, \"type\": \"scatterpolar\"}], \"scatterpolargl\": [{\"marker\": {\"colorbar\": {\"outlinewidth\": 0, \"ticks\": \"\"}}, \"type\": \"scatterpolargl\"}], \"scatterternary\": [{\"marker\": {\"colorbar\": {\"outlinewidth\": 0, \"ticks\": \"\"}}, \"type\": \"scatterternary\"}], \"surface\": [{\"colorbar\": {\"outlinewidth\": 0, \"ticks\": \"\"}, \"colorscale\": [[0.0, \"#0d0887\"], [0.1111111111111111, \"#46039f\"], [0.2222222222222222, \"#7201a8\"], [0.3333333333333333, \"#9c179e\"], [0.4444444444444444, \"#bd3786\"], [0.5555555555555556, \"#d8576b\"], [0.6666666666666666, \"#ed7953\"], [0.7777777777777778, \"#fb9f3a\"], [0.8888888888888888, \"#fdca26\"], [1.0, \"#f0f921\"]], \"type\": \"surface\"}], \"table\": [{\"cells\": {\"fill\": {\"color\": \"#506784\"}, \"line\": {\"color\": \"rgb(17,17,17)\"}}, \"header\": {\"fill\": {\"color\": \"#2a3f5f\"}, \"line\": {\"color\": \"rgb(17,17,17)\"}}, \"type\": \"table\"}]}, \"layout\": {\"annotationdefaults\": {\"arrowcolor\": \"#f2f5fa\", \"arrowhead\": 0, \"arrowwidth\": 1}, \"coloraxis\": {\"colorbar\": {\"outlinewidth\": 0, \"ticks\": \"\"}}, \"colorscale\": {\"diverging\": [[0, \"#8e0152\"], [0.1, \"#c51b7d\"], [0.2, \"#de77ae\"], [0.3, \"#f1b6da\"], [0.4, \"#fde0ef\"], [0.5, \"#f7f7f7\"], [0.6, \"#e6f5d0\"], [0.7, \"#b8e186\"], [0.8, \"#7fbc41\"], [0.9, \"#4d9221\"], [1, \"#276419\"]], \"sequential\": [[0.0, \"#0d0887\"], [0.1111111111111111, \"#46039f\"], [0.2222222222222222, \"#7201a8\"], [0.3333333333333333, \"#9c179e\"], [0.4444444444444444, \"#bd3786\"], [0.5555555555555556, \"#d8576b\"], [0.6666666666666666, \"#ed7953\"], [0.7777777777777778, \"#fb9f3a\"], [0.8888888888888888, \"#fdca26\"], [1.0, \"#f0f921\"]], \"sequentialminus\": [[0.0, \"#0d0887\"], [0.1111111111111111, \"#46039f\"], [0.2222222222222222, \"#7201a8\"], [0.3333333333333333, \"#9c179e\"], [0.4444444444444444, \"#bd3786\"], [0.5555555555555556, \"#d8576b\"], [0.6666666666666666, \"#ed7953\"], [0.7777777777777778, \"#fb9f3a\"], [0.8888888888888888, \"#fdca26\"], [1.0, \"#f0f921\"]]}, \"colorway\": [\"#636efa\", \"#EF553B\", \"#00cc96\", \"#ab63fa\", \"#FFA15A\", \"#19d3f3\", \"#FF6692\", \"#B6E880\", \"#FF97FF\", \"#FECB52\"], \"font\": {\"color\": \"#f2f5fa\"}, \"geo\": {\"bgcolor\": \"rgb(17,17,17)\", \"lakecolor\": \"rgb(17,17,17)\", \"landcolor\": \"rgb(17,17,17)\", \"showlakes\": true, \"showland\": true, \"subunitcolor\": \"#506784\"}, \"hoverlabel\": {\"align\": \"left\"}, \"hovermode\": \"closest\", \"mapbox\": {\"style\": \"dark\"}, \"paper_bgcolor\": \"rgb(17,17,17)\", \"plot_bgcolor\": \"rgb(17,17,17)\", \"polar\": {\"angularaxis\": {\"gridcolor\": \"#506784\", \"linecolor\": \"#506784\", \"ticks\": \"\"}, \"bgcolor\": \"rgb(17,17,17)\", \"radialaxis\": {\"gridcolor\": \"#506784\", \"linecolor\": \"#506784\", \"ticks\": \"\"}}, \"scene\": {\"xaxis\": {\"backgroundcolor\": \"rgb(17,17,17)\", \"gridcolor\": \"#506784\", \"gridwidth\": 2, \"linecolor\": \"#506784\", \"showbackground\": true, \"ticks\": \"\", \"zerolinecolor\": \"#C8D4E3\"}, \"yaxis\": {\"backgroundcolor\": \"rgb(17,17,17)\", \"gridcolor\": \"#506784\", \"gridwidth\": 2, \"linecolor\": \"#506784\", \"showbackground\": true, \"ticks\": \"\", \"zerolinecolor\": \"#C8D4E3\"}, \"zaxis\": {\"backgroundcolor\": \"rgb(17,17,17)\", \"gridcolor\": \"#506784\", \"gridwidth\": 2, \"linecolor\": \"#506784\", \"showbackground\": true, \"ticks\": \"\", \"zerolinecolor\": \"#C8D4E3\"}}, \"shapedefaults\": {\"line\": {\"color\": \"#f2f5fa\"}}, \"sliderdefaults\": {\"bgcolor\": \"#C8D4E3\", \"bordercolor\": \"rgb(17,17,17)\", \"borderwidth\": 1, \"tickwidth\": 0}, \"ternary\": {\"aaxis\": {\"gridcolor\": \"#506784\", \"linecolor\": \"#506784\", \"ticks\": \"\"}, \"baxis\": {\"gridcolor\": \"#506784\", \"linecolor\": \"#506784\", \"ticks\": \"\"}, \"bgcolor\": \"rgb(17,17,17)\", \"caxis\": {\"gridcolor\": \"#506784\", \"linecolor\": \"#506784\", \"ticks\": \"\"}}, \"title\": {\"x\": 0.05}, \"updatemenudefaults\": {\"bgcolor\": \"#506784\", \"borderwidth\": 0}, \"xaxis\": {\"automargin\": true, \"gridcolor\": \"#283442\", \"linecolor\": \"#506784\", \"ticks\": \"\", \"title\": {\"standoff\": 15}, \"zerolinecolor\": \"#283442\", \"zerolinewidth\": 2}, \"yaxis\": {\"automargin\": true, \"gridcolor\": \"#283442\", \"linecolor\": \"#506784\", \"ticks\": \"\", \"title\": {\"standoff\": 15}, \"zerolinecolor\": \"#283442\", \"zerolinewidth\": 2}}}, \"width\": 1800},\n",
              "                        {\"responsive\": true}\n",
              "                    ).then(function(){\n",
              "                            \n",
              "var gd = document.getElementById('81b1f30b-9642-4732-b93c-f750bf8bf906');\n",
              "var x = new MutationObserver(function (mutations, observer) {{\n",
              "        var display = window.getComputedStyle(gd).display;\n",
              "        if (!display || display === 'none') {{\n",
              "            console.log([gd, 'removed!']);\n",
              "            Plotly.purge(gd);\n",
              "            observer.disconnect();\n",
              "        }}\n",
              "}});\n",
              "\n",
              "// Listen for the removal of the full notebook cells\n",
              "var notebookContainer = gd.closest('#notebook-container');\n",
              "if (notebookContainer) {{\n",
              "    x.observe(notebookContainer, {childList: true});\n",
              "}}\n",
              "\n",
              "// Listen for the clearing of the current output cell\n",
              "var outputEl = gd.closest('.output');\n",
              "if (outputEl) {{\n",
              "    x.observe(outputEl, {childList: true});\n",
              "}}\n",
              "\n",
              "                        })\n",
              "                };\n",
              "                \n",
              "            </script>\n",
              "        </div>\n",
              "</body>\n",
              "</html>"
            ]
          },
          "metadata": {
            "tags": []
          }
        },
        {
          "output_type": "stream",
          "text": [
            "time: 1.27 s (started: 2021-01-05 21:42:15 +00:00)\n"
          ],
          "name": "stdout"
        }
      ]
    },
    {
      "cell_type": "markdown",
      "metadata": {
        "id": "oLUmS3w2bNtJ"
      },
      "source": [
        "### t - SNE"
      ]
    },
    {
      "cell_type": "markdown",
      "metadata": {
        "id": "WFqW0nSWQAxt"
      },
      "source": [
        "t - SNE se utliza muchas veces posterior a PCA, una vez que ya se ha reducido el tamaño del dataset, para lograr una visualización 2D o 3D."
      ]
    },
    {
      "cell_type": "code",
      "metadata": {
        "colab": {
          "base_uri": "https://localhost:8080/"
        },
        "id": "F4HJO_VSbTTs",
        "outputId": "8b39e57c-76bc-4f84-d253-bcafcc980e9d"
      },
      "source": [
        "from sklearn.manifold import TSNE\n",
        "x_tsne = TSNE(3)\n",
        "\n",
        "x_train_tsne = x_tsne.fit_transform(x_train)\n",
        "x_test_tsne = x_tsne.fit_transform(x_test)"
      ],
      "execution_count": null,
      "outputs": [
        {
          "output_type": "stream",
          "text": [
            "time: 21.4 s (started: 2021-01-05 21:30:34 +00:00)\n"
          ],
          "name": "stdout"
        }
      ]
    },
    {
      "cell_type": "code",
      "metadata": {
        "colab": {
          "base_uri": "https://localhost:8080/",
          "height": 1000
        },
        "id": "qg5Bsm19f9rX",
        "outputId": "99532a6d-d965-46ba-9e45-94a507dc92c9"
      },
      "source": [
        "plot_3d(x_test_tsne[:,0], x_test_tsne[:,1], x_test_tsne[:,2])"
      ],
      "execution_count": null,
      "outputs": [
        {
          "output_type": "display_data",
          "data": {
            "text/html": [
              "<html>\n",
              "<head><meta charset=\"utf-8\" /></head>\n",
              "<body>\n",
              "    <div>\n",
              "            <script src=\"https://cdnjs.cloudflare.com/ajax/libs/mathjax/2.7.5/MathJax.js?config=TeX-AMS-MML_SVG\"></script><script type=\"text/javascript\">if (window.MathJax) {MathJax.Hub.Config({SVG: {font: \"STIX-Web\"}});}</script>\n",
              "                <script type=\"text/javascript\">window.PlotlyConfig = {MathJaxConfig: 'local'};</script>\n",
              "        <script src=\"https://cdn.plot.ly/plotly-latest.min.js\"></script>    \n",
              "            <div id=\"2f842676-8f90-4520-a3cb-312d47c9e125\" class=\"plotly-graph-div\" style=\"height:1000px; width:1800px;\"></div>\n",
              "            <script type=\"text/javascript\">\n",
              "                \n",
              "                    window.PLOTLYENV=window.PLOTLYENV || {};\n",
              "                    \n",
              "                if (document.getElementById(\"2f842676-8f90-4520-a3cb-312d47c9e125\")) {\n",
              "                    Plotly.newPlot(\n",
              "                        '2f842676-8f90-4520-a3cb-312d47c9e125',\n",
              "                        [{\"marker\": {\"color\": [57.83317947387695, -1.6703813076019287, 103.49429321289062, 116.3868408203125, -42.654266357421875, -77.13037109375, -10.699240684509277, 29.864595413208008, 102.75886535644531, -96.8834228515625, -57.010128021240234, 46.01420974731445, -72.66351318359375, -86.5061264038086, 26.514341354370117, 83.29994201660156, -70.15586853027344, 74.63558197021484, 35.26374816894531, 32.60332489013672, 139.1603546142578, -45.87491226196289, 9.286600112915039, -10.325849533081055, 41.91307067871094, 21.667997360229492, -19.037845611572266, 114.09122467041016, -5.486124515533447, -28.88455581665039, 49.65420150756836, 43.229305267333984, 15.406009674072266, 12.627530097961426, -13.81948184967041, 23.97820281982422, -2.4876699447631836, 82.03787994384766, 13.15464973449707, -87.79399871826172, 16.010168075561523, -13.074812889099121, -13.823103904724121, 37.71933364868164, 27.1444034576416, 3.5806806087493896, -50.697914123535156, -5.909311771392822, 1.758341670036316, 25.925567626953125, 12.149860382080078, -17.825035095214844, 3.526151180267334, 45.69778060913086, 91.33831024169922, -113.60140991210938, 68.54366302490234, -12.490650177001953, -112.50996398925781, -80.631591796875, -66.33075714111328, 69.64877319335938, 54.979095458984375, 45.948551177978516, 68.83604431152344, -42.2895393371582, -28.026586532592773, -82.14442443847656, 85.80654907226562, 50.3989143371582, 74.8697509765625, 1.2290995121002197, -45.481990814208984, 13.254741668701172, 62.1036491394043, -25.968416213989258, 27.861339569091797, 33.10743713378906, 100.36510467529297, 20.255760192871094, 6.351598262786865, -65.1474838256836, 63.791439056396484, -39.875980377197266, 120.31543731689453, -30.509967803955078, 80.99620819091797, -3.0823991298675537, -129.95738220214844, 26.85232925415039, -52.264808654785156, 1.3591457605361938, 29.184789657592773, -34.737606048583984, -6.030244827270508, -103.35089874267578, -111.18258666992188, -95.06644439697266, -83.90957641601562, 55.089195251464844, -42.352508544921875, 64.13064575195312, 1.7180060148239136, 19.810871124267578, -62.246192932128906, 102.44180297851562, -84.2857666015625, 2.8425099849700928, -63.78374481201172, 36.6722526550293, -92.9426498413086, 34.49403762817383, -66.19026947021484, 19.7865047454834, 62.93086624145508, -21.450557708740234, -71.1304702758789, -128.47291564941406, -49.03705596923828, 92.80391693115234, 8.284699440002441, -22.17613410949707, 44.32680130004883, -38.93114471435547, 19.66190528869629, 85.16001892089844, 65.97309112548828, 92.2520980834961, -96.54464721679688, -71.43614959716797, -7.073762893676758, -64.14775848388672, 78.70713806152344, 33.500038146972656, -52.83756637573242, -116.43953704833984, 65.45065307617188, 50.534446716308594, -30.441099166870117, -37.78214645385742, -69.83089447021484, -115.75499725341797, -45.8615608215332], \"colorscale\": [[0.0, \"rgb(150,0,90)\"], [0.125, \"rgb(0,0,200)\"], [0.25, \"rgb(0,25,255)\"], [0.375, \"rgb(0,152,255)\"], [0.5, \"rgb(44,255,150)\"], [0.625, \"rgb(151,255,0)\"], [0.75, \"rgb(255,234,0)\"], [0.875, \"rgb(255,111,0)\"], [1.0, \"rgb(255,0,0)\"]], \"line\": {\"width\": 1}, \"opacity\": 1, \"size\": 10}, \"mode\": \"markers\", \"type\": \"scatter3d\", \"x\": [-56.399715423583984, 9.009637832641602, 80.0549087524414, 66.75067901611328, -40.39021301269531, 8.568760871887207, 85.14899444580078, -26.090919494628906, 85.88861083984375, -20.403911590576172, -21.617414474487305, -111.91371154785156, 53.390220642089844, 73.8921127319336, 68.49288177490234, -42.15457534790039, 48.17900085449219, -2.3488833904266357, -23.136608123779297, -56.93694305419922, -85.78868865966797, 122.61311340332031, -95.59883117675781, -131.37884521484375, -145.0050506591797, -126.992919921875, -66.88468170166016, -1.4370311498641968, 43.379459381103516, -92.60786437988281, 118.82579803466797, -74.62476348876953, -115.92262268066406, -37.676483154296875, -40.12191390991211, 115.60414123535156, 99.75042724609375, -93.32842254638672, -36.949073791503906, -8.186358451843262, 108.17032623291016, 104.61845397949219, -93.7919921875, -97.69422912597656, -42.00816345214844, 71.34188842773438, -165.44976806640625, -28.779069900512695, 4.405481338500977, -46.74901580810547, 133.57379150390625, 41.9323616027832, 11.218419075012207, 52.32817077636719, 115.51624298095703, 55.76180648803711, -115.73490142822266, -60.99401092529297, 17.73836326599121, 32.17407989501953, 115.40618896484375, 59.206172943115234, -74.7703628540039, 79.17642974853516, 27.765300750732422, 60.88480758666992, 47.51485061645508, 108.91541290283203, -12.505855560302734, -20.260822296142578, -47.204811096191406, -60.83689880371094, 20.933364868164062, 16.988414764404297, -4.361083030700684, 7.154003620147705, -23.429800033569336, -70.06519317626953, 31.860904693603516, -82.11266326904297, -161.5911407470703, 7.379692554473877, -61.680694580078125, -10.439245223999023, 46.521942138671875, -133.65745544433594, 99.11293029785156, -33.302921295166016, -20.181995391845703, 80.2512435913086, 56.51382827758789, 56.94840621948242, -147.1602783203125, 77.8065414428711, -45.462364196777344, -28.040790557861328, 1.4910118579864502, 13.976578712463379, -62.87959671020508, 94.23287963867188, 60.23996353149414, -82.34912109375, 38.848506927490234, 61.69507598876953, 54.374717712402344, -30.20322036743164, -95.5467529296875, -137.39547729492188, -19.501567840576172, 16.40419578552246, -48.52034378051758, 85.8272476196289, 63.72188949584961, -74.2541275024414, -132.46383666992188, -100.10317993164062, -31.064451217651367, -8.831768035888672, 12.862417221069336, -87.8850326538086, -6.373592853546143, -8.60991096496582, 129.93569946289062, 22.86410140991211, -83.09490203857422, -32.701961517333984, 16.511505126953125, 23.6337947845459, 15.712933540344238, -58.633453369140625, -89.55613708496094, 44.20685577392578, 58.47270584106445, 35.78450393676758, 93.7472915649414, -55.722503662109375, 15.154603004455566, -99.55530548095703, 164.7830352783203, -14.229482650756836, 122.1290283203125, 44.77934265136719, 18.517248153686523], \"y\": [57.83317947387695, -1.6703813076019287, 103.49429321289062, 116.3868408203125, -42.654266357421875, -77.13037109375, -10.699240684509277, 29.864595413208008, 102.75886535644531, -96.8834228515625, -57.010128021240234, 46.01420974731445, -72.66351318359375, -86.5061264038086, 26.514341354370117, 83.29994201660156, -70.15586853027344, 74.63558197021484, 35.26374816894531, 32.60332489013672, 139.1603546142578, -45.87491226196289, 9.286600112915039, -10.325849533081055, 41.91307067871094, 21.667997360229492, -19.037845611572266, 114.09122467041016, -5.486124515533447, -28.88455581665039, 49.65420150756836, 43.229305267333984, 15.406009674072266, 12.627530097961426, -13.81948184967041, 23.97820281982422, -2.4876699447631836, 82.03787994384766, 13.15464973449707, -87.79399871826172, 16.010168075561523, -13.074812889099121, -13.823103904724121, 37.71933364868164, 27.1444034576416, 3.5806806087493896, -50.697914123535156, -5.909311771392822, 1.758341670036316, 25.925567626953125, 12.149860382080078, -17.825035095214844, 3.526151180267334, 45.69778060913086, 91.33831024169922, -113.60140991210938, 68.54366302490234, -12.490650177001953, -112.50996398925781, -80.631591796875, -66.33075714111328, 69.64877319335938, 54.979095458984375, 45.948551177978516, 68.83604431152344, -42.2895393371582, -28.026586532592773, -82.14442443847656, 85.80654907226562, 50.3989143371582, 74.8697509765625, 1.2290995121002197, -45.481990814208984, 13.254741668701172, 62.1036491394043, -25.968416213989258, 27.861339569091797, 33.10743713378906, 100.36510467529297, 20.255760192871094, 6.351598262786865, -65.1474838256836, 63.791439056396484, -39.875980377197266, 120.31543731689453, -30.509967803955078, 80.99620819091797, -3.0823991298675537, -129.95738220214844, 26.85232925415039, -52.264808654785156, 1.3591457605361938, 29.184789657592773, -34.737606048583984, -6.030244827270508, -103.35089874267578, -111.18258666992188, -95.06644439697266, -83.90957641601562, 55.089195251464844, -42.352508544921875, 64.13064575195312, 1.7180060148239136, 19.810871124267578, -62.246192932128906, 102.44180297851562, -84.2857666015625, 2.8425099849700928, -63.78374481201172, 36.6722526550293, -92.9426498413086, 34.49403762817383, -66.19026947021484, 19.7865047454834, 62.93086624145508, -21.450557708740234, -71.1304702758789, -128.47291564941406, -49.03705596923828, 92.80391693115234, 8.284699440002441, -22.17613410949707, 44.32680130004883, -38.93114471435547, 19.66190528869629, 85.16001892089844, 65.97309112548828, 92.2520980834961, -96.54464721679688, -71.43614959716797, -7.073762893676758, -64.14775848388672, 78.70713806152344, 33.500038146972656, -52.83756637573242, -116.43953704833984, 65.45065307617188, 50.534446716308594, -30.441099166870117, -37.78214645385742, -69.83089447021484, -115.75499725341797, -45.8615608215332], \"z\": [56.99103927612305, -15.828380584716797, -54.211158752441406, -23.157930374145508, -62.82317352294922, 27.381305694580078, -78.69355773925781, 54.13212585449219, -92.2188491821289, 14.821451187133789, -1.6822588443756104, 107.71599578857422, 15.711516380310059, -16.367198944091797, -82.27558135986328, 3.512962579727173, 129.99539184570312, 48.65711975097656, -95.83761596679688, -4.750617027282715, 58.699581146240234, -119.75745391845703, 97.61815643310547, 101.48516082763672, 44.5904655456543, 137.94403076171875, -87.17123413085938, -80.00276184082031, 67.71221160888672, 82.42620086669922, -97.29531860351562, 96.57514953613281, 64.66118621826172, 20.694555282592773, -126.13304901123047, 9.046402931213379, -122.63800048828125, 91.4785385131836, 157.09300231933594, -21.748641967773438, -65.40614318847656, -17.578218460083008, 43.31001281738281, -11.12960147857666, 109.51836395263672, 96.72431945800781, 108.9623794555664, -31.89444923400879, -85.7082748413086, -124.6617431640625, -92.31256866455078, -40.19810485839844, 89.12519836425781, 49.8827018737793, -64.47652435302734, 11.859874725341797, 15.967179298400879, 109.93842315673828, 1.6498265266418457, -17.654674530029297, -87.48013305664062, -38.785491943359375, 23.5590877532959, -6.399254322052002, 72.9810562133789, 61.11262893676758, 102.23147583007812, -117.24632263183594, -54.80625534057617, 17.57799530029297, 106.13652038574219, -50.830238342285156, -67.2073745727539, -51.215003967285156, -119.54145050048828, 117.25225830078125, -57.52048873901367, -82.29007720947266, -45.478580474853516, 136.1548614501953, 67.97880554199219, 116.27928161621094, -57.947635650634766, -94.63294219970703, -75.11158752441406, 61.718868255615234, -28.53791618347168, -80.92192077636719, -9.977310180664062, -41.775726318359375, -141.41476440429688, -107.92227935791016, 99.11317443847656, -114.14836120605469, 54.2046012878418, 64.53103637695312, 110.17278289794922, -54.666465759277344, 89.48287963867188, -67.03131103515625, -8.23012638092041, 135.04544067382812, 126.60091400146484, -144.25192260742188, -45.508827209472656, 8.854055404663086, -6.343995094299316, 28.00686264038086, 82.22573852539062, 46.159908294677734, -21.88559341430664, -116.30924224853516, -102.17658233642578, 61.97487258911133, 77.30906677246094, 130.51136779785156, 41.712623596191406, 39.17586135864258, 65.64007568359375, 30.583139419555664, -122.64250946044922, -56.60527038574219, -50.90659713745117, 23.75469970703125, 24.55390167236328, -90.89319610595703, -74.79838562011719, -102.9773941040039, 67.02362060546875, 16.071165084838867, -4.8095479011535645, 89.90402221679688, -76.91130065917969, 96.73141479492188, -146.15257263183594, 17.205228805541992, -33.083473205566406, 58.41689682006836, -21.892866134643555, 37.520503997802734, -43.28958511352539, -32.78969192504883, -22.950153350830078]}],\n",
              "                        {\"height\": 1000, \"margin\": {\"b\": 50, \"l\": 50, \"r\": 50, \"t\": 50}, \"template\": {\"data\": {\"bar\": [{\"error_x\": {\"color\": \"#f2f5fa\"}, \"error_y\": {\"color\": \"#f2f5fa\"}, \"marker\": {\"line\": {\"color\": \"rgb(17,17,17)\", \"width\": 0.5}}, \"type\": \"bar\"}], \"barpolar\": [{\"marker\": {\"line\": {\"color\": \"rgb(17,17,17)\", \"width\": 0.5}}, \"type\": \"barpolar\"}], \"carpet\": [{\"aaxis\": {\"endlinecolor\": \"#A2B1C6\", \"gridcolor\": \"#506784\", \"linecolor\": \"#506784\", \"minorgridcolor\": \"#506784\", \"startlinecolor\": \"#A2B1C6\"}, \"baxis\": {\"endlinecolor\": \"#A2B1C6\", \"gridcolor\": \"#506784\", \"linecolor\": \"#506784\", \"minorgridcolor\": \"#506784\", \"startlinecolor\": \"#A2B1C6\"}, \"type\": \"carpet\"}], \"choropleth\": [{\"colorbar\": {\"outlinewidth\": 0, \"ticks\": \"\"}, \"type\": \"choropleth\"}], \"contour\": [{\"colorbar\": {\"outlinewidth\": 0, \"ticks\": \"\"}, \"colorscale\": [[0.0, \"#0d0887\"], [0.1111111111111111, \"#46039f\"], [0.2222222222222222, \"#7201a8\"], [0.3333333333333333, \"#9c179e\"], [0.4444444444444444, \"#bd3786\"], [0.5555555555555556, \"#d8576b\"], [0.6666666666666666, \"#ed7953\"], [0.7777777777777778, \"#fb9f3a\"], [0.8888888888888888, \"#fdca26\"], [1.0, \"#f0f921\"]], \"type\": \"contour\"}], \"contourcarpet\": [{\"colorbar\": {\"outlinewidth\": 0, \"ticks\": \"\"}, \"type\": \"contourcarpet\"}], \"heatmap\": [{\"colorbar\": {\"outlinewidth\": 0, \"ticks\": \"\"}, \"colorscale\": [[0.0, \"#0d0887\"], [0.1111111111111111, \"#46039f\"], [0.2222222222222222, \"#7201a8\"], [0.3333333333333333, \"#9c179e\"], [0.4444444444444444, \"#bd3786\"], [0.5555555555555556, \"#d8576b\"], [0.6666666666666666, \"#ed7953\"], [0.7777777777777778, \"#fb9f3a\"], [0.8888888888888888, \"#fdca26\"], [1.0, \"#f0f921\"]], \"type\": \"heatmap\"}], \"heatmapgl\": [{\"colorbar\": {\"outlinewidth\": 0, \"ticks\": \"\"}, \"colorscale\": [[0.0, \"#0d0887\"], [0.1111111111111111, \"#46039f\"], [0.2222222222222222, \"#7201a8\"], [0.3333333333333333, \"#9c179e\"], [0.4444444444444444, \"#bd3786\"], [0.5555555555555556, \"#d8576b\"], [0.6666666666666666, \"#ed7953\"], [0.7777777777777778, \"#fb9f3a\"], [0.8888888888888888, \"#fdca26\"], [1.0, \"#f0f921\"]], \"type\": \"heatmapgl\"}], \"histogram\": [{\"marker\": {\"colorbar\": {\"outlinewidth\": 0, \"ticks\": \"\"}}, \"type\": \"histogram\"}], \"histogram2d\": [{\"colorbar\": {\"outlinewidth\": 0, \"ticks\": \"\"}, \"colorscale\": [[0.0, \"#0d0887\"], [0.1111111111111111, \"#46039f\"], [0.2222222222222222, \"#7201a8\"], [0.3333333333333333, \"#9c179e\"], [0.4444444444444444, \"#bd3786\"], [0.5555555555555556, \"#d8576b\"], [0.6666666666666666, \"#ed7953\"], [0.7777777777777778, \"#fb9f3a\"], [0.8888888888888888, \"#fdca26\"], [1.0, \"#f0f921\"]], \"type\": \"histogram2d\"}], \"histogram2dcontour\": [{\"colorbar\": {\"outlinewidth\": 0, \"ticks\": \"\"}, \"colorscale\": [[0.0, \"#0d0887\"], [0.1111111111111111, \"#46039f\"], [0.2222222222222222, \"#7201a8\"], [0.3333333333333333, \"#9c179e\"], [0.4444444444444444, \"#bd3786\"], [0.5555555555555556, \"#d8576b\"], [0.6666666666666666, \"#ed7953\"], [0.7777777777777778, \"#fb9f3a\"], [0.8888888888888888, \"#fdca26\"], [1.0, \"#f0f921\"]], \"type\": \"histogram2dcontour\"}], \"mesh3d\": [{\"colorbar\": {\"outlinewidth\": 0, \"ticks\": \"\"}, \"type\": \"mesh3d\"}], \"parcoords\": [{\"line\": {\"colorbar\": {\"outlinewidth\": 0, \"ticks\": \"\"}}, \"type\": \"parcoords\"}], \"pie\": [{\"automargin\": true, \"type\": \"pie\"}], \"scatter\": [{\"marker\": {\"line\": {\"color\": \"#283442\"}}, \"type\": \"scatter\"}], \"scatter3d\": [{\"line\": {\"colorbar\": {\"outlinewidth\": 0, \"ticks\": \"\"}}, \"marker\": {\"colorbar\": {\"outlinewidth\": 0, \"ticks\": \"\"}}, \"type\": \"scatter3d\"}], \"scattercarpet\": [{\"marker\": {\"colorbar\": {\"outlinewidth\": 0, \"ticks\": \"\"}}, \"type\": \"scattercarpet\"}], \"scattergeo\": [{\"marker\": {\"colorbar\": {\"outlinewidth\": 0, \"ticks\": \"\"}}, \"type\": \"scattergeo\"}], \"scattergl\": [{\"marker\": {\"line\": {\"color\": \"#283442\"}}, \"type\": \"scattergl\"}], \"scattermapbox\": [{\"marker\": {\"colorbar\": {\"outlinewidth\": 0, \"ticks\": \"\"}}, \"type\": \"scattermapbox\"}], \"scatterpolar\": [{\"marker\": {\"colorbar\": {\"outlinewidth\": 0, \"ticks\": \"\"}}, \"type\": \"scatterpolar\"}], \"scatterpolargl\": [{\"marker\": {\"colorbar\": {\"outlinewidth\": 0, \"ticks\": \"\"}}, \"type\": \"scatterpolargl\"}], \"scatterternary\": [{\"marker\": {\"colorbar\": {\"outlinewidth\": 0, \"ticks\": \"\"}}, \"type\": \"scatterternary\"}], \"surface\": [{\"colorbar\": {\"outlinewidth\": 0, \"ticks\": \"\"}, \"colorscale\": [[0.0, \"#0d0887\"], [0.1111111111111111, \"#46039f\"], [0.2222222222222222, \"#7201a8\"], [0.3333333333333333, \"#9c179e\"], [0.4444444444444444, \"#bd3786\"], [0.5555555555555556, \"#d8576b\"], [0.6666666666666666, \"#ed7953\"], [0.7777777777777778, \"#fb9f3a\"], [0.8888888888888888, \"#fdca26\"], [1.0, \"#f0f921\"]], \"type\": \"surface\"}], \"table\": [{\"cells\": {\"fill\": {\"color\": \"#506784\"}, \"line\": {\"color\": \"rgb(17,17,17)\"}}, \"header\": {\"fill\": {\"color\": \"#2a3f5f\"}, \"line\": {\"color\": \"rgb(17,17,17)\"}}, \"type\": \"table\"}]}, \"layout\": {\"annotationdefaults\": {\"arrowcolor\": \"#f2f5fa\", \"arrowhead\": 0, \"arrowwidth\": 1}, \"coloraxis\": {\"colorbar\": {\"outlinewidth\": 0, \"ticks\": \"\"}}, \"colorscale\": {\"diverging\": [[0, \"#8e0152\"], [0.1, \"#c51b7d\"], [0.2, \"#de77ae\"], [0.3, \"#f1b6da\"], [0.4, \"#fde0ef\"], [0.5, \"#f7f7f7\"], [0.6, \"#e6f5d0\"], [0.7, \"#b8e186\"], [0.8, \"#7fbc41\"], [0.9, \"#4d9221\"], [1, \"#276419\"]], \"sequential\": [[0.0, \"#0d0887\"], [0.1111111111111111, \"#46039f\"], [0.2222222222222222, \"#7201a8\"], [0.3333333333333333, \"#9c179e\"], [0.4444444444444444, \"#bd3786\"], [0.5555555555555556, \"#d8576b\"], [0.6666666666666666, \"#ed7953\"], [0.7777777777777778, \"#fb9f3a\"], [0.8888888888888888, \"#fdca26\"], [1.0, \"#f0f921\"]], \"sequentialminus\": [[0.0, \"#0d0887\"], [0.1111111111111111, \"#46039f\"], [0.2222222222222222, \"#7201a8\"], [0.3333333333333333, \"#9c179e\"], [0.4444444444444444, \"#bd3786\"], [0.5555555555555556, \"#d8576b\"], [0.6666666666666666, \"#ed7953\"], [0.7777777777777778, \"#fb9f3a\"], [0.8888888888888888, \"#fdca26\"], [1.0, \"#f0f921\"]]}, \"colorway\": [\"#636efa\", \"#EF553B\", \"#00cc96\", \"#ab63fa\", \"#FFA15A\", \"#19d3f3\", \"#FF6692\", \"#B6E880\", \"#FF97FF\", \"#FECB52\"], \"font\": {\"color\": \"#f2f5fa\"}, \"geo\": {\"bgcolor\": \"rgb(17,17,17)\", \"lakecolor\": \"rgb(17,17,17)\", \"landcolor\": \"rgb(17,17,17)\", \"showlakes\": true, \"showland\": true, \"subunitcolor\": \"#506784\"}, \"hoverlabel\": {\"align\": \"left\"}, \"hovermode\": \"closest\", \"mapbox\": {\"style\": \"dark\"}, \"paper_bgcolor\": \"rgb(17,17,17)\", \"plot_bgcolor\": \"rgb(17,17,17)\", \"polar\": {\"angularaxis\": {\"gridcolor\": \"#506784\", \"linecolor\": \"#506784\", \"ticks\": \"\"}, \"bgcolor\": \"rgb(17,17,17)\", \"radialaxis\": {\"gridcolor\": \"#506784\", \"linecolor\": \"#506784\", \"ticks\": \"\"}}, \"scene\": {\"xaxis\": {\"backgroundcolor\": \"rgb(17,17,17)\", \"gridcolor\": \"#506784\", \"gridwidth\": 2, \"linecolor\": \"#506784\", \"showbackground\": true, \"ticks\": \"\", \"zerolinecolor\": \"#C8D4E3\"}, \"yaxis\": {\"backgroundcolor\": \"rgb(17,17,17)\", \"gridcolor\": \"#506784\", \"gridwidth\": 2, \"linecolor\": \"#506784\", \"showbackground\": true, \"ticks\": \"\", \"zerolinecolor\": \"#C8D4E3\"}, \"zaxis\": {\"backgroundcolor\": \"rgb(17,17,17)\", \"gridcolor\": \"#506784\", \"gridwidth\": 2, \"linecolor\": \"#506784\", \"showbackground\": true, \"ticks\": \"\", \"zerolinecolor\": \"#C8D4E3\"}}, \"shapedefaults\": {\"line\": {\"color\": \"#f2f5fa\"}}, \"sliderdefaults\": {\"bgcolor\": \"#C8D4E3\", \"bordercolor\": \"rgb(17,17,17)\", \"borderwidth\": 1, \"tickwidth\": 0}, \"ternary\": {\"aaxis\": {\"gridcolor\": \"#506784\", \"linecolor\": \"#506784\", \"ticks\": \"\"}, \"baxis\": {\"gridcolor\": \"#506784\", \"linecolor\": \"#506784\", \"ticks\": \"\"}, \"bgcolor\": \"rgb(17,17,17)\", \"caxis\": {\"gridcolor\": \"#506784\", \"linecolor\": \"#506784\", \"ticks\": \"\"}}, \"title\": {\"x\": 0.05}, \"updatemenudefaults\": {\"bgcolor\": \"#506784\", \"borderwidth\": 0}, \"xaxis\": {\"automargin\": true, \"gridcolor\": \"#283442\", \"linecolor\": \"#506784\", \"ticks\": \"\", \"title\": {\"standoff\": 15}, \"zerolinecolor\": \"#283442\", \"zerolinewidth\": 2}, \"yaxis\": {\"automargin\": true, \"gridcolor\": \"#283442\", \"linecolor\": \"#506784\", \"ticks\": \"\", \"title\": {\"standoff\": 15}, \"zerolinecolor\": \"#283442\", \"zerolinewidth\": 2}}}, \"width\": 1800},\n",
              "                        {\"responsive\": true}\n",
              "                    ).then(function(){\n",
              "                            \n",
              "var gd = document.getElementById('2f842676-8f90-4520-a3cb-312d47c9e125');\n",
              "var x = new MutationObserver(function (mutations, observer) {{\n",
              "        var display = window.getComputedStyle(gd).display;\n",
              "        if (!display || display === 'none') {{\n",
              "            console.log([gd, 'removed!']);\n",
              "            Plotly.purge(gd);\n",
              "            observer.disconnect();\n",
              "        }}\n",
              "}});\n",
              "\n",
              "// Listen for the removal of the full notebook cells\n",
              "var notebookContainer = gd.closest('#notebook-container');\n",
              "if (notebookContainer) {{\n",
              "    x.observe(notebookContainer, {childList: true});\n",
              "}}\n",
              "\n",
              "// Listen for the clearing of the current output cell\n",
              "var outputEl = gd.closest('.output');\n",
              "if (outputEl) {{\n",
              "    x.observe(outputEl, {childList: true});\n",
              "}}\n",
              "\n",
              "                        })\n",
              "                };\n",
              "                \n",
              "            </script>\n",
              "        </div>\n",
              "</body>\n",
              "</html>"
            ]
          },
          "metadata": {
            "tags": []
          }
        },
        {
          "output_type": "stream",
          "text": [
            "time: 214 ms (started: 2021-01-05 21:43:38 +00:00)\n"
          ],
          "name": "stdout"
        }
      ]
    },
    {
      "cell_type": "markdown",
      "metadata": {
        "id": "_zdVdBo9et81"
      },
      "source": [
        "### UMAP"
      ]
    },
    {
      "cell_type": "markdown",
      "metadata": {
        "id": "LcGyi6vUQtgD"
      },
      "source": [
        "UMAP es un método de reducción de la dimensionalidad no lineal, es muy eficaz para visualizar cúmulos o grupos de puntos de datos y sus proximidades relativas. \n",
        "En este caso entrenamos al modelo con los datos reducidos por UMAP para comparar el desempeño contra PCA."
      ]
    },
    {
      "cell_type": "code",
      "metadata": {
        "colab": {
          "base_uri": "https://localhost:8080/"
        },
        "id": "CXqI_tUxeyhc",
        "outputId": "72364ef9-66d9-45e7-eef9-c1de0f2d5fb0"
      },
      "source": [
        "import umap\n",
        "reducer = umap.UMAP(random_state=42, n_components=3)\n",
        "x_train_umap = reducer.fit_transform(x_train)\n",
        "x_test_umap = reducer.transform(x_test)"
      ],
      "execution_count": null,
      "outputs": [
        {
          "output_type": "stream",
          "text": [
            "time: 10.1 s (started: 2021-01-05 21:46:28 +00:00)\n"
          ],
          "name": "stdout"
        }
      ]
    },
    {
      "cell_type": "code",
      "metadata": {
        "colab": {
          "base_uri": "https://localhost:8080/"
        },
        "id": "BHCqZiHyhAAl",
        "outputId": "97abf7cd-5f0c-48e1-a21e-c2ca67d368cc"
      },
      "source": [
        "rf_umap = RandomForestRegressor(n_estimators=100, max_depth=100, random_state=5)\n",
        "rf_umap.fit(x_train_umap, y_train)"
      ],
      "execution_count": null,
      "outputs": [
        {
          "output_type": "execute_result",
          "data": {
            "text/plain": [
              "RandomForestRegressor(bootstrap=True, ccp_alpha=0.0, criterion='mse',\n",
              "                      max_depth=100, max_features='auto', max_leaf_nodes=None,\n",
              "                      max_samples=None, min_impurity_decrease=0.0,\n",
              "                      min_impurity_split=None, min_samples_leaf=1,\n",
              "                      min_samples_split=2, min_weight_fraction_leaf=0.0,\n",
              "                      n_estimators=100, n_jobs=None, oob_score=False,\n",
              "                      random_state=5, verbose=0, warm_start=False)"
            ]
          },
          "metadata": {
            "tags": []
          },
          "execution_count": 50
        },
        {
          "output_type": "stream",
          "text": [
            "time: 347 ms (started: 2021-01-05 21:48:04 +00:00)\n"
          ],
          "name": "stdout"
        }
      ]
    },
    {
      "cell_type": "markdown",
      "metadata": {
        "id": "2f88ZbUPQ7DB"
      },
      "source": [
        "Tal como observamos más abajo, UMAP no fue capaz de representar la varianza del modelo en 3 dimensiones tal como lo hizo PCA. "
      ]
    },
    {
      "cell_type": "code",
      "metadata": {
        "colab": {
          "base_uri": "https://localhost:8080/"
        },
        "id": "uwIBpuzjgx-b",
        "outputId": "4ce5a1e3-c037-4f6b-a5cb-ad47b937c9e7"
      },
      "source": [
        "from sklearn.metrics import r2_score\n",
        "# Predecimos sobre nuestro set de entrenamieto\n",
        "y_train_pred = rf_umap.predict(x_train_umap)\n",
        "\n",
        "# Predecimos sobre nuestro set de test\n",
        "y_test_pred = rf_umap.predict(x_test_umap)\n",
        "\n",
        "# Comaparamos con las etiquetas reales\n",
        "print('R2 Score Train Set - UMAP:', round(r2_score(y_train_pred, y_train), 3))\n",
        "print('R2 Score Test Set - Modelo Original:', round(r2_score(y_test_pred_mod, y_test), 3))\n",
        "print('R2 Score Test Set - UMAP:', round(r2_score(y_test_pred, y_test), 3))"
      ],
      "execution_count": null,
      "outputs": [
        {
          "output_type": "stream",
          "text": [
            "R2 Score Train Set - UMAP: 0.919\n",
            "R2 Score Test Set - Modelo Original: 0.62\n",
            "R2 Score Test Set - UMAP: 0.389\n",
            "time: 48.2 ms (started: 2021-01-05 21:48:34 +00:00)\n"
          ],
          "name": "stdout"
        }
      ]
    },
    {
      "cell_type": "code",
      "metadata": {
        "colab": {
          "base_uri": "https://localhost:8080/",
          "height": 1000
        },
        "id": "vjTJXYjngx-d",
        "outputId": "a4e73407-19bd-4092-803e-a6f343025fe3"
      },
      "source": [
        "plot_3d(x_test_umap[:,0], x_test_umap[:,1], x_test_umap[:,2])"
      ],
      "execution_count": null,
      "outputs": [
        {
          "output_type": "display_data",
          "data": {
            "text/html": [
              "<html>\n",
              "<head><meta charset=\"utf-8\" /></head>\n",
              "<body>\n",
              "    <div>\n",
              "            <script src=\"https://cdnjs.cloudflare.com/ajax/libs/mathjax/2.7.5/MathJax.js?config=TeX-AMS-MML_SVG\"></script><script type=\"text/javascript\">if (window.MathJax) {MathJax.Hub.Config({SVG: {font: \"STIX-Web\"}});}</script>\n",
              "                <script type=\"text/javascript\">window.PlotlyConfig = {MathJaxConfig: 'local'};</script>\n",
              "        <script src=\"https://cdn.plot.ly/plotly-latest.min.js\"></script>    \n",
              "            <div id=\"42a1dfb6-b081-4d0f-95e3-b97bb89d7b0e\" class=\"plotly-graph-div\" style=\"height:1000px; width:1800px;\"></div>\n",
              "            <script type=\"text/javascript\">\n",
              "                \n",
              "                    window.PLOTLYENV=window.PLOTLYENV || {};\n",
              "                    \n",
              "                if (document.getElementById(\"42a1dfb6-b081-4d0f-95e3-b97bb89d7b0e\")) {\n",
              "                    Plotly.newPlot(\n",
              "                        '42a1dfb6-b081-4d0f-95e3-b97bb89d7b0e',\n",
              "                        [{\"marker\": {\"color\": [13.003973960876465, 1.8793331384658813, -4.5257439613342285, -4.598971843719482, 1.5073410272598267, 4.808748722076416, -4.380268096923828, 12.81536865234375, -4.800920009613037, 4.734172821044922, 4.580572605133057, 12.083395957946777, 3.5992038249969482, 3.900190830230713, -4.345462799072266, 11.28882122039795, 5.3778533935546875, 10.190908432006836, -2.726844549179077, 12.840131759643555, 2.2898294925689697, 6.3581976890563965, 12.08668327331543, 9.287097930908203, 12.187908172607422, 12.462006568908691, -0.9349155426025391, -5.5221662521362305, 5.9478020668029785, 12.446290969848633, -4.170165061950684, 11.017629623413086, 13.195228576660156, 12.032752990722656, -3.329136371612549, -6.1390557289123535, -2.2775065898895264, 11.679713249206543, 12.857775688171387, 4.440164566040039, -4.151524543762207, -4.107861518859863, 12.688589096069336, 12.991186141967773, 12.10817813873291, 5.895174503326416, 5.211853504180908, 1.4783273935317993, -1.2043360471725464, -3.46854567527771, -4.155795574188232, 2.370910406112671, 6.685030937194824, 10.235702514648438, -4.595089912414551, 3.9651036262512207, 12.32701301574707, 10.051132202148438, 4.2394843101501465, 3.8296217918395996, 9.242197036743164, -4.998884677886963, 12.854734420776367, -4.278594493865967, 9.810206413269043, 5.637643337249756, 5.931972980499268, 7.073542594909668, -4.941474914550781, 11.605216979980469, 9.999720573425293, -1.1736674308776855, 2.093208074569702, 1.4278324842453003, -4.857647895812988, 6.012852668762207, -2.0508229732513428, -2.795257806777954, -5.289859771728516, 10.140181541442871, 9.241466522216797, 5.739480495452881, -2.8512208461761475, 1.6206190586090088, -5.392232418060303, 9.201074600219727, -4.535144329071045, -1.2116801738739014, 4.932279586791992, -4.036660671234131, 1.1018364429473877, -4.315004825592041, 11.968316078186035, -0.5473468899726868, 12.971725463867188, 5.206606864929199, 5.096208572387695, 3.971073627471924, 5.912904739379883, -4.236624717712402, 3.4506895542144775, 9.354963302612305, 5.924932956695557, -4.236546993255615, 3.261547565460205, 11.312520980834961, 3.8097803592681885, 11.095823287963867, 5.39443302154541, 9.905755996704102, 4.902313232421875, -4.09100341796875, -0.5375334024429321, 12.979424476623535, 13.073708534240723, 9.49852466583252, 4.831788539886475, 5.134688854217529, 5.329037666320801, 12.192157745361328, -2.128328800201416, 1.4582452774047852, -4.1212310791015625, 4.862542629241943, 13.359726905822754, -4.316127777099609, -6.207581996917725, -5.913333415985107, 5.325064659118652, 4.993245601654053, 12.184529304504395, 6.1606855392456055, -4.829118728637695, 7.117151260375977, 5.81563663482666, 4.829878807067871, -5.924330234527588, 12.542328834533691, 11.5283203125, 5.251105785369873, 0.10252057015895844, 4.061120510101318, 3.2248568534851074], \"colorscale\": [[0.0, \"rgb(150,0,90)\"], [0.125, \"rgb(0,0,200)\"], [0.25, \"rgb(0,25,255)\"], [0.375, \"rgb(0,152,255)\"], [0.5, \"rgb(44,255,150)\"], [0.625, \"rgb(151,255,0)\"], [0.75, \"rgb(255,234,0)\"], [0.875, \"rgb(255,111,0)\"], [1.0, \"rgb(255,0,0)\"]], \"line\": {\"width\": 1}, \"opacity\": 1, \"size\": 10}, \"mode\": \"markers\", \"type\": \"scatter3d\", \"x\": [13.67599868774414, 8.640111923217773, 8.248394966125488, 8.324562072753906, 8.641995429992676, 12.518479347229004, 4.849348545074463, 12.725062370300293, 8.495438575744629, 12.308530807495117, 11.8399076461792, 10.329556465148926, 10.410933494567871, 10.717569351196289, 4.858011722564697, 11.888660430908203, 12.412550926208496, 11.493896484375, 7.527300834655762, 12.87940502166748, 8.9439058303833, -2.5830740928649902, 9.974920272827148, 9.822916030883789, 10.325839042663574, 13.6840181350708, 7.689131736755371, 8.57999038696289, 12.490367889404297, 10.463441848754883, 6.42743444442749, 9.117124557495117, 10.777390480041504, 11.83590030670166, 7.605491638183594, 8.957552909851074, 1.8093539476394653, 9.41718864440918, 12.807909965515137, 11.731096267700195, 6.304367542266846, 8.227266311645508, 13.948387145996094, 12.944958686828613, 10.355908393859863, 12.539844512939453, 13.541047096252441, 8.650214195251465, 7.409052848815918, 7.564053058624268, 5.878026008605957, 9.045762062072754, 11.897934913635254, 11.483861923217773, 8.33098030090332, 10.833564758300781, 13.404470443725586, 9.426024436950684, 11.409465789794922, 10.674408912658691, -2.71059250831604, 8.588118553161621, 13.577164649963379, 5.606250762939453, 11.864035606384277, 13.410602569580078, 12.514978408813477, -2.212390899658203, 8.45615005493164, 11.869805335998535, 9.368189811706543, 7.246049880981445, 9.091798782348633, 8.249088287353516, 8.163723945617676, 11.761449813842773, 7.5558271408081055, 8.090958595275879, 8.747587203979492, 9.488001823425293, 9.043468475341797, 11.986215591430664, 8.210274696350098, 8.647490501403809, 8.796533584594727, 10.028812408447266, 8.273171424865723, 7.570682048797607, 12.773969650268555, 6.579418182373047, -0.2317667454481125, 4.4900689125061035, 9.972696304321289, 0.8965096473693848, 12.938606262207031, 13.535602569580078, 11.115087509155273, 10.931468963623047, 12.522595405578613, 7.897367477416992, 10.254156112670898, 8.925583839416504, 12.51697063446045, 5.5448102951049805, 10.06430435180664, 12.83509635925293, 10.640170097351074, 9.078701972961426, 13.760392189025879, 11.437384605407715, 12.222965240478516, 4.149493217468262, 0.8834425806999207, 13.866129875183105, 10.586318969726562, 9.133346557617188, 12.57465648651123, 13.442702293395996, 13.690173149108887, 13.20926284790039, 7.38065242767334, 8.882955551147461, 6.463438987731934, 12.58704662322998, 13.416397094726562, 8.38882064819336, 9.015081405639648, 8.756598472595215, 12.341062545776367, 12.155596733093262, 13.229004859924316, 12.214576721191406, 8.449443817138672, 11.851261138916016, -2.8136022090911865, 11.99409008026123, 8.784896850585938, 13.920625686645508, 9.700980186462402, 13.447924613952637, 0.25438714027404785, 10.943796157836914, 10.03256893157959], \"y\": [13.003973960876465, 1.8793331384658813, -4.5257439613342285, -4.598971843719482, 1.5073410272598267, 4.808748722076416, -4.380268096923828, 12.81536865234375, -4.800920009613037, 4.734172821044922, 4.580572605133057, 12.083395957946777, 3.5992038249969482, 3.900190830230713, -4.345462799072266, 11.28882122039795, 5.3778533935546875, 10.190908432006836, -2.726844549179077, 12.840131759643555, 2.2898294925689697, 6.3581976890563965, 12.08668327331543, 9.287097930908203, 12.187908172607422, 12.462006568908691, -0.9349155426025391, -5.5221662521362305, 5.9478020668029785, 12.446290969848633, -4.170165061950684, 11.017629623413086, 13.195228576660156, 12.032752990722656, -3.329136371612549, -6.1390557289123535, -2.2775065898895264, 11.679713249206543, 12.857775688171387, 4.440164566040039, -4.151524543762207, -4.107861518859863, 12.688589096069336, 12.991186141967773, 12.10817813873291, 5.895174503326416, 5.211853504180908, 1.4783273935317993, -1.2043360471725464, -3.46854567527771, -4.155795574188232, 2.370910406112671, 6.685030937194824, 10.235702514648438, -4.595089912414551, 3.9651036262512207, 12.32701301574707, 10.051132202148438, 4.2394843101501465, 3.8296217918395996, 9.242197036743164, -4.998884677886963, 12.854734420776367, -4.278594493865967, 9.810206413269043, 5.637643337249756, 5.931972980499268, 7.073542594909668, -4.941474914550781, 11.605216979980469, 9.999720573425293, -1.1736674308776855, 2.093208074569702, 1.4278324842453003, -4.857647895812988, 6.012852668762207, -2.0508229732513428, -2.795257806777954, -5.289859771728516, 10.140181541442871, 9.241466522216797, 5.739480495452881, -2.8512208461761475, 1.6206190586090088, -5.392232418060303, 9.201074600219727, -4.535144329071045, -1.2116801738739014, 4.932279586791992, -4.036660671234131, 1.1018364429473877, -4.315004825592041, 11.968316078186035, -0.5473468899726868, 12.971725463867188, 5.206606864929199, 5.096208572387695, 3.971073627471924, 5.912904739379883, -4.236624717712402, 3.4506895542144775, 9.354963302612305, 5.924932956695557, -4.236546993255615, 3.261547565460205, 11.312520980834961, 3.8097803592681885, 11.095823287963867, 5.39443302154541, 9.905755996704102, 4.902313232421875, -4.09100341796875, -0.5375334024429321, 12.979424476623535, 13.073708534240723, 9.49852466583252, 4.831788539886475, 5.134688854217529, 5.329037666320801, 12.192157745361328, -2.128328800201416, 1.4582452774047852, -4.1212310791015625, 4.862542629241943, 13.359726905822754, -4.316127777099609, -6.207581996917725, -5.913333415985107, 5.325064659118652, 4.993245601654053, 12.184529304504395, 6.1606855392456055, -4.829118728637695, 7.117151260375977, 5.81563663482666, 4.829878807067871, -5.924330234527588, 12.542328834533691, 11.5283203125, 5.251105785369873, 0.10252057015895844, 4.061120510101318, 3.2248568534851074], \"z\": [8.689249038696289, -1.7835294008255005, 6.974351406097412, 7.720922470092773, -1.067256212234497, 0.26489582657814026, 13.805025100708008, 7.0978102684021, 7.274718761444092, 0.10991185903549194, -0.2180507630109787, 15.516386032104492, -1.159956932067871, -1.0962088108062744, 13.735956192016602, 6.359861850738525, 2.03056001663208, 6.319715976715088, -0.4376316964626312, 7.398748397827148, -1.797132134437561, 11.563933372497559, 14.966044425964355, 16.550268173217773, 15.259140968322754, 8.936514854431152, -0.41803115606307983, 2.413686752319336, 4.471009254455566, 15.11524772644043, 11.768977165222168, 15.631372451782227, 14.733503341674805, 6.196621417999268, 0.05642721801996231, 3.8224289417266846, 15.802490234375, 15.802223205566406, 7.209426403045654, -0.2988417446613312, 11.94500732421875, 2.0193557739257812, 9.36376953125, 7.370151042938232, 15.345468521118164, 4.391202449798584, 1.2648600339889526, -0.9917148351669312, -0.5934442281723022, -0.024588892236351967, 12.34585189819336, -1.754836916923523, 5.137386798858643, 6.3578009605407715, 7.975243091583252, -0.9425249695777893, 8.030653953552246, 16.955303192138672, -0.6105143427848816, -1.0454962253570557, 8.204678535461426, 6.571987152099609, 8.43864631652832, 12.611787796020508, 6.107848644256592, 2.8691418170928955, 4.406486988067627, 11.021564483642578, 2.4771273136138916, 6.328059673309326, 16.905799865722656, -0.7899531126022339, -1.054244875907898, -1.800370216369629, 1.1868964433670044, 3.5279533863067627, -0.07919465750455856, 1.5020442008972168, 5.513433933258057, 16.876052856445312, 15.751265525817871, 2.9859724044799805, 1.7873634099960327, -1.2278918027877808, 5.465396881103516, 16.563156127929688, 7.991281509399414, -0.4361604154109955, 0.39070966839790344, 11.847960472106934, 16.748685836791992, 14.074798583984375, 15.140514373779297, 16.219449996948242, 7.322284698486328, 1.2970300912857056, 2.030407190322876, -0.5310186743736267, 4.324819087982178, 10.544323921203613, -1.246903896331787, 15.680459976196289, 4.43880033493042, 12.692912101745605, -1.2921119928359985, 7.069328308105469, -1.0818098783493042, 15.713103294372559, 1.9992132186889648, 6.2513957023620605, 0.7230421900749207, 14.242061614990234, 16.238433837890625, 9.2437105178833, 14.95582103729248, 15.91779613494873, 0.2857119143009186, 1.1024621725082397, 1.7760509252548218, 7.829443454742432, -0.3804423213005066, -0.5149148106575012, 11.770540237426758, 0.3093245327472687, 8.047983169555664, 2.600322961807251, 3.884439706802368, 3.709881067276001, 1.8690983057022095, 1.0614320039749146, 7.773636341094971, 4.548707008361816, 6.70237922668457, 5.449471473693848, 11.988598823547363, 0.7348721623420715, 4.0404438972473145, 9.223652839660645, 15.594246864318848, 0.9789441823959351, 16.770845413208008, -0.7824044823646545, -1.2744098901748657]}],\n",
              "                        {\"height\": 1000, \"margin\": {\"b\": 50, \"l\": 50, \"r\": 50, \"t\": 50}, \"template\": {\"data\": {\"bar\": [{\"error_x\": {\"color\": \"#f2f5fa\"}, \"error_y\": {\"color\": \"#f2f5fa\"}, \"marker\": {\"line\": {\"color\": \"rgb(17,17,17)\", \"width\": 0.5}}, \"type\": \"bar\"}], \"barpolar\": [{\"marker\": {\"line\": {\"color\": \"rgb(17,17,17)\", \"width\": 0.5}}, \"type\": \"barpolar\"}], \"carpet\": [{\"aaxis\": {\"endlinecolor\": \"#A2B1C6\", \"gridcolor\": \"#506784\", \"linecolor\": \"#506784\", \"minorgridcolor\": \"#506784\", \"startlinecolor\": \"#A2B1C6\"}, \"baxis\": {\"endlinecolor\": \"#A2B1C6\", \"gridcolor\": \"#506784\", \"linecolor\": \"#506784\", \"minorgridcolor\": \"#506784\", \"startlinecolor\": \"#A2B1C6\"}, \"type\": \"carpet\"}], \"choropleth\": [{\"colorbar\": {\"outlinewidth\": 0, \"ticks\": \"\"}, \"type\": \"choropleth\"}], \"contour\": [{\"colorbar\": {\"outlinewidth\": 0, \"ticks\": \"\"}, \"colorscale\": [[0.0, \"#0d0887\"], [0.1111111111111111, \"#46039f\"], [0.2222222222222222, \"#7201a8\"], [0.3333333333333333, \"#9c179e\"], [0.4444444444444444, \"#bd3786\"], [0.5555555555555556, \"#d8576b\"], [0.6666666666666666, \"#ed7953\"], [0.7777777777777778, \"#fb9f3a\"], [0.8888888888888888, \"#fdca26\"], [1.0, \"#f0f921\"]], \"type\": \"contour\"}], \"contourcarpet\": [{\"colorbar\": {\"outlinewidth\": 0, \"ticks\": \"\"}, \"type\": \"contourcarpet\"}], \"heatmap\": [{\"colorbar\": {\"outlinewidth\": 0, \"ticks\": \"\"}, \"colorscale\": [[0.0, \"#0d0887\"], [0.1111111111111111, \"#46039f\"], [0.2222222222222222, \"#7201a8\"], [0.3333333333333333, \"#9c179e\"], [0.4444444444444444, \"#bd3786\"], [0.5555555555555556, \"#d8576b\"], [0.6666666666666666, \"#ed7953\"], [0.7777777777777778, \"#fb9f3a\"], [0.8888888888888888, \"#fdca26\"], [1.0, \"#f0f921\"]], \"type\": \"heatmap\"}], \"heatmapgl\": [{\"colorbar\": {\"outlinewidth\": 0, \"ticks\": \"\"}, \"colorscale\": [[0.0, \"#0d0887\"], [0.1111111111111111, \"#46039f\"], [0.2222222222222222, \"#7201a8\"], [0.3333333333333333, \"#9c179e\"], [0.4444444444444444, \"#bd3786\"], [0.5555555555555556, \"#d8576b\"], [0.6666666666666666, \"#ed7953\"], [0.7777777777777778, \"#fb9f3a\"], [0.8888888888888888, \"#fdca26\"], [1.0, \"#f0f921\"]], \"type\": \"heatmapgl\"}], \"histogram\": [{\"marker\": {\"colorbar\": {\"outlinewidth\": 0, \"ticks\": \"\"}}, \"type\": \"histogram\"}], \"histogram2d\": [{\"colorbar\": {\"outlinewidth\": 0, \"ticks\": \"\"}, \"colorscale\": [[0.0, \"#0d0887\"], [0.1111111111111111, \"#46039f\"], [0.2222222222222222, \"#7201a8\"], [0.3333333333333333, \"#9c179e\"], [0.4444444444444444, \"#bd3786\"], [0.5555555555555556, \"#d8576b\"], [0.6666666666666666, \"#ed7953\"], [0.7777777777777778, \"#fb9f3a\"], [0.8888888888888888, \"#fdca26\"], [1.0, \"#f0f921\"]], \"type\": \"histogram2d\"}], \"histogram2dcontour\": [{\"colorbar\": {\"outlinewidth\": 0, \"ticks\": \"\"}, \"colorscale\": [[0.0, \"#0d0887\"], [0.1111111111111111, \"#46039f\"], [0.2222222222222222, \"#7201a8\"], [0.3333333333333333, \"#9c179e\"], [0.4444444444444444, \"#bd3786\"], [0.5555555555555556, \"#d8576b\"], [0.6666666666666666, \"#ed7953\"], [0.7777777777777778, \"#fb9f3a\"], [0.8888888888888888, \"#fdca26\"], [1.0, \"#f0f921\"]], \"type\": \"histogram2dcontour\"}], \"mesh3d\": [{\"colorbar\": {\"outlinewidth\": 0, \"ticks\": \"\"}, \"type\": \"mesh3d\"}], \"parcoords\": [{\"line\": {\"colorbar\": {\"outlinewidth\": 0, \"ticks\": \"\"}}, \"type\": \"parcoords\"}], \"pie\": [{\"automargin\": true, \"type\": \"pie\"}], \"scatter\": [{\"marker\": {\"line\": {\"color\": \"#283442\"}}, \"type\": \"scatter\"}], \"scatter3d\": [{\"line\": {\"colorbar\": {\"outlinewidth\": 0, \"ticks\": \"\"}}, \"marker\": {\"colorbar\": {\"outlinewidth\": 0, \"ticks\": \"\"}}, \"type\": \"scatter3d\"}], \"scattercarpet\": [{\"marker\": {\"colorbar\": {\"outlinewidth\": 0, \"ticks\": \"\"}}, \"type\": \"scattercarpet\"}], \"scattergeo\": [{\"marker\": {\"colorbar\": {\"outlinewidth\": 0, \"ticks\": \"\"}}, \"type\": \"scattergeo\"}], \"scattergl\": [{\"marker\": {\"line\": {\"color\": \"#283442\"}}, \"type\": \"scattergl\"}], \"scattermapbox\": [{\"marker\": {\"colorbar\": {\"outlinewidth\": 0, \"ticks\": \"\"}}, \"type\": \"scattermapbox\"}], \"scatterpolar\": [{\"marker\": {\"colorbar\": {\"outlinewidth\": 0, \"ticks\": \"\"}}, \"type\": \"scatterpolar\"}], \"scatterpolargl\": [{\"marker\": {\"colorbar\": {\"outlinewidth\": 0, \"ticks\": \"\"}}, \"type\": \"scatterpolargl\"}], \"scatterternary\": [{\"marker\": {\"colorbar\": {\"outlinewidth\": 0, \"ticks\": \"\"}}, \"type\": \"scatterternary\"}], \"surface\": [{\"colorbar\": {\"outlinewidth\": 0, \"ticks\": \"\"}, \"colorscale\": [[0.0, \"#0d0887\"], [0.1111111111111111, \"#46039f\"], [0.2222222222222222, \"#7201a8\"], [0.3333333333333333, \"#9c179e\"], [0.4444444444444444, \"#bd3786\"], [0.5555555555555556, \"#d8576b\"], [0.6666666666666666, \"#ed7953\"], [0.7777777777777778, \"#fb9f3a\"], [0.8888888888888888, \"#fdca26\"], [1.0, \"#f0f921\"]], \"type\": \"surface\"}], \"table\": [{\"cells\": {\"fill\": {\"color\": \"#506784\"}, \"line\": {\"color\": \"rgb(17,17,17)\"}}, \"header\": {\"fill\": {\"color\": \"#2a3f5f\"}, \"line\": {\"color\": \"rgb(17,17,17)\"}}, \"type\": \"table\"}]}, \"layout\": {\"annotationdefaults\": {\"arrowcolor\": \"#f2f5fa\", \"arrowhead\": 0, \"arrowwidth\": 1}, \"coloraxis\": {\"colorbar\": {\"outlinewidth\": 0, \"ticks\": \"\"}}, \"colorscale\": {\"diverging\": [[0, \"#8e0152\"], [0.1, \"#c51b7d\"], [0.2, \"#de77ae\"], [0.3, \"#f1b6da\"], [0.4, \"#fde0ef\"], [0.5, \"#f7f7f7\"], [0.6, \"#e6f5d0\"], [0.7, \"#b8e186\"], [0.8, \"#7fbc41\"], [0.9, \"#4d9221\"], [1, \"#276419\"]], \"sequential\": [[0.0, \"#0d0887\"], [0.1111111111111111, \"#46039f\"], [0.2222222222222222, \"#7201a8\"], [0.3333333333333333, \"#9c179e\"], [0.4444444444444444, \"#bd3786\"], [0.5555555555555556, \"#d8576b\"], [0.6666666666666666, \"#ed7953\"], [0.7777777777777778, \"#fb9f3a\"], [0.8888888888888888, \"#fdca26\"], [1.0, \"#f0f921\"]], \"sequentialminus\": [[0.0, \"#0d0887\"], [0.1111111111111111, \"#46039f\"], [0.2222222222222222, \"#7201a8\"], [0.3333333333333333, \"#9c179e\"], [0.4444444444444444, \"#bd3786\"], [0.5555555555555556, \"#d8576b\"], [0.6666666666666666, \"#ed7953\"], [0.7777777777777778, \"#fb9f3a\"], [0.8888888888888888, \"#fdca26\"], [1.0, \"#f0f921\"]]}, \"colorway\": [\"#636efa\", \"#EF553B\", \"#00cc96\", \"#ab63fa\", \"#FFA15A\", \"#19d3f3\", \"#FF6692\", \"#B6E880\", \"#FF97FF\", \"#FECB52\"], \"font\": {\"color\": \"#f2f5fa\"}, \"geo\": {\"bgcolor\": \"rgb(17,17,17)\", \"lakecolor\": \"rgb(17,17,17)\", \"landcolor\": \"rgb(17,17,17)\", \"showlakes\": true, \"showland\": true, \"subunitcolor\": \"#506784\"}, \"hoverlabel\": {\"align\": \"left\"}, \"hovermode\": \"closest\", \"mapbox\": {\"style\": \"dark\"}, \"paper_bgcolor\": \"rgb(17,17,17)\", \"plot_bgcolor\": \"rgb(17,17,17)\", \"polar\": {\"angularaxis\": {\"gridcolor\": \"#506784\", \"linecolor\": \"#506784\", \"ticks\": \"\"}, \"bgcolor\": \"rgb(17,17,17)\", \"radialaxis\": {\"gridcolor\": \"#506784\", \"linecolor\": \"#506784\", \"ticks\": \"\"}}, \"scene\": {\"xaxis\": {\"backgroundcolor\": \"rgb(17,17,17)\", \"gridcolor\": \"#506784\", \"gridwidth\": 2, \"linecolor\": \"#506784\", \"showbackground\": true, \"ticks\": \"\", \"zerolinecolor\": \"#C8D4E3\"}, \"yaxis\": {\"backgroundcolor\": \"rgb(17,17,17)\", \"gridcolor\": \"#506784\", \"gridwidth\": 2, \"linecolor\": \"#506784\", \"showbackground\": true, \"ticks\": \"\", \"zerolinecolor\": \"#C8D4E3\"}, \"zaxis\": {\"backgroundcolor\": \"rgb(17,17,17)\", \"gridcolor\": \"#506784\", \"gridwidth\": 2, \"linecolor\": \"#506784\", \"showbackground\": true, \"ticks\": \"\", \"zerolinecolor\": \"#C8D4E3\"}}, \"shapedefaults\": {\"line\": {\"color\": \"#f2f5fa\"}}, \"sliderdefaults\": {\"bgcolor\": \"#C8D4E3\", \"bordercolor\": \"rgb(17,17,17)\", \"borderwidth\": 1, \"tickwidth\": 0}, \"ternary\": {\"aaxis\": {\"gridcolor\": \"#506784\", \"linecolor\": \"#506784\", \"ticks\": \"\"}, \"baxis\": {\"gridcolor\": \"#506784\", \"linecolor\": \"#506784\", \"ticks\": \"\"}, \"bgcolor\": \"rgb(17,17,17)\", \"caxis\": {\"gridcolor\": \"#506784\", \"linecolor\": \"#506784\", \"ticks\": \"\"}}, \"title\": {\"x\": 0.05}, \"updatemenudefaults\": {\"bgcolor\": \"#506784\", \"borderwidth\": 0}, \"xaxis\": {\"automargin\": true, \"gridcolor\": \"#283442\", \"linecolor\": \"#506784\", \"ticks\": \"\", \"title\": {\"standoff\": 15}, \"zerolinecolor\": \"#283442\", \"zerolinewidth\": 2}, \"yaxis\": {\"automargin\": true, \"gridcolor\": \"#283442\", \"linecolor\": \"#506784\", \"ticks\": \"\", \"title\": {\"standoff\": 15}, \"zerolinecolor\": \"#283442\", \"zerolinewidth\": 2}}}, \"width\": 1800},\n",
              "                        {\"responsive\": true}\n",
              "                    ).then(function(){\n",
              "                            \n",
              "var gd = document.getElementById('42a1dfb6-b081-4d0f-95e3-b97bb89d7b0e');\n",
              "var x = new MutationObserver(function (mutations, observer) {{\n",
              "        var display = window.getComputedStyle(gd).display;\n",
              "        if (!display || display === 'none') {{\n",
              "            console.log([gd, 'removed!']);\n",
              "            Plotly.purge(gd);\n",
              "            observer.disconnect();\n",
              "        }}\n",
              "}});\n",
              "\n",
              "// Listen for the removal of the full notebook cells\n",
              "var notebookContainer = gd.closest('#notebook-container');\n",
              "if (notebookContainer) {{\n",
              "    x.observe(notebookContainer, {childList: true});\n",
              "}}\n",
              "\n",
              "// Listen for the clearing of the current output cell\n",
              "var outputEl = gd.closest('.output');\n",
              "if (outputEl) {{\n",
              "    x.observe(outputEl, {childList: true});\n",
              "}}\n",
              "\n",
              "                        })\n",
              "                };\n",
              "                \n",
              "            </script>\n",
              "        </div>\n",
              "</body>\n",
              "</html>"
            ]
          },
          "metadata": {
            "tags": []
          }
        },
        {
          "output_type": "stream",
          "text": [
            "time: 215 ms (started: 2021-01-05 21:48:50 +00:00)\n"
          ],
          "name": "stdout"
        }
      ]
    },
    {
      "cell_type": "code",
      "metadata": {
        "id": "2XuzjnSzMsFJ"
      },
      "source": [
        ""
      ],
      "execution_count": null,
      "outputs": []
    },
    {
      "cell_type": "markdown",
      "metadata": {
        "id": "b74NmHtnrsgv"
      },
      "source": [
        "## Conclusiones"
      ]
    },
    {
      "cell_type": "markdown",
      "metadata": {
        "id": "MMSglkTNRPhy"
      },
      "source": [
        "Tanto hyperparameter tuning como reducción de dimensionalidad son dos herramientas interesantes y muy útiles a la hora de mejorar tanto el desempeño del modelo tanto respecto a efectividad como a necesidad de cómputo. \n",
        "\n",
        "Para hyperparameter tuning, podemos afirmar que lo ideal sería utilizar un método automatizado, aunque si fuera el caso de un retoque fino en donde se tiene cierta información de los rangos de valores, podría ser usado también Random Search. Grid Search es un método muy básico pero que podría ser útil como primera aproximación con pocas iteraciones para entender en que rangos se obtienen mejores desempeños.\n",
        "\n",
        "Para reducción de dimensionalidad, es difícil indicar al momento en que caso particular es mejor un método o el otro. Será necesario probar varios de ellos y entender porque uno o otro dan mejor resultado para determinado set de datos. Una práctica interesante es obtener las variables que explican el 95% de la varianza de los datos, agregar estás variables al dataset original y utilizar todos los datos para entrenar el modelo. Pueden llegar a obtenerse mejores resultados pero a costa de un riesgo de aumentar el overfitting al momento de generalizar sobre nueva información."
      ]
    }
  ]
}