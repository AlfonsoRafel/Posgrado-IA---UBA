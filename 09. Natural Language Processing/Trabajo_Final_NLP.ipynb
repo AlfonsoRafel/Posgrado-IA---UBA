{
  "nbformat": 4,
  "nbformat_minor": 0,
  "metadata": {
    "accelerator": "GPU",
    "colab": {
      "name": "Trabajo Final - NLP.ipynb",
      "provenance": [],
      "collapsed_sections": [],
      "toc_visible": true,
      "authorship_tag": "ABX9TyOSIw2ueU/UR+fCnEBZED3I",
      "include_colab_link": true
    },
    "kernelspec": {
      "display_name": "Python 3",
      "name": "python3"
    },
    "widgets": {
      "application/vnd.jupyter.widget-state+json": {
        "ffcd4fef285d4a30b8f8e48f03aed6ba": {
          "model_module": "@jupyter-widgets/controls",
          "model_name": "HBoxModel",
          "state": {
            "_dom_classes": [],
            "_model_module": "@jupyter-widgets/controls",
            "_model_module_version": "1.5.0",
            "_model_name": "HBoxModel",
            "_view_count": null,
            "_view_module": "@jupyter-widgets/controls",
            "_view_module_version": "1.5.0",
            "_view_name": "HBoxView",
            "box_style": "",
            "children": [
              "IPY_MODEL_d2eacefa6ec34606bc23e6a2008ebfa6",
              "IPY_MODEL_249a0a0648fa4809b93d537189c8ec52"
            ],
            "layout": "IPY_MODEL_8f89157b28214bc1b0ffac2a14ff4b27"
          }
        },
        "d2eacefa6ec34606bc23e6a2008ebfa6": {
          "model_module": "@jupyter-widgets/controls",
          "model_name": "FloatProgressModel",
          "state": {
            "_dom_classes": [],
            "_model_module": "@jupyter-widgets/controls",
            "_model_module_version": "1.5.0",
            "_model_name": "FloatProgressModel",
            "_view_count": null,
            "_view_module": "@jupyter-widgets/controls",
            "_view_module_version": "1.5.0",
            "_view_name": "ProgressView",
            "bar_style": "success",
            "description": "Downloading: 100%",
            "description_tooltip": null,
            "layout": "IPY_MODEL_79a1632b509c41679771b6a2f3f9c8a7",
            "max": 433,
            "min": 0,
            "orientation": "horizontal",
            "style": "IPY_MODEL_dc12b24fde944c6cab65f93d911efd76",
            "value": 433
          }
        },
        "249a0a0648fa4809b93d537189c8ec52": {
          "model_module": "@jupyter-widgets/controls",
          "model_name": "HTMLModel",
          "state": {
            "_dom_classes": [],
            "_model_module": "@jupyter-widgets/controls",
            "_model_module_version": "1.5.0",
            "_model_name": "HTMLModel",
            "_view_count": null,
            "_view_module": "@jupyter-widgets/controls",
            "_view_module_version": "1.5.0",
            "_view_name": "HTMLView",
            "description": "",
            "description_tooltip": null,
            "layout": "IPY_MODEL_b5e3fee71859414b9fd5623a51368352",
            "placeholder": "​",
            "style": "IPY_MODEL_c7467941cb894ebb8110e158c235213b",
            "value": " 433/433 [00:00&lt;00:00, 6.71kB/s]"
          }
        },
        "8f89157b28214bc1b0ffac2a14ff4b27": {
          "model_module": "@jupyter-widgets/base",
          "model_name": "LayoutModel",
          "state": {
            "_model_module": "@jupyter-widgets/base",
            "_model_module_version": "1.2.0",
            "_model_name": "LayoutModel",
            "_view_count": null,
            "_view_module": "@jupyter-widgets/base",
            "_view_module_version": "1.2.0",
            "_view_name": "LayoutView",
            "align_content": null,
            "align_items": null,
            "align_self": null,
            "border": null,
            "bottom": null,
            "display": null,
            "flex": null,
            "flex_flow": null,
            "grid_area": null,
            "grid_auto_columns": null,
            "grid_auto_flow": null,
            "grid_auto_rows": null,
            "grid_column": null,
            "grid_gap": null,
            "grid_row": null,
            "grid_template_areas": null,
            "grid_template_columns": null,
            "grid_template_rows": null,
            "height": null,
            "justify_content": null,
            "justify_items": null,
            "left": null,
            "margin": null,
            "max_height": null,
            "max_width": null,
            "min_height": null,
            "min_width": null,
            "object_fit": null,
            "object_position": null,
            "order": null,
            "overflow": null,
            "overflow_x": null,
            "overflow_y": null,
            "padding": null,
            "right": null,
            "top": null,
            "visibility": null,
            "width": null
          }
        },
        "79a1632b509c41679771b6a2f3f9c8a7": {
          "model_module": "@jupyter-widgets/base",
          "model_name": "LayoutModel",
          "state": {
            "_model_module": "@jupyter-widgets/base",
            "_model_module_version": "1.2.0",
            "_model_name": "LayoutModel",
            "_view_count": null,
            "_view_module": "@jupyter-widgets/base",
            "_view_module_version": "1.2.0",
            "_view_name": "LayoutView",
            "align_content": null,
            "align_items": null,
            "align_self": null,
            "border": null,
            "bottom": null,
            "display": null,
            "flex": null,
            "flex_flow": null,
            "grid_area": null,
            "grid_auto_columns": null,
            "grid_auto_flow": null,
            "grid_auto_rows": null,
            "grid_column": null,
            "grid_gap": null,
            "grid_row": null,
            "grid_template_areas": null,
            "grid_template_columns": null,
            "grid_template_rows": null,
            "height": null,
            "justify_content": null,
            "justify_items": null,
            "left": null,
            "margin": null,
            "max_height": null,
            "max_width": null,
            "min_height": null,
            "min_width": null,
            "object_fit": null,
            "object_position": null,
            "order": null,
            "overflow": null,
            "overflow_x": null,
            "overflow_y": null,
            "padding": null,
            "right": null,
            "top": null,
            "visibility": null,
            "width": null
          }
        },
        "dc12b24fde944c6cab65f93d911efd76": {
          "model_module": "@jupyter-widgets/controls",
          "model_name": "ProgressStyleModel",
          "state": {
            "_model_module": "@jupyter-widgets/controls",
            "_model_module_version": "1.5.0",
            "_model_name": "ProgressStyleModel",
            "_view_count": null,
            "_view_module": "@jupyter-widgets/base",
            "_view_module_version": "1.2.0",
            "_view_name": "StyleView",
            "bar_color": null,
            "description_width": "initial"
          }
        },
        "b5e3fee71859414b9fd5623a51368352": {
          "model_module": "@jupyter-widgets/base",
          "model_name": "LayoutModel",
          "state": {
            "_model_module": "@jupyter-widgets/base",
            "_model_module_version": "1.2.0",
            "_model_name": "LayoutModel",
            "_view_count": null,
            "_view_module": "@jupyter-widgets/base",
            "_view_module_version": "1.2.0",
            "_view_name": "LayoutView",
            "align_content": null,
            "align_items": null,
            "align_self": null,
            "border": null,
            "bottom": null,
            "display": null,
            "flex": null,
            "flex_flow": null,
            "grid_area": null,
            "grid_auto_columns": null,
            "grid_auto_flow": null,
            "grid_auto_rows": null,
            "grid_column": null,
            "grid_gap": null,
            "grid_row": null,
            "grid_template_areas": null,
            "grid_template_columns": null,
            "grid_template_rows": null,
            "height": null,
            "justify_content": null,
            "justify_items": null,
            "left": null,
            "margin": null,
            "max_height": null,
            "max_width": null,
            "min_height": null,
            "min_width": null,
            "object_fit": null,
            "object_position": null,
            "order": null,
            "overflow": null,
            "overflow_x": null,
            "overflow_y": null,
            "padding": null,
            "right": null,
            "top": null,
            "visibility": null,
            "width": null
          }
        },
        "c7467941cb894ebb8110e158c235213b": {
          "model_module": "@jupyter-widgets/controls",
          "model_name": "DescriptionStyleModel",
          "state": {
            "_model_module": "@jupyter-widgets/controls",
            "_model_module_version": "1.5.0",
            "_model_name": "DescriptionStyleModel",
            "_view_count": null,
            "_view_module": "@jupyter-widgets/base",
            "_view_module_version": "1.2.0",
            "_view_name": "StyleView",
            "description_width": ""
          }
        },
        "762479e7f5264b8f981b03ca7551e667": {
          "model_module": "@jupyter-widgets/controls",
          "model_name": "HBoxModel",
          "state": {
            "_dom_classes": [],
            "_model_module": "@jupyter-widgets/controls",
            "_model_module_version": "1.5.0",
            "_model_name": "HBoxModel",
            "_view_count": null,
            "_view_module": "@jupyter-widgets/controls",
            "_view_module_version": "1.5.0",
            "_view_name": "HBoxView",
            "box_style": "",
            "children": [
              "IPY_MODEL_31c1c07ab77444499b1a7d170c7fd837",
              "IPY_MODEL_29eaccef16c2481aadc27c35527e1cf3"
            ],
            "layout": "IPY_MODEL_40246863ab9b477ba4b0307fb3d93a00"
          }
        },
        "31c1c07ab77444499b1a7d170c7fd837": {
          "model_module": "@jupyter-widgets/controls",
          "model_name": "FloatProgressModel",
          "state": {
            "_dom_classes": [],
            "_model_module": "@jupyter-widgets/controls",
            "_model_module_version": "1.5.0",
            "_model_name": "FloatProgressModel",
            "_view_count": null,
            "_view_module": "@jupyter-widgets/controls",
            "_view_module_version": "1.5.0",
            "_view_name": "ProgressView",
            "bar_style": "success",
            "description": "Downloading: 100%",
            "description_tooltip": null,
            "layout": "IPY_MODEL_a45818e763454ca3a07c4f19563d7e45",
            "max": 536063208,
            "min": 0,
            "orientation": "horizontal",
            "style": "IPY_MODEL_008e0a9f88ef47d8a1ae0670a55fc469",
            "value": 536063208
          }
        },
        "29eaccef16c2481aadc27c35527e1cf3": {
          "model_module": "@jupyter-widgets/controls",
          "model_name": "HTMLModel",
          "state": {
            "_dom_classes": [],
            "_model_module": "@jupyter-widgets/controls",
            "_model_module_version": "1.5.0",
            "_model_name": "HTMLModel",
            "_view_count": null,
            "_view_module": "@jupyter-widgets/controls",
            "_view_module_version": "1.5.0",
            "_view_name": "HTMLView",
            "description": "",
            "description_tooltip": null,
            "layout": "IPY_MODEL_d6135fac1a5243a0bee575f280d56bfe",
            "placeholder": "​",
            "style": "IPY_MODEL_ee132b582c114f389dfd2aad722619e1",
            "value": " 536M/536M [00:07&lt;00:00, 75.0MB/s]"
          }
        },
        "40246863ab9b477ba4b0307fb3d93a00": {
          "model_module": "@jupyter-widgets/base",
          "model_name": "LayoutModel",
          "state": {
            "_model_module": "@jupyter-widgets/base",
            "_model_module_version": "1.2.0",
            "_model_name": "LayoutModel",
            "_view_count": null,
            "_view_module": "@jupyter-widgets/base",
            "_view_module_version": "1.2.0",
            "_view_name": "LayoutView",
            "align_content": null,
            "align_items": null,
            "align_self": null,
            "border": null,
            "bottom": null,
            "display": null,
            "flex": null,
            "flex_flow": null,
            "grid_area": null,
            "grid_auto_columns": null,
            "grid_auto_flow": null,
            "grid_auto_rows": null,
            "grid_column": null,
            "grid_gap": null,
            "grid_row": null,
            "grid_template_areas": null,
            "grid_template_columns": null,
            "grid_template_rows": null,
            "height": null,
            "justify_content": null,
            "justify_items": null,
            "left": null,
            "margin": null,
            "max_height": null,
            "max_width": null,
            "min_height": null,
            "min_width": null,
            "object_fit": null,
            "object_position": null,
            "order": null,
            "overflow": null,
            "overflow_x": null,
            "overflow_y": null,
            "padding": null,
            "right": null,
            "top": null,
            "visibility": null,
            "width": null
          }
        },
        "a45818e763454ca3a07c4f19563d7e45": {
          "model_module": "@jupyter-widgets/base",
          "model_name": "LayoutModel",
          "state": {
            "_model_module": "@jupyter-widgets/base",
            "_model_module_version": "1.2.0",
            "_model_name": "LayoutModel",
            "_view_count": null,
            "_view_module": "@jupyter-widgets/base",
            "_view_module_version": "1.2.0",
            "_view_name": "LayoutView",
            "align_content": null,
            "align_items": null,
            "align_self": null,
            "border": null,
            "bottom": null,
            "display": null,
            "flex": null,
            "flex_flow": null,
            "grid_area": null,
            "grid_auto_columns": null,
            "grid_auto_flow": null,
            "grid_auto_rows": null,
            "grid_column": null,
            "grid_gap": null,
            "grid_row": null,
            "grid_template_areas": null,
            "grid_template_columns": null,
            "grid_template_rows": null,
            "height": null,
            "justify_content": null,
            "justify_items": null,
            "left": null,
            "margin": null,
            "max_height": null,
            "max_width": null,
            "min_height": null,
            "min_width": null,
            "object_fit": null,
            "object_position": null,
            "order": null,
            "overflow": null,
            "overflow_x": null,
            "overflow_y": null,
            "padding": null,
            "right": null,
            "top": null,
            "visibility": null,
            "width": null
          }
        },
        "008e0a9f88ef47d8a1ae0670a55fc469": {
          "model_module": "@jupyter-widgets/controls",
          "model_name": "ProgressStyleModel",
          "state": {
            "_model_module": "@jupyter-widgets/controls",
            "_model_module_version": "1.5.0",
            "_model_name": "ProgressStyleModel",
            "_view_count": null,
            "_view_module": "@jupyter-widgets/base",
            "_view_module_version": "1.2.0",
            "_view_name": "StyleView",
            "bar_color": null,
            "description_width": "initial"
          }
        },
        "d6135fac1a5243a0bee575f280d56bfe": {
          "model_module": "@jupyter-widgets/base",
          "model_name": "LayoutModel",
          "state": {
            "_model_module": "@jupyter-widgets/base",
            "_model_module_version": "1.2.0",
            "_model_name": "LayoutModel",
            "_view_count": null,
            "_view_module": "@jupyter-widgets/base",
            "_view_module_version": "1.2.0",
            "_view_name": "LayoutView",
            "align_content": null,
            "align_items": null,
            "align_self": null,
            "border": null,
            "bottom": null,
            "display": null,
            "flex": null,
            "flex_flow": null,
            "grid_area": null,
            "grid_auto_columns": null,
            "grid_auto_flow": null,
            "grid_auto_rows": null,
            "grid_column": null,
            "grid_gap": null,
            "grid_row": null,
            "grid_template_areas": null,
            "grid_template_columns": null,
            "grid_template_rows": null,
            "height": null,
            "justify_content": null,
            "justify_items": null,
            "left": null,
            "margin": null,
            "max_height": null,
            "max_width": null,
            "min_height": null,
            "min_width": null,
            "object_fit": null,
            "object_position": null,
            "order": null,
            "overflow": null,
            "overflow_x": null,
            "overflow_y": null,
            "padding": null,
            "right": null,
            "top": null,
            "visibility": null,
            "width": null
          }
        },
        "ee132b582c114f389dfd2aad722619e1": {
          "model_module": "@jupyter-widgets/controls",
          "model_name": "DescriptionStyleModel",
          "state": {
            "_model_module": "@jupyter-widgets/controls",
            "_model_module_version": "1.5.0",
            "_model_name": "DescriptionStyleModel",
            "_view_count": null,
            "_view_module": "@jupyter-widgets/base",
            "_view_module_version": "1.2.0",
            "_view_name": "StyleView",
            "description_width": ""
          }
        },
        "3c4caf66b96c4b0a86d8993b56a88b5d": {
          "model_module": "@jupyter-widgets/controls",
          "model_name": "HBoxModel",
          "state": {
            "_dom_classes": [],
            "_model_module": "@jupyter-widgets/controls",
            "_model_module_version": "1.5.0",
            "_model_name": "HBoxModel",
            "_view_count": null,
            "_view_module": "@jupyter-widgets/controls",
            "_view_module_version": "1.5.0",
            "_view_name": "HBoxView",
            "box_style": "",
            "children": [
              "IPY_MODEL_836e006ae1a6426a8378a3bd3f8a15bc",
              "IPY_MODEL_de75f22a999c49a4a5e2ef6f6de3dee0"
            ],
            "layout": "IPY_MODEL_13f04caf7aad49a9ba20f10abf58bf6a"
          }
        },
        "836e006ae1a6426a8378a3bd3f8a15bc": {
          "model_module": "@jupyter-widgets/controls",
          "model_name": "FloatProgressModel",
          "state": {
            "_dom_classes": [],
            "_model_module": "@jupyter-widgets/controls",
            "_model_module_version": "1.5.0",
            "_model_name": "FloatProgressModel",
            "_view_count": null,
            "_view_module": "@jupyter-widgets/controls",
            "_view_module_version": "1.5.0",
            "_view_name": "ProgressView",
            "bar_style": "success",
            "description": "Downloading: 100%",
            "description_tooltip": null,
            "layout": "IPY_MODEL_cc552a31d9664392b488d2abbf2ccb57",
            "max": 231508,
            "min": 0,
            "orientation": "horizontal",
            "style": "IPY_MODEL_db8c8f816a41476e886aaa249059f791",
            "value": 231508
          }
        },
        "de75f22a999c49a4a5e2ef6f6de3dee0": {
          "model_module": "@jupyter-widgets/controls",
          "model_name": "HTMLModel",
          "state": {
            "_dom_classes": [],
            "_model_module": "@jupyter-widgets/controls",
            "_model_module_version": "1.5.0",
            "_model_name": "HTMLModel",
            "_view_count": null,
            "_view_module": "@jupyter-widgets/controls",
            "_view_module_version": "1.5.0",
            "_view_name": "HTMLView",
            "description": "",
            "description_tooltip": null,
            "layout": "IPY_MODEL_92926e1d9f06490b82aeaed765de7c57",
            "placeholder": "​",
            "style": "IPY_MODEL_ec53af9d834145a3904f87b53fc12139",
            "value": " 232k/232k [00:00&lt;00:00, 3.52MB/s]"
          }
        },
        "13f04caf7aad49a9ba20f10abf58bf6a": {
          "model_module": "@jupyter-widgets/base",
          "model_name": "LayoutModel",
          "state": {
            "_model_module": "@jupyter-widgets/base",
            "_model_module_version": "1.2.0",
            "_model_name": "LayoutModel",
            "_view_count": null,
            "_view_module": "@jupyter-widgets/base",
            "_view_module_version": "1.2.0",
            "_view_name": "LayoutView",
            "align_content": null,
            "align_items": null,
            "align_self": null,
            "border": null,
            "bottom": null,
            "display": null,
            "flex": null,
            "flex_flow": null,
            "grid_area": null,
            "grid_auto_columns": null,
            "grid_auto_flow": null,
            "grid_auto_rows": null,
            "grid_column": null,
            "grid_gap": null,
            "grid_row": null,
            "grid_template_areas": null,
            "grid_template_columns": null,
            "grid_template_rows": null,
            "height": null,
            "justify_content": null,
            "justify_items": null,
            "left": null,
            "margin": null,
            "max_height": null,
            "max_width": null,
            "min_height": null,
            "min_width": null,
            "object_fit": null,
            "object_position": null,
            "order": null,
            "overflow": null,
            "overflow_x": null,
            "overflow_y": null,
            "padding": null,
            "right": null,
            "top": null,
            "visibility": null,
            "width": null
          }
        },
        "cc552a31d9664392b488d2abbf2ccb57": {
          "model_module": "@jupyter-widgets/base",
          "model_name": "LayoutModel",
          "state": {
            "_model_module": "@jupyter-widgets/base",
            "_model_module_version": "1.2.0",
            "_model_name": "LayoutModel",
            "_view_count": null,
            "_view_module": "@jupyter-widgets/base",
            "_view_module_version": "1.2.0",
            "_view_name": "LayoutView",
            "align_content": null,
            "align_items": null,
            "align_self": null,
            "border": null,
            "bottom": null,
            "display": null,
            "flex": null,
            "flex_flow": null,
            "grid_area": null,
            "grid_auto_columns": null,
            "grid_auto_flow": null,
            "grid_auto_rows": null,
            "grid_column": null,
            "grid_gap": null,
            "grid_row": null,
            "grid_template_areas": null,
            "grid_template_columns": null,
            "grid_template_rows": null,
            "height": null,
            "justify_content": null,
            "justify_items": null,
            "left": null,
            "margin": null,
            "max_height": null,
            "max_width": null,
            "min_height": null,
            "min_width": null,
            "object_fit": null,
            "object_position": null,
            "order": null,
            "overflow": null,
            "overflow_x": null,
            "overflow_y": null,
            "padding": null,
            "right": null,
            "top": null,
            "visibility": null,
            "width": null
          }
        },
        "db8c8f816a41476e886aaa249059f791": {
          "model_module": "@jupyter-widgets/controls",
          "model_name": "ProgressStyleModel",
          "state": {
            "_model_module": "@jupyter-widgets/controls",
            "_model_module_version": "1.5.0",
            "_model_name": "ProgressStyleModel",
            "_view_count": null,
            "_view_module": "@jupyter-widgets/base",
            "_view_module_version": "1.2.0",
            "_view_name": "StyleView",
            "bar_color": null,
            "description_width": "initial"
          }
        },
        "92926e1d9f06490b82aeaed765de7c57": {
          "model_module": "@jupyter-widgets/base",
          "model_name": "LayoutModel",
          "state": {
            "_model_module": "@jupyter-widgets/base",
            "_model_module_version": "1.2.0",
            "_model_name": "LayoutModel",
            "_view_count": null,
            "_view_module": "@jupyter-widgets/base",
            "_view_module_version": "1.2.0",
            "_view_name": "LayoutView",
            "align_content": null,
            "align_items": null,
            "align_self": null,
            "border": null,
            "bottom": null,
            "display": null,
            "flex": null,
            "flex_flow": null,
            "grid_area": null,
            "grid_auto_columns": null,
            "grid_auto_flow": null,
            "grid_auto_rows": null,
            "grid_column": null,
            "grid_gap": null,
            "grid_row": null,
            "grid_template_areas": null,
            "grid_template_columns": null,
            "grid_template_rows": null,
            "height": null,
            "justify_content": null,
            "justify_items": null,
            "left": null,
            "margin": null,
            "max_height": null,
            "max_width": null,
            "min_height": null,
            "min_width": null,
            "object_fit": null,
            "object_position": null,
            "order": null,
            "overflow": null,
            "overflow_x": null,
            "overflow_y": null,
            "padding": null,
            "right": null,
            "top": null,
            "visibility": null,
            "width": null
          }
        },
        "ec53af9d834145a3904f87b53fc12139": {
          "model_module": "@jupyter-widgets/controls",
          "model_name": "DescriptionStyleModel",
          "state": {
            "_model_module": "@jupyter-widgets/controls",
            "_model_module_version": "1.5.0",
            "_model_name": "DescriptionStyleModel",
            "_view_count": null,
            "_view_module": "@jupyter-widgets/base",
            "_view_module_version": "1.2.0",
            "_view_name": "StyleView",
            "description_width": ""
          }
        }
      }
    }
  },
  "cells": [
    {
      "cell_type": "markdown",
      "metadata": {
        "id": "view-in-github",
        "colab_type": "text"
      },
      "source": [
        "<a href=\"https://colab.research.google.com/github/AlfonsoRafel/Posgrado-IA---UBA/blob/master/09.%20Natural%20Language%20Processing/Trabajo_Final_NLP.ipynb\" target=\"_parent\"><img src=\"https://colab.research.google.com/assets/colab-badge.svg\" alt=\"Open In Colab\"/></a>"
      ]
    },
    {
      "cell_type": "markdown",
      "metadata": {
        "id": "WTolbKe4n518"
      },
      "source": [
        "# Ejercicio Clase 6 - NLP"
      ]
    },
    {
      "cell_type": "markdown",
      "metadata": {
        "id": "EHEDIX1ao5ma"
      },
      "source": [
        "Fuentes: \n",
        "* **https://colab.research.google.com/drive/1jzsUGUlXob73ozBN1PghUYLCvXYpsQ0H**\n",
        "* https://keras.io/examples/nlp/text_classification_from_scratch/\n",
        "* https://blog.keras.io/using-pre-trained-word-embeddings-in-a-keras-model.html"
      ]
    },
    {
      "cell_type": "markdown",
      "metadata": {
        "id": "2Sh5zSecoEB8"
      },
      "source": [
        "## 1. Descargar el dataset del siguiente link."
      ]
    },
    {
      "cell_type": "code",
      "metadata": {
        "colab": {
          "base_uri": "https://localhost:8080/"
        },
        "id": "yBhiw_y5VM7u",
        "outputId": "59a9161a-d01d-4ec9-ba2a-b8baa72b916b"
      },
      "source": [
        "%%capture \n",
        "!pip install funpymodeling\n",
        "!pip install h5py\n",
        "import nltk     \n",
        "nltk.download('stopwords')\n",
        "nltk.download('punkt')\n",
        "from funpymodeling.exploratory import freq_tbl, status, profiling_num, cat_vars, num_vars, corr_pair\n",
        "from funpymodeling.data_prep import todf\n",
        "!pip install ipython-autotime\n",
        "%load_ext autotime"
      ],
      "execution_count": null,
      "outputs": [
        {
          "output_type": "stream",
          "text": [
            "time: 817 µs (started: 2020-12-31 23:14:05 +00:00)\n"
          ],
          "name": "stdout"
        }
      ]
    },
    {
      "cell_type": "code",
      "metadata": {
        "colab": {
          "base_uri": "https://localhost:8080/"
        },
        "id": "lFToQs5FK5uZ",
        "outputId": "18a0d65b-eac2-4ab0-9d8d-f667fe90513c"
      },
      "source": [
        "import pandas as pd\n",
        "import seaborn as sns\n",
        "from pandas_profiling import ProfileReport\n",
        "from google.colab.data_table import DataTable\n",
        "import pandas as pd\n",
        "import matplotlib.pyplot as plt\n",
        "import tensorflow as tf\n",
        "import re\n",
        "import string\n",
        "import bs4\n",
        "import timeit\n",
        "import pickle\n",
        "import numpy as np\n",
        "import matplotlib.pyplot as plt\n",
        "from keras.models import model_from_json"
      ],
      "execution_count": null,
      "outputs": [
        {
          "output_type": "stream",
          "text": [
            "time: 1.67 s (started: 2020-12-31 23:14:05 +00:00)\n"
          ],
          "name": "stdout"
        }
      ]
    },
    {
      "cell_type": "code",
      "metadata": {
        "colab": {
          "base_uri": "https://localhost:8080/"
        },
        "id": "ZenHpfvjerdU",
        "outputId": "598fb3da-5fef-4456-d6d5-7db7c0818b22"
      },
      "source": [
        "import multiprocessing\n",
        "from gensim.models import Word2Vec"
      ],
      "execution_count": null,
      "outputs": [
        {
          "output_type": "stream",
          "text": [
            "time: 257 ms (started: 2020-12-31 23:14:07 +00:00)\n"
          ],
          "name": "stdout"
        }
      ]
    },
    {
      "cell_type": "code",
      "metadata": {
        "colab": {
          "base_uri": "https://localhost:8080/"
        },
        "id": "2-4fTIXWsPmn",
        "outputId": "5bd6e8eb-254f-4c87-ff62-0f1dfb8799b8"
      },
      "source": [
        "from google.colab import drive\n",
        "drive.mount('/content/drive')"
      ],
      "execution_count": null,
      "outputs": [
        {
          "output_type": "stream",
          "text": [
            "Mounted at /content/drive\n",
            "time: 20.6 s (started: 2020-12-31 23:14:07 +00:00)\n"
          ],
          "name": "stdout"
        }
      ]
    },
    {
      "cell_type": "code",
      "metadata": {
        "colab": {
          "base_uri": "https://localhost:8080/"
        },
        "id": "gajGT_wY-jZV",
        "outputId": "a5ffd17a-984b-4c91-8407-458832abca59"
      },
      "source": [
        "def save_model(model, name='model'):\n",
        "  model_path = \"/content/drive/MyDrive/Alfonso/CEIA/Bimestre III/NLP/\" + str(name)\n",
        "  # serialize model to JSON\n",
        "  model_json = model.to_json()\n",
        "  with open(model_path + \".json\", \"w\") as json_file:\n",
        "      json_file.write(model_json)\n",
        "  # serialize weights to HDF5\n",
        "  model.save_weights(model_path + \".h5\")\n",
        "  print(\"Saved model to disk\")\n",
        "  return \"Saved\"\n",
        " \n",
        "def load_model(name='model'):\n",
        "  model_path = \"/content/drive/MyDrive/Alfonso/CEIA/Bimestre III/NLP/\" + str(name)\n",
        "  # load json and create model\n",
        "  json_file = open(model_path + \".json\", 'r')\n",
        "  loaded_model_json = json_file.read()\n",
        "  json_file.close()\n",
        "  loaded_model = model_from_json(loaded_model_json)\n",
        "  # load weights into new model\n",
        "  loaded_model.load_weights(model_path + \".h5\")\n",
        "  return loaded_model"
      ],
      "execution_count": null,
      "outputs": [
        {
          "output_type": "stream",
          "text": [
            "time: 14.6 ms (started: 2020-12-31 23:14:28 +00:00)\n"
          ],
          "name": "stdout"
        }
      ]
    },
    {
      "cell_type": "markdown",
      "metadata": {
        "id": "A5bbHsHWr-ey"
      },
      "source": [
        "## 2. Pre-procesar el texto de manera básica:"
      ]
    },
    {
      "cell_type": "markdown",
      "metadata": {
        "id": "EiaF1OfAsGAu"
      },
      "source": [
        "Cargar el archivo"
      ]
    },
    {
      "cell_type": "code",
      "metadata": {
        "colab": {
          "base_uri": "https://localhost:8080/",
          "height": 212
        },
        "id": "uX9noQGUsBmL",
        "outputId": "bc60a677-bd82-460c-bf99-f3092b0ba302"
      },
      "source": [
        "df = pd.read_csv('/content/drive/MyDrive/Alfonso/CEIA/Bimestre III/NLP/IMDB Dataset.csv')\n",
        "df.head()"
      ],
      "execution_count": null,
      "outputs": [
        {
          "output_type": "execute_result",
          "data": {
            "text/html": [
              "<div>\n",
              "<style scoped>\n",
              "    .dataframe tbody tr th:only-of-type {\n",
              "        vertical-align: middle;\n",
              "    }\n",
              "\n",
              "    .dataframe tbody tr th {\n",
              "        vertical-align: top;\n",
              "    }\n",
              "\n",
              "    .dataframe thead th {\n",
              "        text-align: right;\n",
              "    }\n",
              "</style>\n",
              "<table border=\"1\" class=\"dataframe\">\n",
              "  <thead>\n",
              "    <tr style=\"text-align: right;\">\n",
              "      <th></th>\n",
              "      <th>review</th>\n",
              "      <th>sentiment</th>\n",
              "    </tr>\n",
              "  </thead>\n",
              "  <tbody>\n",
              "    <tr>\n",
              "      <th>0</th>\n",
              "      <td>One of the other reviewers has mentioned that ...</td>\n",
              "      <td>positive</td>\n",
              "    </tr>\n",
              "    <tr>\n",
              "      <th>1</th>\n",
              "      <td>A wonderful little production. &lt;br /&gt;&lt;br /&gt;The...</td>\n",
              "      <td>positive</td>\n",
              "    </tr>\n",
              "    <tr>\n",
              "      <th>2</th>\n",
              "      <td>I thought this was a wonderful way to spend ti...</td>\n",
              "      <td>positive</td>\n",
              "    </tr>\n",
              "    <tr>\n",
              "      <th>3</th>\n",
              "      <td>Basically there's a family where a little boy ...</td>\n",
              "      <td>negative</td>\n",
              "    </tr>\n",
              "    <tr>\n",
              "      <th>4</th>\n",
              "      <td>Petter Mattei's \"Love in the Time of Money\" is...</td>\n",
              "      <td>positive</td>\n",
              "    </tr>\n",
              "  </tbody>\n",
              "</table>\n",
              "</div>"
            ],
            "text/plain": [
              "                                              review sentiment\n",
              "0  One of the other reviewers has mentioned that ...  positive\n",
              "1  A wonderful little production. <br /><br />The...  positive\n",
              "2  I thought this was a wonderful way to spend ti...  positive\n",
              "3  Basically there's a family where a little boy ...  negative\n",
              "4  Petter Mattei's \"Love in the Time of Money\" is...  positive"
            ]
          },
          "metadata": {
            "tags": []
          },
          "execution_count": 6
        },
        {
          "output_type": "stream",
          "text": [
            "time: 3.36 s (started: 2020-12-31 23:14:28 +00:00)\n"
          ],
          "name": "stdout"
        }
      ]
    },
    {
      "cell_type": "code",
      "metadata": {
        "colab": {
          "base_uri": "https://localhost:8080/",
          "height": 154
        },
        "id": "kvaZTZep3Lc_",
        "outputId": "529a3538-7477-4699-b31f-f1f2ebe97a6f"
      },
      "source": [
        "df.review[0]"
      ],
      "execution_count": null,
      "outputs": [
        {
          "output_type": "execute_result",
          "data": {
            "application/vnd.google.colaboratory.intrinsic+json": {
              "type": "string"
            },
            "text/plain": [
              "\"One of the other reviewers has mentioned that after watching just 1 Oz episode you'll be hooked. They are right, as this is exactly what happened with me.<br /><br />The first thing that struck me about Oz was its brutality and unflinching scenes of violence, which set in right from the word GO. Trust me, this is not a show for the faint hearted or timid. This show pulls no punches with regards to drugs, sex or violence. Its is hardcore, in the classic use of the word.<br /><br />It is called OZ as that is the nickname given to the Oswald Maximum Security State Penitentary. It focuses mainly on Emerald City, an experimental section of the prison where all the cells have glass fronts and face inwards, so privacy is not high on the agenda. Em City is home to many..Aryans, Muslims, gangstas, Latinos, Christians, Italians, Irish and more....so scuffles, death stares, dodgy dealings and shady agreements are never far away.<br /><br />I would say the main appeal of the show is due to the fact that it goes where other shows wouldn't dare. Forget pretty pictures painted for mainstream audiences, forget charm, forget romance...OZ doesn't mess around. The first episode I ever saw struck me as so nasty it was surreal, I couldn't say I was ready for it, but as I watched more, I developed a taste for Oz, and got accustomed to the high levels of graphic violence. Not just violence, but injustice (crooked guards who'll be sold out for a nickel, inmates who'll kill on order and get away with it, well mannered, middle class inmates being turned into prison bitches due to their lack of street skills or prison experience) Watching Oz, you may become comfortable with what is uncomfortable viewing....thats if you can get in touch with your darker side.\""
            ]
          },
          "metadata": {
            "tags": []
          },
          "execution_count": 7
        },
        {
          "output_type": "stream",
          "text": [
            "time: 4.26 ms (started: 2020-12-31 23:14:31 +00:00)\n"
          ],
          "name": "stdout"
        }
      ]
    },
    {
      "cell_type": "code",
      "metadata": {
        "colab": {
          "base_uri": "https://localhost:8080/"
        },
        "id": "zQ_AmCU0EUBX",
        "outputId": "5465bd93-9a21-4029-c187-3688b61f5bd9"
      },
      "source": [
        "df.sentiment = df.sentiment.map(lambda x: 1 if x == 'positive' else 0 )\n",
        "reviews = df.review\n",
        "sentiments = df.sentiment"
      ],
      "execution_count": null,
      "outputs": [
        {
          "output_type": "stream",
          "text": [
            "time: 25.8 ms (started: 2020-12-31 23:14:31 +00:00)\n"
          ],
          "name": "stdout"
        }
      ]
    },
    {
      "cell_type": "markdown",
      "metadata": {
        "id": "vdTjQ7XKO9IH"
      },
      "source": [
        "* a. Eliminar tags html: por ejemplo <br />\n",
        "* b. Eliminar puntuaciones\n",
        "* c. Eliminar stopwords"
      ]
    },
    {
      "cell_type": "markdown",
      "metadata": {
        "id": "VdXUXJYKDxmL"
      },
      "source": [
        "Preprocesamiento con ciclo for:"
      ]
    },
    {
      "cell_type": "code",
      "metadata": {
        "colab": {
          "base_uri": "https://localhost:8080/"
        },
        "id": "LzeRgB76sr8D",
        "outputId": "c4ce83da-16a4-4e7c-a943-097eda85f822"
      },
      "source": [
        "from keras.preprocessing.text import text_to_word_sequence\n",
        "from nltk.corpus import stopwords\n",
        "from nltk.tokenize import word_tokenize\n",
        "\n",
        "reviews=[]\n",
        "for _, row in df[:None].iterrows():\n",
        "    # Eliminar Tags\n",
        "    words = text_to_word_sequence(row[0])\n",
        "    words =[w.replace('br', ' ') for w in words]\n",
        "    # Eliminar puntuaciones\n",
        "    table = str.maketrans('', '', string.punctuation)\n",
        "    stripped = [w.translate(table) for w in words]\n",
        "    # Eliminar stopwords\n",
        "    tokens_without_sw = [word for word in stripped if not word in stopwords.words('english')] \n",
        "    reviews.append(tokens_without_sw)\n",
        "  "
      ],
      "execution_count": null,
      "outputs": [
        {
          "output_type": "stream",
          "text": [
            "time: 17min 3s\n"
          ],
          "name": "stdout"
        }
      ]
    },
    {
      "cell_type": "markdown",
      "metadata": {
        "id": "fsnCQOpqJwZO"
      },
      "source": [
        "Preprocesamiento con map:"
      ]
    },
    {
      "cell_type": "code",
      "metadata": {
        "id": "Prv5e_qB-EED"
      },
      "source": [
        "# Remove html tags with Bs4\n",
        "reviews = reviews.map(lambda text: bs4.BeautifulSoup(text, 'html.parser').get_text())\n",
        "\n",
        "# Remove punctuation\n",
        "reviews = reviews.map(lambda text:\"\".join([i for i in text if i not in string.punctuation]))\n",
        "\n",
        "# Tokenize\n",
        "reviews = reviews.map(lambda text: nltk.tokenize.word_tokenize(text))\n",
        "\n",
        "# Remove Stopwords\n",
        "reviews = reviews.map(lambda text: [i.lower() for i in text if i not in stopwords.words('english')])"
      ],
      "execution_count": null,
      "outputs": []
    },
    {
      "cell_type": "code",
      "metadata": {
        "colab": {
          "base_uri": "https://localhost:8080/"
        },
        "id": "ZSivLdXy_4Kh",
        "outputId": "7c7e9356-3882-43df-bb26-7f37393f7969"
      },
      "source": [
        "PICKLE_PATH = '/content/drive/MyDrive/Alfonso/CEIA/Bimestre III/NLP'\n",
        "\n",
        "with open(PICKLE_PATH+'/IMDB_variables', 'wb') as f:\n",
        "    pickle.dump(reviews, f)"
      ],
      "execution_count": null,
      "outputs": [
        {
          "output_type": "stream",
          "text": [
            "time: 2.44 s\n"
          ],
          "name": "stdout"
        }
      ]
    },
    {
      "cell_type": "code",
      "metadata": {
        "colab": {
          "base_uri": "https://localhost:8080/"
        },
        "id": "8q4gweyRSeq_",
        "outputId": "b3474fab-2e28-4751-eb89-24e7f277f47c"
      },
      "source": [
        "PICKLE_PATH = '/content/drive/MyDrive/Alfonso/CEIA/Bimestre III/NLP'\n",
        "\n",
        "with open(PICKLE_PATH+'/IMDB_variables', 'rb') as f:\n",
        "    reviews = pickle.load(f)"
      ],
      "execution_count": null,
      "outputs": [
        {
          "output_type": "stream",
          "text": [
            "time: 2.17 s (started: 2020-12-31 23:14:31 +00:00)\n"
          ],
          "name": "stdout"
        }
      ]
    },
    {
      "cell_type": "markdown",
      "metadata": {
        "id": "D4WZHufzyOTs"
      },
      "source": [
        "## 3. Entrenar un clasificador utilizando BOW."
      ]
    },
    {
      "cell_type": "markdown",
      "metadata": {
        "id": "LSl8qU88yVjE"
      },
      "source": [
        "* a. Definir el tamaño del vocabulario.\n",
        "* b. (opcional) Agregar pesos utilizando TFIDF.\n",
        "* c. Transformar los textos en vectores."
      ]
    },
    {
      "cell_type": "code",
      "metadata": {
        "colab": {
          "base_uri": "https://localhost:8080/"
        },
        "id": "wAV78m_2yk_Z",
        "outputId": "d1af783f-b2f1-4a7b-e1d1-136a56629dc3"
      },
      "source": [
        "cores = multiprocessing.cpu_count()\n",
        "w2v_model = Word2Vec(min_count=5, window=2, size=300, negative=20, workers=cores-1, sg=0) \n",
        "w2v_model.build_vocab(reviews, progress_per=10000)"
      ],
      "execution_count": null,
      "outputs": [
        {
          "output_type": "stream",
          "text": [
            "time: 9.22 s (started: 2020-12-29 13:49:03 +00:00)\n"
          ],
          "name": "stdout"
        }
      ]
    },
    {
      "cell_type": "code",
      "metadata": {
        "colab": {
          "base_uri": "https://localhost:8080/"
        },
        "id": "8QhcL-0U8IZl",
        "outputId": "8302fca5-162a-44db-c693-d0dd59c8790c"
      },
      "source": [
        "print('Tamaño del vocabulario: ', len(w2v_model.wv.vocab))\n",
        "print('\\n')"
      ],
      "execution_count": null,
      "outputs": [
        {
          "output_type": "stream",
          "text": [
            "Tamaño del vocabulario:  41104\n",
            "\n",
            "\n",
            "time: 3.23 ms (started: 2020-12-29 13:49:17 +00:00)\n"
          ],
          "name": "stdout"
        }
      ]
    },
    {
      "cell_type": "code",
      "metadata": {
        "colab": {
          "base_uri": "https://localhost:8080/"
        },
        "id": "sKqVi9k77xsk",
        "outputId": "b9b670a2-3f21-4653-9eea-7c67ea604d47"
      },
      "source": [
        "w2v_model.train(reviews, total_examples=w2v_model.corpus_count, epochs=5, report_delay=1)"
      ],
      "execution_count": null,
      "outputs": [
        {
          "output_type": "execute_result",
          "data": {
            "text/plain": [
              "(29141971, 31561835)"
            ]
          },
          "metadata": {
            "tags": []
          },
          "execution_count": 15
        },
        {
          "output_type": "stream",
          "text": [
            "time: 4min 7s (started: 2020-12-29 13:49:23 +00:00)\n"
          ],
          "name": "stdout"
        }
      ]
    },
    {
      "cell_type": "code",
      "metadata": {
        "colab": {
          "base_uri": "https://localhost:8080/"
        },
        "id": "9WHS3AGm-nCV",
        "outputId": "c7b17306-0c89-452c-b3d1-8ea2917915ea"
      },
      "source": [
        "PICKLE_PATH = '/content/drive/MyDrive/Alfonso/CEIA/Bimestre III/NLP'\n",
        "\n",
        "with open(PICKLE_PATH+'/CBOW_model', 'wb') as f:\n",
        "    pickle.dump(w2v_model, f)"
      ],
      "execution_count": null,
      "outputs": [
        {
          "output_type": "stream",
          "text": [
            "time: 510 ms (started: 2020-12-29 14:00:08 +00:00)\n"
          ],
          "name": "stdout"
        }
      ]
    },
    {
      "cell_type": "code",
      "metadata": {
        "colab": {
          "base_uri": "https://localhost:8080/"
        },
        "id": "fkBDDSIi-nCW",
        "outputId": "295ffa95-e6b5-4589-b349-643b0d843abc"
      },
      "source": [
        "PICKLE_PATH = '/content/drive/MyDrive/Alfonso/CEIA/Bimestre III/NLP'\n",
        "\n",
        "with open(PICKLE_PATH+'/CBOW_model', 'rb') as f:\n",
        "    w2v_model = pickle.load(f)"
      ],
      "execution_count": null,
      "outputs": [
        {
          "output_type": "stream",
          "text": [
            "time: 2.06 s (started: 2020-12-31 23:14:38 +00:00)\n"
          ],
          "name": "stdout"
        }
      ]
    },
    {
      "cell_type": "markdown",
      "metadata": {
        "id": "Ja16jQjIS-C0"
      },
      "source": [
        "Generación de las features "
      ]
    },
    {
      "cell_type": "code",
      "metadata": {
        "colab": {
          "base_uri": "https://localhost:8080/"
        },
        "id": "Zc-Bi-e5Ri5V",
        "outputId": "feb943e7-f388-47a2-9849-0f8e6e19da42"
      },
      "source": [
        "# Function to average all word vectors in a paragraph\n",
        "def featureVecMethod(words, model, num_features):\n",
        "    # Pre-initialising empty numpy array for speed\n",
        "    featureVec = np.zeros(num_features,dtype=\"float32\")\n",
        "    nwords = 0\n",
        "    \n",
        "    #Converting Index2Word which is a list to a set for better speed in the execution.\n",
        "    index2word_set = set(model.wv.index2word)\n",
        "    \n",
        "    for word in  words:\n",
        "        if word in index2word_set:\n",
        "            nwords = nwords + 1\n",
        "            featureVec = np.add(featureVec,model[word])\n",
        "    \n",
        "    # Dividing the result by number of words to get average\n",
        "    featureVec = np.divide(featureVec, nwords)\n",
        "    return featureVec"
      ],
      "execution_count": null,
      "outputs": [
        {
          "output_type": "stream",
          "text": [
            "time: 3.78 ms (started: 2020-12-31 22:29:08 +00:00)\n"
          ],
          "name": "stdout"
        }
      ]
    },
    {
      "cell_type": "code",
      "metadata": {
        "colab": {
          "base_uri": "https://localhost:8080/"
        },
        "id": "zJfudMr5S2xp",
        "outputId": "46d5113a-563a-45ad-db63-ecd14d92cf5f"
      },
      "source": [
        "# Function for calculating the average feature vector\n",
        "def getAvgFeatureVecs(reviews, model, num_features):\n",
        "    counter = 0\n",
        "    reviewFeatureVecs = np.zeros((len(reviews),num_features),dtype=\"float32\")\n",
        "    for review in reviews:\n",
        "        # Printing a status message every 1000th review\n",
        "        if counter%1000 == 0:\n",
        "            print(\"Review %d of %d\"%(counter,len(reviews)))\n",
        "            \n",
        "        reviewFeatureVecs[counter] = featureVecMethod(review, model, num_features)\n",
        "        counter = counter+1\n",
        "        \n",
        "    return reviewFeatureVecs"
      ],
      "execution_count": null,
      "outputs": [
        {
          "output_type": "stream",
          "text": [
            "time: 3.02 ms (started: 2020-12-31 22:29:08 +00:00)\n"
          ],
          "name": "stdout"
        }
      ]
    },
    {
      "cell_type": "code",
      "metadata": {
        "colab": {
          "base_uri": "https://localhost:8080/"
        },
        "id": "3Km0nSmIS5yF",
        "outputId": "e38448ec-a31f-4f22-b28f-6f159d3c7cde"
      },
      "source": [
        "#clean_train_reviews = []\n",
        "#for review in train['review']:\n",
        "#    clean_train_reviews.append(review_wordlist(review, remove_stopwords=True))\n",
        "    \n",
        "trainDataVecs = getAvgFeatureVecs(reviews, w2v_model, 300)"
      ],
      "execution_count": null,
      "outputs": [
        {
          "output_type": "stream",
          "text": [
            "Review 0 of 50000\n"
          ],
          "name": "stdout"
        },
        {
          "output_type": "stream",
          "text": [
            "/usr/local/lib/python3.6/dist-packages/ipykernel_launcher.py:13: DeprecationWarning: Call to deprecated `__getitem__` (Method will be removed in 4.0.0, use self.wv.__getitem__() instead).\n",
            "  del sys.path[0]\n"
          ],
          "name": "stderr"
        },
        {
          "output_type": "stream",
          "text": [
            "Review 1000 of 50000\n",
            "Review 2000 of 50000\n",
            "Review 3000 of 50000\n",
            "Review 4000 of 50000\n",
            "Review 5000 of 50000\n",
            "Review 6000 of 50000\n",
            "Review 7000 of 50000\n",
            "Review 8000 of 50000\n",
            "Review 9000 of 50000\n",
            "Review 10000 of 50000\n",
            "Review 11000 of 50000\n",
            "Review 12000 of 50000\n",
            "Review 13000 of 50000\n",
            "Review 14000 of 50000\n",
            "Review 15000 of 50000\n",
            "Review 16000 of 50000\n",
            "Review 17000 of 50000\n",
            "Review 18000 of 50000\n",
            "Review 19000 of 50000\n",
            "Review 20000 of 50000\n",
            "Review 21000 of 50000\n",
            "Review 22000 of 50000\n",
            "Review 23000 of 50000\n",
            "Review 24000 of 50000\n",
            "Review 25000 of 50000\n",
            "Review 26000 of 50000\n",
            "Review 27000 of 50000\n",
            "Review 28000 of 50000\n",
            "Review 29000 of 50000\n",
            "Review 30000 of 50000\n",
            "Review 31000 of 50000\n",
            "Review 32000 of 50000\n",
            "Review 33000 of 50000\n",
            "Review 34000 of 50000\n",
            "Review 35000 of 50000\n",
            "Review 36000 of 50000\n",
            "Review 37000 of 50000\n",
            "Review 38000 of 50000\n",
            "Review 39000 of 50000\n",
            "Review 40000 of 50000\n",
            "Review 41000 of 50000\n",
            "Review 42000 of 50000\n",
            "Review 43000 of 50000\n",
            "Review 44000 of 50000\n",
            "Review 45000 of 50000\n",
            "Review 46000 of 50000\n",
            "Review 47000 of 50000\n",
            "Review 48000 of 50000\n",
            "Review 49000 of 50000\n",
            "time: 2min 36s (started: 2020-12-29 14:00:22 +00:00)\n"
          ],
          "name": "stdout"
        }
      ]
    },
    {
      "cell_type": "code",
      "metadata": {
        "colab": {
          "base_uri": "https://localhost:8080/"
        },
        "id": "ts32HtgXwFeN",
        "outputId": "35d632e6-22c1-4125-a8c9-b4fad1365430"
      },
      "source": [
        "PICKLE_PATH = '/content/drive/MyDrive/Alfonso/CEIA/Bimestre III/NLP'\n",
        "\n",
        "with open(PICKLE_PATH+'/CBOW_features', 'wb') as f:\n",
        "    pickle.dump(trainDataVecs, f)"
      ],
      "execution_count": null,
      "outputs": [
        {
          "output_type": "stream",
          "text": [
            "time: 221 ms (started: 2020-12-29 14:02:59 +00:00)\n"
          ],
          "name": "stdout"
        }
      ]
    },
    {
      "cell_type": "code",
      "metadata": {
        "colab": {
          "base_uri": "https://localhost:8080/"
        },
        "id": "9MrWpGALwFeQ",
        "outputId": "01e11429-0960-46aa-f019-3fe9dabb38e3"
      },
      "source": [
        "PICKLE_PATH = '/content/drive/MyDrive/Alfonso/CEIA/Bimestre III/NLP'\n",
        "\n",
        "with open(PICKLE_PATH+'/CBOW_features', 'rb') as f:\n",
        "    trainDataVecs = pickle.load(f)"
      ],
      "execution_count": null,
      "outputs": [
        {
          "output_type": "stream",
          "text": [
            "time: 1.14 s (started: 2020-12-31 23:14:44 +00:00)\n"
          ],
          "name": "stdout"
        }
      ]
    },
    {
      "cell_type": "markdown",
      "metadata": {
        "id": "q0IMdX3jylX1"
      },
      "source": [
        "d. Crear los datasets de train, validation y test."
      ]
    },
    {
      "cell_type": "code",
      "metadata": {
        "colab": {
          "base_uri": "https://localhost:8080/"
        },
        "id": "wDuAvZKF8Mui",
        "outputId": "b29ef849-f67b-4db0-8fc8-2199a851103f"
      },
      "source": [
        "from sklearn.model_selection import train_test_split\n",
        "\n",
        "x_train, x_test, y_train, y_test = train_test_split(trainDataVecs, sentiments, test_size=0.2)"
      ],
      "execution_count": null,
      "outputs": [
        {
          "output_type": "stream",
          "text": [
            "time: 28.2 ms (started: 2020-12-31 23:14:47 +00:00)\n"
          ],
          "name": "stdout"
        }
      ]
    },
    {
      "cell_type": "markdown",
      "metadata": {
        "id": "zlrzj9jLynL4"
      },
      "source": [
        "e. (opcional) Aplicar PCA para reducir la dimensión de los vectores."
      ]
    },
    {
      "cell_type": "code",
      "metadata": {
        "id": "iEKTTmSeyocW"
      },
      "source": [
        ""
      ],
      "execution_count": null,
      "outputs": []
    },
    {
      "cell_type": "markdown",
      "metadata": {
        "id": "StwnRcdRyoyR"
      },
      "source": [
        "f. Entrenar una red neuronal (seleccionar arquitectura, loss y optimizador)."
      ]
    },
    {
      "cell_type": "code",
      "metadata": {
        "colab": {
          "base_uri": "https://localhost:8080/"
        },
        "id": "Nmn-5XtEjeye",
        "outputId": "a0c0d889-604a-46c3-8008-919455810bda"
      },
      "source": [
        "def plot_history(model_history):\n",
        "\n",
        "  train_accuracy = model_history.history['AUC']\n",
        "  train_loss = model_history.history['loss']\n",
        "\n",
        "  fig, (a1, a2) = plt.subplots(1,2, figsize=(20,10))\n",
        "\n",
        "  a1.set_title('AUC evolution', fontsize=20)\n",
        "  a1.plot(train_accuracy, label='Train_AUC')\n",
        "  a1.legend()\n",
        "\n",
        "  a2.set_title('Loss evolution', fontsize=20)\n",
        "  a2.plot(train_loss, label='Train_loss')\n",
        "  a2.legend()\n",
        "\n",
        "  plt.show()\n",
        "\n",
        "  return"
      ],
      "execution_count": null,
      "outputs": [
        {
          "output_type": "stream",
          "text": [
            "time: 5.5 ms (started: 2020-12-31 22:29:16 +00:00)\n"
          ],
          "name": "stdout"
        }
      ]
    },
    {
      "cell_type": "code",
      "metadata": {
        "colab": {
          "base_uri": "https://localhost:8080/",
          "height": 550
        },
        "id": "0lowhy_Maj8p",
        "outputId": "4404ce78-0dfd-49c5-b033-564ef3cd6b54"
      },
      "source": [
        "# Pruebo usando como input el Bag of words de las palabras pasadas a sequencias.\n",
        "from tensorflow.keras.models import Sequential\n",
        "from tensorflow.keras.layers import Dense, Dropout, Input, Embedding, Flatten, LSTM\n",
        "from tensorflow.keras.utils import plot_model\n",
        "\n",
        "embedding_dim = 64\n",
        "\n",
        "sequential_model = Sequential()\n",
        "\n",
        "sequential_model.add(Input(shape=(x_train.shape[1],)))\n",
        "sequential_model.add(Dense(100, activation='relu'))\n",
        "sequential_model.add(Dense(10, activation='relu'))\n",
        "sequential_model.add(Flatten())\n",
        "sequential_model.add(Dense(1, activation='sigmoid'))\n",
        "\n",
        "sequential_model.compile(loss='binary_crossentropy', \n",
        "                         optimizer=tf.keras.optimizers.Adam(),\n",
        "                         metrics = ['AUC'])\n",
        "\n",
        "plot_model(sequential_model, show_shapes=True)"
      ],
      "execution_count": null,
      "outputs": [
        {
          "output_type": "execute_result",
          "data": {
            "image/png": "[encoded data removed]",
            "text/plain": [
              "<IPython.core.display.Image object>"
            ]
          },
          "metadata": {
            "tags": []
          },
          "execution_count": 48
        },
        {
          "output_type": "stream",
          "text": [
            "time: 268 ms (started: 2020-12-31 23:18:38 +00:00)\n"
          ],
          "name": "stdout"
        }
      ]
    },
    {
      "cell_type": "code",
      "metadata": {
        "colab": {
          "base_uri": "https://localhost:8080/"
        },
        "id": "nJ387-kFdBuU",
        "outputId": "ae19d4c2-bfb3-46a0-9084-378b22519ca1"
      },
      "source": [
        "history_sequential = sequential_model.fit(x = x_train, \n",
        "                                          y = y_train,\n",
        "                                          epochs=10,\n",
        "                                          batch_size=100,\n",
        "                                          shuffle = True,\n",
        "                                          validation_split=0.05)"
      ],
      "execution_count": null,
      "outputs": [
        {
          "output_type": "stream",
          "text": [
            "Epoch 1/10\n",
            "380/380 [==============================] - 4s 4ms/step - loss: 0.4912 - auc: 0.8428 - val_loss: 0.3422 - val_auc: 0.9297\n",
            "Epoch 2/10\n",
            "380/380 [==============================] - 1s 3ms/step - loss: 0.3317 - auc: 0.9324 - val_loss: 0.3480 - val_auc: 0.9304\n",
            "Epoch 3/10\n",
            "380/380 [==============================] - 1s 3ms/step - loss: 0.3279 - auc: 0.9338 - val_loss: 0.3221 - val_auc: 0.9371\n",
            "Epoch 4/10\n",
            "380/380 [==============================] - 1s 3ms/step - loss: 0.3200 - auc: 0.9372 - val_loss: 0.3259 - val_auc: 0.9366\n",
            "Epoch 5/10\n",
            "380/380 [==============================] - 1s 3ms/step - loss: 0.3148 - auc: 0.9392 - val_loss: 0.3140 - val_auc: 0.9396\n",
            "Epoch 6/10\n",
            "380/380 [==============================] - 1s 3ms/step - loss: 0.3104 - auc: 0.9407 - val_loss: 0.3272 - val_auc: 0.9399\n",
            "Epoch 7/10\n",
            "380/380 [==============================] - 1s 3ms/step - loss: 0.3047 - auc: 0.9429 - val_loss: 0.3202 - val_auc: 0.9404\n",
            "Epoch 8/10\n",
            "380/380 [==============================] - 1s 3ms/step - loss: 0.3014 - auc: 0.9444 - val_loss: 0.3118 - val_auc: 0.9411\n",
            "Epoch 9/10\n",
            "380/380 [==============================] - 1s 3ms/step - loss: 0.3065 - auc: 0.9422 - val_loss: 0.3095 - val_auc: 0.9427\n",
            "Epoch 10/10\n",
            "380/380 [==============================] - 1s 3ms/step - loss: 0.3016 - auc: 0.9442 - val_loss: 0.3082 - val_auc: 0.9423\n",
            "time: 13.3 s (started: 2020-12-31 22:29:23 +00:00)\n"
          ],
          "name": "stdout"
        }
      ]
    },
    {
      "cell_type": "code",
      "metadata": {
        "colab": {
          "base_uri": "https://localhost:8080/"
        },
        "id": "qKUDcWQFWIB_",
        "outputId": "07f25787-ebab-4f10-98fb-f02b08bb1bfa"
      },
      "source": [
        "sequential_model_pred = sequential_model.predict(x_test)"
      ],
      "execution_count": null,
      "outputs": [
        {
          "output_type": "stream",
          "text": [
            "time: 1.93 s (started: 2020-12-31 23:15:05 +00:00)\n"
          ],
          "name": "stdout"
        }
      ]
    },
    {
      "cell_type": "code",
      "metadata": {
        "colab": {
          "base_uri": "https://localhost:8080/",
          "height": 52
        },
        "id": "TvqTOaBwI41M",
        "outputId": "3fb778a5-dbeb-4cbd-e21a-43e18d261a82"
      },
      "source": [
        "save_model(sequential_model, name='sequential_model')"
      ],
      "execution_count": null,
      "outputs": [
        {
          "output_type": "stream",
          "text": [
            "Saved model to disk\n"
          ],
          "name": "stdout"
        },
        {
          "output_type": "execute_result",
          "data": {
            "application/vnd.google.colaboratory.intrinsic+json": {
              "type": "string"
            },
            "text/plain": [
              "'Saved'"
            ]
          },
          "metadata": {
            "tags": []
          },
          "execution_count": 19
        },
        {
          "output_type": "stream",
          "text": [
            "time: 441 ms (started: 2020-12-31 22:29:36 +00:00)\n"
          ],
          "name": "stdout"
        }
      ]
    },
    {
      "cell_type": "code",
      "metadata": {
        "colab": {
          "base_uri": "https://localhost:8080/"
        },
        "id": "X_uJeKnxI41V",
        "outputId": "a25b685d-c512-4679-d5f2-78df8737ab8f"
      },
      "source": [
        "sequential_model = load_model(name='sequential_model')"
      ],
      "execution_count": null,
      "outputs": [
        {
          "output_type": "stream",
          "text": [
            "time: 5.85 s (started: 2020-12-31 23:14:59 +00:00)\n"
          ],
          "name": "stdout"
        }
      ]
    },
    {
      "cell_type": "markdown",
      "metadata": {
        "id": "81BpoJBiyqa2"
      },
      "source": [
        "g. Medir AUC."
      ]
    },
    {
      "cell_type": "code",
      "metadata": {
        "colab": {
          "base_uri": "https://localhost:8080/",
          "height": 405
        },
        "id": "7T1Ilu08zayP",
        "outputId": "23a4145f-81a3-4436-89f4-0176771b6dcf"
      },
      "source": [
        "# Comparar los resultados obtenidos\n",
        "from sklearn.metrics import roc_auc_score, roc_curve\n",
        "%matplotlib inline\n",
        "\n",
        "def roc_curve_and_score(y_test, pred_proba):\n",
        "    fpr, tpr, _ = roc_curve(y_test.ravel(), pred_proba.ravel())\n",
        "    roc_auc = roc_auc_score(y_test.ravel(), pred_proba.ravel())\n",
        "    return fpr, tpr, roc_auc\n",
        "\n",
        "\n",
        "plt.figure(figsize=(8, 6))\n",
        "plt.grid()\n",
        "fpr, tpr, roc_auc = roc_curve_and_score(y_test, sequential_model_pred)\n",
        "plt.plot(fpr, tpr, color='darkorange',\n",
        "         label='Sequential Model ={0:.3f}'.format(roc_auc))\n",
        "plt.plot([0, 1], [0, 1], color='navy', lw=1, linestyle='--')\n",
        "plt.legend(loc=\"lower right\")\n",
        "plt.xlim([0.0, 1.0])\n",
        "plt.ylim([0.0, 1.05])\n",
        "plt.xlabel('False Positive Rate/ 1 - Specificity')\n",
        "plt.ylabel('True Positive Rate/ Sensitivity')\n",
        "plt.show()"
      ],
      "execution_count": null,
      "outputs": [
        {
          "output_type": "display_data",
          "data": {
            "image/png": "[encoded data removed]",
            "text/plain": [
              "<Figure size 576x432 with 1 Axes>"
            ]
          },
          "metadata": {
            "tags": []
          }
        },
        {
          "output_type": "stream",
          "text": [
            "time: 173 ms (started: 2020-12-31 23:15:09 +00:00)\n"
          ],
          "name": "stdout"
        }
      ]
    },
    {
      "cell_type": "markdown",
      "metadata": {
        "id": "Yb_i2YKdyytr"
      },
      "source": [
        "## 4. Entrenar un clasificador utilizando words embeddings (probar con GloVe y con FastText)."
      ]
    },
    {
      "cell_type": "markdown",
      "metadata": {
        "id": "tHfalQ6McZhM"
      },
      "source": [
        "Cargar los Embeddings de Glove y Fasttext"
      ]
    },
    {
      "cell_type": "code",
      "metadata": {
        "id": "48qrNGzniYhS"
      },
      "source": [
        "from gensim.test.utils import datapath, get_tmpfile\n",
        "from gensim.models import KeyedVectors\n",
        "from gensim.scripts.glove2word2vec import glove2word2vec\n",
        "import gensim.downloader\n",
        "glove_vectors = gensim.downloader.load('glove-twitter-25')\n",
        "fsttxt = gensim.downloader.load('fasttext-wiki-news-subwords-300')"
      ],
      "execution_count": null,
      "outputs": []
    },
    {
      "cell_type": "code",
      "metadata": {
        "id": "QQHnemf51jD6"
      },
      "source": [
        "PICKLE_PATH = '/content/drive/MyDrive/Alfonso/CEIA/Bimestre III/NLP'\n",
        "\n",
        "with open(PICKLE_PATH+'/glove_vectors', 'wb') as f:\n",
        "    pickle.dump(glove_vectors, f)"
      ],
      "execution_count": null,
      "outputs": []
    },
    {
      "cell_type": "code",
      "metadata": {
        "colab": {
          "base_uri": "https://localhost:8080/"
        },
        "id": "uy1yz63U1v2W",
        "outputId": "daadc1c3-d1aa-47cc-dc6b-88172b036834"
      },
      "source": [
        "PICKLE_PATH = '/content/drive/MyDrive/Alfonso/CEIA/Bimestre III/NLP'\n",
        "\n",
        "with open(PICKLE_PATH+'/fstext_vectors', 'wb') as f:\n",
        "    pickle.dump(fsttxt, f)"
      ],
      "execution_count": null,
      "outputs": [
        {
          "output_type": "stream",
          "text": [
            "time: 12.1 s (started: 2020-12-29 14:17:57 +00:00)\n"
          ],
          "name": "stdout"
        }
      ]
    },
    {
      "cell_type": "code",
      "metadata": {
        "colab": {
          "base_uri": "https://localhost:8080/"
        },
        "id": "tJOtTD1t1jD-",
        "outputId": "09e96e91-d9ed-4816-eaa0-6ae470f2b358"
      },
      "source": [
        "PICKLE_PATH = '/content/drive/MyDrive/Alfonso/CEIA/Bimestre III/NLP'\n",
        "\n",
        "with open(PICKLE_PATH+'/glove_vectors', 'rb') as f:\n",
        "    glove_vectors = pickle.load(f)"
      ],
      "execution_count": null,
      "outputs": [
        {
          "output_type": "stream",
          "text": [
            "time: 5.63 s (started: 2020-12-31 23:15:16 +00:00)\n"
          ],
          "name": "stdout"
        }
      ]
    },
    {
      "cell_type": "code",
      "metadata": {
        "colab": {
          "base_uri": "https://localhost:8080/"
        },
        "id": "pqEXdyTp11SJ",
        "outputId": "6aceae46-84af-449f-8d56-07302ced62df"
      },
      "source": [
        "PICKLE_PATH = '/content/drive/MyDrive/Alfonso/CEIA/Bimestre III/NLP'\n",
        "\n",
        "with open(PICKLE_PATH+'/fstext_vectors', 'rb') as f:\n",
        "    fsttxt = pickle.load(f)"
      ],
      "execution_count": null,
      "outputs": [
        {
          "output_type": "stream",
          "text": [
            "time: 14.8 s (started: 2020-12-31 23:15:22 +00:00)\n"
          ],
          "name": "stdout"
        }
      ]
    },
    {
      "cell_type": "markdown",
      "metadata": {
        "id": "QiTQX3bg2ZDT"
      },
      "source": [
        "a. Calcular el embedding de cada texto como el promedio de los embeddings\n",
        "de las palabras."
      ]
    },
    {
      "cell_type": "code",
      "metadata": {
        "colab": {
          "base_uri": "https://localhost:8080/"
        },
        "id": "bxWJGowGxsIR",
        "outputId": "85df9e8c-5ffc-4a6e-e4dc-46aa816749bc"
      },
      "source": [
        "trainDataVecs_glove = getAvgFeatureVecs(reviews[:3000], glove_vectors, 25)"
      ],
      "execution_count": null,
      "outputs": [
        {
          "output_type": "stream",
          "text": [
            "Review 0 of 3000\n"
          ],
          "name": "stdout"
        },
        {
          "output_type": "stream",
          "text": [
            "/usr/local/lib/python3.6/dist-packages/ipykernel_launcher.py:8: DeprecationWarning: Call to deprecated `wv` (Attribute will be removed in 4.0.0, use self instead).\n",
            "  \n"
          ],
          "name": "stderr"
        },
        {
          "output_type": "stream",
          "text": [
            "Review 1000 of 3000\n",
            "Review 2000 of 3000\n",
            "time: 7min 19s (started: 2020-12-29 14:19:33 +00:00)\n"
          ],
          "name": "stdout"
        }
      ]
    },
    {
      "cell_type": "code",
      "metadata": {
        "colab": {
          "base_uri": "https://localhost:8080/"
        },
        "id": "oybwHvQg0t_M",
        "outputId": "a927cc73-28d8-493a-d333-b53c6dbd19ae"
      },
      "source": [
        "PICKLE_PATH = '/content/drive/MyDrive/Alfonso/CEIA/Bimestre III/NLP'\n",
        "\n",
        "with open(PICKLE_PATH+'/Glove_features', 'wb') as f:\n",
        "    pickle.dump(trainDataVecs_glove, f)"
      ],
      "execution_count": null,
      "outputs": [
        {
          "output_type": "stream",
          "text": [
            "time: 10.3 ms (started: 2020-12-29 14:26:52 +00:00)\n"
          ],
          "name": "stdout"
        }
      ]
    },
    {
      "cell_type": "code",
      "metadata": {
        "colab": {
          "base_uri": "https://localhost:8080/"
        },
        "id": "eEKqxys80t_M",
        "outputId": "f2335cf7-d6d5-44f8-ef57-4546ac21dc67"
      },
      "source": [
        "PICKLE_PATH = '/content/drive/MyDrive/Alfonso/CEIA/Bimestre III/NLP'\n",
        "\n",
        "with open(PICKLE_PATH+'/Glove_features', 'rb') as f:\n",
        "    trainDataVecs_glove = pickle.load(f)"
      ],
      "execution_count": null,
      "outputs": [
        {
          "output_type": "stream",
          "text": [
            "time: 269 ms (started: 2020-12-31 23:15:36 +00:00)\n"
          ],
          "name": "stdout"
        }
      ]
    },
    {
      "cell_type": "code",
      "metadata": {
        "colab": {
          "base_uri": "https://localhost:8080/"
        },
        "id": "9VdoD7S12sDM",
        "outputId": "3f0a982d-266e-4ba2-be0c-1fab8f58f5be"
      },
      "source": [
        "trainDataVecs_fstext = getAvgFeatureVecs(reviews[:3000], fsttxt, 300)"
      ],
      "execution_count": null,
      "outputs": [
        {
          "output_type": "stream",
          "text": [
            "Review 0 of 3000\n"
          ],
          "name": "stdout"
        },
        {
          "output_type": "stream",
          "text": [
            "/usr/local/lib/python3.6/dist-packages/ipykernel_launcher.py:8: DeprecationWarning: Call to deprecated `wv` (Attribute will be removed in 4.0.0, use self instead).\n",
            "  \n"
          ],
          "name": "stderr"
        },
        {
          "output_type": "stream",
          "text": [
            "Review 1000 of 3000\n",
            "Review 2000 of 3000\n",
            "time: 6min 16s (started: 2020-12-29 14:26:52 +00:00)\n"
          ],
          "name": "stdout"
        }
      ]
    },
    {
      "cell_type": "code",
      "metadata": {
        "colab": {
          "base_uri": "https://localhost:8080/"
        },
        "id": "SvhIYNww0sHt",
        "outputId": "01eb3c31-0c06-4f5d-e755-52c74bd0b302"
      },
      "source": [
        "PICKLE_PATH = '/content/drive/MyDrive/Alfonso/CEIA/Bimestre III/NLP'\n",
        "\n",
        "with open(PICKLE_PATH+'/Fasttext_features', 'wb') as f:\n",
        "    pickle.dump(trainDataVecs_fstext, f)"
      ],
      "execution_count": null,
      "outputs": [
        {
          "output_type": "stream",
          "text": [
            "time: 18.4 ms (started: 2020-12-29 14:33:09 +00:00)\n"
          ],
          "name": "stdout"
        }
      ]
    },
    {
      "cell_type": "code",
      "metadata": {
        "colab": {
          "base_uri": "https://localhost:8080/"
        },
        "id": "Iu5bqi1l0sH_",
        "outputId": "ce6b5e4c-30d2-4d66-baa5-b06e683f33a7"
      },
      "source": [
        "PICKLE_PATH = '/content/drive/MyDrive/Alfonso/CEIA/Bimestre III/NLP'\n",
        "\n",
        "with open(PICKLE_PATH+'/Fasttext_features', 'rb') as f:\n",
        "    trainDataVecs_fstext = pickle.load(f)"
      ],
      "execution_count": null,
      "outputs": [
        {
          "output_type": "stream",
          "text": [
            "time: 267 ms (started: 2020-12-31 23:15:37 +00:00)\n"
          ],
          "name": "stdout"
        }
      ]
    },
    {
      "cell_type": "markdown",
      "metadata": {
        "id": "tv6yTQIt2p4a"
      },
      "source": [
        "b. Crear los datasets de train, validation y test."
      ]
    },
    {
      "cell_type": "code",
      "metadata": {
        "colab": {
          "base_uri": "https://localhost:8080/"
        },
        "id": "-G47Z7PAyxUs",
        "outputId": "d118f77f-7610-4e89-90b8-4f780d36ce3c"
      },
      "source": [
        "from sklearn.model_selection import train_test_split\n",
        "\n",
        "x_train_glove, x_test_glove, y_train_glove, y_test_glove = train_test_split(trainDataVecs_glove, sentiments.loc[:2999][:], test_size=0.2)"
      ],
      "execution_count": null,
      "outputs": [
        {
          "output_type": "stream",
          "text": [
            "time: 3.65 ms (started: 2020-12-31 23:15:37 +00:00)\n"
          ],
          "name": "stdout"
        }
      ]
    },
    {
      "cell_type": "code",
      "metadata": {
        "colab": {
          "base_uri": "https://localhost:8080/"
        },
        "id": "a2INqjRq22TQ",
        "outputId": "729621bd-edbf-4b0b-bb7e-0c72e6bc3e1c"
      },
      "source": [
        "x_train_fast, x_test_fast, y_train_fast, y_test_fast = train_test_split(trainDataVecs_fstext, sentiments.loc[:2999][:], test_size=0.2)"
      ],
      "execution_count": null,
      "outputs": [
        {
          "output_type": "stream",
          "text": [
            "time: 5.04 ms (started: 2020-12-31 23:15:37 +00:00)\n"
          ],
          "name": "stdout"
        }
      ]
    },
    {
      "cell_type": "markdown",
      "metadata": {
        "id": "o8_hvry83GU3"
      },
      "source": [
        "c. Entrenar una red neuronal (seleccionar arquitectura, loss y optimizador)."
      ]
    },
    {
      "cell_type": "code",
      "metadata": {
        "colab": {
          "base_uri": "https://localhost:8080/"
        },
        "id": "02IkWPBFyxU4",
        "outputId": "f84e35fc-4d36-4de5-93ed-7b46aea9c817"
      },
      "source": [
        "# Pruebo usando como input el Bag of words de las palabras pasadas a sequencias.\n",
        "from tensorflow.keras.models import Sequential\n",
        "from tensorflow.keras.layers import Dense, Dropout, Input, Embedding, Flatten, LSTM\n",
        "from tensorflow.keras.utils import plot_model\n",
        "\n",
        "def create_model(x_train):\n",
        "  embedding_dim = 64\n",
        "  sequential_model = Sequential()\n",
        "  sequential_model.add(Input(shape=(x_train.shape[1],))) \n",
        "  sequential_model.add(Dense(100, activation='relu'))\n",
        "  sequential_model.add(Dense(10, activation='relu'))\n",
        "  sequential_model.add(Flatten())\n",
        "  sequential_model.add(Dense(1, activation='sigmoid'))\n",
        "  sequential_model.compile(loss='binary_crossentropy', \n",
        "                         optimizer=tf.keras.optimizers.Adam(),\n",
        "                         metrics = ['AUC'])\n",
        "  plot_model(sequential_model, show_shapes=True)\n",
        "  return sequential_model"
      ],
      "execution_count": null,
      "outputs": [
        {
          "output_type": "stream",
          "text": [
            "time: 32.9 ms (started: 2020-12-31 22:29:58 +00:00)\n"
          ],
          "name": "stdout"
        }
      ]
    },
    {
      "cell_type": "code",
      "metadata": {
        "colab": {
          "base_uri": "https://localhost:8080/"
        },
        "id": "So9Bok_fyxU4",
        "outputId": "9928efce-0254-4d0a-9e1d-d878bd932db4"
      },
      "source": [
        "model_glove = create_model(x_train_glove)\n",
        "history_sequential = model_glove.fit(x = x_train_glove, \n",
        "                                          y = y_train_glove,\n",
        "                                          epochs=50,\n",
        "                                          batch_size=100,\n",
        "                                          shuffle = True,\n",
        "                                          validation_split=0.05)"
      ],
      "execution_count": null,
      "outputs": [
        {
          "output_type": "stream",
          "text": [
            "Epoch 1/50\n",
            "23/23 [==============================] - 1s 14ms/step - loss: 0.6975 - auc: 0.4979 - val_loss: 0.6718 - val_auc: 0.7894\n",
            "Epoch 2/50\n",
            "23/23 [==============================] - 0s 5ms/step - loss: 0.6707 - auc: 0.6793 - val_loss: 0.6327 - val_auc: 0.8133\n",
            "Epoch 3/50\n",
            "23/23 [==============================] - 0s 4ms/step - loss: 0.6453 - auc: 0.7283 - val_loss: 0.6025 - val_auc: 0.8289\n",
            "Epoch 4/50\n",
            "23/23 [==============================] - 0s 4ms/step - loss: 0.6183 - auc: 0.7607 - val_loss: 0.5675 - val_auc: 0.8406\n",
            "Epoch 5/50\n",
            "23/23 [==============================] - 0s 5ms/step - loss: 0.6026 - auc: 0.7643 - val_loss: 0.5390 - val_auc: 0.8498\n",
            "Epoch 6/50\n",
            "23/23 [==============================] - 0s 4ms/step - loss: 0.5760 - auc: 0.7885 - val_loss: 0.5183 - val_auc: 0.8586\n",
            "Epoch 7/50\n",
            "23/23 [==============================] - 0s 4ms/step - loss: 0.5755 - auc: 0.7794 - val_loss: 0.5259 - val_auc: 0.8674\n",
            "Epoch 8/50\n",
            "23/23 [==============================] - 0s 4ms/step - loss: 0.5593 - auc: 0.7938 - val_loss: 0.5001 - val_auc: 0.8716\n",
            "Epoch 9/50\n",
            "23/23 [==============================] - 0s 4ms/step - loss: 0.5563 - auc: 0.7910 - val_loss: 0.4953 - val_auc: 0.8740\n",
            "Epoch 10/50\n",
            "23/23 [==============================] - 0s 4ms/step - loss: 0.5365 - auc: 0.8109 - val_loss: 0.4875 - val_auc: 0.8781\n",
            "Epoch 11/50\n",
            "23/23 [==============================] - 0s 4ms/step - loss: 0.5306 - auc: 0.8136 - val_loss: 0.4786 - val_auc: 0.8772\n",
            "Epoch 12/50\n",
            "23/23 [==============================] - 0s 4ms/step - loss: 0.5407 - auc: 0.8024 - val_loss: 0.4698 - val_auc: 0.8775\n",
            "Epoch 13/50\n",
            "23/23 [==============================] - 0s 5ms/step - loss: 0.5262 - auc: 0.8161 - val_loss: 0.4821 - val_auc: 0.8757\n",
            "Epoch 14/50\n",
            "23/23 [==============================] - 0s 4ms/step - loss: 0.5348 - auc: 0.8068 - val_loss: 0.4846 - val_auc: 0.8730\n",
            "Epoch 15/50\n",
            "23/23 [==============================] - 0s 4ms/step - loss: 0.5219 - auc: 0.8225 - val_loss: 0.4714 - val_auc: 0.8731\n",
            "Epoch 16/50\n",
            "23/23 [==============================] - 0s 4ms/step - loss: 0.5110 - auc: 0.8285 - val_loss: 0.4557 - val_auc: 0.8740\n",
            "Epoch 17/50\n",
            "23/23 [==============================] - 0s 5ms/step - loss: 0.5275 - auc: 0.8131 - val_loss: 0.4715 - val_auc: 0.8710\n",
            "Epoch 18/50\n",
            "23/23 [==============================] - 0s 5ms/step - loss: 0.5063 - auc: 0.8305 - val_loss: 0.4655 - val_auc: 0.8704\n",
            "Epoch 19/50\n",
            "23/23 [==============================] - 0s 5ms/step - loss: 0.5164 - auc: 0.8235 - val_loss: 0.4511 - val_auc: 0.8730\n",
            "Epoch 20/50\n",
            "23/23 [==============================] - 0s 5ms/step - loss: 0.5155 - auc: 0.8243 - val_loss: 0.4503 - val_auc: 0.8727\n",
            "Epoch 21/50\n",
            "23/23 [==============================] - 0s 5ms/step - loss: 0.5087 - auc: 0.8276 - val_loss: 0.4528 - val_auc: 0.8710\n",
            "Epoch 22/50\n",
            "23/23 [==============================] - 0s 5ms/step - loss: 0.4979 - auc: 0.8379 - val_loss: 0.4746 - val_auc: 0.8734\n",
            "Epoch 23/50\n",
            "23/23 [==============================] - 0s 5ms/step - loss: 0.4966 - auc: 0.8397 - val_loss: 0.4518 - val_auc: 0.8731\n",
            "Epoch 24/50\n",
            "23/23 [==============================] - 0s 5ms/step - loss: 0.4980 - auc: 0.8353 - val_loss: 0.4772 - val_auc: 0.8744\n",
            "Epoch 25/50\n",
            "23/23 [==============================] - 0s 5ms/step - loss: 0.5159 - auc: 0.8258 - val_loss: 0.4539 - val_auc: 0.8754\n",
            "Epoch 26/50\n",
            "23/23 [==============================] - 0s 5ms/step - loss: 0.5262 - auc: 0.8123 - val_loss: 0.4515 - val_auc: 0.8745\n",
            "Epoch 27/50\n",
            "23/23 [==============================] - 0s 4ms/step - loss: 0.5021 - auc: 0.8344 - val_loss: 0.4622 - val_auc: 0.8760\n",
            "Epoch 28/50\n",
            "23/23 [==============================] - 0s 4ms/step - loss: 0.4994 - auc: 0.8355 - val_loss: 0.4493 - val_auc: 0.8765\n",
            "Epoch 29/50\n",
            "23/23 [==============================] - 0s 4ms/step - loss: 0.5032 - auc: 0.8306 - val_loss: 0.4556 - val_auc: 0.8775\n",
            "Epoch 30/50\n",
            "23/23 [==============================] - 0s 4ms/step - loss: 0.5003 - auc: 0.8345 - val_loss: 0.4494 - val_auc: 0.8770\n",
            "Epoch 31/50\n",
            "23/23 [==============================] - 0s 5ms/step - loss: 0.5074 - auc: 0.8285 - val_loss: 0.4664 - val_auc: 0.8748\n",
            "Epoch 32/50\n",
            "23/23 [==============================] - 0s 4ms/step - loss: 0.5065 - auc: 0.8292 - val_loss: 0.4496 - val_auc: 0.8778\n",
            "Epoch 33/50\n",
            "23/23 [==============================] - 0s 4ms/step - loss: 0.5035 - auc: 0.8322 - val_loss: 0.4423 - val_auc: 0.8804\n",
            "Epoch 34/50\n",
            "23/23 [==============================] - 0s 4ms/step - loss: 0.5082 - auc: 0.8284 - val_loss: 0.4609 - val_auc: 0.8761\n",
            "Epoch 35/50\n",
            "23/23 [==============================] - 0s 4ms/step - loss: 0.4914 - auc: 0.8411 - val_loss: 0.4410 - val_auc: 0.8797\n",
            "Epoch 36/50\n",
            "23/23 [==============================] - 0s 4ms/step - loss: 0.4871 - auc: 0.8434 - val_loss: 0.4469 - val_auc: 0.8775\n",
            "Epoch 37/50\n",
            "23/23 [==============================] - 0s 4ms/step - loss: 0.4810 - auc: 0.8491 - val_loss: 0.4565 - val_auc: 0.8782\n",
            "Epoch 38/50\n",
            "23/23 [==============================] - 0s 4ms/step - loss: 0.5049 - auc: 0.8280 - val_loss: 0.4565 - val_auc: 0.8788\n",
            "Epoch 39/50\n",
            "23/23 [==============================] - 0s 4ms/step - loss: 0.4934 - auc: 0.8391 - val_loss: 0.4465 - val_auc: 0.8770\n",
            "Epoch 40/50\n",
            "23/23 [==============================] - 0s 4ms/step - loss: 0.4855 - auc: 0.8468 - val_loss: 0.4668 - val_auc: 0.8772\n",
            "Epoch 41/50\n",
            "23/23 [==============================] - 0s 4ms/step - loss: 0.5073 - auc: 0.8288 - val_loss: 0.4428 - val_auc: 0.8779\n",
            "Epoch 42/50\n",
            "23/23 [==============================] - 0s 4ms/step - loss: 0.5080 - auc: 0.8281 - val_loss: 0.4574 - val_auc: 0.8770\n",
            "Epoch 43/50\n",
            "23/23 [==============================] - 0s 4ms/step - loss: 0.4735 - auc: 0.8551 - val_loss: 0.4489 - val_auc: 0.8775\n",
            "Epoch 44/50\n",
            "23/23 [==============================] - 0s 4ms/step - loss: 0.5060 - auc: 0.8280 - val_loss: 0.4472 - val_auc: 0.8775\n",
            "Epoch 45/50\n",
            "23/23 [==============================] - 0s 4ms/step - loss: 0.4958 - auc: 0.8370 - val_loss: 0.4599 - val_auc: 0.8761\n",
            "Epoch 46/50\n",
            "23/23 [==============================] - 0s 4ms/step - loss: 0.4676 - auc: 0.8591 - val_loss: 0.4570 - val_auc: 0.8743\n",
            "Epoch 47/50\n",
            "23/23 [==============================] - 0s 4ms/step - loss: 0.4826 - auc: 0.8492 - val_loss: 0.4547 - val_auc: 0.8744\n",
            "Epoch 48/50\n",
            "23/23 [==============================] - 0s 4ms/step - loss: 0.4900 - auc: 0.8417 - val_loss: 0.4454 - val_auc: 0.8770\n",
            "Epoch 49/50\n",
            "23/23 [==============================] - 0s 4ms/step - loss: 0.4809 - auc: 0.8479 - val_loss: 0.4422 - val_auc: 0.8772\n",
            "Epoch 50/50\n",
            "23/23 [==============================] - 0s 5ms/step - loss: 0.4852 - auc: 0.8447 - val_loss: 0.4425 - val_auc: 0.8745\n",
            "time: 6.37 s (started: 2020-12-31 22:29:58 +00:00)\n"
          ],
          "name": "stdout"
        }
      ]
    },
    {
      "cell_type": "code",
      "metadata": {
        "colab": {
          "base_uri": "https://localhost:8080/"
        },
        "id": "nKybJaOu4Dc7",
        "outputId": "c40c600a-8284-4fa7-8ee8-ebedcb70ff57"
      },
      "source": [
        "model_fast = create_model(x_train_fast)\n",
        "history_sequential = model_fast.fit(x = x_train_fast, \n",
        "                                          y = y_train_fast,\n",
        "                                          epochs=50,\n",
        "                                          batch_size=100,\n",
        "                                          shuffle = True,\n",
        "                                          validation_split=0.05)"
      ],
      "execution_count": null,
      "outputs": [
        {
          "output_type": "stream",
          "text": [
            "Epoch 1/50\n",
            "23/23 [==============================] - 1s 14ms/step - loss: 0.6909 - auc: 0.6052 - val_loss: 0.6812 - val_auc: 0.7921\n",
            "Epoch 2/50\n",
            "23/23 [==============================] - 0s 5ms/step - loss: 0.6792 - auc: 0.7988 - val_loss: 0.6627 - val_auc: 0.8306\n",
            "Epoch 3/50\n",
            "23/23 [==============================] - 0s 5ms/step - loss: 0.6619 - auc: 0.7955 - val_loss: 0.6322 - val_auc: 0.8363\n",
            "Epoch 4/50\n",
            "23/23 [==============================] - 0s 5ms/step - loss: 0.6330 - auc: 0.8318 - val_loss: 0.6046 - val_auc: 0.8432\n",
            "Epoch 5/50\n",
            "23/23 [==============================] - 0s 5ms/step - loss: 0.5922 - auc: 0.8502 - val_loss: 0.5680 - val_auc: 0.8524\n",
            "Epoch 6/50\n",
            "23/23 [==============================] - 0s 4ms/step - loss: 0.5454 - auc: 0.8673 - val_loss: 0.5263 - val_auc: 0.8602\n",
            "Epoch 7/50\n",
            "23/23 [==============================] - 0s 5ms/step - loss: 0.5083 - auc: 0.8695 - val_loss: 0.5120 - val_auc: 0.8614\n",
            "Epoch 8/50\n",
            "23/23 [==============================] - 0s 5ms/step - loss: 0.4827 - auc: 0.8729 - val_loss: 0.4723 - val_auc: 0.8702\n",
            "Epoch 9/50\n",
            "23/23 [==============================] - 0s 4ms/step - loss: 0.4650 - auc: 0.8818 - val_loss: 0.4764 - val_auc: 0.8729\n",
            "Epoch 10/50\n",
            "23/23 [==============================] - 0s 5ms/step - loss: 0.4352 - auc: 0.8984 - val_loss: 0.4481 - val_auc: 0.8787\n",
            "Epoch 11/50\n",
            "23/23 [==============================] - 0s 4ms/step - loss: 0.4316 - auc: 0.8917 - val_loss: 0.4388 - val_auc: 0.8799\n",
            "Epoch 12/50\n",
            "23/23 [==============================] - 0s 4ms/step - loss: 0.4117 - auc: 0.9019 - val_loss: 0.4464 - val_auc: 0.8818\n",
            "Epoch 13/50\n",
            "23/23 [==============================] - 0s 4ms/step - loss: 0.3900 - auc: 0.9138 - val_loss: 0.4268 - val_auc: 0.8829\n",
            "Epoch 14/50\n",
            "23/23 [==============================] - 0s 4ms/step - loss: 0.3743 - auc: 0.9220 - val_loss: 0.4458 - val_auc: 0.8833\n",
            "Epoch 15/50\n",
            "23/23 [==============================] - 0s 5ms/step - loss: 0.3929 - auc: 0.9075 - val_loss: 0.4272 - val_auc: 0.8856\n",
            "Epoch 16/50\n",
            "23/23 [==============================] - 0s 4ms/step - loss: 0.3542 - auc: 0.9289 - val_loss: 0.4191 - val_auc: 0.8869\n",
            "Epoch 17/50\n",
            "23/23 [==============================] - 0s 4ms/step - loss: 0.3645 - auc: 0.9228 - val_loss: 0.4258 - val_auc: 0.8886\n",
            "Epoch 18/50\n",
            "23/23 [==============================] - 0s 4ms/step - loss: 0.3496 - auc: 0.9300 - val_loss: 0.4109 - val_auc: 0.8891\n",
            "Epoch 19/50\n",
            "23/23 [==============================] - 0s 5ms/step - loss: 0.3539 - auc: 0.9266 - val_loss: 0.4181 - val_auc: 0.8897\n",
            "Epoch 20/50\n",
            "23/23 [==============================] - 0s 5ms/step - loss: 0.3460 - auc: 0.9306 - val_loss: 0.4168 - val_auc: 0.8896\n",
            "Epoch 21/50\n",
            "23/23 [==============================] - 0s 5ms/step - loss: 0.3483 - auc: 0.9289 - val_loss: 0.4428 - val_auc: 0.8898\n",
            "Epoch 22/50\n",
            "23/23 [==============================] - 0s 5ms/step - loss: 0.3584 - auc: 0.9240 - val_loss: 0.4073 - val_auc: 0.8913\n",
            "Epoch 23/50\n",
            "23/23 [==============================] - 0s 5ms/step - loss: 0.3432 - auc: 0.9304 - val_loss: 0.4133 - val_auc: 0.8904\n",
            "Epoch 24/50\n",
            "23/23 [==============================] - 0s 4ms/step - loss: 0.3315 - auc: 0.9349 - val_loss: 0.4072 - val_auc: 0.8935\n",
            "Epoch 25/50\n",
            "23/23 [==============================] - 0s 4ms/step - loss: 0.3225 - auc: 0.9392 - val_loss: 0.4442 - val_auc: 0.8923\n",
            "Epoch 26/50\n",
            "23/23 [==============================] - 0s 4ms/step - loss: 0.3231 - auc: 0.9388 - val_loss: 0.4013 - val_auc: 0.8945\n",
            "Epoch 27/50\n",
            "23/23 [==============================] - 0s 4ms/step - loss: 0.3266 - auc: 0.9372 - val_loss: 0.4269 - val_auc: 0.8948\n",
            "Epoch 28/50\n",
            "23/23 [==============================] - 0s 4ms/step - loss: 0.3302 - auc: 0.9346 - val_loss: 0.4150 - val_auc: 0.8969\n",
            "Epoch 29/50\n",
            "23/23 [==============================] - 0s 5ms/step - loss: 0.3406 - auc: 0.9308 - val_loss: 0.4137 - val_auc: 0.8969\n",
            "Epoch 30/50\n",
            "23/23 [==============================] - 0s 4ms/step - loss: 0.3165 - auc: 0.9407 - val_loss: 0.3992 - val_auc: 0.8986\n",
            "Epoch 31/50\n",
            "23/23 [==============================] - 0s 4ms/step - loss: 0.2998 - auc: 0.9475 - val_loss: 0.4433 - val_auc: 0.8980\n",
            "Epoch 32/50\n",
            "23/23 [==============================] - 0s 4ms/step - loss: 0.3045 - auc: 0.9455 - val_loss: 0.4013 - val_auc: 0.8990\n",
            "Epoch 33/50\n",
            "23/23 [==============================] - 0s 4ms/step - loss: 0.3117 - auc: 0.9427 - val_loss: 0.4251 - val_auc: 0.8997\n",
            "Epoch 34/50\n",
            "23/23 [==============================] - 0s 4ms/step - loss: 0.3051 - auc: 0.9442 - val_loss: 0.3989 - val_auc: 0.9003\n",
            "Epoch 35/50\n",
            "23/23 [==============================] - 0s 4ms/step - loss: 0.3333 - auc: 0.9321 - val_loss: 0.3998 - val_auc: 0.8997\n",
            "Epoch 36/50\n",
            "23/23 [==============================] - 0s 4ms/step - loss: 0.3161 - auc: 0.9394 - val_loss: 0.4418 - val_auc: 0.8989\n",
            "Epoch 37/50\n",
            "23/23 [==============================] - 0s 4ms/step - loss: 0.3336 - auc: 0.9335 - val_loss: 0.3991 - val_auc: 0.9006\n",
            "Epoch 38/50\n",
            "23/23 [==============================] - 0s 5ms/step - loss: 0.3089 - auc: 0.9429 - val_loss: 0.4240 - val_auc: 0.9005\n",
            "Epoch 39/50\n",
            "23/23 [==============================] - 0s 4ms/step - loss: 0.2997 - auc: 0.9467 - val_loss: 0.4358 - val_auc: 0.9006\n",
            "Epoch 40/50\n",
            "23/23 [==============================] - 0s 4ms/step - loss: 0.3324 - auc: 0.9358 - val_loss: 0.4025 - val_auc: 0.9006\n",
            "Epoch 41/50\n",
            "23/23 [==============================] - 0s 4ms/step - loss: 0.3060 - auc: 0.9436 - val_loss: 0.4018 - val_auc: 0.9016\n",
            "Epoch 42/50\n",
            "23/23 [==============================] - 0s 4ms/step - loss: 0.3138 - auc: 0.9402 - val_loss: 0.3989 - val_auc: 0.9014\n",
            "Epoch 43/50\n",
            "23/23 [==============================] - 0s 4ms/step - loss: 0.2990 - auc: 0.9462 - val_loss: 0.3953 - val_auc: 0.9021\n",
            "Epoch 44/50\n",
            "23/23 [==============================] - 0s 5ms/step - loss: 0.3108 - auc: 0.9409 - val_loss: 0.4088 - val_auc: 0.9023\n",
            "Epoch 45/50\n",
            "23/23 [==============================] - 0s 4ms/step - loss: 0.2845 - auc: 0.9517 - val_loss: 0.4054 - val_auc: 0.9019\n",
            "Epoch 46/50\n",
            "23/23 [==============================] - 0s 4ms/step - loss: 0.3140 - auc: 0.9397 - val_loss: 0.4096 - val_auc: 0.9031\n",
            "Epoch 47/50\n",
            "23/23 [==============================] - 0s 4ms/step - loss: 0.2976 - auc: 0.9461 - val_loss: 0.3988 - val_auc: 0.9027\n",
            "Epoch 48/50\n",
            "23/23 [==============================] - 0s 4ms/step - loss: 0.3180 - auc: 0.9381 - val_loss: 0.3957 - val_auc: 0.9040\n",
            "Epoch 49/50\n",
            "23/23 [==============================] - 0s 4ms/step - loss: 0.3172 - auc: 0.9408 - val_loss: 0.3972 - val_auc: 0.9044\n",
            "Epoch 50/50\n",
            "23/23 [==============================] - 0s 4ms/step - loss: 0.2941 - auc: 0.9473 - val_loss: 0.3967 - val_auc: 0.9040\n",
            "time: 6.32 s (started: 2020-12-31 22:30:05 +00:00)\n"
          ],
          "name": "stdout"
        }
      ]
    },
    {
      "cell_type": "code",
      "metadata": {
        "colab": {
          "base_uri": "https://localhost:8080/"
        },
        "id": "p1PB1o0eyxU5",
        "outputId": "9ee7a7ec-0bb2-491b-c980-ca7b45a1db8b"
      },
      "source": [
        "model_glove_pred = model_glove.predict(x_test_glove)\n",
        "model_fast_pred = model_fast.predict(x_test_fast)"
      ],
      "execution_count": null,
      "outputs": [
        {
          "output_type": "stream",
          "text": [
            "time: 167 ms (started: 2020-12-31 23:15:58 +00:00)\n"
          ],
          "name": "stdout"
        }
      ]
    },
    {
      "cell_type": "markdown",
      "metadata": {
        "id": "i-sYVHe_y8lA"
      },
      "source": [
        "d. Medir AUC."
      ]
    },
    {
      "cell_type": "code",
      "metadata": {
        "colab": {
          "base_uri": "https://localhost:8080/",
          "height": 405
        },
        "id": "8yfQ7QpVz6ZG",
        "outputId": "76ba9f8a-04ec-42f9-d3f3-5bfc2878a4a1"
      },
      "source": [
        "# Comparar los resultados obtenidos\n",
        "from sklearn.metrics import roc_auc_score, roc_curve\n",
        "%matplotlib inline\n",
        "\n",
        "def roc_curve_and_score(y_test, pred_proba):\n",
        "    fpr, tpr, _ = roc_curve(y_test.ravel(), pred_proba.ravel())\n",
        "    roc_auc = roc_auc_score(y_test.ravel(), pred_proba.ravel())\n",
        "    return fpr, tpr, roc_auc\n",
        "\n",
        "\n",
        "plt.figure(figsize=(8, 6))\n",
        "plt.grid()\n",
        "fpr, tpr, roc_auc = roc_curve_and_score(y_test_glove, model_glove_pred)\n",
        "plt.plot(fpr, tpr, color='darkorange',\n",
        "         label='Sequential Model Glove ={0:.3f}'.format(roc_auc))\n",
        "fpr, tpr, roc_auc = roc_curve_and_score(y_test_fast, model_fast_pred)\n",
        "plt.plot(fpr, tpr, color='blue',\n",
        "         label='Sequential Model Fast ={0:.3f}'.format(roc_auc))\n",
        "plt.plot([0, 1], [0, 1], color='navy', lw=1, linestyle='--')\n",
        "plt.legend(loc=\"lower right\")\n",
        "plt.xlim([0.0, 1.0])\n",
        "plt.ylim([0.0, 1.05])\n",
        "plt.xlabel('False Positive Rate/ 1 - Specificity')\n",
        "plt.ylabel('True Positive Rate/ Sensitivity')\n",
        "plt.show()"
      ],
      "execution_count": null,
      "outputs": [
        {
          "output_type": "display_data",
          "data": {
            "image/png": "[encoded data removed]",
            "text/plain": [
              "<Figure size 576x432 with 1 Axes>"
            ]
          },
          "metadata": {
            "tags": []
          }
        },
        {
          "output_type": "stream",
          "text": [
            "time: 174 ms (started: 2020-12-31 23:16:01 +00:00)\n"
          ],
          "name": "stdout"
        }
      ]
    },
    {
      "cell_type": "code",
      "metadata": {
        "colab": {
          "base_uri": "https://localhost:8080/",
          "height": 69
        },
        "id": "SzNayLx2JMY5",
        "outputId": "5ebf642b-5b29-4ab1-c5cd-b05963e5a507"
      },
      "source": [
        "save_model(model_glove, name='model_glove')\n",
        "save_model(model_fast, name='model_fast')"
      ],
      "execution_count": null,
      "outputs": [
        {
          "output_type": "stream",
          "text": [
            "Saved model to disk\n",
            "Saved model to disk\n"
          ],
          "name": "stdout"
        },
        {
          "output_type": "execute_result",
          "data": {
            "application/vnd.google.colaboratory.intrinsic+json": {
              "type": "string"
            },
            "text/plain": [
              "'Saved'"
            ]
          },
          "metadata": {
            "tags": []
          },
          "execution_count": 52
        },
        {
          "output_type": "stream",
          "text": [
            "time: 858 ms (started: 2020-12-29 14:35:54 +00:00)\n"
          ],
          "name": "stdout"
        }
      ]
    },
    {
      "cell_type": "code",
      "metadata": {
        "colab": {
          "base_uri": "https://localhost:8080/"
        },
        "id": "xDZhsagQJMY5",
        "outputId": "2a86f649-6f41-4ecf-9ea6-9cea8f9e7564"
      },
      "source": [
        "model_glove = load_model(name='model_glove')\n",
        "model_fast = load_model(name='model_fast')"
      ],
      "execution_count": null,
      "outputs": [
        {
          "output_type": "stream",
          "text": [
            "time: 969 ms (started: 2020-12-31 23:15:53 +00:00)\n"
          ],
          "name": "stdout"
        }
      ]
    },
    {
      "cell_type": "markdown",
      "metadata": {
        "id": "CbEEZmw5y-Fm"
      },
      "source": [
        "e. Tratar de mejorar los embeddings de los textos con:\n",
        "* i. Agregar TFIDF como pesos a las palabras.\n",
        "* ii. En lugar de tomar el promedio probar tomando el max o el min de\n",
        "cada componente de los embeddings de las palabras.\n",
        "* iii. Probar diferentes tamaños de embeddings."
      ]
    },
    {
      "cell_type": "code",
      "metadata": {
        "id": "JbL5JUzky_ag"
      },
      "source": [
        ""
      ],
      "execution_count": null,
      "outputs": []
    },
    {
      "cell_type": "markdown",
      "metadata": {
        "id": "8BTnlS4hy_7X"
      },
      "source": [
        "## 5. Entrenar un clasificador utilizando celdas LSTM."
      ]
    },
    {
      "cell_type": "markdown",
      "metadata": {
        "id": "q5Xgo_AvzNwY"
      },
      "source": [
        "a. Convertir secuencias de palabras a secuencias de números (indexer)."
      ]
    },
    {
      "cell_type": "code",
      "metadata": {
        "colab": {
          "base_uri": "https://localhost:8080/"
        },
        "id": "d3jYZOMqLrqy",
        "outputId": "1f01473a-b6b8-43d3-8d79-e3197de2c750"
      },
      "source": [
        "def get_max_length():\n",
        "    review_length = []\n",
        "    for review in x_train:\n",
        "        review_length.append(len(review))\n",
        "\n",
        "    return int(np.ceil(np.mean(review_length)))"
      ],
      "execution_count": null,
      "outputs": [
        {
          "output_type": "stream",
          "text": [
            "time: 1.65 ms (started: 2020-12-31 23:17:46 +00:00)\n"
          ],
          "name": "stdout"
        }
      ]
    },
    {
      "cell_type": "code",
      "metadata": {
        "colab": {
          "base_uri": "https://localhost:8080/"
        },
        "id": "DlqVOwtSDAlU",
        "outputId": "046c1342-cf76-4946-9891-34838a76f37c"
      },
      "source": [
        "from keras.preprocessing import sequence\n",
        "from tensorflow.keras.preprocessing.sequence import pad_sequences\n",
        "from tensorflow.keras.preprocessing.text import Tokenizer"
      ],
      "execution_count": null,
      "outputs": [
        {
          "output_type": "stream",
          "text": [
            "time: 1.01 ms (started: 2020-12-31 23:17:46 +00:00)\n"
          ],
          "name": "stdout"
        }
      ]
    },
    {
      "cell_type": "code",
      "metadata": {
        "colab": {
          "base_uri": "https://localhost:8080/"
        },
        "id": "4sZuJEnSFfmS",
        "outputId": "9112c712-8ab6-42bc-aa5d-e7b41b5ac042"
      },
      "source": [
        "from sklearn.model_selection import train_test_split\n",
        "\n",
        "x_train_lstm, x_test_lstm, y_train_lstm, y_test_lstm = train_test_split(reviews, sentiments, test_size=0.2)"
      ],
      "execution_count": null,
      "outputs": [
        {
          "output_type": "stream",
          "text": [
            "time: 20.6 ms (started: 2020-12-31 23:17:48 +00:00)\n"
          ],
          "name": "stdout"
        }
      ]
    },
    {
      "cell_type": "code",
      "metadata": {
        "colab": {
          "base_uri": "https://localhost:8080/"
        },
        "id": "t2b80H9xLWnA",
        "outputId": "03d7538a-2fd9-4193-f99e-3cff725cc661"
      },
      "source": [
        "token = Tokenizer(lower=False)    # no need lower, because already lowered the data in load_data()\n",
        "token.fit_on_texts(x_train_lstm)\n",
        "x_train_lstm = token.texts_to_sequences(x_train_lstm)\n",
        "x_test_lstm = token.texts_to_sequences(x_test_lstm)\n",
        "\n",
        "# max_length = get_max_length()\n",
        "max_length=80"
      ],
      "execution_count": null,
      "outputs": [
        {
          "output_type": "stream",
          "text": [
            "time: 4.83 s (started: 2020-12-31 23:17:49 +00:00)\n"
          ],
          "name": "stdout"
        }
      ]
    },
    {
      "cell_type": "markdown",
      "metadata": {
        "id": "rCrPT5CSzQwp"
      },
      "source": [
        "b. Agregar padding para que cada elemento de entrenamiento tenga la\n",
        "misma longitud."
      ]
    },
    {
      "cell_type": "code",
      "metadata": {
        "colab": {
          "base_uri": "https://localhost:8080/"
        },
        "id": "rnHZj1gWzSgU",
        "outputId": "7ada819d-403d-4c66-cf2f-fb62d0bce775"
      },
      "source": [
        "x_train_lstm = pad_sequences(x_train_lstm, maxlen=max_length, padding='post', truncating='post')\n",
        "x_test_lstm = pad_sequences(x_test_lstm, maxlen=max_length, padding='post', truncating='post')\n",
        "\n",
        "total_words = len(token.word_index) + 1   # add 1 because of 0 padding"
      ],
      "execution_count": null,
      "outputs": [
        {
          "output_type": "stream",
          "text": [
            "time: 491 ms (started: 2020-12-31 23:17:54 +00:00)\n"
          ],
          "name": "stdout"
        }
      ]
    },
    {
      "cell_type": "markdown",
      "metadata": {
        "id": "ztbsRx8GzS9P"
      },
      "source": [
        "c. Armar una red LSTM con las siguientes capas:\n",
        "* i. Capa de embedding que transforma un número (index) en un\n",
        "embedding.\n",
        "* ii. Agregar uno dos layers LSTM para obtener el embedding de la\n",
        "secuencias.\n",
        "* iii. Agregar un layer denso para entrenar el clasificador."
      ]
    },
    {
      "cell_type": "code",
      "metadata": {
        "colab": {
          "base_uri": "https://localhost:8080/"
        },
        "id": "37Ty-mbYOnSG",
        "outputId": "dd31cada-4bbe-42aa-c4dc-4744d52db7a1"
      },
      "source": [
        "EMBED_DIM = 300\n",
        "LSTM_OUT = 64\n",
        "\n",
        "model = Sequential()\n",
        "model.add(Embedding(total_words, EMBED_DIM, input_length = max_length))\n",
        "model.add(LSTM(128, return_sequences=True))\n",
        "model.add(LSTM(64, return_sequences=True))\n",
        "model.add(Dense(1, activation='sigmoid'))\n",
        "model.compile(optimizer = 'adam', loss = 'binary_crossentropy', metrics = ['accuracy'])\n",
        "\n",
        "print(model.summary())"
      ],
      "execution_count": null,
      "outputs": [
        {
          "output_type": "stream",
          "text": [
            "Model: \"sequential_3\"\n",
            "_________________________________________________________________\n",
            "Layer (type)                 Output Shape              Param #   \n",
            "=================================================================\n",
            "embedding_1 (Embedding)      (None, 80, 300)           30109500  \n",
            "_________________________________________________________________\n",
            "lstm (LSTM)                  (None, 80, 128)           219648    \n",
            "_________________________________________________________________\n",
            "lstm_1 (LSTM)                (None, 80, 64)            49408     \n",
            "_________________________________________________________________\n",
            "dense_6 (Dense)              (None, 80, 1)             65        \n",
            "=================================================================\n",
            "Total params: 30,378,621\n",
            "Trainable params: 30,378,621\n",
            "Non-trainable params: 0\n",
            "_________________________________________________________________\n",
            "None\n",
            "time: 715 ms (started: 2020-12-31 23:18:44 +00:00)\n"
          ],
          "name": "stdout"
        }
      ]
    },
    {
      "cell_type": "code",
      "metadata": {
        "colab": {
          "base_uri": "https://localhost:8080/"
        },
        "id": "eUcCkCgKPGux",
        "outputId": "1a90f401-7b35-4278-8296-24292d92ec31"
      },
      "source": [
        "model.fit(x_train_lstm, y_train_lstm, batch_size = 128, epochs = 5)"
      ],
      "execution_count": null,
      "outputs": [
        {
          "output_type": "stream",
          "text": [
            "Epoch 1/5\n",
            "313/313 [==============================] - 93s 290ms/step - loss: 0.5143 - accuracy: 0.7302\n",
            "Epoch 2/5\n",
            "313/313 [==============================] - 90s 288ms/step - loss: 0.2907 - accuracy: 0.8747\n",
            "Epoch 3/5\n",
            "313/313 [==============================] - 90s 287ms/step - loss: 0.2084 - accuracy: 0.9093\n",
            "Epoch 4/5\n",
            "313/313 [==============================] - 90s 287ms/step - loss: 0.1630 - accuracy: 0.9267\n",
            "Epoch 5/5\n",
            "313/313 [==============================] - 90s 286ms/step - loss: 0.1308 - accuracy: 0.9402\n"
          ],
          "name": "stdout"
        },
        {
          "output_type": "execute_result",
          "data": {
            "text/plain": [
              "<tensorflow.python.keras.callbacks.History at 0x7faf72f40c88>"
            ]
          },
          "metadata": {
            "tags": []
          },
          "execution_count": 50
        },
        {
          "output_type": "stream",
          "text": [
            "time: 7min 32s (started: 2020-12-31 23:18:46 +00:00)\n"
          ],
          "name": "stdout"
        }
      ]
    },
    {
      "cell_type": "code",
      "metadata": {
        "colab": {
          "base_uri": "https://localhost:8080/",
          "height": 52
        },
        "id": "iofv_Z0l1Ovm",
        "outputId": "e471209b-6513-4486-fcaf-781efb3e5e80"
      },
      "source": [
        "save_model(model, name='model_lstm')"
      ],
      "execution_count": null,
      "outputs": [
        {
          "output_type": "stream",
          "text": [
            "Saved model to disk\n"
          ],
          "name": "stdout"
        },
        {
          "output_type": "execute_result",
          "data": {
            "application/vnd.google.colaboratory.intrinsic+json": {
              "type": "string"
            },
            "text/plain": [
              "'Saved'"
            ]
          },
          "metadata": {
            "tags": []
          },
          "execution_count": 51
        },
        {
          "output_type": "stream",
          "text": [
            "time: 503 ms (started: 2020-12-31 23:26:19 +00:00)\n"
          ],
          "name": "stdout"
        }
      ]
    },
    {
      "cell_type": "code",
      "metadata": {
        "colab": {
          "base_uri": "https://localhost:8080/"
        },
        "id": "L2Yw9rqM1Ovx",
        "outputId": "66b89604-3d92-4581-fbea-6256fdf81ef0"
      },
      "source": [
        "model = load_model(name='model_lstm')"
      ],
      "execution_count": null,
      "outputs": [
        {
          "output_type": "stream",
          "text": [
            "time: 1.23 s (started: 2020-12-31 23:27:41 +00:00)\n"
          ],
          "name": "stdout"
        }
      ]
    },
    {
      "cell_type": "code",
      "metadata": {
        "colab": {
          "base_uri": "https://localhost:8080/"
        },
        "id": "HN1lqq8hPmqf",
        "outputId": "9c9729c8-a000-4748-fe8d-e71023f4036e"
      },
      "source": [
        "lstm_pred = model.predict(x_test_lstm)"
      ],
      "execution_count": null,
      "outputs": [
        {
          "output_type": "stream",
          "text": [
            "time: 2.15 s (started: 2020-12-31 23:27:43 +00:00)\n"
          ],
          "name": "stdout"
        }
      ]
    },
    {
      "cell_type": "code",
      "metadata": {
        "colab": {
          "base_uri": "https://localhost:8080/"
        },
        "id": "K4-67ENms0RO",
        "outputId": "8fc32c86-ba67-4db2-a0ae-bee3ec60cbd9"
      },
      "source": [
        "lstm_pred = lstm_pred[:, lstm_pred.shape[1] - 1, :]"
      ],
      "execution_count": null,
      "outputs": [
        {
          "output_type": "stream",
          "text": [
            "time: 1.89 ms (started: 2020-12-31 23:27:45 +00:00)\n"
          ],
          "name": "stdout"
        }
      ]
    },
    {
      "cell_type": "markdown",
      "metadata": {
        "id": "B1NTs2Kj2tlu"
      },
      "source": [
        "e. LSTM con embeddings preentrenados"
      ]
    },
    {
      "cell_type": "code",
      "metadata": {
        "colab": {
          "base_uri": "https://localhost:8080/"
        },
        "id": "zHHmX8U028t1",
        "outputId": "a1cdb32e-534f-4406-b235-5cc8082be284"
      },
      "source": [
        "from sklearn.model_selection import train_test_split\n",
        "\n",
        "x_train_lstm_pre, x_test_lstm_pre, y_train_lstm_pre, y_test_lstm_pre = train_test_split(reviews, sentiments, test_size=0.2)"
      ],
      "execution_count": null,
      "outputs": [
        {
          "output_type": "stream",
          "text": [
            "time: 41.5 ms (started: 2020-12-31 23:27:48 +00:00)\n"
          ],
          "name": "stdout"
        }
      ]
    },
    {
      "cell_type": "code",
      "metadata": {
        "colab": {
          "base_uri": "https://localhost:8080/"
        },
        "id": "jl4AJ2Tf28t4",
        "outputId": "ad507f07-f4b7-48c7-9a83-93536d6fd19a"
      },
      "source": [
        "token = Tokenizer()    \n",
        "token.fit_on_texts(x_train_lstm_pre)\n",
        "x_train_lstm_pre = token.texts_to_sequences(x_train_lstm_pre)\n",
        "x_test_lstm_pre = token.texts_to_sequences(x_test_lstm_pre)\n",
        "\n",
        "word_index = token.word_index\n",
        "# max_length = get_max_length()\n",
        "max_length = 80\n",
        "EMBED_DIM = 25"
      ],
      "execution_count": null,
      "outputs": [
        {
          "output_type": "stream",
          "text": [
            "time: 5.26 s (started: 2020-12-31 23:27:49 +00:00)\n"
          ],
          "name": "stdout"
        }
      ]
    },
    {
      "cell_type": "code",
      "metadata": {
        "colab": {
          "base_uri": "https://localhost:8080/"
        },
        "id": "_EvsCdLn28t5",
        "outputId": "cb93b082-72ba-4209-a7c0-84aea5501512"
      },
      "source": [
        "x_train_lstm_pre = pad_sequences(x_train_lstm_pre, maxlen=max_length, padding='post', truncating='post')\n",
        "x_test_lstm_pre = pad_sequences(x_test_lstm_pre, maxlen=max_length, padding='post', truncating='post')\n",
        "\n",
        "total_words = len(token.word_index) + 1   # add 1 because of 0 padding"
      ],
      "execution_count": null,
      "outputs": [
        {
          "output_type": "stream",
          "text": [
            "time: 457 ms (started: 2020-12-31 23:27:54 +00:00)\n"
          ],
          "name": "stdout"
        }
      ]
    },
    {
      "cell_type": "code",
      "metadata": {
        "colab": {
          "base_uri": "https://localhost:8080/"
        },
        "id": "JJZacdsCWWYN",
        "outputId": "eb4a0ec2-a85e-472a-a93e-28fd7d912bca"
      },
      "source": [
        "embedding_matrix = np.zeros((len(word_index) + 1, EMBED_DIM))\n",
        "for word, i in word_index.items():\n",
        "    try:\n",
        "      embedding_vector = glove_vectors[word]\n",
        "      if embedding_vector is not None:\n",
        "        # words not found in embedding index will be all-zeros.\n",
        "        embedding_matrix[i] = embedding_vector\n",
        "    except:\n",
        "        embedding_matrix[i] = np.zeros(EMBED_DIM)"
      ],
      "execution_count": null,
      "outputs": [
        {
          "output_type": "stream",
          "text": [
            "time: 331 ms (started: 2020-12-31 23:27:55 +00:00)\n"
          ],
          "name": "stdout"
        }
      ]
    },
    {
      "cell_type": "code",
      "metadata": {
        "colab": {
          "base_uri": "https://localhost:8080/"
        },
        "id": "SqHV3kDl28t7",
        "outputId": "67233e98-fa10-493d-b5cc-f29e56a52314"
      },
      "source": [
        "model_pretrained = Sequential()\n",
        "model_pretrained.add(Embedding(len(word_index) + 1, EMBED_DIM, weights=[embedding_matrix], input_length=max_length, trainable=False))\n",
        "model_pretrained.add(LSTM(128, return_sequences=True))\n",
        "model_pretrained.add(LSTM(64, return_sequences=True))\n",
        "model_pretrained.add(Dense(1, activation='sigmoid'))\n",
        "model_pretrained.compile(optimizer = 'adam', loss = 'binary_crossentropy', metrics = ['accuracy'])\n",
        "\n",
        "print(model_pretrained.summary())"
      ],
      "execution_count": null,
      "outputs": [
        {
          "output_type": "stream",
          "text": [
            "Model: \"sequential_4\"\n",
            "_________________________________________________________________\n",
            "Layer (type)                 Output Shape              Param #   \n",
            "=================================================================\n",
            "embedding_2 (Embedding)      (None, 80, 25)            2516000   \n",
            "_________________________________________________________________\n",
            "lstm_2 (LSTM)                (None, 80, 128)           78848     \n",
            "_________________________________________________________________\n",
            "lstm_3 (LSTM)                (None, 80, 64)            49408     \n",
            "_________________________________________________________________\n",
            "dense_7 (Dense)              (None, 80, 1)             65        \n",
            "=================================================================\n",
            "Total params: 2,644,321\n",
            "Trainable params: 128,321\n",
            "Non-trainable params: 2,516,000\n",
            "_________________________________________________________________\n",
            "None\n",
            "time: 476 ms (started: 2020-12-31 23:27:55 +00:00)\n"
          ],
          "name": "stdout"
        }
      ]
    },
    {
      "cell_type": "code",
      "metadata": {
        "colab": {
          "base_uri": "https://localhost:8080/"
        },
        "id": "q6mE7mUw28t8",
        "outputId": "a3cea7cb-16d8-451d-b38f-e05c9762f8e9"
      },
      "source": [
        "model_pretrained.fit(x_train_lstm_pre, y_train_lstm_pre, batch_size = 128, epochs = 5)"
      ],
      "execution_count": null,
      "outputs": [
        {
          "output_type": "stream",
          "text": [
            "Epoch 1/5\n",
            "313/313 [==============================] - 6s 11ms/step - loss: 0.6191 - accuracy: 0.6500\n",
            "Epoch 2/5\n",
            "313/313 [==============================] - 3s 11ms/step - loss: 0.5560 - accuracy: 0.7087\n",
            "Epoch 3/5\n",
            "313/313 [==============================] - 3s 11ms/step - loss: 0.5270 - accuracy: 0.7287\n",
            "Epoch 4/5\n",
            "313/313 [==============================] - 3s 11ms/step - loss: 0.5129 - accuracy: 0.7360\n",
            "Epoch 5/5\n",
            "313/313 [==============================] - 3s 11ms/step - loss: 0.5003 - accuracy: 0.7432\n"
          ],
          "name": "stdout"
        },
        {
          "output_type": "execute_result",
          "data": {
            "text/plain": [
              "<tensorflow.python.keras.callbacks.History at 0x7faf4dc10550>"
            ]
          },
          "metadata": {
            "tags": []
          },
          "execution_count": 60
        },
        {
          "output_type": "stream",
          "text": [
            "time: 19.8 s (started: 2020-12-31 23:27:56 +00:00)\n"
          ],
          "name": "stdout"
        }
      ]
    },
    {
      "cell_type": "code",
      "metadata": {
        "colab": {
          "base_uri": "https://localhost:8080/",
          "height": 52
        },
        "id": "r2ecDibG28t9",
        "outputId": "45c861a2-9958-4e12-e5cd-48fc98df8328"
      },
      "source": [
        "save_model(model_pretrained, name='model_lstm_pretrained')"
      ],
      "execution_count": null,
      "outputs": [
        {
          "output_type": "stream",
          "text": [
            "Saved model to disk\n"
          ],
          "name": "stdout"
        },
        {
          "output_type": "execute_result",
          "data": {
            "application/vnd.google.colaboratory.intrinsic+json": {
              "type": "string"
            },
            "text/plain": [
              "'Saved'"
            ]
          },
          "metadata": {
            "tags": []
          },
          "execution_count": 61
        },
        {
          "output_type": "stream",
          "text": [
            "time: 65 ms (started: 2020-12-31 23:28:18 +00:00)\n"
          ],
          "name": "stdout"
        }
      ]
    },
    {
      "cell_type": "code",
      "metadata": {
        "colab": {
          "base_uri": "https://localhost:8080/"
        },
        "id": "SyytTcxZ28t_",
        "outputId": "9c6dea25-9029-4afd-9fa1-1fb0a0ba4540"
      },
      "source": [
        "model_pretrained = load_model(name='model_lstm_pretrained')"
      ],
      "execution_count": null,
      "outputs": [
        {
          "output_type": "stream",
          "text": [
            "time: 478 ms (started: 2020-12-31 23:28:19 +00:00)\n"
          ],
          "name": "stdout"
        }
      ]
    },
    {
      "cell_type": "code",
      "metadata": {
        "colab": {
          "base_uri": "https://localhost:8080/"
        },
        "id": "JzlJgHQ428uA",
        "outputId": "dba9110d-9a88-4eb3-c8b9-e5124a7f3a0d"
      },
      "source": [
        "lstm_pretrained_pred = model_pretrained.predict(x_test_lstm_pre)"
      ],
      "execution_count": null,
      "outputs": [
        {
          "output_type": "stream",
          "text": [
            "time: 1.92 s (started: 2020-12-31 23:28:20 +00:00)\n"
          ],
          "name": "stdout"
        }
      ]
    },
    {
      "cell_type": "code",
      "metadata": {
        "colab": {
          "base_uri": "https://localhost:8080/"
        },
        "id": "lwHX4z2U28uB",
        "outputId": "ca9d4c7f-7981-43d5-e6aa-16dfda2343ab"
      },
      "source": [
        "lstm_pretrained_pred = lstm_pretrained_pred[:, lstm_pretrained_pred.shape[1] - 1, :]"
      ],
      "execution_count": null,
      "outputs": [
        {
          "output_type": "stream",
          "text": [
            "time: 1.42 ms (started: 2020-12-31 23:28:22 +00:00)\n"
          ],
          "name": "stdout"
        }
      ]
    },
    {
      "cell_type": "markdown",
      "metadata": {
        "id": "J5F-hh_Ai5No"
      },
      "source": [
        "## 6. Entrenar un clasificador utilizando BERT"
      ]
    },
    {
      "cell_type": "markdown",
      "metadata": {
        "id": "WY3F2swa5xrn"
      },
      "source": [
        "a. Preprocesamiento con el tokenizer de BERT"
      ]
    },
    {
      "cell_type": "code",
      "metadata": {
        "colab": {
          "base_uri": "https://localhost:8080/"
        },
        "id": "rRIAXax7LLSl",
        "outputId": "b0105206-b023-4c27-94cf-109ca4ec336b"
      },
      "source": [
        "%%capture\n",
        "!pip install transformers"
      ],
      "execution_count": null,
      "outputs": [
        {
          "output_type": "stream",
          "text": [
            "time: 5.15 s (started: 2020-12-31 23:35:04 +00:00)\n"
          ],
          "name": "stdout"
        }
      ]
    },
    {
      "cell_type": "code",
      "metadata": {
        "colab": {
          "base_uri": "https://localhost:8080/",
          "height": 267,
          "referenced_widgets": [
            "ffcd4fef285d4a30b8f8e48f03aed6ba",
            "d2eacefa6ec34606bc23e6a2008ebfa6",
            "249a0a0648fa4809b93d537189c8ec52",
            "8f89157b28214bc1b0ffac2a14ff4b27",
            "79a1632b509c41679771b6a2f3f9c8a7",
            "dc12b24fde944c6cab65f93d911efd76",
            "b5e3fee71859414b9fd5623a51368352",
            "c7467941cb894ebb8110e158c235213b",
            "762479e7f5264b8f981b03ca7551e667",
            "31c1c07ab77444499b1a7d170c7fd837",
            "29eaccef16c2481aadc27c35527e1cf3",
            "40246863ab9b477ba4b0307fb3d93a00",
            "a45818e763454ca3a07c4f19563d7e45",
            "008e0a9f88ef47d8a1ae0670a55fc469",
            "d6135fac1a5243a0bee575f280d56bfe",
            "ee132b582c114f389dfd2aad722619e1",
            "3c4caf66b96c4b0a86d8993b56a88b5d",
            "836e006ae1a6426a8378a3bd3f8a15bc",
            "de75f22a999c49a4a5e2ef6f6de3dee0",
            "13f04caf7aad49a9ba20f10abf58bf6a",
            "cc552a31d9664392b488d2abbf2ccb57",
            "db8c8f816a41476e886aaa249059f791",
            "92926e1d9f06490b82aeaed765de7c57",
            "ec53af9d834145a3904f87b53fc12139"
          ]
        },
        "id": "Lbp7qeWtyl_5",
        "outputId": "8f944ff1-aacb-4ffa-9afe-9f3ec79a1d1b"
      },
      "source": [
        "from transformers import BertTokenizer, TFBertForSequenceClassification\n",
        "from transformers import InputExample, InputFeatures\n",
        "\n",
        "model = TFBertForSequenceClassification.from_pretrained(\"bert-base-uncased\")\n",
        "tokenizer = BertTokenizer.from_pretrained(\"bert-base-uncased\")"
      ],
      "execution_count": null,
      "outputs": [
        {
          "output_type": "display_data",
          "data": {
            "application/vnd.jupyter.widget-view+json": {
              "model_id": "ffcd4fef285d4a30b8f8e48f03aed6ba",
              "version_major": 2,
              "version_minor": 0
            },
            "text/plain": [
              "HBox(children=(FloatProgress(value=0.0, description='Downloading', max=433.0, style=ProgressStyle(description_…"
            ]
          },
          "metadata": {
            "tags": []
          }
        },
        {
          "output_type": "stream",
          "text": [
            "\n"
          ],
          "name": "stdout"
        },
        {
          "output_type": "display_data",
          "data": {
            "application/vnd.jupyter.widget-view+json": {
              "model_id": "762479e7f5264b8f981b03ca7551e667",
              "version_major": 2,
              "version_minor": 0
            },
            "text/plain": [
              "HBox(children=(FloatProgress(value=0.0, description='Downloading', max=536063208.0, style=ProgressStyle(descri…"
            ]
          },
          "metadata": {
            "tags": []
          }
        },
        {
          "output_type": "stream",
          "text": [
            "\n"
          ],
          "name": "stdout"
        },
        {
          "output_type": "stream",
          "text": [
            "All model checkpoint layers were used when initializing TFBertForSequenceClassification.\n",
            "\n",
            "Some layers of TFBertForSequenceClassification were not initialized from the model checkpoint at bert-base-uncased and are newly initialized: ['classifier']\n",
            "You should probably TRAIN this model on a down-stream task to be able to use it for predictions and inference.\n"
          ],
          "name": "stderr"
        },
        {
          "output_type": "display_data",
          "data": {
            "application/vnd.jupyter.widget-view+json": {
              "model_id": "3c4caf66b96c4b0a86d8993b56a88b5d",
              "version_major": 2,
              "version_minor": 0
            },
            "text/plain": [
              "HBox(children=(FloatProgress(value=0.0, description='Downloading', max=231508.0, style=ProgressStyle(descripti…"
            ]
          },
          "metadata": {
            "tags": []
          }
        },
        {
          "output_type": "stream",
          "text": [
            "\n",
            "time: 12.3 s (started: 2020-12-31 23:35:09 +00:00)\n"
          ],
          "name": "stdout"
        }
      ]
    },
    {
      "cell_type": "code",
      "metadata": {
        "colab": {
          "base_uri": "https://localhost:8080/"
        },
        "id": "65Jiz0Lpyvil",
        "outputId": "5ffb845c-c8c2-45e1-e8bb-3e91eba33fdb"
      },
      "source": [
        "model.summary()"
      ],
      "execution_count": null,
      "outputs": [
        {
          "output_type": "stream",
          "text": [
            "Model: \"tf_bert_for_sequence_classification\"\n",
            "_________________________________________________________________\n",
            "Layer (type)                 Output Shape              Param #   \n",
            "=================================================================\n",
            "bert (TFBertMainLayer)       multiple                  109482240 \n",
            "_________________________________________________________________\n",
            "dropout_37 (Dropout)         multiple                  0         \n",
            "_________________________________________________________________\n",
            "classifier (Dense)           multiple                  1538      \n",
            "=================================================================\n",
            "Total params: 109,483,778\n",
            "Trainable params: 109,483,778\n",
            "Non-trainable params: 0\n",
            "_________________________________________________________________\n",
            "time: 12.4 ms (started: 2020-12-30 13:17:48 +00:00)\n"
          ],
          "name": "stdout"
        }
      ]
    },
    {
      "cell_type": "code",
      "metadata": {
        "colab": {
          "base_uri": "https://localhost:8080/"
        },
        "id": "kEHWjBon3Ozr",
        "outputId": "9dbfb66d-2d05-4af2-df65-e1c63af819f2"
      },
      "source": [
        "from sklearn.model_selection import train_test_split\n",
        "\n",
        "train_bert, test_bert = train_test_split(df, test_size=0.2)"
      ],
      "execution_count": null,
      "outputs": [
        {
          "output_type": "stream",
          "text": [
            "time: 28.1 ms (started: 2020-12-31 23:35:22 +00:00)\n"
          ],
          "name": "stdout"
        }
      ]
    },
    {
      "cell_type": "code",
      "metadata": {
        "colab": {
          "base_uri": "https://localhost:8080/"
        },
        "id": "hwXpa84O2Nzj",
        "outputId": "d2e9a54a-cba2-40d2-abf5-fe487ad8e285"
      },
      "source": [
        "def convert_data_to_examples(train, test, DATA_COLUMN, LABEL_COLUMN): \n",
        "  train_InputExamples = train.apply(lambda x: InputExample(guid=None, # Globally unique ID for bookkeeping, unused in this case\n",
        "                                                          text_a = x[DATA_COLUMN], \n",
        "                                                          text_b = None,\n",
        "                                                          label = x[LABEL_COLUMN]), axis = 1)\n",
        "\n",
        "  validation_InputExamples = test.apply(lambda x: InputExample(guid=None, # Globally unique ID for bookkeeping, unused in this case\n",
        "                                                          text_a = x[DATA_COLUMN], \n",
        "                                                          text_b = None,\n",
        "                                                          label = x[LABEL_COLUMN]), axis = 1)\n",
        "  \n",
        "  return train_InputExamples, validation_InputExamples\n",
        "\n",
        "  train_InputExamples, validation_InputExamples = convert_data_to_examples(train, \n",
        "                                                                           test, \n",
        "                                                                           'DATA_COLUMN', \n",
        "                                                                           'LABEL_COLUMN')\n",
        "  \n",
        "def convert_examples_to_tf_dataset(examples, tokenizer, max_length=128):\n",
        "    features = [] # -> will hold InputFeatures to be converted later\n",
        "\n",
        "    for e in examples:\n",
        "        # Documentation is really strong for this method, so please take a look at it\n",
        "        input_dict = tokenizer.encode_plus(\n",
        "            e.text_a,\n",
        "            add_special_tokens=True,\n",
        "            max_length=max_length, # truncates if len(s) > max_length\n",
        "            return_token_type_ids=True,\n",
        "            return_attention_mask=True,\n",
        "            pad_to_max_length=True, # pads to the right by default # CHECK THIS for pad_to_max_length\n",
        "            truncation=True\n",
        "        )\n",
        "\n",
        "        input_ids, token_type_ids, attention_mask = (input_dict[\"input_ids\"],\n",
        "            input_dict[\"token_type_ids\"], input_dict['attention_mask'])\n",
        "\n",
        "        features.append(\n",
        "            InputFeatures(\n",
        "                input_ids=input_ids, attention_mask=attention_mask, token_type_ids=token_type_ids, label=e.label\n",
        "            )\n",
        "        )\n",
        "\n",
        "    def gen():\n",
        "        for f in features:\n",
        "            yield (\n",
        "                {\n",
        "                    \"input_ids\": f.input_ids,\n",
        "                    \"attention_mask\": f.attention_mask,\n",
        "                    \"token_type_ids\": f.token_type_ids,\n",
        "                },\n",
        "                f.label,\n",
        "            )\n",
        "\n",
        "    return tf.data.Dataset.from_generator(\n",
        "        gen,\n",
        "        ({\"input_ids\": tf.int32, \"attention_mask\": tf.int32, \"token_type_ids\": tf.int32}, tf.int64),\n",
        "        (\n",
        "            {\n",
        "                \"input_ids\": tf.TensorShape([None]),\n",
        "                \"attention_mask\": tf.TensorShape([None]),\n",
        "                \"token_type_ids\": tf.TensorShape([None]),\n",
        "            },\n",
        "            tf.TensorShape([]),\n",
        "        ),\n",
        "    )\n",
        "\n",
        "\n",
        "DATA_COLUMN = 'DATA_COLUMN'\n",
        "LABEL_COLUMN = 'LABEL_COLUMN'"
      ],
      "execution_count": null,
      "outputs": [
        {
          "output_type": "stream",
          "text": [
            "time: 23.4 ms (started: 2020-12-31 23:35:22 +00:00)\n"
          ],
          "name": "stdout"
        }
      ]
    },
    {
      "cell_type": "code",
      "metadata": {
        "colab": {
          "base_uri": "https://localhost:8080/"
        },
        "id": "BfWu_Q3d2haq",
        "outputId": "cb6b8fa7-3759-4c7f-f751-f7791ef347ca"
      },
      "source": [
        "train_InputExamples, validation_InputExamples = convert_data_to_examples(train_bert, test_bert, 'review', 'sentiment')\n",
        "\n",
        "train_data = convert_examples_to_tf_dataset(list(train_InputExamples), tokenizer)\n",
        "\n",
        "\n",
        "validation_data = convert_examples_to_tf_dataset(list(validation_InputExamples), tokenizer)\n"
      ],
      "execution_count": null,
      "outputs": [
        {
          "output_type": "stream",
          "text": [
            "/usr/local/lib/python3.6/dist-packages/transformers/tokenization_utils_base.py:2179: FutureWarning: The `pad_to_max_length` argument is deprecated and will be removed in a future version, use `padding=True` or `padding='longest'` to pad to the longest sequence in the batch, or use `padding='max_length'` to pad to a max length. In this case, you can give a specific length with `max_length` (e.g. `max_length=45`) or leave max_length to None to pad to the maximal input size of the model (e.g. 512 for Bert).\n",
            "  FutureWarning,\n"
          ],
          "name": "stderr"
        },
        {
          "output_type": "stream",
          "text": [
            "time: 3min 33s (started: 2020-12-31 23:35:22 +00:00)\n"
          ],
          "name": "stdout"
        }
      ]
    },
    {
      "cell_type": "code",
      "metadata": {
        "colab": {
          "base_uri": "https://localhost:8080/"
        },
        "id": "7zL5CwGk4704",
        "outputId": "8eaf96d9-be4e-4ca2-e965-6905a3db5f59"
      },
      "source": [
        "train_data = train_data.shuffle(100).batch(32).repeat(2)\n",
        "validation_data = validation_data.batch(32)"
      ],
      "execution_count": null,
      "outputs": [
        {
          "output_type": "stream",
          "text": [
            "time: 9.77 ms (started: 2020-12-31 23:38:56 +00:00)\n"
          ],
          "name": "stdout"
        }
      ]
    },
    {
      "cell_type": "markdown",
      "metadata": {
        "id": "prxiSnWV6Ala"
      },
      "source": [
        "b. Entrenamiento sin Finetuning"
      ]
    },
    {
      "cell_type": "code",
      "metadata": {
        "colab": {
          "base_uri": "https://localhost:8080/"
        },
        "id": "odW8dWrG39Ie",
        "outputId": "831248bb-f9ad-4ee9-ec5b-e0cf6b5c3d99"
      },
      "source": [
        "model.compile(optimizer=tf.keras.optimizers.Adam(learning_rate=3e-5, epsilon=1e-08, clipnorm=1.0), \n",
        "              loss=tf.keras.losses.SparseCategoricalCrossentropy(from_logits=True), \n",
        "              metrics=[tf.keras.metrics.SparseCategoricalAccuracy('accuracy')])"
      ],
      "execution_count": null,
      "outputs": [
        {
          "output_type": "stream",
          "text": [
            "time: 20.1 ms (started: 2020-12-31 23:38:56 +00:00)\n"
          ],
          "name": "stdout"
        }
      ]
    },
    {
      "cell_type": "code",
      "metadata": {
        "colab": {
          "base_uri": "https://localhost:8080/"
        },
        "id": "Z7F5cTAB44Y5",
        "outputId": "aecd9970-5762-488a-f756-4541bc1f0fea"
      },
      "source": [
        "model.fit(train_data, epochs=2, validation_data=validation_data)"
      ],
      "execution_count": null,
      "outputs": [
        {
          "output_type": "stream",
          "text": [
            "The parameters `output_attentions`, `output_hidden_states` and `use_cache` cannot be updated when calling a model.They have to be set to True/False in the config object (i.e.: `config=XConfig.from_pretrained('name', output_attentions=True)`).\n",
            "The parameter `return_dict` cannot be set in graph mode and will always be set to `True`.\n"
          ],
          "name": "stderr"
        },
        {
          "output_type": "stream",
          "text": [
            "Epoch 1/2\n"
          ],
          "name": "stdout"
        },
        {
          "output_type": "stream",
          "text": [
            "The parameters `output_attentions`, `output_hidden_states` and `use_cache` cannot be updated when calling a model.They have to be set to True/False in the config object (i.e.: `config=XConfig.from_pretrained('name', output_attentions=True)`).\n",
            "The parameter `return_dict` cannot be set in graph mode and will always be set to `True`.\n"
          ],
          "name": "stderr"
        },
        {
          "output_type": "stream",
          "text": [
            "   2500/Unknown - 2249s 892ms/step - loss: 0.3227 - accuracy: 0.8536"
          ],
          "name": "stdout"
        },
        {
          "output_type": "stream",
          "text": [
            "The parameters `output_attentions`, `output_hidden_states` and `use_cache` cannot be updated when calling a model.They have to be set to True/False in the config object (i.e.: `config=XConfig.from_pretrained('name', output_attentions=True)`).\n",
            "The parameter `return_dict` cannot be set in graph mode and will always be set to `True`.\n"
          ],
          "name": "stderr"
        },
        {
          "output_type": "stream",
          "text": [
            "\b\b\b\b\b\b\b\b\b\b\b\b\b\b\b\b\b\b\b\b\b\b\b\b\b\b\b\b\b\b\b\b\b\b\b\b\b\b\b\b\b\b\b\b\b\b\b\b\b\b\b\b\b\b\b\b\b\b\b\b\b\b\b\b\b\b\b\b\r2500/2500 [==============================] - 2343s 930ms/step - loss: 0.3226 - accuracy: 0.8536 - val_loss: 0.3000 - val_accuracy: 0.8961\n",
            "Epoch 2/2\n",
            "2500/2500 [==============================] - 2323s 929ms/step - loss: 0.0885 - accuracy: 0.9678 - val_loss: 0.4876 - val_accuracy: 0.8953\n"
          ],
          "name": "stdout"
        },
        {
          "output_type": "execute_result",
          "data": {
            "text/plain": [
              "<tensorflow.python.keras.callbacks.History at 0x7ff2bab73cf8>"
            ]
          },
          "metadata": {
            "tags": []
          },
          "execution_count": 56
        },
        {
          "output_type": "stream",
          "text": [
            "time: 1h 17min 45s (started: 2020-12-30 13:45:13 +00:00)\n"
          ],
          "name": "stdout"
        }
      ]
    },
    {
      "cell_type": "code",
      "metadata": {
        "colab": {
          "base_uri": "https://localhost:8080/"
        },
        "id": "4h2ZvXCBQQLk",
        "outputId": "07324fb3-7f0a-4df5-88c7-114219c1b689"
      },
      "source": [
        "def save_weights(model, name='model'):\n",
        "  model_path = \"/content/drive/MyDrive/Alfonso/CEIA/Bimestre III/NLP/\" + str(name)\n",
        "  # serialize model to JSON\n",
        "  #model_json = model.to_json()\n",
        "  #with open(model_path + \".json\", \"w\") as json_file:\n",
        "  #    json_file.write(model_json)\n",
        "  # serialize weights to HDF5\n",
        "  model.save_weights(model_path + \".h5\")\n",
        "  print(\"Saved model to disk\")\n",
        "  return \"Saved\"\n",
        " \n",
        "def load_weights(model, name='model'):\n",
        "  model_path = \"/content/drive/MyDrive/Alfonso/CEIA/Bimestre III/NLP/\" + str(name)\n",
        "  # load json and create model\n",
        "  #json_file = open(model_path + \".json\", 'r')\n",
        "  #loaded_model_json = json_file.read()\n",
        "  #json_file.close()\n",
        "  #loaded_model = model_from_json(loaded_model_json)\n",
        "  # load weights into new model\n",
        "  model.load_weights(model_path + \".h5\")\n",
        "  return model"
      ],
      "execution_count": null,
      "outputs": [
        {
          "output_type": "stream",
          "text": [
            "time: 6.07 ms (started: 2020-12-31 23:38:56 +00:00)\n"
          ],
          "name": "stdout"
        }
      ]
    },
    {
      "cell_type": "code",
      "metadata": {
        "colab": {
          "base_uri": "https://localhost:8080/",
          "height": 52
        },
        "id": "QluLfPpPCSyK",
        "outputId": "020c1faa-a5b9-4c97-c549-939b1343d29c"
      },
      "source": [
        "save_weights(model, name='model_bert')"
      ],
      "execution_count": null,
      "outputs": [
        {
          "output_type": "stream",
          "text": [
            "Saved model to disk\n"
          ],
          "name": "stdout"
        },
        {
          "output_type": "execute_result",
          "data": {
            "application/vnd.google.colaboratory.intrinsic+json": {
              "type": "string"
            },
            "text/plain": [
              "'Saved'"
            ]
          },
          "metadata": {
            "tags": []
          },
          "execution_count": 74
        },
        {
          "output_type": "stream",
          "text": [
            "time: 5.75 s (started: 2020-12-31 23:38:56 +00:00)\n"
          ],
          "name": "stdout"
        }
      ]
    },
    {
      "cell_type": "code",
      "metadata": {
        "colab": {
          "base_uri": "https://localhost:8080/"
        },
        "id": "LPj2iKhCQtwv",
        "outputId": "c2e03bef-af2b-4df8-da4d-7d80e8203b28"
      },
      "source": [
        "model = TFBertForSequenceClassification.from_pretrained(\"bert-base-uncased\")\n",
        "model.compile(optimizer=tf.keras.optimizers.Adam(learning_rate=3e-5, epsilon=1e-08, clipnorm=1.0), \n",
        "              loss=tf.keras.losses.SparseCategoricalCrossentropy(from_logits=True), \n",
        "              metrics=[tf.keras.metrics.SparseCategoricalAccuracy('accuracy')])\n",
        "model = load_weights(model, name='model_bert')"
      ],
      "execution_count": null,
      "outputs": [
        {
          "output_type": "stream",
          "text": [
            "All model checkpoint layers were used when initializing TFBertForSequenceClassification.\n",
            "\n",
            "Some layers of TFBertForSequenceClassification were not initialized from the model checkpoint at bert-base-uncased and are newly initialized: ['classifier']\n",
            "You should probably TRAIN this model on a down-stream task to be able to use it for predictions and inference.\n"
          ],
          "name": "stderr"
        },
        {
          "output_type": "stream",
          "text": [
            "time: 9.03 s (started: 2020-12-31 23:39:54 +00:00)\n"
          ],
          "name": "stdout"
        }
      ]
    },
    {
      "cell_type": "code",
      "metadata": {
        "colab": {
          "background_save": true,
          "base_uri": "https://localhost:8080/"
        },
        "id": "QTfpb7-iG4jb",
        "outputId": "2a0e12a9-cb55-4583-efab-4b8f4695d8f7"
      },
      "source": [
        "model_bert_pred = model.predict_generator(validation_data)"
      ],
      "execution_count": null,
      "outputs": [
        {
          "output_type": "stream",
          "text": [
            "/usr/local/lib/python3.6/dist-packages/tensorflow/python/keras/engine/training.py:1905: UserWarning: `Model.predict_generator` is deprecated and will be removed in a future version. Please use `Model.predict`, which supports generators.\n",
            "  warnings.warn('`Model.predict_generator` is deprecated and '\n"
          ],
          "name": "stderr"
        },
        {
          "output_type": "stream",
          "text": [
            "WARNING:tensorflow:AutoGraph could not transform <bound method Socket.send of <zmq.sugar.socket.Socket object at 0x7fb040c29660>> and will run it as-is.\n",
            "Please report this to the TensorFlow team. When filing the bug, set the verbosity to 10 (on Linux, `export AUTOGRAPH_VERBOSITY=10`) and attach the full output.\n",
            "Cause: <cyfunction Socket.send at 0x7fb05846fe58> is not a module, class, method, function, traceback, frame, or code object\n",
            "To silence this warning, decorate the function with @tf.autograph.experimental.do_not_convert\n",
            "WARNING: AutoGraph could not transform <bound method Socket.send of <zmq.sugar.socket.Socket object at 0x7fb040c29660>> and will run it as-is.\n",
            "Please report this to the TensorFlow team. When filing the bug, set the verbosity to 10 (on Linux, `export AUTOGRAPH_VERBOSITY=10`) and attach the full output.\n",
            "Cause: <cyfunction Socket.send at 0x7fb05846fe58> is not a module, class, method, function, traceback, frame, or code object\n",
            "To silence this warning, decorate the function with @tf.autograph.experimental.do_not_convert\n"
          ],
          "name": "stdout"
        },
        {
          "output_type": "stream",
          "text": [
            "The parameters `output_attentions`, `output_hidden_states` and `use_cache` cannot be updated when calling a model.They have to be set to True/False in the config object (i.e.: `config=XConfig.from_pretrained('name', output_attentions=True)`).\n"
          ],
          "name": "stderr"
        },
        {
          "output_type": "stream",
          "text": [
            "WARNING:tensorflow:AutoGraph could not transform <function wrap at 0x7fb055e028c8> and will run it as-is.\n",
            "Cause: while/else statement not yet supported\n",
            "To silence this warning, decorate the function with @tf.autograph.experimental.do_not_convert\n"
          ],
          "name": "stdout"
        },
        {
          "output_type": "stream",
          "text": [
            "The parameter `return_dict` cannot be set in graph mode and will always be set to `True`.\n"
          ],
          "name": "stderr"
        },
        {
          "output_type": "stream",
          "text": [
            "WARNING: AutoGraph could not transform <function wrap at 0x7fb055e028c8> and will run it as-is.\n",
            "Cause: while/else statement not yet supported\n",
            "To silence this warning, decorate the function with @tf.autograph.experimental.do_not_convert\n",
            "time: 1min 53s (started: 2020-12-31 23:40:03 +00:00)\n"
          ],
          "name": "stdout"
        }
      ]
    },
    {
      "cell_type": "code",
      "metadata": {
        "colab": {
          "base_uri": "https://localhost:8080/"
        },
        "id": "N6gT1iRJXe8k",
        "outputId": "22a3252e-8245-4a50-c393-9b39fa324e9a"
      },
      "source": [
        "np.array(model_bert_pred.values())"
      ],
      "execution_count": null,
      "outputs": [
        {
          "output_type": "execute_result",
          "data": {
            "text/plain": [
              "array(odict_values([array([[ 4.6005983, -4.818719 ],\n",
              "       [ 4.2426715, -4.172703 ],\n",
              "       [ 0.5499656,  0.068111 ],\n",
              "       ...,\n",
              "       [ 3.5500069, -3.6552577],\n",
              "       [-3.4293513,  3.6120658],\n",
              "       [-3.5040135,  3.6861732]], dtype=float32)]), dtype=object)"
            ]
          },
          "metadata": {
            "tags": []
          },
          "execution_count": 146
        },
        {
          "output_type": "stream",
          "text": [
            "time: 3.91 ms (started: 2020-12-30 16:02:56 +00:00)\n"
          ],
          "name": "stdout"
        }
      ]
    },
    {
      "cell_type": "markdown",
      "metadata": {
        "id": "08nODJTMFWc6"
      },
      "source": [
        "c. Con Fine Tuning"
      ]
    },
    {
      "cell_type": "code",
      "metadata": {
        "id": "z4twI2oRFZy-"
      },
      "source": [
        "model_bert_2 = TFBertForSequenceClassification.from_pretrained(\"bert-base-uncased\")"
      ],
      "execution_count": null,
      "outputs": []
    },
    {
      "cell_type": "markdown",
      "metadata": {
        "id": "j642car8jvms"
      },
      "source": [
        "## 7. Comparación de modelos"
      ]
    },
    {
      "cell_type": "code",
      "metadata": {
        "colab": {
          "base_uri": "https://localhost:8080/",
          "height": 405
        },
        "id": "IlNsDLgAkNhm",
        "outputId": "1f9853cc-e961-4527-80b9-d07acd2952a7"
      },
      "source": [
        "# Comparar los resultados obtenidos\n",
        "from sklearn.metrics import roc_auc_score, roc_curve\n",
        "%matplotlib inline\n",
        "\n",
        "def roc_curve_and_score(y_test, pred_proba):\n",
        "    fpr, tpr, _ = roc_curve(y_test.ravel(), pred_proba.ravel())\n",
        "    roc_auc = roc_auc_score(y_test.ravel(), pred_proba.ravel())\n",
        "    return fpr, tpr, roc_auc\n",
        "\n",
        "\n",
        "plt.figure(figsize=(8, 6))\n",
        "plt.grid()\n",
        "# CBOW model\n",
        "fpr, tpr, roc_auc = roc_curve_and_score(y_test, sequential_model_pred)\n",
        "plt.plot(fpr, tpr, color='darkorange',\n",
        "         label='Sequential Model ={0:.3f}'.format(roc_auc))\n",
        "# Glove Model\n",
        "fpr, tpr, roc_auc = roc_curve_and_score(y_test_glove, model_glove_pred)\n",
        "plt.plot(fpr, tpr, color='green',\n",
        "         label='Sequential Model Glove ={0:.3f}'.format(roc_auc))\n",
        "# Fasttext Model\n",
        "fpr, tpr, roc_auc = roc_curve_and_score(y_test_fast, model_fast_pred)\n",
        "plt.plot(fpr, tpr, color='blue',\n",
        "         label='Sequential Model Fast ={0:.3f}'.format(roc_auc))\n",
        "# LSTM Model - trainable = True\n",
        "fpr, tpr, roc_auc = roc_curve_and_score(y_test_lstm, lstm_pred)\n",
        "plt.plot(fpr, tpr, color='yellow',\n",
        "         label='LSTM Model ={0:.3f}'.format(roc_auc))\n",
        "# LSTM Model - Pretrained Glove\n",
        "fpr, tpr, roc_auc = roc_curve_and_score(y_test_lstm_pre, lstm_pretrained_pred)\n",
        "plt.plot(fpr, tpr, color='red',\n",
        "         label='LSTM Pretrained Model ={0:.3f}'.format(roc_auc))\n",
        "# BERT \n",
        "#fpr, tpr, roc_auc = roc_curve_and_score(validation_data, np.array(model_bert_pred.values()))\n",
        "#plt.plot(fpr, tpr, color='red',\n",
        "#         label='BERT Model ={0:.3f}'.format(roc_auc))\n",
        "plt.plot([0, 1], [0, 1], color='navy', lw=1, linestyle='--')\n",
        "plt.legend(loc=\"lower right\")\n",
        "plt.xlim([0.0, 1.0])\n",
        "plt.ylim([0.0, 1.05])\n",
        "plt.xlabel('False Positive Rate/ 1 - Specificity')\n",
        "plt.ylabel('True Positive Rate/ Sensitivity')\n",
        "plt.show()"
      ],
      "execution_count": null,
      "outputs": [
        {
          "output_type": "display_data",
          "data": {
            "image/png": "[encoded data removed]",
            "text/plain": [
              "<Figure size 576x432 with 1 Axes>"
            ]
          },
          "metadata": {
            "tags": []
          }
        },
        {
          "output_type": "stream",
          "text": [
            "time: 211 ms (started: 2020-12-31 23:28:26 +00:00)\n"
          ],
          "name": "stdout"
        }
      ]
    },
    {
      "cell_type": "markdown",
      "metadata": {
        "id": "M05P42MYalQc"
      },
      "source": [
        "Descripción de los modelos:\n",
        "* **Sequential Model**: modelo CBOW con tamaño de ventana 2 (Word2Vec), entrenado sobre la totalidad del vocabulario luego del preprocesamiento indicado por el TP. Se utilizó el promedio de los embeddings generado para cada oración (EMB_NUM = 300).\n",
        "* **Sequential Model Glove**: modelo basado en los embedding preentrenados de Glove. Se utilizaron 3000 ejemplos (train + validation), calculando el promedio de los embeddings de las palabras presentes en Glove (EMB_NUM = 25).\n",
        "* **Sequential Model Fast**: modelo basado en los embedding preentrenados de FastText. Se utilizaron 3000 ejemplos (train + validation), calculando el promedio de los embeddings de las palabras presentes en FastText (EMB_NUM = 300).\n",
        "* **LSTM Model**: modelo LSTM con capa de Embeddings, pesos entrenables y longitud máxima de ejemplos de 80 (se probó llevando el padding al máximo valor dado por el ejemplo con más palabras, pero el resultado no era bueno - muchos 0).\n",
        "* **LSTM Pretrained Model**: modelo LSTM con capa de Embeddings, pesos no entrenables (se utilizaron los embeddings preentrenados de Glove) y longitud máxima de ejemplos de 80. "
      ]
    },
    {
      "cell_type": "code",
      "metadata": {
        "id": "NveZ2ETY-Fgw"
      },
      "source": [
        ""
      ],
      "execution_count": null,
      "outputs": []
    }
  ]
}